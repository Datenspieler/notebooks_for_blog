{
 "cells": [
  {
   "cell_type": "markdown",
   "metadata": {},
   "source": [
    "# Loading libraries and data "
   ]
  },
  {
   "cell_type": "code",
   "execution_count": 1,
   "metadata": {},
   "outputs": [],
   "source": [
    "import pandas as pd\n",
    "import altair as alt\n",
    "\n",
    "from github import Github\n",
    "\n",
    "import corona_secret_api as secret\n",
    "\n",
    "g = Github(secret.api_key)"
   ]
  },
  {
   "cell_type": "code",
   "execution_count": 2,
   "metadata": {},
   "outputs": [],
   "source": [
    "START_CASES_INFECTION = 100\n",
    "START_CASES_DEATH = 5"
   ]
  },
  {
   "cell_type": "code",
   "execution_count": 3,
   "metadata": {},
   "outputs": [],
   "source": [
    "URL = \"https://covid.ourworldindata.org/data/ecdc/full_data.csv\""
   ]
  },
  {
   "cell_type": "code",
   "execution_count": 4,
   "metadata": {},
   "outputs": [],
   "source": [
    "df = pd.read_csv(URL)"
   ]
  },
  {
   "cell_type": "code",
   "execution_count": 5,
   "metadata": {},
   "outputs": [],
   "source": [
    "df.date = pd.to_datetime(df.date)"
   ]
  },
  {
   "cell_type": "code",
   "execution_count": 6,
   "metadata": {},
   "outputs": [],
   "source": [
    "df = df.sort_values(['location','date'], ascending=True)"
   ]
  },
  {
   "cell_type": "code",
   "execution_count": 7,
   "metadata": {},
   "outputs": [
    {
     "data": {
      "text/html": [
       "<div>\n",
       "<style scoped>\n",
       "    .dataframe tbody tr th:only-of-type {\n",
       "        vertical-align: middle;\n",
       "    }\n",
       "\n",
       "    .dataframe tbody tr th {\n",
       "        vertical-align: top;\n",
       "    }\n",
       "\n",
       "    .dataframe thead th {\n",
       "        text-align: right;\n",
       "    }\n",
       "</style>\n",
       "<table border=\"1\" class=\"dataframe\">\n",
       "  <thead>\n",
       "    <tr style=\"text-align: right;\">\n",
       "      <th></th>\n",
       "      <th>date</th>\n",
       "      <th>location</th>\n",
       "      <th>new_cases</th>\n",
       "      <th>new_deaths</th>\n",
       "      <th>total_cases</th>\n",
       "      <th>total_deaths</th>\n",
       "    </tr>\n",
       "  </thead>\n",
       "  <tbody>\n",
       "    <tr>\n",
       "      <th>0</th>\n",
       "      <td>2019-12-31</td>\n",
       "      <td>Afghanistan</td>\n",
       "      <td>0</td>\n",
       "      <td>0</td>\n",
       "      <td>0</td>\n",
       "      <td>0</td>\n",
       "    </tr>\n",
       "    <tr>\n",
       "      <th>1</th>\n",
       "      <td>2020-01-01</td>\n",
       "      <td>Afghanistan</td>\n",
       "      <td>0</td>\n",
       "      <td>0</td>\n",
       "      <td>0</td>\n",
       "      <td>0</td>\n",
       "    </tr>\n",
       "    <tr>\n",
       "      <th>2</th>\n",
       "      <td>2020-01-02</td>\n",
       "      <td>Afghanistan</td>\n",
       "      <td>0</td>\n",
       "      <td>0</td>\n",
       "      <td>0</td>\n",
       "      <td>0</td>\n",
       "    </tr>\n",
       "    <tr>\n",
       "      <th>3</th>\n",
       "      <td>2020-01-03</td>\n",
       "      <td>Afghanistan</td>\n",
       "      <td>0</td>\n",
       "      <td>0</td>\n",
       "      <td>0</td>\n",
       "      <td>0</td>\n",
       "    </tr>\n",
       "    <tr>\n",
       "      <th>4</th>\n",
       "      <td>2020-01-04</td>\n",
       "      <td>Afghanistan</td>\n",
       "      <td>0</td>\n",
       "      <td>0</td>\n",
       "      <td>0</td>\n",
       "      <td>0</td>\n",
       "    </tr>\n",
       "  </tbody>\n",
       "</table>\n",
       "</div>"
      ],
      "text/plain": [
       "        date     location  new_cases  new_deaths  total_cases  total_deaths\n",
       "0 2019-12-31  Afghanistan          0           0            0             0\n",
       "1 2020-01-01  Afghanistan          0           0            0             0\n",
       "2 2020-01-02  Afghanistan          0           0            0             0\n",
       "3 2020-01-03  Afghanistan          0           0            0             0\n",
       "4 2020-01-04  Afghanistan          0           0            0             0"
      ]
     },
     "execution_count": 7,
     "metadata": {},
     "output_type": "execute_result"
    }
   ],
   "source": [
    "df.head()"
   ]
  },
  {
   "cell_type": "code",
   "execution_count": 8,
   "metadata": {},
   "outputs": [
    {
     "name": "stdout",
     "output_type": "stream",
     "text": [
      "<class 'pandas.core.frame.DataFrame'>\n",
      "Int64Index: 6271 entries, 0 to 6270\n",
      "Data columns (total 6 columns):\n",
      " #   Column        Non-Null Count  Dtype         \n",
      "---  ------        --------------  -----         \n",
      " 0   date          6271 non-null   datetime64[ns]\n",
      " 1   location      6271 non-null   object        \n",
      " 2   new_cases     6271 non-null   int64         \n",
      " 3   new_deaths    6271 non-null   int64         \n",
      " 4   total_cases   6271 non-null   int64         \n",
      " 5   total_deaths  6271 non-null   int64         \n",
      "dtypes: datetime64[ns](1), int64(4), object(1)\n",
      "memory usage: 342.9+ KB\n"
     ]
    }
   ],
   "source": [
    "df.info()"
   ]
  },
  {
   "cell_type": "markdown",
   "metadata": {},
   "source": [
    "# Date of data"
   ]
  },
  {
   "cell_type": "code",
   "execution_count": 9,
   "metadata": {},
   "outputs": [
    {
     "data": {
      "text/plain": [
       "Timestamp('2020-03-22 00:00:00')"
      ]
     },
     "execution_count": 9,
     "metadata": {},
     "output_type": "execute_result"
    }
   ],
   "source": [
    "df.date.max()"
   ]
  },
  {
   "cell_type": "markdown",
   "metadata": {},
   "source": [
    "# Creating data for graphs"
   ]
  },
  {
   "cell_type": "code",
   "execution_count": 10,
   "metadata": {},
   "outputs": [],
   "source": [
    "df = df.drop(columns=['new_cases', 'new_deaths'])"
   ]
  },
  {
   "cell_type": "code",
   "execution_count": 11,
   "metadata": {},
   "outputs": [],
   "source": [
    "df_infection = df[df.total_cases >= START_CASES_INFECTION].copy()\n",
    "df_death = df[df.total_deaths >= START_CASES_DEATH].copy()"
   ]
  },
  {
   "cell_type": "code",
   "execution_count": 12,
   "metadata": {},
   "outputs": [
    {
     "data": {
      "text/html": [
       "<div>\n",
       "<style scoped>\n",
       "    .dataframe tbody tr th:only-of-type {\n",
       "        vertical-align: middle;\n",
       "    }\n",
       "\n",
       "    .dataframe tbody tr th {\n",
       "        vertical-align: top;\n",
       "    }\n",
       "\n",
       "    .dataframe thead th {\n",
       "        text-align: right;\n",
       "    }\n",
       "</style>\n",
       "<table border=\"1\" class=\"dataframe\">\n",
       "  <thead>\n",
       "    <tr style=\"text-align: right;\">\n",
       "      <th></th>\n",
       "      <th>date</th>\n",
       "      <th>location</th>\n",
       "      <th>total_cases</th>\n",
       "      <th>total_deaths</th>\n",
       "    </tr>\n",
       "  </thead>\n",
       "  <tbody>\n",
       "    <tr>\n",
       "      <th>191</th>\n",
       "      <td>2020-03-20</td>\n",
       "      <td>Argentina</td>\n",
       "      <td>128</td>\n",
       "      <td>3</td>\n",
       "    </tr>\n",
       "    <tr>\n",
       "      <th>192</th>\n",
       "      <td>2020-03-21</td>\n",
       "      <td>Argentina</td>\n",
       "      <td>158</td>\n",
       "      <td>3</td>\n",
       "    </tr>\n",
       "    <tr>\n",
       "      <th>193</th>\n",
       "      <td>2020-03-22</td>\n",
       "      <td>Argentina</td>\n",
       "      <td>225</td>\n",
       "      <td>4</td>\n",
       "    </tr>\n",
       "    <tr>\n",
       "      <th>264</th>\n",
       "      <td>2020-03-19</td>\n",
       "      <td>Armenia</td>\n",
       "      <td>115</td>\n",
       "      <td>0</td>\n",
       "    </tr>\n",
       "    <tr>\n",
       "      <th>265</th>\n",
       "      <td>2020-03-20</td>\n",
       "      <td>Armenia</td>\n",
       "      <td>122</td>\n",
       "      <td>0</td>\n",
       "    </tr>\n",
       "  </tbody>\n",
       "</table>\n",
       "</div>"
      ],
      "text/plain": [
       "          date   location  total_cases  total_deaths\n",
       "191 2020-03-20  Argentina          128             3\n",
       "192 2020-03-21  Argentina          158             3\n",
       "193 2020-03-22  Argentina          225             4\n",
       "264 2020-03-19    Armenia          115             0\n",
       "265 2020-03-20    Armenia          122             0"
      ]
     },
     "execution_count": 12,
     "metadata": {},
     "output_type": "execute_result"
    }
   ],
   "source": [
    "df_infection.head()"
   ]
  },
  {
   "cell_type": "code",
   "execution_count": 13,
   "metadata": {},
   "outputs": [
    {
     "data": {
      "text/html": [
       "<div>\n",
       "<style scoped>\n",
       "    .dataframe tbody tr th:only-of-type {\n",
       "        vertical-align: middle;\n",
       "    }\n",
       "\n",
       "    .dataframe tbody tr th {\n",
       "        vertical-align: top;\n",
       "    }\n",
       "\n",
       "    .dataframe thead th {\n",
       "        text-align: right;\n",
       "    }\n",
       "</style>\n",
       "<table border=\"1\" class=\"dataframe\">\n",
       "  <thead>\n",
       "    <tr style=\"text-align: right;\">\n",
       "      <th></th>\n",
       "      <th>date</th>\n",
       "      <th>location</th>\n",
       "      <th>total_cases</th>\n",
       "      <th>total_deaths</th>\n",
       "    </tr>\n",
       "  </thead>\n",
       "  <tbody>\n",
       "    <tr>\n",
       "      <th>420</th>\n",
       "      <td>2020-03-09</td>\n",
       "      <td>Austria</td>\n",
       "      <td>102</td>\n",
       "      <td>0</td>\n",
       "    </tr>\n",
       "    <tr>\n",
       "      <th>421</th>\n",
       "      <td>2020-03-10</td>\n",
       "      <td>Austria</td>\n",
       "      <td>131</td>\n",
       "      <td>0</td>\n",
       "    </tr>\n",
       "    <tr>\n",
       "      <th>422</th>\n",
       "      <td>2020-03-11</td>\n",
       "      <td>Austria</td>\n",
       "      <td>182</td>\n",
       "      <td>0</td>\n",
       "    </tr>\n",
       "    <tr>\n",
       "      <th>423</th>\n",
       "      <td>2020-03-12</td>\n",
       "      <td>Austria</td>\n",
       "      <td>246</td>\n",
       "      <td>0</td>\n",
       "    </tr>\n",
       "    <tr>\n",
       "      <th>424</th>\n",
       "      <td>2020-03-13</td>\n",
       "      <td>Austria</td>\n",
       "      <td>361</td>\n",
       "      <td>1</td>\n",
       "    </tr>\n",
       "    <tr>\n",
       "      <th>425</th>\n",
       "      <td>2020-03-14</td>\n",
       "      <td>Austria</td>\n",
       "      <td>504</td>\n",
       "      <td>1</td>\n",
       "    </tr>\n",
       "    <tr>\n",
       "      <th>426</th>\n",
       "      <td>2020-03-15</td>\n",
       "      <td>Austria</td>\n",
       "      <td>655</td>\n",
       "      <td>1</td>\n",
       "    </tr>\n",
       "    <tr>\n",
       "      <th>427</th>\n",
       "      <td>2020-03-16</td>\n",
       "      <td>Austria</td>\n",
       "      <td>860</td>\n",
       "      <td>1</td>\n",
       "    </tr>\n",
       "    <tr>\n",
       "      <th>428</th>\n",
       "      <td>2020-03-17</td>\n",
       "      <td>Austria</td>\n",
       "      <td>1016</td>\n",
       "      <td>3</td>\n",
       "    </tr>\n",
       "    <tr>\n",
       "      <th>429</th>\n",
       "      <td>2020-03-18</td>\n",
       "      <td>Austria</td>\n",
       "      <td>1332</td>\n",
       "      <td>3</td>\n",
       "    </tr>\n",
       "    <tr>\n",
       "      <th>430</th>\n",
       "      <td>2020-03-19</td>\n",
       "      <td>Austria</td>\n",
       "      <td>1646</td>\n",
       "      <td>4</td>\n",
       "    </tr>\n",
       "    <tr>\n",
       "      <th>431</th>\n",
       "      <td>2020-03-20</td>\n",
       "      <td>Austria</td>\n",
       "      <td>2196</td>\n",
       "      <td>6</td>\n",
       "    </tr>\n",
       "    <tr>\n",
       "      <th>432</th>\n",
       "      <td>2020-03-21</td>\n",
       "      <td>Austria</td>\n",
       "      <td>2649</td>\n",
       "      <td>6</td>\n",
       "    </tr>\n",
       "    <tr>\n",
       "      <th>433</th>\n",
       "      <td>2020-03-22</td>\n",
       "      <td>Austria</td>\n",
       "      <td>3024</td>\n",
       "      <td>8</td>\n",
       "    </tr>\n",
       "  </tbody>\n",
       "</table>\n",
       "</div>"
      ],
      "text/plain": [
       "          date location  total_cases  total_deaths\n",
       "420 2020-03-09  Austria          102             0\n",
       "421 2020-03-10  Austria          131             0\n",
       "422 2020-03-11  Austria          182             0\n",
       "423 2020-03-12  Austria          246             0\n",
       "424 2020-03-13  Austria          361             1\n",
       "425 2020-03-14  Austria          504             1\n",
       "426 2020-03-15  Austria          655             1\n",
       "427 2020-03-16  Austria          860             1\n",
       "428 2020-03-17  Austria         1016             3\n",
       "429 2020-03-18  Austria         1332             3\n",
       "430 2020-03-19  Austria         1646             4\n",
       "431 2020-03-20  Austria         2196             6\n",
       "432 2020-03-21  Austria         2649             6\n",
       "433 2020-03-22  Austria         3024             8"
      ]
     },
     "execution_count": 13,
     "metadata": {},
     "output_type": "execute_result"
    }
   ],
   "source": [
    "df_infection[df_infection.location == 'Austria']"
   ]
  },
  {
   "cell_type": "code",
   "execution_count": 14,
   "metadata": {},
   "outputs": [
    {
     "data": {
      "text/html": [
       "<div>\n",
       "<style scoped>\n",
       "    .dataframe tbody tr th:only-of-type {\n",
       "        vertical-align: middle;\n",
       "    }\n",
       "\n",
       "    .dataframe tbody tr th {\n",
       "        vertical-align: top;\n",
       "    }\n",
       "\n",
       "    .dataframe thead th {\n",
       "        text-align: right;\n",
       "    }\n",
       "</style>\n",
       "<table border=\"1\" class=\"dataframe\">\n",
       "  <thead>\n",
       "    <tr style=\"text-align: right;\">\n",
       "      <th></th>\n",
       "      <th>date</th>\n",
       "      <th>location</th>\n",
       "      <th>total_cases</th>\n",
       "      <th>total_deaths</th>\n",
       "    </tr>\n",
       "  </thead>\n",
       "  <tbody>\n",
       "    <tr>\n",
       "      <th>160</th>\n",
       "      <td>2020-03-18</td>\n",
       "      <td>Algeria</td>\n",
       "      <td>60</td>\n",
       "      <td>5</td>\n",
       "    </tr>\n",
       "    <tr>\n",
       "      <th>161</th>\n",
       "      <td>2020-03-19</td>\n",
       "      <td>Algeria</td>\n",
       "      <td>73</td>\n",
       "      <td>6</td>\n",
       "    </tr>\n",
       "    <tr>\n",
       "      <th>162</th>\n",
       "      <td>2020-03-20</td>\n",
       "      <td>Algeria</td>\n",
       "      <td>82</td>\n",
       "      <td>7</td>\n",
       "    </tr>\n",
       "    <tr>\n",
       "      <th>163</th>\n",
       "      <td>2020-03-21</td>\n",
       "      <td>Algeria</td>\n",
       "      <td>94</td>\n",
       "      <td>10</td>\n",
       "    </tr>\n",
       "    <tr>\n",
       "      <th>164</th>\n",
       "      <td>2020-03-22</td>\n",
       "      <td>Algeria</td>\n",
       "      <td>94</td>\n",
       "      <td>10</td>\n",
       "    </tr>\n",
       "  </tbody>\n",
       "</table>\n",
       "</div>"
      ],
      "text/plain": [
       "          date location  total_cases  total_deaths\n",
       "160 2020-03-18  Algeria           60             5\n",
       "161 2020-03-19  Algeria           73             6\n",
       "162 2020-03-20  Algeria           82             7\n",
       "163 2020-03-21  Algeria           94            10\n",
       "164 2020-03-22  Algeria           94            10"
      ]
     },
     "execution_count": 14,
     "metadata": {},
     "output_type": "execute_result"
    }
   ],
   "source": [
    "df_death.head()"
   ]
  },
  {
   "cell_type": "code",
   "execution_count": 15,
   "metadata": {},
   "outputs": [],
   "source": [
    "df_infection['total_cases_normalized'] = df_infection.groupby(\n",
    "    \"location\")[['total_cases']].transform(lambda x: x / x.min() * START_CASES_INFECTION)\n",
    "df_infection.total_cases_normalized = df_infection.total_cases_normalized.astype(\"int\")\n",
    "\n",
    "df_death['total_deaths_normalized'] = df_death.groupby(\n",
    "    \"location\")[['total_deaths']].transform(lambda x: x / x.min() * START_CASES_DEATH)\n",
    "df_death.total_deaths_normalized = df_death.total_deaths_normalized.astype(\"int\")"
   ]
  },
  {
   "cell_type": "code",
   "execution_count": 16,
   "metadata": {},
   "outputs": [],
   "source": [
    "df_infection[\"days_after\"] = df_infection.groupby(\"location\").cumcount()\n",
    "df_death[\"days_after\"] = df_death.groupby(\"location\").cumcount()"
   ]
  },
  {
   "cell_type": "code",
   "execution_count": 17,
   "metadata": {},
   "outputs": [
    {
     "data": {
      "text/html": [
       "<div>\n",
       "<style scoped>\n",
       "    .dataframe tbody tr th:only-of-type {\n",
       "        vertical-align: middle;\n",
       "    }\n",
       "\n",
       "    .dataframe tbody tr th {\n",
       "        vertical-align: top;\n",
       "    }\n",
       "\n",
       "    .dataframe thead th {\n",
       "        text-align: right;\n",
       "    }\n",
       "</style>\n",
       "<table border=\"1\" class=\"dataframe\">\n",
       "  <thead>\n",
       "    <tr style=\"text-align: right;\">\n",
       "      <th></th>\n",
       "      <th>date</th>\n",
       "      <th>location</th>\n",
       "      <th>total_cases</th>\n",
       "      <th>total_deaths</th>\n",
       "      <th>total_cases_normalized</th>\n",
       "      <th>days_after</th>\n",
       "    </tr>\n",
       "  </thead>\n",
       "  <tbody>\n",
       "    <tr>\n",
       "      <th>191</th>\n",
       "      <td>2020-03-20</td>\n",
       "      <td>Argentina</td>\n",
       "      <td>128</td>\n",
       "      <td>3</td>\n",
       "      <td>100</td>\n",
       "      <td>0</td>\n",
       "    </tr>\n",
       "    <tr>\n",
       "      <th>192</th>\n",
       "      <td>2020-03-21</td>\n",
       "      <td>Argentina</td>\n",
       "      <td>158</td>\n",
       "      <td>3</td>\n",
       "      <td>123</td>\n",
       "      <td>1</td>\n",
       "    </tr>\n",
       "    <tr>\n",
       "      <th>193</th>\n",
       "      <td>2020-03-22</td>\n",
       "      <td>Argentina</td>\n",
       "      <td>225</td>\n",
       "      <td>4</td>\n",
       "      <td>175</td>\n",
       "      <td>2</td>\n",
       "    </tr>\n",
       "    <tr>\n",
       "      <th>264</th>\n",
       "      <td>2020-03-19</td>\n",
       "      <td>Armenia</td>\n",
       "      <td>115</td>\n",
       "      <td>0</td>\n",
       "      <td>100</td>\n",
       "      <td>0</td>\n",
       "    </tr>\n",
       "    <tr>\n",
       "      <th>265</th>\n",
       "      <td>2020-03-20</td>\n",
       "      <td>Armenia</td>\n",
       "      <td>122</td>\n",
       "      <td>0</td>\n",
       "      <td>106</td>\n",
       "      <td>1</td>\n",
       "    </tr>\n",
       "  </tbody>\n",
       "</table>\n",
       "</div>"
      ],
      "text/plain": [
       "          date   location  total_cases  total_deaths  total_cases_normalized  \\\n",
       "191 2020-03-20  Argentina          128             3                     100   \n",
       "192 2020-03-21  Argentina          158             3                     123   \n",
       "193 2020-03-22  Argentina          225             4                     175   \n",
       "264 2020-03-19    Armenia          115             0                     100   \n",
       "265 2020-03-20    Armenia          122             0                     106   \n",
       "\n",
       "     days_after  \n",
       "191           0  \n",
       "192           1  \n",
       "193           2  \n",
       "264           0  \n",
       "265           1  "
      ]
     },
     "execution_count": 17,
     "metadata": {},
     "output_type": "execute_result"
    }
   ],
   "source": [
    "df_infection.head()"
   ]
  },
  {
   "cell_type": "code",
   "execution_count": 18,
   "metadata": {},
   "outputs": [
    {
     "data": {
      "text/html": [
       "<div>\n",
       "<style scoped>\n",
       "    .dataframe tbody tr th:only-of-type {\n",
       "        vertical-align: middle;\n",
       "    }\n",
       "\n",
       "    .dataframe tbody tr th {\n",
       "        vertical-align: top;\n",
       "    }\n",
       "\n",
       "    .dataframe thead th {\n",
       "        text-align: right;\n",
       "    }\n",
       "</style>\n",
       "<table border=\"1\" class=\"dataframe\">\n",
       "  <thead>\n",
       "    <tr style=\"text-align: right;\">\n",
       "      <th></th>\n",
       "      <th>date</th>\n",
       "      <th>location</th>\n",
       "      <th>total_cases</th>\n",
       "      <th>total_deaths</th>\n",
       "      <th>total_deaths_normalized</th>\n",
       "      <th>days_after</th>\n",
       "    </tr>\n",
       "  </thead>\n",
       "  <tbody>\n",
       "    <tr>\n",
       "      <th>160</th>\n",
       "      <td>2020-03-18</td>\n",
       "      <td>Algeria</td>\n",
       "      <td>60</td>\n",
       "      <td>5</td>\n",
       "      <td>5</td>\n",
       "      <td>0</td>\n",
       "    </tr>\n",
       "    <tr>\n",
       "      <th>161</th>\n",
       "      <td>2020-03-19</td>\n",
       "      <td>Algeria</td>\n",
       "      <td>73</td>\n",
       "      <td>6</td>\n",
       "      <td>6</td>\n",
       "      <td>1</td>\n",
       "    </tr>\n",
       "    <tr>\n",
       "      <th>162</th>\n",
       "      <td>2020-03-20</td>\n",
       "      <td>Algeria</td>\n",
       "      <td>82</td>\n",
       "      <td>7</td>\n",
       "      <td>7</td>\n",
       "      <td>2</td>\n",
       "    </tr>\n",
       "    <tr>\n",
       "      <th>163</th>\n",
       "      <td>2020-03-21</td>\n",
       "      <td>Algeria</td>\n",
       "      <td>94</td>\n",
       "      <td>10</td>\n",
       "      <td>10</td>\n",
       "      <td>3</td>\n",
       "    </tr>\n",
       "    <tr>\n",
       "      <th>164</th>\n",
       "      <td>2020-03-22</td>\n",
       "      <td>Algeria</td>\n",
       "      <td>94</td>\n",
       "      <td>10</td>\n",
       "      <td>10</td>\n",
       "      <td>4</td>\n",
       "    </tr>\n",
       "  </tbody>\n",
       "</table>\n",
       "</div>"
      ],
      "text/plain": [
       "          date location  total_cases  total_deaths  total_deaths_normalized  \\\n",
       "160 2020-03-18  Algeria           60             5                        5   \n",
       "161 2020-03-19  Algeria           73             6                        6   \n",
       "162 2020-03-20  Algeria           82             7                        7   \n",
       "163 2020-03-21  Algeria           94            10                       10   \n",
       "164 2020-03-22  Algeria           94            10                       10   \n",
       "\n",
       "     days_after  \n",
       "160           0  \n",
       "161           1  \n",
       "162           2  \n",
       "163           3  \n",
       "164           4  "
      ]
     },
     "execution_count": 18,
     "metadata": {},
     "output_type": "execute_result"
    }
   ],
   "source": [
    "df_death.head()"
   ]
  },
  {
   "cell_type": "code",
   "execution_count": 19,
   "metadata": {},
   "outputs": [],
   "source": [
    "df_summary = df[df.date == df.date.max()].drop(columns='date')\n",
    "df_summary['cases'] = df_summary.total_cases\n",
    "df_summary = df_summary.drop(['total_cases', 'total_deaths'], axis=1)"
   ]
  },
  {
   "cell_type": "code",
   "execution_count": 20,
   "metadata": {},
   "outputs": [
    {
     "data": {
      "text/html": [
       "<div>\n",
       "<style scoped>\n",
       "    .dataframe tbody tr th:only-of-type {\n",
       "        vertical-align: middle;\n",
       "    }\n",
       "\n",
       "    .dataframe tbody tr th {\n",
       "        vertical-align: top;\n",
       "    }\n",
       "\n",
       "    .dataframe thead th {\n",
       "        text-align: right;\n",
       "    }\n",
       "</style>\n",
       "<table border=\"1\" class=\"dataframe\">\n",
       "  <thead>\n",
       "    <tr style=\"text-align: right;\">\n",
       "      <th></th>\n",
       "      <th>location</th>\n",
       "      <th>cases</th>\n",
       "    </tr>\n",
       "  </thead>\n",
       "  <tbody>\n",
       "    <tr>\n",
       "      <th>72</th>\n",
       "      <td>Afghanistan</td>\n",
       "      <td>24</td>\n",
       "    </tr>\n",
       "    <tr>\n",
       "      <th>86</th>\n",
       "      <td>Albania</td>\n",
       "      <td>76</td>\n",
       "    </tr>\n",
       "    <tr>\n",
       "      <th>164</th>\n",
       "      <td>Algeria</td>\n",
       "      <td>94</td>\n",
       "    </tr>\n",
       "    <tr>\n",
       "      <th>173</th>\n",
       "      <td>Andorra</td>\n",
       "      <td>88</td>\n",
       "    </tr>\n",
       "    <tr>\n",
       "      <th>174</th>\n",
       "      <td>Angola</td>\n",
       "      <td>2</td>\n",
       "    </tr>\n",
       "  </tbody>\n",
       "</table>\n",
       "</div>"
      ],
      "text/plain": [
       "        location  cases\n",
       "72   Afghanistan     24\n",
       "86       Albania     76\n",
       "164      Algeria     94\n",
       "173      Andorra     88\n",
       "174       Angola      2"
      ]
     },
     "execution_count": 20,
     "metadata": {},
     "output_type": "execute_result"
    }
   ],
   "source": [
    "df_summary.head()"
   ]
  },
  {
   "cell_type": "code",
   "execution_count": 21,
   "metadata": {},
   "outputs": [
    {
     "data": {
      "text/plain": [
       "array(['Argentina', 'Armenia', 'Australia', 'Austria', 'Bahrain',\n",
       "       'Belgium', 'Brazil', 'Bulgaria', 'Canada', 'Chile', 'China',\n",
       "       'Colombia', 'Costa Rica', 'Croatia', 'Czech Republic', 'Denmark',\n",
       "       'Dominican Republic', 'Ecuador', 'Egypt', 'Estonia', 'Finland',\n",
       "       'France', 'Germany', 'Greece', 'Hungary', 'Iceland', 'India',\n",
       "       'Indonesia', 'International', 'Iran', 'Iraq', 'Ireland', 'Israel',\n",
       "       'Italy', 'Japan', 'Kuwait', 'Latvia', 'Lebanon', 'Lithuania',\n",
       "       'Luxembourg', 'Malaysia', 'Mexico', 'Netherlands', 'Norway',\n",
       "       'Pakistan', 'Panama', 'Peru', 'Philippines', 'Poland', 'Portugal',\n",
       "       'Qatar', 'Romania', 'Russia', 'San Marino', 'Saudi Arabia',\n",
       "       'Serbia', 'Singapore', 'Slovakia', 'Slovenia', 'South Africa',\n",
       "       'South Korea', 'Spain', 'Sweden', 'Switzerland', 'Taiwan',\n",
       "       'Thailand', 'Turkey', 'United Arab Emirates', 'United Kingdom',\n",
       "       'United States', 'Uruguay', 'World'], dtype=object)"
      ]
     },
     "execution_count": 21,
     "metadata": {},
     "output_type": "execute_result"
    }
   ],
   "source": [
    "df_infection.location.unique()"
   ]
  },
  {
   "cell_type": "code",
   "execution_count": 22,
   "metadata": {},
   "outputs": [
    {
     "data": {
      "text/plain": [
       "array(['Algeria', 'Australia', 'Austria', 'Belgium', 'Brazil', 'Canada',\n",
       "       'China', 'Denmark', 'Ecuador', 'Egypt', 'France', 'Germany',\n",
       "       'Greece', 'Indonesia', 'International', 'Iran', 'Iraq', 'Italy',\n",
       "       'Japan', 'Luxembourg', 'Netherlands', 'Norway', 'Peru',\n",
       "       'Philippines', 'Poland', 'Portugal', 'San Marino', 'South Korea',\n",
       "       'Spain', 'Sweden', 'Switzerland', 'Turkey', 'United Kingdom',\n",
       "       'United States', 'World'], dtype=object)"
      ]
     },
     "execution_count": 22,
     "metadata": {},
     "output_type": "execute_result"
    }
   ],
   "source": [
    "df_death.location.unique()"
   ]
  },
  {
   "cell_type": "code",
   "execution_count": 23,
   "metadata": {},
   "outputs": [],
   "source": [
    "COUNTRIES = set(df[(df.date == df.date.max())].nlargest(columns='total_cases', n=34).sort_values('location').location)\n",
    "COUNTRIES.remove('World')"
   ]
  },
  {
   "cell_type": "markdown",
   "metadata": {},
   "source": [
    "# Altair"
   ]
  },
  {
   "cell_type": "markdown",
   "metadata": {},
   "source": [
    "## Storing data locally "
   ]
  },
  {
   "cell_type": "code",
   "execution_count": 24,
   "metadata": {},
   "outputs": [],
   "source": [
    "url_infection = 'data_infection.json'\n",
    "url_death = 'data_death.json'\n",
    "url_summary = 'data_summary.json'\n",
    "\n",
    "df_infection[df_infection.location.isin(COUNTRIES)].to_json(url_infection, orient='records')\n",
    "df_death[df_death.location.isin(COUNTRIES)].to_json(url_death, orient='records')\n",
    "df_summary[df_summary.location.isin(COUNTRIES)].to_json(url_summary, orient='records')"
   ]
  },
  {
   "cell_type": "markdown",
   "metadata": {},
   "source": [
    "## Uploading data to github"
   ]
  },
  {
   "cell_type": "code",
   "execution_count": 25,
   "metadata": {},
   "outputs": [],
   "source": [
    "repo = g.get_repo(\"Datenspieler/notebooks_for_blog\")"
   ]
  },
  {
   "cell_type": "code",
   "execution_count": 26,
   "metadata": {},
   "outputs": [],
   "source": [
    "FILELIST = ['data_infection.json', 'data_death.json', 'data_summary.json']"
   ]
  },
  {
   "cell_type": "code",
   "execution_count": 38,
   "metadata": {},
   "outputs": [
    {
     "name": "stdout",
     "output_type": "stream",
     "text": [
      "Uploading data_infection.json - Sun, 22 Mar 2020 20:15:13 GMT\n",
      "Uploading data_death.json - Sun, 22 Mar 2020 20:19:16 GMT\n",
      "Uploading data_summary.json - Sun, 22 Mar 2020 20:19:18 GMT\n"
     ]
    }
   ],
   "source": [
    "for file_for_upload in FILELIST:\n",
    "    print('Uploading', file_for_upload, end=' - ')\n",
    "    with open(file_for_upload) as f:\n",
    "        data = f.read()\n",
    "    contents = repo.get_contents(\"2020-corona/\" + file_for_upload)\n",
    "    repo.update_file(contents.path, \"Update data as of \" + df.date.max().strftime('%Y-%m-%d'), data, \n",
    "                     contents.sha, branch=\"master\")\n",
    "    print(contents.last_modified)"
   ]
  },
  {
   "cell_type": "markdown",
   "metadata": {},
   "source": [
    "## Preparing link to data in github "
   ]
  },
  {
   "cell_type": "code",
   "execution_count": null,
   "metadata": {},
   "outputs": [],
   "source": [
    "# In future version files should be pushed to git automatically, this time I uploaded them \n",
    "\n",
    "BASEURL = 'https://raw.githubusercontent.com/Datenspieler/notebooks_for_blog/master/2020-corona/'\n",
    "\n",
    "url_infection = BASEURL + url_infection\n",
    "url_death = BASEURL + url_death\n",
    "url_summary = BASEURL + url_summary"
   ]
  },
  {
   "cell_type": "code",
   "execution_count": null,
   "metadata": {},
   "outputs": [],
   "source": []
  },
  {
   "cell_type": "code",
   "execution_count": null,
   "metadata": {},
   "outputs": [],
   "source": [
    "for repo in g.get_user().get_repos():\n",
    "    print(repo.name)\n",
    "    print(repo)"
   ]
  },
  {
   "cell_type": "code",
   "execution_count": null,
   "metadata": {},
   "outputs": [],
   "source": [
    "repo = g.get_repo(\"Datenspieler/notebooks_for_blog\")"
   ]
  },
  {
   "cell_type": "code",
   "execution_count": null,
   "metadata": {},
   "outputs": [],
   "source": [
    "contents = repo.get_contents(\"/2020-corona\")"
   ]
  },
  {
   "cell_type": "code",
   "execution_count": null,
   "metadata": {},
   "outputs": [],
   "source": [
    "contents"
   ]
  },
  {
   "cell_type": "code",
   "execution_count": null,
   "metadata": {},
   "outputs": [],
   "source": [
    "content = contents[0]"
   ]
  },
  {
   "cell_type": "code",
   "execution_count": null,
   "metadata": {},
   "outputs": [],
   "source": [
    "content.update()"
   ]
  },
  {
   "cell_type": "code",
   "execution_count": null,
   "metadata": {},
   "outputs": [],
   "source": [
    "#repo.create_file(\"2020-corona/test.txt\", \n",
    "#                 \"test\", \"test_content\", branch=\"master\")"
   ]
  },
  {
   "cell_type": "code",
   "execution_count": null,
   "metadata": {},
   "outputs": [],
   "source": [
    "contents = repo.get_contents(\"2020-corona/test.txt\")"
   ]
  },
  {
   "cell_type": "code",
   "execution_count": null,
   "metadata": {},
   "outputs": [],
   "source": [
    "contents = repo.get_contents(\"2020-corona/data_death.json\")"
   ]
  },
  {
   "cell_type": "code",
   "execution_count": null,
   "metadata": {},
   "outputs": [],
   "source": [
    "repo.update_file(contents.path, \"more tests\", data, \n",
    "                 contents.sha, branch=\"master\")\n"
   ]
  },
  {
   "cell_type": "code",
   "execution_count": null,
   "metadata": {},
   "outputs": [],
   "source": [
    "contents.update()"
   ]
  },
  {
   "cell_type": "code",
   "execution_count": null,
   "metadata": {},
   "outputs": [],
   "source": [
    "contents.last_modified"
   ]
  },
  {
   "cell_type": "code",
   "execution_count": null,
   "metadata": {},
   "outputs": [],
   "source": [
    "with open('data_summary.json') as f:\n",
    "    data = f.read()"
   ]
  },
  {
   "cell_type": "code",
   "execution_count": null,
   "metadata": {},
   "outputs": [],
   "source": [
    "data[:100]"
   ]
  },
  {
   "cell_type": "code",
   "execution_count": null,
   "metadata": {},
   "outputs": [],
   "source": []
  },
  {
   "cell_type": "markdown",
   "metadata": {},
   "source": [
    "## Plotting data "
   ]
  },
  {
   "cell_type": "code",
   "execution_count": null,
   "metadata": {},
   "outputs": [],
   "source": [
    "highlight = alt.selection(type='single', on='mouseover',\n",
    "                          fields=['location'], nearest=True)\n",
    "\n",
    "base_infection = alt.Chart(url_infection).encode(\n",
    "    alt.X('days_after', type='quantitative', scale=alt.Scale(domain=[0,20], type='ordinal'),\n",
    "         title='Days since the 100th confirmed infection'),\n",
    "    alt.Y('total_cases_normalized', type='quantitative', scale=alt.Scale(type='log', base=10), \n",
    "          title='Total confirmed infections of COVID-19, normalized'),\n",
    "    alt.Color('location:N', title=\"Country\", legend=None),\n",
    "    alt.Tooltip(['location:N', 'total_cases:Q', 'date:T'])\n",
    ").properties(\n",
    "    title='Development of Corona infections',\n",
    ")\n",
    "\n",
    "base_death = alt.Chart(url_death).encode(\n",
    "    alt.X('days_after', type='quantitative',  scale=alt.Scale(domain=[0,20], type='ordinal', bins=list(range(100))),\n",
    "         title='Days since the 5th confirmed death'),\n",
    "    alt.Y('total_deaths_normalized', type='quantitative', scale=alt.Scale(type='log', base=10), \n",
    "          title='Total confirmed deaths of COVID-19, normalized'),\n",
    "    alt.Color('location:N', title=\"Country\", legend=None),\n",
    "    alt.Tooltip(['location:N', 'total_deaths:Q', 'date:T'])\n",
    ").properties(\n",
    "    title='Development of Corona deaths',\n",
    ")\n",
    "\n",
    "base_summary = alt.Chart(url_summary).mark_bar().encode(\n",
    "    x = alt.X('cases', type='quantitative', title='Confirmed cases', scale=alt.Scale(type='linear')),\n",
    "    y = alt.Y('location:N', title='Country'),\n",
    "    color = alt.condition(highlight, alt.Color('location:N', title=\"Country\", legend=None), alt.ColorValue(\"grey\")),\n",
    "    tooltip = alt.Tooltip(['location:N', 'cases:Q'])\n",
    ").add_selection(\n",
    "    highlight\n",
    ").properties(\n",
    "    width=200,\n",
    "    title='Corona cases by country'\n",
    ")\n",
    "\n",
    "\n",
    "points_infection = base_infection.mark_circle().encode(\n",
    "    opacity=alt.value(0)\n",
    ").add_selection(\n",
    "    highlight\n",
    ").properties(\n",
    "    width=600\n",
    ").interactive(\n",
    "    bind_y = False\n",
    ")\n",
    "\n",
    "points_death = base_death.mark_circle().encode(\n",
    "    opacity=alt.value(0)\n",
    ").add_selection(\n",
    "    highlight\n",
    ").properties(\n",
    "    width=600\n",
    ").interactive(\n",
    "    bind_y = False\n",
    ")\n",
    "\n",
    "\n",
    "lines_infection = base_infection.mark_line().encode(\n",
    "    size=alt.condition(~highlight, alt.value(1), alt.value(5), legend=None)\n",
    ")\n",
    "\n",
    "lines_death = base_death.mark_line().encode(\n",
    "    size=alt.condition(~highlight, alt.value(1), alt.value(5), legend=None)\n",
    ")\n",
    "\n",
    "chart = alt.vconcat(points_infection + lines_infection, points_death + lines_death)\n",
    "\n",
    "chart = alt.hconcat(base_summary, chart)\n",
    "\n",
    "\n",
    "#chart.save('corona.html')\n",
    "chart.save('corona.json')\n",
    "\n",
    "chart"
   ]
  },
  {
   "cell_type": "code",
   "execution_count": null,
   "metadata": {},
   "outputs": [],
   "source": []
  }
 ],
 "metadata": {
  "kernelspec": {
   "display_name": "Python 3",
   "language": "python",
   "name": "python3"
  },
  "language_info": {
   "codemirror_mode": {
    "name": "ipython",
    "version": 3
   },
   "file_extension": ".py",
   "mimetype": "text/x-python",
   "name": "python",
   "nbconvert_exporter": "python",
   "pygments_lexer": "ipython3",
   "version": "3.7.6"
  }
 },
 "nbformat": 4,
 "nbformat_minor": 4
}
