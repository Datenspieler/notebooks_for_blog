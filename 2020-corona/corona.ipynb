{
 "cells": [
  {
   "cell_type": "markdown",
   "metadata": {},
   "source": [
    "# Loading libraries and data "
   ]
  },
  {
   "cell_type": "code",
   "execution_count": 124,
   "metadata": {},
   "outputs": [],
   "source": [
    "import pandas as pd\n",
    "import altair as alt\n",
    "\n",
    "from github import Github\n",
    "import configparser"
   ]
  },
  {
   "cell_type": "code",
   "execution_count": 176,
   "metadata": {},
   "outputs": [],
   "source": [
    "config = configparser.ConfigParser()\n",
    "config.read('secrets.ini');"
   ]
  },
  {
   "cell_type": "code",
   "execution_count": 177,
   "metadata": {},
   "outputs": [],
   "source": [
    "g = Github(config['corona']['api_key'])"
   ]
  },
  {
   "cell_type": "code",
   "execution_count": 209,
   "metadata": {},
   "outputs": [],
   "source": [
    "START_CASES_INFECTION = 100\n",
    "START_CASES_DEATH = 10"
   ]
  },
  {
   "cell_type": "code",
   "execution_count": 210,
   "metadata": {},
   "outputs": [],
   "source": [
    "URL = \"https://covid.ourworldindata.org/data/ecdc/full_data.csv\""
   ]
  },
  {
   "cell_type": "code",
   "execution_count": 211,
   "metadata": {},
   "outputs": [],
   "source": [
    "df = pd.read_csv(URL)"
   ]
  },
  {
   "cell_type": "code",
   "execution_count": 212,
   "metadata": {},
   "outputs": [],
   "source": [
    "df.date = pd.to_datetime(df.date)"
   ]
  },
  {
   "cell_type": "code",
   "execution_count": 213,
   "metadata": {},
   "outputs": [],
   "source": [
    "df = df.sort_values(['location','date'], ascending=True)"
   ]
  },
  {
   "cell_type": "code",
   "execution_count": 214,
   "metadata": {},
   "outputs": [
    {
     "data": {
      "text/plain": [
       "7213"
      ]
     },
     "execution_count": 214,
     "metadata": {},
     "output_type": "execute_result"
    }
   ],
   "source": [
    "df.shape[0]"
   ]
  },
  {
   "cell_type": "code",
   "execution_count": 215,
   "metadata": {},
   "outputs": [
    {
     "data": {
      "text/html": [
       "<div>\n",
       "<style scoped>\n",
       "    .dataframe tbody tr th:only-of-type {\n",
       "        vertical-align: middle;\n",
       "    }\n",
       "\n",
       "    .dataframe tbody tr th {\n",
       "        vertical-align: top;\n",
       "    }\n",
       "\n",
       "    .dataframe thead th {\n",
       "        text-align: right;\n",
       "    }\n",
       "</style>\n",
       "<table border=\"1\" class=\"dataframe\">\n",
       "  <thead>\n",
       "    <tr style=\"text-align: right;\">\n",
       "      <th></th>\n",
       "      <th>date</th>\n",
       "      <th>location</th>\n",
       "      <th>new_cases</th>\n",
       "      <th>new_deaths</th>\n",
       "      <th>total_cases</th>\n",
       "      <th>total_deaths</th>\n",
       "    </tr>\n",
       "  </thead>\n",
       "  <tbody>\n",
       "    <tr>\n",
       "      <th>0</th>\n",
       "      <td>2019-12-31</td>\n",
       "      <td>Afghanistan</td>\n",
       "      <td>0</td>\n",
       "      <td>0</td>\n",
       "      <td>0</td>\n",
       "      <td>0</td>\n",
       "    </tr>\n",
       "    <tr>\n",
       "      <th>1</th>\n",
       "      <td>2020-01-01</td>\n",
       "      <td>Afghanistan</td>\n",
       "      <td>0</td>\n",
       "      <td>0</td>\n",
       "      <td>0</td>\n",
       "      <td>0</td>\n",
       "    </tr>\n",
       "    <tr>\n",
       "      <th>2</th>\n",
       "      <td>2020-01-02</td>\n",
       "      <td>Afghanistan</td>\n",
       "      <td>0</td>\n",
       "      <td>0</td>\n",
       "      <td>0</td>\n",
       "      <td>0</td>\n",
       "    </tr>\n",
       "    <tr>\n",
       "      <th>3</th>\n",
       "      <td>2020-01-03</td>\n",
       "      <td>Afghanistan</td>\n",
       "      <td>0</td>\n",
       "      <td>0</td>\n",
       "      <td>0</td>\n",
       "      <td>0</td>\n",
       "    </tr>\n",
       "    <tr>\n",
       "      <th>4</th>\n",
       "      <td>2020-01-04</td>\n",
       "      <td>Afghanistan</td>\n",
       "      <td>0</td>\n",
       "      <td>0</td>\n",
       "      <td>0</td>\n",
       "      <td>0</td>\n",
       "    </tr>\n",
       "  </tbody>\n",
       "</table>\n",
       "</div>"
      ],
      "text/plain": [
       "        date     location  new_cases  new_deaths  total_cases  total_deaths\n",
       "0 2019-12-31  Afghanistan          0           0            0             0\n",
       "1 2020-01-01  Afghanistan          0           0            0             0\n",
       "2 2020-01-02  Afghanistan          0           0            0             0\n",
       "3 2020-01-03  Afghanistan          0           0            0             0\n",
       "4 2020-01-04  Afghanistan          0           0            0             0"
      ]
     },
     "execution_count": 215,
     "metadata": {},
     "output_type": "execute_result"
    }
   ],
   "source": [
    "df.head()"
   ]
  },
  {
   "cell_type": "code",
   "execution_count": 216,
   "metadata": {},
   "outputs": [
    {
     "name": "stdout",
     "output_type": "stream",
     "text": [
      "<class 'pandas.core.frame.DataFrame'>\n",
      "Int64Index: 7213 entries, 0 to 7212\n",
      "Data columns (total 6 columns):\n",
      " #   Column        Non-Null Count  Dtype         \n",
      "---  ------        --------------  -----         \n",
      " 0   date          7213 non-null   datetime64[ns]\n",
      " 1   location      7213 non-null   object        \n",
      " 2   new_cases     7213 non-null   int64         \n",
      " 3   new_deaths    7213 non-null   int64         \n",
      " 4   total_cases   7213 non-null   int64         \n",
      " 5   total_deaths  7213 non-null   int64         \n",
      "dtypes: datetime64[ns](1), int64(4), object(1)\n",
      "memory usage: 394.5+ KB\n"
     ]
    }
   ],
   "source": [
    "df.info()"
   ]
  },
  {
   "cell_type": "markdown",
   "metadata": {},
   "source": [
    "# Date of data"
   ]
  },
  {
   "cell_type": "code",
   "execution_count": 217,
   "metadata": {},
   "outputs": [
    {
     "data": {
      "text/plain": [
       "Timestamp('2020-03-27 00:00:00')"
      ]
     },
     "execution_count": 217,
     "metadata": {},
     "output_type": "execute_result"
    }
   ],
   "source": [
    "df.date.max()"
   ]
  },
  {
   "cell_type": "markdown",
   "metadata": {},
   "source": [
    "# Creating data for graphs"
   ]
  },
  {
   "cell_type": "code",
   "execution_count": 218,
   "metadata": {},
   "outputs": [],
   "source": [
    "df = df.drop(columns=['new_cases', 'new_deaths'])"
   ]
  },
  {
   "cell_type": "code",
   "execution_count": 219,
   "metadata": {},
   "outputs": [],
   "source": [
    "df_infection = df[df.total_cases >= START_CASES_INFECTION].copy()\n",
    "df_death = df[df.total_deaths >= START_CASES_DEATH].copy()"
   ]
  },
  {
   "cell_type": "code",
   "execution_count": 220,
   "metadata": {},
   "outputs": [
    {
     "data": {
      "text/html": [
       "<div>\n",
       "<style scoped>\n",
       "    .dataframe tbody tr th:only-of-type {\n",
       "        vertical-align: middle;\n",
       "    }\n",
       "\n",
       "    .dataframe tbody tr th {\n",
       "        vertical-align: top;\n",
       "    }\n",
       "\n",
       "    .dataframe thead th {\n",
       "        text-align: right;\n",
       "    }\n",
       "</style>\n",
       "<table border=\"1\" class=\"dataframe\">\n",
       "  <thead>\n",
       "    <tr style=\"text-align: right;\">\n",
       "      <th></th>\n",
       "      <th>date</th>\n",
       "      <th>location</th>\n",
       "      <th>total_cases</th>\n",
       "      <th>total_deaths</th>\n",
       "    </tr>\n",
       "  </thead>\n",
       "  <tbody>\n",
       "    <tr>\n",
       "      <th>93</th>\n",
       "      <td>2020-03-24</td>\n",
       "      <td>Albania</td>\n",
       "      <td>100</td>\n",
       "      <td>4</td>\n",
       "    </tr>\n",
       "    <tr>\n",
       "      <th>94</th>\n",
       "      <td>2020-03-25</td>\n",
       "      <td>Albania</td>\n",
       "      <td>123</td>\n",
       "      <td>5</td>\n",
       "    </tr>\n",
       "    <tr>\n",
       "      <th>95</th>\n",
       "      <td>2020-03-26</td>\n",
       "      <td>Albania</td>\n",
       "      <td>146</td>\n",
       "      <td>5</td>\n",
       "    </tr>\n",
       "    <tr>\n",
       "      <th>96</th>\n",
       "      <td>2020-03-27</td>\n",
       "      <td>Albania</td>\n",
       "      <td>174</td>\n",
       "      <td>6</td>\n",
       "    </tr>\n",
       "    <tr>\n",
       "      <th>175</th>\n",
       "      <td>2020-03-23</td>\n",
       "      <td>Algeria</td>\n",
       "      <td>102</td>\n",
       "      <td>15</td>\n",
       "    </tr>\n",
       "  </tbody>\n",
       "</table>\n",
       "</div>"
      ],
      "text/plain": [
       "          date location  total_cases  total_deaths\n",
       "93  2020-03-24  Albania          100             4\n",
       "94  2020-03-25  Albania          123             5\n",
       "95  2020-03-26  Albania          146             5\n",
       "96  2020-03-27  Albania          174             6\n",
       "175 2020-03-23  Algeria          102            15"
      ]
     },
     "execution_count": 220,
     "metadata": {},
     "output_type": "execute_result"
    }
   ],
   "source": [
    "df_infection.head()"
   ]
  },
  {
   "cell_type": "code",
   "execution_count": 221,
   "metadata": {},
   "outputs": [
    {
     "data": {
      "text/html": [
       "<div>\n",
       "<style scoped>\n",
       "    .dataframe tbody tr th:only-of-type {\n",
       "        vertical-align: middle;\n",
       "    }\n",
       "\n",
       "    .dataframe tbody tr th {\n",
       "        vertical-align: top;\n",
       "    }\n",
       "\n",
       "    .dataframe thead th {\n",
       "        text-align: right;\n",
       "    }\n",
       "</style>\n",
       "<table border=\"1\" class=\"dataframe\">\n",
       "  <thead>\n",
       "    <tr style=\"text-align: right;\">\n",
       "      <th></th>\n",
       "      <th>date</th>\n",
       "      <th>location</th>\n",
       "      <th>total_cases</th>\n",
       "      <th>total_deaths</th>\n",
       "    </tr>\n",
       "  </thead>\n",
       "  <tbody>\n",
       "    <tr>\n",
       "      <th>488</th>\n",
       "      <td>2020-03-25</td>\n",
       "      <td>Austria</td>\n",
       "      <td>5282</td>\n",
       "      <td>30</td>\n",
       "    </tr>\n",
       "    <tr>\n",
       "      <th>489</th>\n",
       "      <td>2020-03-26</td>\n",
       "      <td>Austria</td>\n",
       "      <td>5888</td>\n",
       "      <td>34</td>\n",
       "    </tr>\n",
       "    <tr>\n",
       "      <th>490</th>\n",
       "      <td>2020-03-27</td>\n",
       "      <td>Austria</td>\n",
       "      <td>7029</td>\n",
       "      <td>49</td>\n",
       "    </tr>\n",
       "  </tbody>\n",
       "</table>\n",
       "</div>"
      ],
      "text/plain": [
       "          date location  total_cases  total_deaths\n",
       "488 2020-03-25  Austria         5282            30\n",
       "489 2020-03-26  Austria         5888            34\n",
       "490 2020-03-27  Austria         7029            49"
      ]
     },
     "execution_count": 221,
     "metadata": {},
     "output_type": "execute_result"
    }
   ],
   "source": [
    "df_infection[df_infection.location == 'Austria'].tail(3)"
   ]
  },
  {
   "cell_type": "code",
   "execution_count": 222,
   "metadata": {},
   "outputs": [
    {
     "data": {
      "text/html": [
       "<div>\n",
       "<style scoped>\n",
       "    .dataframe tbody tr th:only-of-type {\n",
       "        vertical-align: middle;\n",
       "    }\n",
       "\n",
       "    .dataframe tbody tr th {\n",
       "        vertical-align: top;\n",
       "    }\n",
       "\n",
       "    .dataframe thead th {\n",
       "        text-align: right;\n",
       "    }\n",
       "</style>\n",
       "<table border=\"1\" class=\"dataframe\">\n",
       "  <thead>\n",
       "    <tr style=\"text-align: right;\">\n",
       "      <th></th>\n",
       "      <th>date</th>\n",
       "      <th>location</th>\n",
       "      <th>total_cases</th>\n",
       "      <th>total_deaths</th>\n",
       "    </tr>\n",
       "  </thead>\n",
       "  <tbody>\n",
       "    <tr>\n",
       "      <th>173</th>\n",
       "      <td>2020-03-21</td>\n",
       "      <td>Algeria</td>\n",
       "      <td>94</td>\n",
       "      <td>10</td>\n",
       "    </tr>\n",
       "    <tr>\n",
       "      <th>174</th>\n",
       "      <td>2020-03-22</td>\n",
       "      <td>Algeria</td>\n",
       "      <td>94</td>\n",
       "      <td>10</td>\n",
       "    </tr>\n",
       "    <tr>\n",
       "      <th>175</th>\n",
       "      <td>2020-03-23</td>\n",
       "      <td>Algeria</td>\n",
       "      <td>102</td>\n",
       "      <td>15</td>\n",
       "    </tr>\n",
       "    <tr>\n",
       "      <th>176</th>\n",
       "      <td>2020-03-24</td>\n",
       "      <td>Algeria</td>\n",
       "      <td>189</td>\n",
       "      <td>17</td>\n",
       "    </tr>\n",
       "    <tr>\n",
       "      <th>177</th>\n",
       "      <td>2020-03-25</td>\n",
       "      <td>Algeria</td>\n",
       "      <td>231</td>\n",
       "      <td>17</td>\n",
       "    </tr>\n",
       "  </tbody>\n",
       "</table>\n",
       "</div>"
      ],
      "text/plain": [
       "          date location  total_cases  total_deaths\n",
       "173 2020-03-21  Algeria           94            10\n",
       "174 2020-03-22  Algeria           94            10\n",
       "175 2020-03-23  Algeria          102            15\n",
       "176 2020-03-24  Algeria          189            17\n",
       "177 2020-03-25  Algeria          231            17"
      ]
     },
     "execution_count": 222,
     "metadata": {},
     "output_type": "execute_result"
    }
   ],
   "source": [
    "df_death.head()"
   ]
  },
  {
   "cell_type": "code",
   "execution_count": 223,
   "metadata": {},
   "outputs": [],
   "source": [
    "df_infection['total_cases_normalized'] = df_infection.groupby(\n",
    "    \"location\")[['total_cases']].transform(lambda x: x / x.min() * START_CASES_INFECTION)\n",
    "df_infection.total_cases_normalized = df_infection.total_cases_normalized.astype(\"int\")\n",
    "\n",
    "df_death['total_deaths_normalized'] = df_death.groupby(\n",
    "    \"location\")[['total_deaths']].transform(lambda x: x / x.min() * START_CASES_DEATH)\n",
    "df_death.total_deaths_normalized = df_death.total_deaths_normalized.astype(\"int\")"
   ]
  },
  {
   "cell_type": "code",
   "execution_count": 224,
   "metadata": {},
   "outputs": [],
   "source": [
    "df_infection[\"days_after\"] = df_infection.groupby(\"location\").cumcount()\n",
    "df_death[\"days_after\"] = df_death.groupby(\"location\").cumcount()"
   ]
  },
  {
   "cell_type": "code",
   "execution_count": 225,
   "metadata": {},
   "outputs": [
    {
     "data": {
      "text/html": [
       "<div>\n",
       "<style scoped>\n",
       "    .dataframe tbody tr th:only-of-type {\n",
       "        vertical-align: middle;\n",
       "    }\n",
       "\n",
       "    .dataframe tbody tr th {\n",
       "        vertical-align: top;\n",
       "    }\n",
       "\n",
       "    .dataframe thead th {\n",
       "        text-align: right;\n",
       "    }\n",
       "</style>\n",
       "<table border=\"1\" class=\"dataframe\">\n",
       "  <thead>\n",
       "    <tr style=\"text-align: right;\">\n",
       "      <th></th>\n",
       "      <th>date</th>\n",
       "      <th>location</th>\n",
       "      <th>total_cases</th>\n",
       "      <th>total_deaths</th>\n",
       "      <th>total_cases_normalized</th>\n",
       "      <th>days_after</th>\n",
       "    </tr>\n",
       "  </thead>\n",
       "  <tbody>\n",
       "    <tr>\n",
       "      <th>93</th>\n",
       "      <td>2020-03-24</td>\n",
       "      <td>Albania</td>\n",
       "      <td>100</td>\n",
       "      <td>4</td>\n",
       "      <td>100</td>\n",
       "      <td>0</td>\n",
       "    </tr>\n",
       "    <tr>\n",
       "      <th>94</th>\n",
       "      <td>2020-03-25</td>\n",
       "      <td>Albania</td>\n",
       "      <td>123</td>\n",
       "      <td>5</td>\n",
       "      <td>123</td>\n",
       "      <td>1</td>\n",
       "    </tr>\n",
       "    <tr>\n",
       "      <th>95</th>\n",
       "      <td>2020-03-26</td>\n",
       "      <td>Albania</td>\n",
       "      <td>146</td>\n",
       "      <td>5</td>\n",
       "      <td>146</td>\n",
       "      <td>2</td>\n",
       "    </tr>\n",
       "    <tr>\n",
       "      <th>96</th>\n",
       "      <td>2020-03-27</td>\n",
       "      <td>Albania</td>\n",
       "      <td>174</td>\n",
       "      <td>6</td>\n",
       "      <td>174</td>\n",
       "      <td>3</td>\n",
       "    </tr>\n",
       "    <tr>\n",
       "      <th>175</th>\n",
       "      <td>2020-03-23</td>\n",
       "      <td>Algeria</td>\n",
       "      <td>102</td>\n",
       "      <td>15</td>\n",
       "      <td>100</td>\n",
       "      <td>0</td>\n",
       "    </tr>\n",
       "  </tbody>\n",
       "</table>\n",
       "</div>"
      ],
      "text/plain": [
       "          date location  total_cases  total_deaths  total_cases_normalized  \\\n",
       "93  2020-03-24  Albania          100             4                     100   \n",
       "94  2020-03-25  Albania          123             5                     123   \n",
       "95  2020-03-26  Albania          146             5                     146   \n",
       "96  2020-03-27  Albania          174             6                     174   \n",
       "175 2020-03-23  Algeria          102            15                     100   \n",
       "\n",
       "     days_after  \n",
       "93            0  \n",
       "94            1  \n",
       "95            2  \n",
       "96            3  \n",
       "175           0  "
      ]
     },
     "execution_count": 225,
     "metadata": {},
     "output_type": "execute_result"
    }
   ],
   "source": [
    "df_infection.head()"
   ]
  },
  {
   "cell_type": "code",
   "execution_count": 226,
   "metadata": {},
   "outputs": [
    {
     "data": {
      "text/html": [
       "<div>\n",
       "<style scoped>\n",
       "    .dataframe tbody tr th:only-of-type {\n",
       "        vertical-align: middle;\n",
       "    }\n",
       "\n",
       "    .dataframe tbody tr th {\n",
       "        vertical-align: top;\n",
       "    }\n",
       "\n",
       "    .dataframe thead th {\n",
       "        text-align: right;\n",
       "    }\n",
       "</style>\n",
       "<table border=\"1\" class=\"dataframe\">\n",
       "  <thead>\n",
       "    <tr style=\"text-align: right;\">\n",
       "      <th></th>\n",
       "      <th>date</th>\n",
       "      <th>location</th>\n",
       "      <th>total_cases</th>\n",
       "      <th>total_deaths</th>\n",
       "      <th>total_deaths_normalized</th>\n",
       "      <th>days_after</th>\n",
       "    </tr>\n",
       "  </thead>\n",
       "  <tbody>\n",
       "    <tr>\n",
       "      <th>173</th>\n",
       "      <td>2020-03-21</td>\n",
       "      <td>Algeria</td>\n",
       "      <td>94</td>\n",
       "      <td>10</td>\n",
       "      <td>10</td>\n",
       "      <td>0</td>\n",
       "    </tr>\n",
       "    <tr>\n",
       "      <th>174</th>\n",
       "      <td>2020-03-22</td>\n",
       "      <td>Algeria</td>\n",
       "      <td>94</td>\n",
       "      <td>10</td>\n",
       "      <td>10</td>\n",
       "      <td>1</td>\n",
       "    </tr>\n",
       "    <tr>\n",
       "      <th>175</th>\n",
       "      <td>2020-03-23</td>\n",
       "      <td>Algeria</td>\n",
       "      <td>102</td>\n",
       "      <td>15</td>\n",
       "      <td>15</td>\n",
       "      <td>2</td>\n",
       "    </tr>\n",
       "    <tr>\n",
       "      <th>176</th>\n",
       "      <td>2020-03-24</td>\n",
       "      <td>Algeria</td>\n",
       "      <td>189</td>\n",
       "      <td>17</td>\n",
       "      <td>17</td>\n",
       "      <td>3</td>\n",
       "    </tr>\n",
       "    <tr>\n",
       "      <th>177</th>\n",
       "      <td>2020-03-25</td>\n",
       "      <td>Algeria</td>\n",
       "      <td>231</td>\n",
       "      <td>17</td>\n",
       "      <td>17</td>\n",
       "      <td>4</td>\n",
       "    </tr>\n",
       "  </tbody>\n",
       "</table>\n",
       "</div>"
      ],
      "text/plain": [
       "          date location  total_cases  total_deaths  total_deaths_normalized  \\\n",
       "173 2020-03-21  Algeria           94            10                       10   \n",
       "174 2020-03-22  Algeria           94            10                       10   \n",
       "175 2020-03-23  Algeria          102            15                       15   \n",
       "176 2020-03-24  Algeria          189            17                       17   \n",
       "177 2020-03-25  Algeria          231            17                       17   \n",
       "\n",
       "     days_after  \n",
       "173           0  \n",
       "174           1  \n",
       "175           2  \n",
       "176           3  \n",
       "177           4  "
      ]
     },
     "execution_count": 226,
     "metadata": {},
     "output_type": "execute_result"
    }
   ],
   "source": [
    "df_death.head()"
   ]
  },
  {
   "cell_type": "code",
   "execution_count": 227,
   "metadata": {},
   "outputs": [],
   "source": [
    "df_summary = df[df.date == df.date.max()].drop(columns='date')\n",
    "df_summary['cases'] = df_summary.total_cases\n",
    "df_summary = df_summary.drop(['total_cases', 'total_deaths'], axis=1)"
   ]
  },
  {
   "cell_type": "code",
   "execution_count": 228,
   "metadata": {},
   "outputs": [
    {
     "data": {
      "text/html": [
       "<div>\n",
       "<style scoped>\n",
       "    .dataframe tbody tr th:only-of-type {\n",
       "        vertical-align: middle;\n",
       "    }\n",
       "\n",
       "    .dataframe tbody tr th {\n",
       "        vertical-align: top;\n",
       "    }\n",
       "\n",
       "    .dataframe thead th {\n",
       "        text-align: right;\n",
       "    }\n",
       "</style>\n",
       "<table border=\"1\" class=\"dataframe\">\n",
       "  <thead>\n",
       "    <tr style=\"text-align: right;\">\n",
       "      <th></th>\n",
       "      <th>location</th>\n",
       "      <th>cases</th>\n",
       "    </tr>\n",
       "  </thead>\n",
       "  <tbody>\n",
       "    <tr>\n",
       "      <th>77</th>\n",
       "      <td>Afghanistan</td>\n",
       "      <td>75</td>\n",
       "    </tr>\n",
       "    <tr>\n",
       "      <th>96</th>\n",
       "      <td>Albania</td>\n",
       "      <td>174</td>\n",
       "    </tr>\n",
       "    <tr>\n",
       "      <th>179</th>\n",
       "      <td>Algeria</td>\n",
       "      <td>305</td>\n",
       "    </tr>\n",
       "    <tr>\n",
       "      <th>193</th>\n",
       "      <td>Andorra</td>\n",
       "      <td>224</td>\n",
       "    </tr>\n",
       "    <tr>\n",
       "      <th>199</th>\n",
       "      <td>Angola</td>\n",
       "      <td>3</td>\n",
       "    </tr>\n",
       "  </tbody>\n",
       "</table>\n",
       "</div>"
      ],
      "text/plain": [
       "        location  cases\n",
       "77   Afghanistan     75\n",
       "96       Albania    174\n",
       "179      Algeria    305\n",
       "193      Andorra    224\n",
       "199       Angola      3"
      ]
     },
     "execution_count": 228,
     "metadata": {},
     "output_type": "execute_result"
    }
   ],
   "source": [
    "df_summary.head()"
   ]
  },
  {
   "cell_type": "code",
   "execution_count": 229,
   "metadata": {},
   "outputs": [
    {
     "data": {
      "text/plain": [
       "array(['Albania', 'Algeria', 'Andorra', 'Argentina', 'Armenia',\n",
       "       'Australia', 'Austria', 'Azerbaijan', 'Bahrain', 'Belgium',\n",
       "       'Bosnia and Herzegovina', 'Brazil', 'Brunei', 'Bulgaria',\n",
       "       'Burkina Faso', 'Canada', 'Chile', 'China', 'Colombia',\n",
       "       'Costa Rica', 'Croatia', 'Cyprus', 'Czech Republic', 'Denmark',\n",
       "       'Dominican Republic', 'Ecuador', 'Egypt', 'Estonia',\n",
       "       'Faeroe Islands', 'Finland', 'France', 'Germany', 'Ghana',\n",
       "       'Greece', 'Hungary', 'Iceland', 'India', 'Indonesia',\n",
       "       'International', 'Iran', 'Iraq', 'Ireland', 'Israel', 'Italy',\n",
       "       'Japan', 'Jordan', 'Kazakhstan', 'Kuwait', 'Latvia', 'Lebanon',\n",
       "       'Lithuania', 'Luxembourg', 'Macedonia', 'Malaysia', 'Malta',\n",
       "       'Mexico', 'Moldova', 'Morocco', 'Netherlands', 'New Zealand',\n",
       "       'Norway', 'Oman', 'Pakistan', 'Panama', 'Peru', 'Philippines',\n",
       "       'Poland', 'Portugal', 'Qatar', 'Romania', 'Russia', 'San Marino',\n",
       "       'Saudi Arabia', 'Senegal', 'Serbia', 'Singapore', 'Slovakia',\n",
       "       'Slovenia', 'South Africa', 'South Korea', 'Spain', 'Sri Lanka',\n",
       "       'Sweden', 'Switzerland', 'Taiwan', 'Thailand', 'Tunisia', 'Turkey',\n",
       "       'Ukraine', 'United Arab Emirates', 'United Kingdom',\n",
       "       'United States', 'Uruguay', 'Venezuela', 'Vietnam', 'World'],\n",
       "      dtype=object)"
      ]
     },
     "execution_count": 229,
     "metadata": {},
     "output_type": "execute_result"
    }
   ],
   "source": [
    "df_infection.location.unique()"
   ]
  },
  {
   "cell_type": "code",
   "execution_count": 230,
   "metadata": {},
   "outputs": [
    {
     "data": {
      "text/plain": [
       "array(['Algeria', 'Argentina', 'Australia', 'Austria', 'Belgium',\n",
       "       'Brazil', 'Canada', 'China', 'Denmark', 'Dominican Republic',\n",
       "       'Ecuador', 'Egypt', 'France', 'Germany', 'Greece', 'Hungary',\n",
       "       'India', 'Indonesia', 'Iran', 'Iraq', 'Ireland', 'Italy', 'Japan',\n",
       "       'Malaysia', 'Morocco', 'Netherlands', 'Norway', 'Philippines',\n",
       "       'Poland', 'Portugal', 'Romania', 'San Marino', 'South Korea',\n",
       "       'Spain', 'Sweden', 'Switzerland', 'Turkey', 'United Kingdom',\n",
       "       'United States', 'World'], dtype=object)"
      ]
     },
     "execution_count": 230,
     "metadata": {},
     "output_type": "execute_result"
    }
   ],
   "source": [
    "df_death.location.unique()"
   ]
  },
  {
   "cell_type": "code",
   "execution_count": 231,
   "metadata": {},
   "outputs": [],
   "source": [
    "COUNTRIES = set(df[(df.date == df.date.max())].nlargest(columns='total_cases', n=34).sort_values('location').location)\n",
    "COUNTRIES.remove('World')"
   ]
  },
  {
   "cell_type": "markdown",
   "metadata": {},
   "source": [
    "# Altair"
   ]
  },
  {
   "cell_type": "markdown",
   "metadata": {},
   "source": [
    "## Storing data locally "
   ]
  },
  {
   "cell_type": "code",
   "execution_count": 232,
   "metadata": {},
   "outputs": [],
   "source": [
    "url_infection = 'data_infection.json'\n",
    "url_death = 'data_death.json'\n",
    "url_summary = 'data_summary.json'\n",
    "\n",
    "df_infection[df_infection.location.isin(COUNTRIES)].to_json(url_infection, orient='records')\n",
    "df_death[df_death.location.isin(COUNTRIES)].to_json(url_death, orient='records')\n",
    "df_summary[df_summary.location.isin(COUNTRIES)].to_json(url_summary, orient='records')"
   ]
  },
  {
   "cell_type": "markdown",
   "metadata": {},
   "source": [
    "## Uploading data to github"
   ]
  },
  {
   "cell_type": "code",
   "execution_count": 202,
   "metadata": {},
   "outputs": [],
   "source": [
    "repo = g.get_repo(\"Datenspieler/notebooks_for_blog\")"
   ]
  },
  {
   "cell_type": "code",
   "execution_count": 203,
   "metadata": {},
   "outputs": [],
   "source": [
    "FILELIST = ['data_infection.json', 'data_death.json', 'data_summary.json']"
   ]
  },
  {
   "cell_type": "code",
   "execution_count": 236,
   "metadata": {},
   "outputs": [
    {
     "name": "stdout",
     "output_type": "stream",
     "text": [
      "Uploading data_infection.json - Sat, 28 Mar 2020 04:46:56 GMT\n",
      "Uploading data_death.json - Sat, 28 Mar 2020 04:46:59 GMT\n",
      "Uploading data_summary.json - Sat, 28 Mar 2020 04:47:00 GMT\n"
     ]
    }
   ],
   "source": [
    "for file_for_upload in FILELIST:\n",
    "    print('Uploading', file_for_upload, end=' - ')\n",
    "    with open(file_for_upload) as f:\n",
    "        data = f.read()\n",
    "    contents = repo.get_contents(\"2020-corona/\" + file_for_upload)\n",
    "    repo.update_file(contents.path, \"Update data as of \" + df.date.max().strftime('%Y-%m-%d'), data, \n",
    "                     contents.sha, branch=\"master\")\n",
    "    \n",
    "    contents = repo.get_contents(\"2020-corona/\" + file_for_upload)\n",
    "\n",
    "    print(contents.last_modified)"
   ]
  },
  {
   "cell_type": "markdown",
   "metadata": {},
   "source": [
    "## Preparing link to data in github "
   ]
  },
  {
   "cell_type": "code",
   "execution_count": 60,
   "metadata": {},
   "outputs": [],
   "source": [
    "# In future version files should be pushed to git automatically, this time I uploaded them \n",
    "\n",
    "BASEURL = 'https://raw.githubusercontent.com/Datenspieler/notebooks_for_blog/master/2020-corona/'\n",
    "\n",
    "url_infection = BASEURL + url_infection\n",
    "url_death = BASEURL + url_death\n",
    "url_summary = BASEURL + url_summary"
   ]
  },
  {
   "cell_type": "markdown",
   "metadata": {},
   "source": [
    "## Alternatively local version"
   ]
  },
  {
   "cell_type": "code",
   "execution_count": 233,
   "metadata": {},
   "outputs": [],
   "source": [
    "url_infection = df_infection[df_infection.location.isin(COUNTRIES)]\n",
    "url_death = df_death[df_death.location.isin(COUNTRIES)]\n",
    "url_summary = df_summary[df_summary.location.isin(COUNTRIES)]\n"
   ]
  },
  {
   "cell_type": "markdown",
   "metadata": {},
   "source": [
    "## Plotting data "
   ]
  },
  {
   "cell_type": "code",
   "execution_count": 235,
   "metadata": {},
   "outputs": [
    {
     "data": {
      "text/html": [
       "\n",
       "<div id=\"altair-viz-a64982dbdf154ed896bcfa6fd9cf949c\"></div>\n",
       "<script type=\"text/javascript\">\n",
       "  (function(spec, embedOpt){\n",
       "    const outputDiv = document.getElementById(\"altair-viz-a64982dbdf154ed896bcfa6fd9cf949c\");\n",
       "    const paths = {\n",
       "      \"vega\": \"https://cdn.jsdelivr.net/npm//vega@5?noext\",\n",
       "      \"vega-lib\": \"https://cdn.jsdelivr.net/npm//vega-lib?noext\",\n",
       "      \"vega-lite\": \"https://cdn.jsdelivr.net/npm//vega-lite@4.0.2?noext\",\n",
       "      \"vega-embed\": \"https://cdn.jsdelivr.net/npm//vega-embed@6?noext\",\n",
       "    };\n",
       "\n",
       "    function loadScript(lib) {\n",
       "      return new Promise(function(resolve, reject) {\n",
       "        var s = document.createElement('script');\n",
       "        s.src = paths[lib];\n",
       "        s.async = true;\n",
       "        s.onload = () => resolve(paths[lib]);\n",
       "        s.onerror = () => reject(`Error loading script: ${paths[lib]}`);\n",
       "        document.getElementsByTagName(\"head\")[0].appendChild(s);\n",
       "      });\n",
       "    }\n",
       "\n",
       "    function showError(err) {\n",
       "      outputDiv.innerHTML = `<div class=\"error\" style=\"color:red;\">${err}</div>`;\n",
       "      throw err;\n",
       "    }\n",
       "\n",
       "    function displayChart(vegaEmbed) {\n",
       "      vegaEmbed(outputDiv, spec, embedOpt)\n",
       "        .catch(err => showError(`Javascript Error: ${err.message}<br>This usually means there's a typo in your chart specification. See the javascript console for the full traceback.`));\n",
       "    }\n",
       "\n",
       "    if(typeof define === \"function\" && define.amd) {\n",
       "      requirejs.config({paths});\n",
       "      require([\"vega-embed\"], displayChart, err => showError(`Error loading script: ${err.message}`));\n",
       "    } else if (typeof vegaEmbed === \"function\") {\n",
       "      displayChart(vegaEmbed);\n",
       "    } else {\n",
       "      loadScript(\"vega\")\n",
       "        .then(() => loadScript(\"vega-lite\"))\n",
       "        .then(() => loadScript(\"vega-embed\"))\n",
       "        .catch(showError)\n",
       "        .then(() => displayChart(vegaEmbed));\n",
       "    }\n",
       "  })({\"config\": {\"view\": {\"continuousWidth\": 400, \"continuousHeight\": 300}}, \"hconcat\": [{\"data\": {\"name\": \"data-04685bb6409de7faa4c5616e0fed794e\"}, \"mark\": \"bar\", \"encoding\": {\"color\": {\"condition\": {\"type\": \"nominal\", \"field\": \"location\", \"legend\": null, \"title\": \"Country\", \"selection\": \"selector019\"}, \"value\": \"grey\"}, \"tooltip\": [{\"type\": \"nominal\", \"field\": \"location\"}, {\"type\": \"quantitative\", \"field\": \"cases\"}], \"x\": {\"type\": \"quantitative\", \"field\": \"cases\", \"scale\": {\"type\": \"linear\"}, \"title\": \"Confirmed cases\"}, \"y\": {\"type\": \"nominal\", \"field\": \"location\", \"title\": \"Country\"}}, \"selection\": {\"selector019\": {\"type\": \"single\", \"on\": \"mouseover\", \"fields\": [\"location\"], \"nearest\": true}}, \"title\": \"Corona cases by country\", \"width\": 200}, {\"vconcat\": [{\"layer\": [{\"mark\": \"circle\", \"encoding\": {\"color\": {\"type\": \"nominal\", \"field\": \"location\", \"legend\": null, \"title\": \"Country\"}, \"opacity\": {\"value\": 0}, \"tooltip\": [{\"type\": \"nominal\", \"field\": \"location\"}, {\"type\": \"quantitative\", \"field\": \"total_cases\"}, {\"type\": \"temporal\", \"field\": \"date\"}], \"x\": {\"type\": \"quantitative\", \"field\": \"days_after\", \"scale\": {\"domain\": [0, 30], \"type\": \"ordinal\"}, \"title\": \"Days since the 100th confirmed infection\"}, \"y\": {\"type\": \"quantitative\", \"field\": \"total_cases_normalized\", \"scale\": {\"base\": 10, \"type\": \"log\"}, \"title\": \"Total confirmed infections of COVID-19, normalized\"}}, \"selection\": {\"selector019\": {\"type\": \"single\", \"on\": \"mouseover\", \"fields\": [\"location\"], \"nearest\": true}, \"selector020\": {\"type\": \"interval\", \"bind\": \"scales\", \"encodings\": [\"x\"]}}, \"title\": \"Development of Corona infections\", \"width\": 600}, {\"mark\": \"line\", \"encoding\": {\"color\": {\"type\": \"nominal\", \"field\": \"location\", \"legend\": null, \"title\": \"Country\"}, \"size\": {\"condition\": {\"value\": 1, \"selection\": {\"not\": \"selector019\"}}, \"value\": 5}, \"tooltip\": [{\"type\": \"nominal\", \"field\": \"location\"}, {\"type\": \"quantitative\", \"field\": \"total_cases\"}, {\"type\": \"temporal\", \"field\": \"date\"}], \"x\": {\"type\": \"quantitative\", \"field\": \"days_after\", \"scale\": {\"domain\": [0, 30], \"type\": \"ordinal\"}, \"title\": \"Days since the 100th confirmed infection\"}, \"y\": {\"type\": \"quantitative\", \"field\": \"total_cases_normalized\", \"scale\": {\"base\": 10, \"type\": \"log\"}, \"title\": \"Total confirmed infections of COVID-19, normalized\"}}, \"title\": \"Development of Corona infections\"}], \"data\": {\"name\": \"data-80a61c17aacb90b647cc1e1052269354\"}}, {\"layer\": [{\"mark\": \"circle\", \"encoding\": {\"color\": {\"type\": \"nominal\", \"field\": \"location\", \"legend\": null, \"title\": \"Country\"}, \"opacity\": {\"value\": 0}, \"tooltip\": [{\"type\": \"nominal\", \"field\": \"location\"}, {\"type\": \"quantitative\", \"field\": \"total_deaths\"}, {\"type\": \"temporal\", \"field\": \"date\"}], \"x\": {\"type\": \"quantitative\", \"field\": \"days_after\", \"scale\": {\"domain\": [0, 30], \"type\": \"ordinal\"}, \"title\": \"Days since the 10th confirmed death\"}, \"y\": {\"type\": \"quantitative\", \"field\": \"total_deaths_normalized\", \"scale\": {\"base\": 10, \"type\": \"log\"}, \"title\": \"Total confirmed deaths of COVID-19, normalized\"}}, \"selection\": {\"selector019\": {\"type\": \"single\", \"on\": \"mouseover\", \"fields\": [\"location\"], \"nearest\": true}, \"selector021\": {\"type\": \"interval\", \"bind\": \"scales\", \"encodings\": [\"x\"]}}, \"title\": \"Development of Corona deaths\", \"width\": 600}, {\"mark\": \"line\", \"encoding\": {\"color\": {\"type\": \"nominal\", \"field\": \"location\", \"legend\": null, \"title\": \"Country\"}, \"size\": {\"condition\": {\"value\": 1, \"selection\": {\"not\": \"selector019\"}}, \"value\": 5}, \"tooltip\": [{\"type\": \"nominal\", \"field\": \"location\"}, {\"type\": \"quantitative\", \"field\": \"total_deaths\"}, {\"type\": \"temporal\", \"field\": \"date\"}], \"x\": {\"type\": \"quantitative\", \"field\": \"days_after\", \"scale\": {\"domain\": [0, 30], \"type\": \"ordinal\"}, \"title\": \"Days since the 10th confirmed death\"}, \"y\": {\"type\": \"quantitative\", \"field\": \"total_deaths_normalized\", \"scale\": {\"base\": 10, \"type\": \"log\"}, \"title\": \"Total confirmed deaths of COVID-19, normalized\"}}, \"title\": \"Development of Corona deaths\"}], \"data\": {\"name\": \"data-90add0c679489cc4b3ba7350e15530a3\"}}]}], \"$schema\": \"https://vega.github.io/schema/vega-lite/v4.0.2.json\", \"datasets\": {\"data-04685bb6409de7faa4c5616e0fed794e\": [{\"location\": \"Australia\", \"cases\": 3166}, {\"location\": \"Austria\", \"cases\": 7029}, {\"location\": \"Belgium\", \"cases\": 6235}, {\"location\": \"Brazil\", \"cases\": 2915}, {\"location\": \"Canada\", \"cases\": 4018}, {\"location\": \"Chile\", \"cases\": 1306}, {\"location\": \"China\", \"cases\": 82079}, {\"location\": \"Czech Republic\", \"cases\": 2062}, {\"location\": \"Denmark\", \"cases\": 1877}, {\"location\": \"Ecuador\", \"cases\": 1403}, {\"location\": \"France\", \"cases\": 29155}, {\"location\": \"Germany\", \"cases\": 42288}, {\"location\": \"Iran\", \"cases\": 29406}, {\"location\": \"Ireland\", \"cases\": 1819}, {\"location\": \"Israel\", \"cases\": 2666}, {\"location\": \"Italy\", \"cases\": 80539}, {\"location\": \"Japan\", \"cases\": 1364}, {\"location\": \"Luxembourg\", \"cases\": 1453}, {\"location\": \"Malaysia\", \"cases\": 2031}, {\"location\": \"Netherlands\", \"cases\": 7431}, {\"location\": \"Norway\", \"cases\": 3156}, {\"location\": \"Pakistan\", \"cases\": 1197}, {\"location\": \"Poland\", \"cases\": 1221}, {\"location\": \"Portugal\", \"cases\": 3544}, {\"location\": \"Romania\", \"cases\": 1029}, {\"location\": \"South Korea\", \"cases\": 9332}, {\"location\": \"Spain\", \"cases\": 56188}, {\"location\": \"Sweden\", \"cases\": 2806}, {\"location\": \"Switzerland\", \"cases\": 10714}, {\"location\": \"Thailand\", \"cases\": 1136}, {\"location\": \"Turkey\", \"cases\": 3629}, {\"location\": \"United Kingdom\", \"cases\": 11658}, {\"location\": \"United States\", \"cases\": 85991}], \"data-80a61c17aacb90b647cc1e1052269354\": [{\"date\": \"2020-03-10T00:00:00\", \"location\": \"Australia\", \"total_cases\": 100, \"total_deaths\": 3, \"total_cases_normalized\": 100, \"days_after\": 0}, {\"date\": \"2020-03-11T00:00:00\", \"location\": \"Australia\", \"total_cases\": 112, \"total_deaths\": 3, \"total_cases_normalized\": 112, \"days_after\": 1}, {\"date\": \"2020-03-12T00:00:00\", \"location\": \"Australia\", \"total_cases\": 126, \"total_deaths\": 3, \"total_cases_normalized\": 126, \"days_after\": 2}, {\"date\": \"2020-03-13T00:00:00\", \"location\": \"Australia\", \"total_cases\": 156, \"total_deaths\": 3, \"total_cases_normalized\": 156, \"days_after\": 3}, {\"date\": \"2020-03-14T00:00:00\", \"location\": \"Australia\", \"total_cases\": 197, \"total_deaths\": 3, \"total_cases_normalized\": 197, \"days_after\": 4}, {\"date\": \"2020-03-15T00:00:00\", \"location\": \"Australia\", \"total_cases\": 249, \"total_deaths\": 3, \"total_cases_normalized\": 249, \"days_after\": 5}, {\"date\": \"2020-03-16T00:00:00\", \"location\": \"Australia\", \"total_cases\": 298, \"total_deaths\": 5, \"total_cases_normalized\": 298, \"days_after\": 6}, {\"date\": \"2020-03-17T00:00:00\", \"location\": \"Australia\", \"total_cases\": 375, \"total_deaths\": 5, \"total_cases_normalized\": 375, \"days_after\": 7}, {\"date\": \"2020-03-18T00:00:00\", \"location\": \"Australia\", \"total_cases\": 454, \"total_deaths\": 5, \"total_cases_normalized\": 454, \"days_after\": 8}, {\"date\": \"2020-03-19T00:00:00\", \"location\": \"Australia\", \"total_cases\": 565, \"total_deaths\": 6, \"total_cases_normalized\": 565, \"days_after\": 9}, {\"date\": \"2020-03-20T00:00:00\", \"location\": \"Australia\", \"total_cases\": 709, \"total_deaths\": 6, \"total_cases_normalized\": 709, \"days_after\": 10}, {\"date\": \"2020-03-21T00:00:00\", \"location\": \"Australia\", \"total_cases\": 874, \"total_deaths\": 7, \"total_cases_normalized\": 874, \"days_after\": 11}, {\"date\": \"2020-03-22T00:00:00\", \"location\": \"Australia\", \"total_cases\": 1098, \"total_deaths\": 7, \"total_cases_normalized\": 1098, \"days_after\": 12}, {\"date\": \"2020-03-23T00:00:00\", \"location\": \"Australia\", \"total_cases\": 1709, \"total_deaths\": 7, \"total_cases_normalized\": 1709, \"days_after\": 13}, {\"date\": \"2020-03-24T00:00:00\", \"location\": \"Australia\", \"total_cases\": 1823, \"total_deaths\": 7, \"total_cases_normalized\": 1823, \"days_after\": 14}, {\"date\": \"2020-03-25T00:00:00\", \"location\": \"Australia\", \"total_cases\": 2423, \"total_deaths\": 8, \"total_cases_normalized\": 2423, \"days_after\": 15}, {\"date\": \"2020-03-26T00:00:00\", \"location\": \"Australia\", \"total_cases\": 2423, \"total_deaths\": 8, \"total_cases_normalized\": 2423, \"days_after\": 16}, {\"date\": \"2020-03-27T00:00:00\", \"location\": \"Australia\", \"total_cases\": 3166, \"total_deaths\": 13, \"total_cases_normalized\": 3166, \"days_after\": 17}, {\"date\": \"2020-03-09T00:00:00\", \"location\": \"Austria\", \"total_cases\": 102, \"total_deaths\": 0, \"total_cases_normalized\": 100, \"days_after\": 0}, {\"date\": \"2020-03-10T00:00:00\", \"location\": \"Austria\", \"total_cases\": 131, \"total_deaths\": 0, \"total_cases_normalized\": 128, \"days_after\": 1}, {\"date\": \"2020-03-11T00:00:00\", \"location\": \"Austria\", \"total_cases\": 182, \"total_deaths\": 0, \"total_cases_normalized\": 178, \"days_after\": 2}, {\"date\": \"2020-03-12T00:00:00\", \"location\": \"Austria\", \"total_cases\": 246, \"total_deaths\": 0, \"total_cases_normalized\": 241, \"days_after\": 3}, {\"date\": \"2020-03-13T00:00:00\", \"location\": \"Austria\", \"total_cases\": 361, \"total_deaths\": 1, \"total_cases_normalized\": 353, \"days_after\": 4}, {\"date\": \"2020-03-14T00:00:00\", \"location\": \"Austria\", \"total_cases\": 504, \"total_deaths\": 1, \"total_cases_normalized\": 494, \"days_after\": 5}, {\"date\": \"2020-03-15T00:00:00\", \"location\": \"Austria\", \"total_cases\": 655, \"total_deaths\": 1, \"total_cases_normalized\": 642, \"days_after\": 6}, {\"date\": \"2020-03-16T00:00:00\", \"location\": \"Austria\", \"total_cases\": 860, \"total_deaths\": 1, \"total_cases_normalized\": 843, \"days_after\": 7}, {\"date\": \"2020-03-17T00:00:00\", \"location\": \"Austria\", \"total_cases\": 1016, \"total_deaths\": 3, \"total_cases_normalized\": 996, \"days_after\": 8}, {\"date\": \"2020-03-18T00:00:00\", \"location\": \"Austria\", \"total_cases\": 1332, \"total_deaths\": 3, \"total_cases_normalized\": 1305, \"days_after\": 9}, {\"date\": \"2020-03-19T00:00:00\", \"location\": \"Austria\", \"total_cases\": 1646, \"total_deaths\": 4, \"total_cases_normalized\": 1613, \"days_after\": 10}, {\"date\": \"2020-03-20T00:00:00\", \"location\": \"Austria\", \"total_cases\": 2196, \"total_deaths\": 6, \"total_cases_normalized\": 2152, \"days_after\": 11}, {\"date\": \"2020-03-21T00:00:00\", \"location\": \"Austria\", \"total_cases\": 2649, \"total_deaths\": 6, \"total_cases_normalized\": 2597, \"days_after\": 12}, {\"date\": \"2020-03-22T00:00:00\", \"location\": \"Austria\", \"total_cases\": 3024, \"total_deaths\": 8, \"total_cases_normalized\": 2964, \"days_after\": 13}, {\"date\": \"2020-03-23T00:00:00\", \"location\": \"Austria\", \"total_cases\": 3631, \"total_deaths\": 16, \"total_cases_normalized\": 3559, \"days_after\": 14}, {\"date\": \"2020-03-24T00:00:00\", \"location\": \"Austria\", \"total_cases\": 4486, \"total_deaths\": 25, \"total_cases_normalized\": 4398, \"days_after\": 15}, {\"date\": \"2020-03-25T00:00:00\", \"location\": \"Austria\", \"total_cases\": 5282, \"total_deaths\": 30, \"total_cases_normalized\": 5178, \"days_after\": 16}, {\"date\": \"2020-03-26T00:00:00\", \"location\": \"Austria\", \"total_cases\": 5888, \"total_deaths\": 34, \"total_cases_normalized\": 5772, \"days_after\": 17}, {\"date\": \"2020-03-27T00:00:00\", \"location\": \"Austria\", \"total_cases\": 7029, \"total_deaths\": 49, \"total_cases_normalized\": 6891, \"days_after\": 18}, {\"date\": \"2020-03-07T00:00:00\", \"location\": \"Belgium\", \"total_cases\": 109, \"total_deaths\": 0, \"total_cases_normalized\": 100, \"days_after\": 0}, {\"date\": \"2020-03-08T00:00:00\", \"location\": \"Belgium\", \"total_cases\": 169, \"total_deaths\": 0, \"total_cases_normalized\": 155, \"days_after\": 1}, {\"date\": \"2020-03-09T00:00:00\", \"location\": \"Belgium\", \"total_cases\": 200, \"total_deaths\": 0, \"total_cases_normalized\": 183, \"days_after\": 2}, {\"date\": \"2020-03-10T00:00:00\", \"location\": \"Belgium\", \"total_cases\": 239, \"total_deaths\": 0, \"total_cases_normalized\": 219, \"days_after\": 3}, {\"date\": \"2020-03-11T00:00:00\", \"location\": \"Belgium\", \"total_cases\": 267, \"total_deaths\": 0, \"total_cases_normalized\": 244, \"days_after\": 4}, {\"date\": \"2020-03-12T00:00:00\", \"location\": \"Belgium\", \"total_cases\": 314, \"total_deaths\": 3, \"total_cases_normalized\": 288, \"days_after\": 5}, {\"date\": \"2020-03-13T00:00:00\", \"location\": \"Belgium\", \"total_cases\": 399, \"total_deaths\": 3, \"total_cases_normalized\": 366, \"days_after\": 6}, {\"date\": \"2020-03-14T00:00:00\", \"location\": \"Belgium\", \"total_cases\": 559, \"total_deaths\": 3, \"total_cases_normalized\": 512, \"days_after\": 7}, {\"date\": \"2020-03-15T00:00:00\", \"location\": \"Belgium\", \"total_cases\": 689, \"total_deaths\": 4, \"total_cases_normalized\": 632, \"days_after\": 8}, {\"date\": \"2020-03-16T00:00:00\", \"location\": \"Belgium\", \"total_cases\": 886, \"total_deaths\": 4, \"total_cases_normalized\": 812, \"days_after\": 9}, {\"date\": \"2020-03-17T00:00:00\", \"location\": \"Belgium\", \"total_cases\": 1085, \"total_deaths\": 5, \"total_cases_normalized\": 995, \"days_after\": 10}, {\"date\": \"2020-03-18T00:00:00\", \"location\": \"Belgium\", \"total_cases\": 1243, \"total_deaths\": 5, \"total_cases_normalized\": 1140, \"days_after\": 11}, {\"date\": \"2020-03-19T00:00:00\", \"location\": \"Belgium\", \"total_cases\": 1486, \"total_deaths\": 14, \"total_cases_normalized\": 1363, \"days_after\": 12}, {\"date\": \"2020-03-20T00:00:00\", \"location\": \"Belgium\", \"total_cases\": 1795, \"total_deaths\": 21, \"total_cases_normalized\": 1646, \"days_after\": 13}, {\"date\": \"2020-03-21T00:00:00\", \"location\": \"Belgium\", \"total_cases\": 2257, \"total_deaths\": 37, \"total_cases_normalized\": 2070, \"days_after\": 14}, {\"date\": \"2020-03-22T00:00:00\", \"location\": \"Belgium\", \"total_cases\": 2815, \"total_deaths\": 67, \"total_cases_normalized\": 2582, \"days_after\": 15}, {\"date\": \"2020-03-23T00:00:00\", \"location\": \"Belgium\", \"total_cases\": 3401, \"total_deaths\": 75, \"total_cases_normalized\": 3120, \"days_after\": 16}, {\"date\": \"2020-03-24T00:00:00\", \"location\": \"Belgium\", \"total_cases\": 3743, \"total_deaths\": 88, \"total_cases_normalized\": 3433, \"days_after\": 17}, {\"date\": \"2020-03-25T00:00:00\", \"location\": \"Belgium\", \"total_cases\": 4269, \"total_deaths\": 122, \"total_cases_normalized\": 3916, \"days_after\": 18}, {\"date\": \"2020-03-26T00:00:00\", \"location\": \"Belgium\", \"total_cases\": 4937, \"total_deaths\": 178, \"total_cases_normalized\": 4529, \"days_after\": 19}, {\"date\": \"2020-03-27T00:00:00\", \"location\": \"Belgium\", \"total_cases\": 6235, \"total_deaths\": 220, \"total_cases_normalized\": 5720, \"days_after\": 20}, {\"date\": \"2020-03-15T00:00:00\", \"location\": \"Brazil\", \"total_cases\": 121, \"total_deaths\": 0, \"total_cases_normalized\": 100, \"days_after\": 0}, {\"date\": \"2020-03-16T00:00:00\", \"location\": \"Brazil\", \"total_cases\": 200, \"total_deaths\": 0, \"total_cases_normalized\": 165, \"days_after\": 1}, {\"date\": \"2020-03-17T00:00:00\", \"location\": \"Brazil\", \"total_cases\": 234, \"total_deaths\": 0, \"total_cases_normalized\": 193, \"days_after\": 2}, {\"date\": \"2020-03-18T00:00:00\", \"location\": \"Brazil\", \"total_cases\": 291, \"total_deaths\": 1, \"total_cases_normalized\": 240, \"days_after\": 3}, {\"date\": \"2020-03-19T00:00:00\", \"location\": \"Brazil\", \"total_cases\": 428, \"total_deaths\": 4, \"total_cases_normalized\": 353, \"days_after\": 4}, {\"date\": \"2020-03-20T00:00:00\", \"location\": \"Brazil\", \"total_cases\": 621, \"total_deaths\": 6, \"total_cases_normalized\": 513, \"days_after\": 5}, {\"date\": \"2020-03-21T00:00:00\", \"location\": \"Brazil\", \"total_cases\": 904, \"total_deaths\": 11, \"total_cases_normalized\": 747, \"days_after\": 6}, {\"date\": \"2020-03-22T00:00:00\", \"location\": \"Brazil\", \"total_cases\": 1128, \"total_deaths\": 18, \"total_cases_normalized\": 932, \"days_after\": 7}, {\"date\": \"2020-03-23T00:00:00\", \"location\": \"Brazil\", \"total_cases\": 1546, \"total_deaths\": 25, \"total_cases_normalized\": 1277, \"days_after\": 8}, {\"date\": \"2020-03-24T00:00:00\", \"location\": \"Brazil\", \"total_cases\": 1891, \"total_deaths\": 34, \"total_cases_normalized\": 1562, \"days_after\": 9}, {\"date\": \"2020-03-25T00:00:00\", \"location\": \"Brazil\", \"total_cases\": 2201, \"total_deaths\": 46, \"total_cases_normalized\": 1819, \"days_after\": 10}, {\"date\": \"2020-03-26T00:00:00\", \"location\": \"Brazil\", \"total_cases\": 2433, \"total_deaths\": 57, \"total_cases_normalized\": 2010, \"days_after\": 11}, {\"date\": \"2020-03-27T00:00:00\", \"location\": \"Brazil\", \"total_cases\": 2915, \"total_deaths\": 77, \"total_cases_normalized\": 2409, \"days_after\": 12}, {\"date\": \"2020-03-12T00:00:00\", \"location\": \"Canada\", \"total_cases\": 103, \"total_deaths\": 1, \"total_cases_normalized\": 100, \"days_after\": 0}, {\"date\": \"2020-03-13T00:00:00\", \"location\": \"Canada\", \"total_cases\": 138, \"total_deaths\": 1, \"total_cases_normalized\": 133, \"days_after\": 1}, {\"date\": \"2020-03-14T00:00:00\", \"location\": \"Canada\", \"total_cases\": 176, \"total_deaths\": 1, \"total_cases_normalized\": 170, \"days_after\": 2}, {\"date\": \"2020-03-15T00:00:00\", \"location\": \"Canada\", \"total_cases\": 244, \"total_deaths\": 1, \"total_cases_normalized\": 236, \"days_after\": 3}, {\"date\": \"2020-03-16T00:00:00\", \"location\": \"Canada\", \"total_cases\": 304, \"total_deaths\": 1, \"total_cases_normalized\": 295, \"days_after\": 4}, {\"date\": \"2020-03-17T00:00:00\", \"location\": \"Canada\", \"total_cases\": 424, \"total_deaths\": 4, \"total_cases_normalized\": 411, \"days_after\": 5}, {\"date\": \"2020-03-18T00:00:00\", \"location\": \"Canada\", \"total_cases\": 569, \"total_deaths\": 8, \"total_cases_normalized\": 552, \"days_after\": 6}, {\"date\": \"2020-03-19T00:00:00\", \"location\": \"Canada\", \"total_cases\": 690, \"total_deaths\": 9, \"total_cases_normalized\": 669, \"days_after\": 7}, {\"date\": \"2020-03-20T00:00:00\", \"location\": \"Canada\", \"total_cases\": 846, \"total_deaths\": 10, \"total_cases_normalized\": 821, \"days_after\": 8}, {\"date\": \"2020-03-21T00:00:00\", \"location\": \"Canada\", \"total_cases\": 971, \"total_deaths\": 12, \"total_cases_normalized\": 942, \"days_after\": 9}, {\"date\": \"2020-03-22T00:00:00\", \"location\": \"Canada\", \"total_cases\": 1231, \"total_deaths\": 13, \"total_cases_normalized\": 1195, \"days_after\": 10}, {\"date\": \"2020-03-23T00:00:00\", \"location\": \"Canada\", \"total_cases\": 1430, \"total_deaths\": 18, \"total_cases_normalized\": 1388, \"days_after\": 11}, {\"date\": \"2020-03-24T00:00:00\", \"location\": \"Canada\", \"total_cases\": 1646, \"total_deaths\": 24, \"total_cases_normalized\": 1598, \"days_after\": 12}, {\"date\": \"2020-03-25T00:00:00\", \"location\": \"Canada\", \"total_cases\": 1959, \"total_deaths\": 27, \"total_cases_normalized\": 1901, \"days_after\": 13}, {\"date\": \"2020-03-26T00:00:00\", \"location\": \"Canada\", \"total_cases\": 3385, \"total_deaths\": 35, \"total_cases_normalized\": 3286, \"days_after\": 14}, {\"date\": \"2020-03-27T00:00:00\", \"location\": \"Canada\", \"total_cases\": 4018, \"total_deaths\": 39, \"total_cases_normalized\": 3900, \"days_after\": 15}, {\"date\": \"2020-03-17T00:00:00\", \"location\": \"Chile\", \"total_cases\": 156, \"total_deaths\": 0, \"total_cases_normalized\": 100, \"days_after\": 0}, {\"date\": \"2020-03-18T00:00:00\", \"location\": \"Chile\", \"total_cases\": 201, \"total_deaths\": 0, \"total_cases_normalized\": 128, \"days_after\": 1}, {\"date\": \"2020-03-19T00:00:00\", \"location\": \"Chile\", \"total_cases\": 238, \"total_deaths\": 0, \"total_cases_normalized\": 152, \"days_after\": 2}, {\"date\": \"2020-03-20T00:00:00\", \"location\": \"Chile\", \"total_cases\": 342, \"total_deaths\": 0, \"total_cases_normalized\": 219, \"days_after\": 3}, {\"date\": \"2020-03-21T00:00:00\", \"location\": \"Chile\", \"total_cases\": 434, \"total_deaths\": 0, \"total_cases_normalized\": 278, \"days_after\": 4}, {\"date\": \"2020-03-22T00:00:00\", \"location\": \"Chile\", \"total_cases\": 537, \"total_deaths\": 0, \"total_cases_normalized\": 344, \"days_after\": 5}, {\"date\": \"2020-03-23T00:00:00\", \"location\": \"Chile\", \"total_cases\": 632, \"total_deaths\": 1, \"total_cases_normalized\": 405, \"days_after\": 6}, {\"date\": \"2020-03-24T00:00:00\", \"location\": \"Chile\", \"total_cases\": 746, \"total_deaths\": 2, \"total_cases_normalized\": 478, \"days_after\": 7}, {\"date\": \"2020-03-25T00:00:00\", \"location\": \"Chile\", \"total_cases\": 922, \"total_deaths\": 2, \"total_cases_normalized\": 591, \"days_after\": 8}, {\"date\": \"2020-03-26T00:00:00\", \"location\": \"Chile\", \"total_cases\": 1142, \"total_deaths\": 3, \"total_cases_normalized\": 732, \"days_after\": 9}, {\"date\": \"2020-03-27T00:00:00\", \"location\": \"Chile\", \"total_cases\": 1306, \"total_deaths\": 4, \"total_cases_normalized\": 837, \"days_after\": 10}, {\"date\": \"2020-01-19T00:00:00\", \"location\": \"China\", \"total_cases\": 216, \"total_deaths\": 3, \"total_cases_normalized\": 100, \"days_after\": 0}, {\"date\": \"2020-01-20T00:00:00\", \"location\": \"China\", \"total_cases\": 235, \"total_deaths\": 3, \"total_cases_normalized\": 108, \"days_after\": 1}, {\"date\": \"2020-01-21T00:00:00\", \"location\": \"China\", \"total_cases\": 386, \"total_deaths\": 6, \"total_cases_normalized\": 178, \"days_after\": 2}, {\"date\": \"2020-01-22T00:00:00\", \"location\": \"China\", \"total_cases\": 526, \"total_deaths\": 17, \"total_cases_normalized\": 243, \"days_after\": 3}, {\"date\": \"2020-01-23T00:00:00\", \"location\": \"China\", \"total_cases\": 623, \"total_deaths\": 17, \"total_cases_normalized\": 288, \"days_after\": 4}, {\"date\": \"2020-01-24T00:00:00\", \"location\": \"China\", \"total_cases\": 882, \"total_deaths\": 26, \"total_cases_normalized\": 408, \"days_after\": 5}, {\"date\": \"2020-01-25T00:00:00\", \"location\": \"China\", \"total_cases\": 1323, \"total_deaths\": 41, \"total_cases_normalized\": 612, \"days_after\": 6}, {\"date\": \"2020-01-26T00:00:00\", \"location\": \"China\", \"total_cases\": 1988, \"total_deaths\": 56, \"total_cases_normalized\": 920, \"days_after\": 7}, {\"date\": \"2020-01-27T00:00:00\", \"location\": \"China\", \"total_cases\": 2775, \"total_deaths\": 81, \"total_cases_normalized\": 1284, \"days_after\": 8}, {\"date\": \"2020-01-28T00:00:00\", \"location\": \"China\", \"total_cases\": 4528, \"total_deaths\": 106, \"total_cases_normalized\": 2096, \"days_after\": 9}, {\"date\": \"2020-01-29T00:00:00\", \"location\": \"China\", \"total_cases\": 5994, \"total_deaths\": 132, \"total_cases_normalized\": 2775, \"days_after\": 10}, {\"date\": \"2020-01-30T00:00:00\", \"location\": \"China\", \"total_cases\": 7734, \"total_deaths\": 170, \"total_cases_normalized\": 3580, \"days_after\": 11}, {\"date\": \"2020-01-31T00:00:00\", \"location\": \"China\", \"total_cases\": 9714, \"total_deaths\": 213, \"total_cases_normalized\": 4497, \"days_after\": 12}, {\"date\": \"2020-02-01T00:00:00\", \"location\": \"China\", \"total_cases\": 11809, \"total_deaths\": 259, \"total_cases_normalized\": 5467, \"days_after\": 13}, {\"date\": \"2020-02-02T00:00:00\", \"location\": \"China\", \"total_cases\": 14399, \"total_deaths\": 304, \"total_cases_normalized\": 6666, \"days_after\": 14}, {\"date\": \"2020-02-03T00:00:00\", \"location\": \"China\", \"total_cases\": 17211, \"total_deaths\": 361, \"total_cases_normalized\": 7968, \"days_after\": 15}, {\"date\": \"2020-02-04T00:00:00\", \"location\": \"China\", \"total_cases\": 20448, \"total_deaths\": 426, \"total_cases_normalized\": 9466, \"days_after\": 16}, {\"date\": \"2020-02-05T00:00:00\", \"location\": \"China\", \"total_cases\": 24320, \"total_deaths\": 492, \"total_cases_normalized\": 11259, \"days_after\": 17}, {\"date\": \"2020-02-06T00:00:00\", \"location\": \"China\", \"total_cases\": 28047, \"total_deaths\": 564, \"total_cases_normalized\": 12984, \"days_after\": 18}, {\"date\": \"2020-02-07T00:00:00\", \"location\": \"China\", \"total_cases\": 31207, \"total_deaths\": 637, \"total_cases_normalized\": 14447, \"days_after\": 19}, {\"date\": \"2020-02-08T00:00:00\", \"location\": \"China\", \"total_cases\": 34625, \"total_deaths\": 723, \"total_cases_normalized\": 16030, \"days_after\": 20}, {\"date\": \"2020-02-09T00:00:00\", \"location\": \"China\", \"total_cases\": 37232, \"total_deaths\": 812, \"total_cases_normalized\": 17237, \"days_after\": 21}, {\"date\": \"2020-02-10T00:00:00\", \"location\": \"China\", \"total_cases\": 40206, \"total_deaths\": 909, \"total_cases_normalized\": 18613, \"days_after\": 22}, {\"date\": \"2020-02-11T00:00:00\", \"location\": \"China\", \"total_cases\": 42696, \"total_deaths\": 1017, \"total_cases_normalized\": 19766, \"days_after\": 23}, {\"date\": \"2020-02-12T00:00:00\", \"location\": \"China\", \"total_cases\": 44724, \"total_deaths\": 1114, \"total_cases_normalized\": 20705, \"days_after\": 24}, {\"date\": \"2020-02-13T00:00:00\", \"location\": \"China\", \"total_cases\": 59865, \"total_deaths\": 1368, \"total_cases_normalized\": 27715, \"days_after\": 25}, {\"date\": \"2020-02-14T00:00:00\", \"location\": \"China\", \"total_cases\": 64021, \"total_deaths\": 1381, \"total_cases_normalized\": 29639, \"days_after\": 26}, {\"date\": \"2020-02-15T00:00:00\", \"location\": \"China\", \"total_cases\": 66559, \"total_deaths\": 1524, \"total_cases_normalized\": 30814, \"days_after\": 27}, {\"date\": \"2020-02-16T00:00:00\", \"location\": \"China\", \"total_cases\": 68566, \"total_deaths\": 1666, \"total_cases_normalized\": 31743, \"days_after\": 28}, {\"date\": \"2020-02-17T00:00:00\", \"location\": \"China\", \"total_cases\": 70618, \"total_deaths\": 1771, \"total_cases_normalized\": 32693, \"days_after\": 29}, {\"date\": \"2020-02-18T00:00:00\", \"location\": \"China\", \"total_cases\": 72508, \"total_deaths\": 1869, \"total_cases_normalized\": 33568, \"days_after\": 30}, {\"date\": \"2020-02-19T00:00:00\", \"location\": \"China\", \"total_cases\": 74258, \"total_deaths\": 2008, \"total_cases_normalized\": 34378, \"days_after\": 31}, {\"date\": \"2020-02-20T00:00:00\", \"location\": \"China\", \"total_cases\": 74652, \"total_deaths\": 2120, \"total_cases_normalized\": 34561, \"days_after\": 32}, {\"date\": \"2020-02-21T00:00:00\", \"location\": \"China\", \"total_cases\": 75543, \"total_deaths\": 2238, \"total_cases_normalized\": 34973, \"days_after\": 33}, {\"date\": \"2020-02-22T00:00:00\", \"location\": \"China\", \"total_cases\": 76369, \"total_deaths\": 2347, \"total_cases_normalized\": 35356, \"days_after\": 34}, {\"date\": \"2020-02-23T00:00:00\", \"location\": \"China\", \"total_cases\": 77016, \"total_deaths\": 2445, \"total_cases_normalized\": 35655, \"days_after\": 35}, {\"date\": \"2020-02-24T00:00:00\", \"location\": \"China\", \"total_cases\": 77234, \"total_deaths\": 2595, \"total_cases_normalized\": 35756, \"days_after\": 36}, {\"date\": \"2020-02-25T00:00:00\", \"location\": \"China\", \"total_cases\": 77749, \"total_deaths\": 2665, \"total_cases_normalized\": 35994, \"days_after\": 37}, {\"date\": \"2020-02-26T00:00:00\", \"location\": \"China\", \"total_cases\": 78159, \"total_deaths\": 2717, \"total_cases_normalized\": 36184, \"days_after\": 38}, {\"date\": \"2020-02-27T00:00:00\", \"location\": \"China\", \"total_cases\": 78598, \"total_deaths\": 2746, \"total_cases_normalized\": 36387, \"days_after\": 39}, {\"date\": \"2020-02-28T00:00:00\", \"location\": \"China\", \"total_cases\": 78927, \"total_deaths\": 2790, \"total_cases_normalized\": 36540, \"days_after\": 40}, {\"date\": \"2020-02-29T00:00:00\", \"location\": \"China\", \"total_cases\": 79355, \"total_deaths\": 2837, \"total_cases_normalized\": 36738, \"days_after\": 41}, {\"date\": \"2020-03-01T00:00:00\", \"location\": \"China\", \"total_cases\": 79929, \"total_deaths\": 2872, \"total_cases_normalized\": 37004, \"days_after\": 42}, {\"date\": \"2020-03-02T00:00:00\", \"location\": \"China\", \"total_cases\": 80134, \"total_deaths\": 2914, \"total_cases_normalized\": 37099, \"days_after\": 43}, {\"date\": \"2020-03-03T00:00:00\", \"location\": \"China\", \"total_cases\": 80261, \"total_deaths\": 2946, \"total_cases_normalized\": 37157, \"days_after\": 44}, {\"date\": \"2020-03-04T00:00:00\", \"location\": \"China\", \"total_cases\": 80380, \"total_deaths\": 2983, \"total_cases_normalized\": 37212, \"days_after\": 45}, {\"date\": \"2020-03-05T00:00:00\", \"location\": \"China\", \"total_cases\": 80497, \"total_deaths\": 3014, \"total_cases_normalized\": 37267, \"days_after\": 46}, {\"date\": \"2020-03-06T00:00:00\", \"location\": \"China\", \"total_cases\": 80667, \"total_deaths\": 3044, \"total_cases_normalized\": 37345, \"days_after\": 47}, {\"date\": \"2020-03-07T00:00:00\", \"location\": \"China\", \"total_cases\": 80768, \"total_deaths\": 3072, \"total_cases_normalized\": 37392, \"days_after\": 48}, {\"date\": \"2020-03-08T00:00:00\", \"location\": \"China\", \"total_cases\": 80814, \"total_deaths\": 3099, \"total_cases_normalized\": 37413, \"days_after\": 49}, {\"date\": \"2020-03-09T00:00:00\", \"location\": \"China\", \"total_cases\": 80859, \"total_deaths\": 3122, \"total_cases_normalized\": 37434, \"days_after\": 50}, {\"date\": \"2020-03-10T00:00:00\", \"location\": \"China\", \"total_cases\": 80879, \"total_deaths\": 3139, \"total_cases_normalized\": 37443, \"days_after\": 51}, {\"date\": \"2020-03-11T00:00:00\", \"location\": \"China\", \"total_cases\": 80908, \"total_deaths\": 3161, \"total_cases_normalized\": 37457, \"days_after\": 52}, {\"date\": \"2020-03-12T00:00:00\", \"location\": \"China\", \"total_cases\": 80932, \"total_deaths\": 3172, \"total_cases_normalized\": 37468, \"days_after\": 53}, {\"date\": \"2020-03-13T00:00:00\", \"location\": \"China\", \"total_cases\": 80954, \"total_deaths\": 3179, \"total_cases_normalized\": 37478, \"days_after\": 54}, {\"date\": \"2020-03-14T00:00:00\", \"location\": \"China\", \"total_cases\": 80973, \"total_deaths\": 3194, \"total_cases_normalized\": 37487, \"days_after\": 55}, {\"date\": \"2020-03-15T00:00:00\", \"location\": \"China\", \"total_cases\": 80995, \"total_deaths\": 3203, \"total_cases_normalized\": 37497, \"days_after\": 56}, {\"date\": \"2020-03-16T00:00:00\", \"location\": \"China\", \"total_cases\": 81020, \"total_deaths\": 3217, \"total_cases_normalized\": 37509, \"days_after\": 57}, {\"date\": \"2020-03-17T00:00:00\", \"location\": \"China\", \"total_cases\": 81130, \"total_deaths\": 3226, \"total_cases_normalized\": 37560, \"days_after\": 58}, {\"date\": \"2020-03-18T00:00:00\", \"location\": \"China\", \"total_cases\": 81163, \"total_deaths\": 3242, \"total_cases_normalized\": 37575, \"days_after\": 59}, {\"date\": \"2020-03-19T00:00:00\", \"location\": \"China\", \"total_cases\": 81238, \"total_deaths\": 3250, \"total_cases_normalized\": 37610, \"days_after\": 60}, {\"date\": \"2020-03-20T00:00:00\", \"location\": \"China\", \"total_cases\": 81337, \"total_deaths\": 3254, \"total_cases_normalized\": 37656, \"days_after\": 61}, {\"date\": \"2020-03-21T00:00:00\", \"location\": \"China\", \"total_cases\": 81416, \"total_deaths\": 3261, \"total_cases_normalized\": 37692, \"days_after\": 62}, {\"date\": \"2020-03-22T00:00:00\", \"location\": \"China\", \"total_cases\": 81499, \"total_deaths\": 3267, \"total_cases_normalized\": 37731, \"days_after\": 63}, {\"date\": \"2020-03-23T00:00:00\", \"location\": \"China\", \"total_cases\": 81649, \"total_deaths\": 3276, \"total_cases_normalized\": 37800, \"days_after\": 64}, {\"date\": \"2020-03-24T00:00:00\", \"location\": \"China\", \"total_cases\": 81748, \"total_deaths\": 3283, \"total_cases_normalized\": 37846, \"days_after\": 65}, {\"date\": \"2020-03-25T00:00:00\", \"location\": \"China\", \"total_cases\": 81847, \"total_deaths\": 3287, \"total_cases_normalized\": 37892, \"days_after\": 66}, {\"date\": \"2020-03-26T00:00:00\", \"location\": \"China\", \"total_cases\": 81968, \"total_deaths\": 3293, \"total_cases_normalized\": 37948, \"days_after\": 67}, {\"date\": \"2020-03-27T00:00:00\", \"location\": \"China\", \"total_cases\": 82079, \"total_deaths\": 3298, \"total_cases_normalized\": 37999, \"days_after\": 68}, {\"date\": \"2020-03-13T00:00:00\", \"location\": \"Czech Republic\", \"total_cases\": 116, \"total_deaths\": 0, \"total_cases_normalized\": 100, \"days_after\": 0}, {\"date\": \"2020-03-14T00:00:00\", \"location\": \"Czech Republic\", \"total_cases\": 150, \"total_deaths\": 0, \"total_cases_normalized\": 129, \"days_after\": 1}, {\"date\": \"2020-03-15T00:00:00\", \"location\": \"Czech Republic\", \"total_cases\": 214, \"total_deaths\": 0, \"total_cases_normalized\": 184, \"days_after\": 2}, {\"date\": \"2020-03-16T00:00:00\", \"location\": \"Czech Republic\", \"total_cases\": 298, \"total_deaths\": 0, \"total_cases_normalized\": 256, \"days_after\": 3}, {\"date\": \"2020-03-17T00:00:00\", \"location\": \"Czech Republic\", \"total_cases\": 344, \"total_deaths\": 0, \"total_cases_normalized\": 296, \"days_after\": 4}, {\"date\": \"2020-03-18T00:00:00\", \"location\": \"Czech Republic\", \"total_cases\": 434, \"total_deaths\": 0, \"total_cases_normalized\": 374, \"days_after\": 5}, {\"date\": \"2020-03-19T00:00:00\", \"location\": \"Czech Republic\", \"total_cases\": 522, \"total_deaths\": 0, \"total_cases_normalized\": 450, \"days_after\": 6}, {\"date\": \"2020-03-20T00:00:00\", \"location\": \"Czech Republic\", \"total_cases\": 694, \"total_deaths\": 0, \"total_cases_normalized\": 598, \"days_after\": 7}, {\"date\": \"2020-03-21T00:00:00\", \"location\": \"Czech Republic\", \"total_cases\": 904, \"total_deaths\": 0, \"total_cases_normalized\": 779, \"days_after\": 8}, {\"date\": \"2020-03-22T00:00:00\", \"location\": \"Czech Republic\", \"total_cases\": 995, \"total_deaths\": 0, \"total_cases_normalized\": 857, \"days_after\": 9}, {\"date\": \"2020-03-23T00:00:00\", \"location\": \"Czech Republic\", \"total_cases\": 1165, \"total_deaths\": 1, \"total_cases_normalized\": 1004, \"days_after\": 10}, {\"date\": \"2020-03-24T00:00:00\", \"location\": \"Czech Republic\", \"total_cases\": 1236, \"total_deaths\": 1, \"total_cases_normalized\": 1065, \"days_after\": 11}, {\"date\": \"2020-03-25T00:00:00\", \"location\": \"Czech Republic\", \"total_cases\": 1394, \"total_deaths\": 3, \"total_cases_normalized\": 1201, \"days_after\": 12}, {\"date\": \"2020-03-26T00:00:00\", \"location\": \"Czech Republic\", \"total_cases\": 1654, \"total_deaths\": 6, \"total_cases_normalized\": 1425, \"days_after\": 13}, {\"date\": \"2020-03-27T00:00:00\", \"location\": \"Czech Republic\", \"total_cases\": 2062, \"total_deaths\": 9, \"total_cases_normalized\": 1777, \"days_after\": 14}, {\"date\": \"2020-03-10T00:00:00\", \"location\": \"Denmark\", \"total_cases\": 113, \"total_deaths\": 0, \"total_cases_normalized\": 100, \"days_after\": 0}, {\"date\": \"2020-03-11T00:00:00\", \"location\": \"Denmark\", \"total_cases\": 264, \"total_deaths\": 0, \"total_cases_normalized\": 233, \"days_after\": 1}, {\"date\": \"2020-03-12T00:00:00\", \"location\": \"Denmark\", \"total_cases\": 516, \"total_deaths\": 0, \"total_cases_normalized\": 456, \"days_after\": 2}, {\"date\": \"2020-03-13T00:00:00\", \"location\": \"Denmark\", \"total_cases\": 676, \"total_deaths\": 0, \"total_cases_normalized\": 598, \"days_after\": 3}, {\"date\": \"2020-03-14T00:00:00\", \"location\": \"Denmark\", \"total_cases\": 804, \"total_deaths\": 0, \"total_cases_normalized\": 711, \"days_after\": 4}, {\"date\": \"2020-03-15T00:00:00\", \"location\": \"Denmark\", \"total_cases\": 827, \"total_deaths\": 0, \"total_cases_normalized\": 731, \"days_after\": 5}, {\"date\": \"2020-03-16T00:00:00\", \"location\": \"Denmark\", \"total_cases\": 875, \"total_deaths\": 1, \"total_cases_normalized\": 774, \"days_after\": 6}, {\"date\": \"2020-03-17T00:00:00\", \"location\": \"Denmark\", \"total_cases\": 932, \"total_deaths\": 1, \"total_cases_normalized\": 824, \"days_after\": 7}, {\"date\": \"2020-03-18T00:00:00\", \"location\": \"Denmark\", \"total_cases\": 1024, \"total_deaths\": 4, \"total_cases_normalized\": 906, \"days_after\": 8}, {\"date\": \"2020-03-19T00:00:00\", \"location\": \"Denmark\", \"total_cases\": 1115, \"total_deaths\": 4, \"total_cases_normalized\": 986, \"days_after\": 9}, {\"date\": \"2020-03-20T00:00:00\", \"location\": \"Denmark\", \"total_cases\": 1151, \"total_deaths\": 6, \"total_cases_normalized\": 1018, \"days_after\": 10}, {\"date\": \"2020-03-21T00:00:00\", \"location\": \"Denmark\", \"total_cases\": 1255, \"total_deaths\": 9, \"total_cases_normalized\": 1110, \"days_after\": 11}, {\"date\": \"2020-03-22T00:00:00\", \"location\": \"Denmark\", \"total_cases\": 1326, \"total_deaths\": 13, \"total_cases_normalized\": 1173, \"days_after\": 12}, {\"date\": \"2020-03-23T00:00:00\", \"location\": \"Denmark\", \"total_cases\": 1395, \"total_deaths\": 13, \"total_cases_normalized\": 1234, \"days_after\": 13}, {\"date\": \"2020-03-24T00:00:00\", \"location\": \"Denmark\", \"total_cases\": 1460, \"total_deaths\": 24, \"total_cases_normalized\": 1292, \"days_after\": 14}, {\"date\": \"2020-03-25T00:00:00\", \"location\": \"Denmark\", \"total_cases\": 1591, \"total_deaths\": 32, \"total_cases_normalized\": 1407, \"days_after\": 15}, {\"date\": \"2020-03-26T00:00:00\", \"location\": \"Denmark\", \"total_cases\": 1724, \"total_deaths\": 34, \"total_cases_normalized\": 1525, \"days_after\": 16}, {\"date\": \"2020-03-27T00:00:00\", \"location\": \"Denmark\", \"total_cases\": 1877, \"total_deaths\": 41, \"total_cases_normalized\": 1661, \"days_after\": 17}, {\"date\": \"2020-03-18T00:00:00\", \"location\": \"Ecuador\", \"total_cases\": 111, \"total_deaths\": 2, \"total_cases_normalized\": 100, \"days_after\": 0}, {\"date\": \"2020-03-19T00:00:00\", \"location\": \"Ecuador\", \"total_cases\": 168, \"total_deaths\": 3, \"total_cases_normalized\": 151, \"days_after\": 1}, {\"date\": \"2020-03-20T00:00:00\", \"location\": \"Ecuador\", \"total_cases\": 199, \"total_deaths\": 3, \"total_cases_normalized\": 179, \"days_after\": 2}, {\"date\": \"2020-03-21T00:00:00\", \"location\": \"Ecuador\", \"total_cases\": 426, \"total_deaths\": 7, \"total_cases_normalized\": 383, \"days_after\": 3}, {\"date\": \"2020-03-22T00:00:00\", \"location\": \"Ecuador\", \"total_cases\": 532, \"total_deaths\": 7, \"total_cases_normalized\": 479, \"days_after\": 4}, {\"date\": \"2020-03-23T00:00:00\", \"location\": \"Ecuador\", \"total_cases\": 789, \"total_deaths\": 14, \"total_cases_normalized\": 710, \"days_after\": 5}, {\"date\": \"2020-03-24T00:00:00\", \"location\": \"Ecuador\", \"total_cases\": 981, \"total_deaths\": 18, \"total_cases_normalized\": 883, \"days_after\": 6}, {\"date\": \"2020-03-25T00:00:00\", \"location\": \"Ecuador\", \"total_cases\": 1082, \"total_deaths\": 27, \"total_cases_normalized\": 974, \"days_after\": 7}, {\"date\": \"2020-03-26T00:00:00\", \"location\": \"Ecuador\", \"total_cases\": 1211, \"total_deaths\": 29, \"total_cases_normalized\": 1090, \"days_after\": 8}, {\"date\": \"2020-03-27T00:00:00\", \"location\": \"Ecuador\", \"total_cases\": 1403, \"total_deaths\": 34, \"total_cases_normalized\": 1263, \"days_after\": 9}, {\"date\": \"2020-03-01T00:00:00\", \"location\": \"France\", \"total_cases\": 100, \"total_deaths\": 2, \"total_cases_normalized\": 100, \"days_after\": 0}, {\"date\": \"2020-03-02T00:00:00\", \"location\": \"France\", \"total_cases\": 130, \"total_deaths\": 2, \"total_cases_normalized\": 130, \"days_after\": 1}, {\"date\": \"2020-03-03T00:00:00\", \"location\": \"France\", \"total_cases\": 178, \"total_deaths\": 3, \"total_cases_normalized\": 178, \"days_after\": 2}, {\"date\": \"2020-03-04T00:00:00\", \"location\": \"France\", \"total_cases\": 212, \"total_deaths\": 4, \"total_cases_normalized\": 212, \"days_after\": 3}, {\"date\": \"2020-03-05T00:00:00\", \"location\": \"France\", \"total_cases\": 285, \"total_deaths\": 4, \"total_cases_normalized\": 285, \"days_after\": 4}, {\"date\": \"2020-03-06T00:00:00\", \"location\": \"France\", \"total_cases\": 423, \"total_deaths\": 7, \"total_cases_normalized\": 423, \"days_after\": 5}, {\"date\": \"2020-03-07T00:00:00\", \"location\": \"France\", \"total_cases\": 613, \"total_deaths\": 9, \"total_cases_normalized\": 613, \"days_after\": 6}, {\"date\": \"2020-03-08T00:00:00\", \"location\": \"France\", \"total_cases\": 716, \"total_deaths\": 10, \"total_cases_normalized\": 716, \"days_after\": 7}, {\"date\": \"2020-03-09T00:00:00\", \"location\": \"France\", \"total_cases\": 1126, \"total_deaths\": 19, \"total_cases_normalized\": 1126, \"days_after\": 8}, {\"date\": \"2020-03-10T00:00:00\", \"location\": \"France\", \"total_cases\": 1412, \"total_deaths\": 30, \"total_cases_normalized\": 1412, \"days_after\": 9}, {\"date\": \"2020-03-11T00:00:00\", \"location\": \"France\", \"total_cases\": 1784, \"total_deaths\": 33, \"total_cases_normalized\": 1784, \"days_after\": 10}, {\"date\": \"2020-03-12T00:00:00\", \"location\": \"France\", \"total_cases\": 2281, \"total_deaths\": 48, \"total_cases_normalized\": 2281, \"days_after\": 11}, {\"date\": \"2020-03-13T00:00:00\", \"location\": \"France\", \"total_cases\": 2876, \"total_deaths\": 61, \"total_cases_normalized\": 2876, \"days_after\": 12}, {\"date\": \"2020-03-14T00:00:00\", \"location\": \"France\", \"total_cases\": 3661, \"total_deaths\": 79, \"total_cases_normalized\": 3661, \"days_after\": 13}, {\"date\": \"2020-03-15T00:00:00\", \"location\": \"France\", \"total_cases\": 4499, \"total_deaths\": 91, \"total_cases_normalized\": 4499, \"days_after\": 14}, {\"date\": \"2020-03-16T00:00:00\", \"location\": \"France\", \"total_cases\": 5423, \"total_deaths\": 127, \"total_cases_normalized\": 5423, \"days_after\": 15}, {\"date\": \"2020-03-17T00:00:00\", \"location\": \"France\", \"total_cases\": 6633, \"total_deaths\": 148, \"total_cases_normalized\": 6633, \"days_after\": 16}, {\"date\": \"2020-03-18T00:00:00\", \"location\": \"France\", \"total_cases\": 7730, \"total_deaths\": 175, \"total_cases_normalized\": 7730, \"days_after\": 17}, {\"date\": \"2020-03-19T00:00:00\", \"location\": \"France\", \"total_cases\": 9134, \"total_deaths\": 244, \"total_cases_normalized\": 9134, \"days_after\": 18}, {\"date\": \"2020-03-20T00:00:00\", \"location\": \"France\", \"total_cases\": 10995, \"total_deaths\": 372, \"total_cases_normalized\": 10995, \"days_after\": 19}, {\"date\": \"2020-03-21T00:00:00\", \"location\": \"France\", \"total_cases\": 12612, \"total_deaths\": 450, \"total_cases_normalized\": 12612, \"days_after\": 20}, {\"date\": \"2020-03-22T00:00:00\", \"location\": \"France\", \"total_cases\": 14459, \"total_deaths\": 562, \"total_cases_normalized\": 14459, \"days_after\": 21}, {\"date\": \"2020-03-23T00:00:00\", \"location\": \"France\", \"total_cases\": 16018, \"total_deaths\": 674, \"total_cases_normalized\": 16018, \"days_after\": 22}, {\"date\": \"2020-03-24T00:00:00\", \"location\": \"France\", \"total_cases\": 19856, \"total_deaths\": 860, \"total_cases_normalized\": 19856, \"days_after\": 23}, {\"date\": \"2020-03-25T00:00:00\", \"location\": \"France\", \"total_cases\": 22302, \"total_deaths\": 1100, \"total_cases_normalized\": 22302, \"days_after\": 24}, {\"date\": \"2020-03-26T00:00:00\", \"location\": \"France\", \"total_cases\": 25233, \"total_deaths\": 1331, \"total_cases_normalized\": 25233, \"days_after\": 25}, {\"date\": \"2020-03-27T00:00:00\", \"location\": \"France\", \"total_cases\": 29155, \"total_deaths\": 1696, \"total_cases_normalized\": 29155, \"days_after\": 26}, {\"date\": \"2020-03-01T00:00:00\", \"location\": \"Germany\", \"total_cases\": 111, \"total_deaths\": 0, \"total_cases_normalized\": 100, \"days_after\": 0}, {\"date\": \"2020-03-02T00:00:00\", \"location\": \"Germany\", \"total_cases\": 129, \"total_deaths\": 0, \"total_cases_normalized\": 116, \"days_after\": 1}, {\"date\": \"2020-03-03T00:00:00\", \"location\": \"Germany\", \"total_cases\": 157, \"total_deaths\": 0, \"total_cases_normalized\": 141, \"days_after\": 2}, {\"date\": \"2020-03-04T00:00:00\", \"location\": \"Germany\", \"total_cases\": 196, \"total_deaths\": 0, \"total_cases_normalized\": 176, \"days_after\": 3}, {\"date\": \"2020-03-05T00:00:00\", \"location\": \"Germany\", \"total_cases\": 262, \"total_deaths\": 0, \"total_cases_normalized\": 236, \"days_after\": 4}, {\"date\": \"2020-03-06T00:00:00\", \"location\": \"Germany\", \"total_cases\": 400, \"total_deaths\": 0, \"total_cases_normalized\": 360, \"days_after\": 5}, {\"date\": \"2020-03-07T00:00:00\", \"location\": \"Germany\", \"total_cases\": 684, \"total_deaths\": 0, \"total_cases_normalized\": 616, \"days_after\": 6}, {\"date\": \"2020-03-08T00:00:00\", \"location\": \"Germany\", \"total_cases\": 847, \"total_deaths\": 0, \"total_cases_normalized\": 763, \"days_after\": 7}, {\"date\": \"2020-03-09T00:00:00\", \"location\": \"Germany\", \"total_cases\": 902, \"total_deaths\": 0, \"total_cases_normalized\": 812, \"days_after\": 8}, {\"date\": \"2020-03-10T00:00:00\", \"location\": \"Germany\", \"total_cases\": 1139, \"total_deaths\": 2, \"total_cases_normalized\": 1026, \"days_after\": 9}, {\"date\": \"2020-03-11T00:00:00\", \"location\": \"Germany\", \"total_cases\": 1296, \"total_deaths\": 2, \"total_cases_normalized\": 1167, \"days_after\": 10}, {\"date\": \"2020-03-12T00:00:00\", \"location\": \"Germany\", \"total_cases\": 1567, \"total_deaths\": 3, \"total_cases_normalized\": 1411, \"days_after\": 11}, {\"date\": \"2020-03-13T00:00:00\", \"location\": \"Germany\", \"total_cases\": 2369, \"total_deaths\": 5, \"total_cases_normalized\": 2134, \"days_after\": 12}, {\"date\": \"2020-03-14T00:00:00\", \"location\": \"Germany\", \"total_cases\": 3062, \"total_deaths\": 5, \"total_cases_normalized\": 2758, \"days_after\": 13}, {\"date\": \"2020-03-15T00:00:00\", \"location\": \"Germany\", \"total_cases\": 3795, \"total_deaths\": 8, \"total_cases_normalized\": 3418, \"days_after\": 14}, {\"date\": \"2020-03-16T00:00:00\", \"location\": \"Germany\", \"total_cases\": 4838, \"total_deaths\": 12, \"total_cases_normalized\": 4358, \"days_after\": 15}, {\"date\": \"2020-03-17T00:00:00\", \"location\": \"Germany\", \"total_cases\": 6012, \"total_deaths\": 13, \"total_cases_normalized\": 5416, \"days_after\": 16}, {\"date\": \"2020-03-18T00:00:00\", \"location\": \"Germany\", \"total_cases\": 7156, \"total_deaths\": 13, \"total_cases_normalized\": 6446, \"days_after\": 17}, {\"date\": \"2020-03-19T00:00:00\", \"location\": \"Germany\", \"total_cases\": 8198, \"total_deaths\": 13, \"total_cases_normalized\": 7385, \"days_after\": 18}, {\"date\": \"2020-03-20T00:00:00\", \"location\": \"Germany\", \"total_cases\": 14138, \"total_deaths\": 43, \"total_cases_normalized\": 12736, \"days_after\": 19}, {\"date\": \"2020-03-21T00:00:00\", \"location\": \"Germany\", \"total_cases\": 18187, \"total_deaths\": 45, \"total_cases_normalized\": 16384, \"days_after\": 20}, {\"date\": \"2020-03-22T00:00:00\", \"location\": \"Germany\", \"total_cases\": 21463, \"total_deaths\": 67, \"total_cases_normalized\": 19336, \"days_after\": 21}, {\"date\": \"2020-03-23T00:00:00\", \"location\": \"Germany\", \"total_cases\": 24774, \"total_deaths\": 94, \"total_cases_normalized\": 22318, \"days_after\": 22}, {\"date\": \"2020-03-24T00:00:00\", \"location\": \"Germany\", \"total_cases\": 29212, \"total_deaths\": 126, \"total_cases_normalized\": 26317, \"days_after\": 23}, {\"date\": \"2020-03-25T00:00:00\", \"location\": \"Germany\", \"total_cases\": 31554, \"total_deaths\": 149, \"total_cases_normalized\": 28427, \"days_after\": 24}, {\"date\": \"2020-03-26T00:00:00\", \"location\": \"Germany\", \"total_cases\": 36508, \"total_deaths\": 198, \"total_cases_normalized\": 32890, \"days_after\": 25}, {\"date\": \"2020-03-27T00:00:00\", \"location\": \"Germany\", \"total_cases\": 42288, \"total_deaths\": 253, \"total_cases_normalized\": 38097, \"days_after\": 26}, {\"date\": \"2020-02-27T00:00:00\", \"location\": \"Iran\", \"total_cases\": 139, \"total_deaths\": 19, \"total_cases_normalized\": 100, \"days_after\": 0}, {\"date\": \"2020-02-28T00:00:00\", \"location\": \"Iran\", \"total_cases\": 245, \"total_deaths\": 26, \"total_cases_normalized\": 176, \"days_after\": 1}, {\"date\": \"2020-02-29T00:00:00\", \"location\": \"Iran\", \"total_cases\": 388, \"total_deaths\": 34, \"total_cases_normalized\": 279, \"days_after\": 2}, {\"date\": \"2020-03-01T00:00:00\", \"location\": \"Iran\", \"total_cases\": 593, \"total_deaths\": 43, \"total_cases_normalized\": 426, \"days_after\": 3}, {\"date\": \"2020-03-02T00:00:00\", \"location\": \"Iran\", \"total_cases\": 978, \"total_deaths\": 54, \"total_cases_normalized\": 703, \"days_after\": 4}, {\"date\": \"2020-03-03T00:00:00\", \"location\": \"Iran\", \"total_cases\": 1501, \"total_deaths\": 66, \"total_cases_normalized\": 1079, \"days_after\": 5}, {\"date\": \"2020-03-04T00:00:00\", \"location\": \"Iran\", \"total_cases\": 2336, \"total_deaths\": 77, \"total_cases_normalized\": 1680, \"days_after\": 6}, {\"date\": \"2020-03-05T00:00:00\", \"location\": \"Iran\", \"total_cases\": 2922, \"total_deaths\": 92, \"total_cases_normalized\": 2102, \"days_after\": 7}, {\"date\": \"2020-03-06T00:00:00\", \"location\": \"Iran\", \"total_cases\": 3513, \"total_deaths\": 107, \"total_cases_normalized\": 2527, \"days_after\": 8}, {\"date\": \"2020-03-07T00:00:00\", \"location\": \"Iran\", \"total_cases\": 4747, \"total_deaths\": 124, \"total_cases_normalized\": 3415, \"days_after\": 9}, {\"date\": \"2020-03-08T00:00:00\", \"location\": \"Iran\", \"total_cases\": 5823, \"total_deaths\": 145, \"total_cases_normalized\": 4189, \"days_after\": 10}, {\"date\": \"2020-03-09T00:00:00\", \"location\": \"Iran\", \"total_cases\": 6566, \"total_deaths\": 194, \"total_cases_normalized\": 4723, \"days_after\": 11}, {\"date\": \"2020-03-10T00:00:00\", \"location\": \"Iran\", \"total_cases\": 7161, \"total_deaths\": 237, \"total_cases_normalized\": 5151, \"days_after\": 12}, {\"date\": \"2020-03-11T00:00:00\", \"location\": \"Iran\", \"total_cases\": 8042, \"total_deaths\": 291, \"total_cases_normalized\": 5785, \"days_after\": 13}, {\"date\": \"2020-03-12T00:00:00\", \"location\": \"Iran\", \"total_cases\": 9000, \"total_deaths\": 354, \"total_cases_normalized\": 6474, \"days_after\": 14}, {\"date\": \"2020-03-13T00:00:00\", \"location\": \"Iran\", \"total_cases\": 10075, \"total_deaths\": 429, \"total_cases_normalized\": 7248, \"days_after\": 15}, {\"date\": \"2020-03-14T00:00:00\", \"location\": \"Iran\", \"total_cases\": 11364, \"total_deaths\": 514, \"total_cases_normalized\": 8175, \"days_after\": 16}, {\"date\": \"2020-03-15T00:00:00\", \"location\": \"Iran\", \"total_cases\": 12729, \"total_deaths\": 611, \"total_cases_normalized\": 9157, \"days_after\": 17}, {\"date\": \"2020-03-16T00:00:00\", \"location\": \"Iran\", \"total_cases\": 13938, \"total_deaths\": 724, \"total_cases_normalized\": 10027, \"days_after\": 18}, {\"date\": \"2020-03-17T00:00:00\", \"location\": \"Iran\", \"total_cases\": 14991, \"total_deaths\": 853, \"total_cases_normalized\": 10784, \"days_after\": 19}, {\"date\": \"2020-03-18T00:00:00\", \"location\": \"Iran\", \"total_cases\": 16169, \"total_deaths\": 988, \"total_cases_normalized\": 11632, \"days_after\": 20}, {\"date\": \"2020-03-19T00:00:00\", \"location\": \"Iran\", \"total_cases\": 17361, \"total_deaths\": 1135, \"total_cases_normalized\": 12489, \"days_after\": 21}, {\"date\": \"2020-03-20T00:00:00\", \"location\": \"Iran\", \"total_cases\": 18407, \"total_deaths\": 1284, \"total_cases_normalized\": 13242, \"days_after\": 22}, {\"date\": \"2020-03-21T00:00:00\", \"location\": \"Iran\", \"total_cases\": 19644, \"total_deaths\": 1433, \"total_cases_normalized\": 14132, \"days_after\": 23}, {\"date\": \"2020-03-22T00:00:00\", \"location\": \"Iran\", \"total_cases\": 20610, \"total_deaths\": 1556, \"total_cases_normalized\": 14827, \"days_after\": 24}, {\"date\": \"2020-03-23T00:00:00\", \"location\": \"Iran\", \"total_cases\": 21638, \"total_deaths\": 1685, \"total_cases_normalized\": 15566, \"days_after\": 25}, {\"date\": \"2020-03-24T00:00:00\", \"location\": \"Iran\", \"total_cases\": 23049, \"total_deaths\": 1812, \"total_cases_normalized\": 16582, \"days_after\": 26}, {\"date\": \"2020-03-25T00:00:00\", \"location\": \"Iran\", \"total_cases\": 24811, \"total_deaths\": 1934, \"total_cases_normalized\": 17849, \"days_after\": 27}, {\"date\": \"2020-03-26T00:00:00\", \"location\": \"Iran\", \"total_cases\": 27017, \"total_deaths\": 2077, \"total_cases_normalized\": 19436, \"days_after\": 28}, {\"date\": \"2020-03-27T00:00:00\", \"location\": \"Iran\", \"total_cases\": 29406, \"total_deaths\": 2234, \"total_cases_normalized\": 21155, \"days_after\": 29}, {\"date\": \"2020-03-15T00:00:00\", \"location\": \"Ireland\", \"total_cases\": 129, \"total_deaths\": 2, \"total_cases_normalized\": 100, \"days_after\": 0}, {\"date\": \"2020-03-16T00:00:00\", \"location\": \"Ireland\", \"total_cases\": 169, \"total_deaths\": 2, \"total_cases_normalized\": 131, \"days_after\": 1}, {\"date\": \"2020-03-17T00:00:00\", \"location\": \"Ireland\", \"total_cases\": 223, \"total_deaths\": 2, \"total_cases_normalized\": 172, \"days_after\": 2}, {\"date\": \"2020-03-18T00:00:00\", \"location\": \"Ireland\", \"total_cases\": 292, \"total_deaths\": 2, \"total_cases_normalized\": 226, \"days_after\": 3}, {\"date\": \"2020-03-19T00:00:00\", \"location\": \"Ireland\", \"total_cases\": 366, \"total_deaths\": 2, \"total_cases_normalized\": 283, \"days_after\": 4}, {\"date\": \"2020-03-20T00:00:00\", \"location\": \"Ireland\", \"total_cases\": 557, \"total_deaths\": 3, \"total_cases_normalized\": 431, \"days_after\": 5}, {\"date\": \"2020-03-21T00:00:00\", \"location\": \"Ireland\", \"total_cases\": 683, \"total_deaths\": 3, \"total_cases_normalized\": 529, \"days_after\": 6}, {\"date\": \"2020-03-22T00:00:00\", \"location\": \"Ireland\", \"total_cases\": 785, \"total_deaths\": 3, \"total_cases_normalized\": 608, \"days_after\": 7}, {\"date\": \"2020-03-23T00:00:00\", \"location\": \"Ireland\", \"total_cases\": 906, \"total_deaths\": 4, \"total_cases_normalized\": 702, \"days_after\": 8}, {\"date\": \"2020-03-24T00:00:00\", \"location\": \"Ireland\", \"total_cases\": 1125, \"total_deaths\": 6, \"total_cases_normalized\": 872, \"days_after\": 9}, {\"date\": \"2020-03-25T00:00:00\", \"location\": \"Ireland\", \"total_cases\": 1329, \"total_deaths\": 7, \"total_cases_normalized\": 1030, \"days_after\": 10}, {\"date\": \"2020-03-26T00:00:00\", \"location\": \"Ireland\", \"total_cases\": 1564, \"total_deaths\": 9, \"total_cases_normalized\": 1212, \"days_after\": 11}, {\"date\": \"2020-03-27T00:00:00\", \"location\": \"Ireland\", \"total_cases\": 1819, \"total_deaths\": 19, \"total_cases_normalized\": 1410, \"days_after\": 12}, {\"date\": \"2020-03-14T00:00:00\", \"location\": \"Israel\", \"total_cases\": 116, \"total_deaths\": 0, \"total_cases_normalized\": 100, \"days_after\": 0}, {\"date\": \"2020-03-15T00:00:00\", \"location\": \"Israel\", \"total_cases\": 178, \"total_deaths\": 0, \"total_cases_normalized\": 153, \"days_after\": 1}, {\"date\": \"2020-03-16T00:00:00\", \"location\": \"Israel\", \"total_cases\": 250, \"total_deaths\": 0, \"total_cases_normalized\": 215, \"days_after\": 2}, {\"date\": \"2020-03-17T00:00:00\", \"location\": \"Israel\", \"total_cases\": 260, \"total_deaths\": 0, \"total_cases_normalized\": 224, \"days_after\": 3}, {\"date\": \"2020-03-18T00:00:00\", \"location\": \"Israel\", \"total_cases\": 427, \"total_deaths\": 0, \"total_cases_normalized\": 368, \"days_after\": 4}, {\"date\": \"2020-03-19T00:00:00\", \"location\": \"Israel\", \"total_cases\": 433, \"total_deaths\": 0, \"total_cases_normalized\": 373, \"days_after\": 5}, {\"date\": \"2020-03-20T00:00:00\", \"location\": \"Israel\", \"total_cases\": 677, \"total_deaths\": 0, \"total_cases_normalized\": 583, \"days_after\": 6}, {\"date\": \"2020-03-21T00:00:00\", \"location\": \"Israel\", \"total_cases\": 712, \"total_deaths\": 1, \"total_cases_normalized\": 613, \"days_after\": 7}, {\"date\": \"2020-03-22T00:00:00\", \"location\": \"Israel\", \"total_cases\": 883, \"total_deaths\": 1, \"total_cases_normalized\": 761, \"days_after\": 8}, {\"date\": \"2020-03-23T00:00:00\", \"location\": \"Israel\", \"total_cases\": 1071, \"total_deaths\": 1, \"total_cases_normalized\": 923, \"days_after\": 9}, {\"date\": \"2020-03-24T00:00:00\", \"location\": \"Israel\", \"total_cases\": 1442, \"total_deaths\": 1, \"total_cases_normalized\": 1243, \"days_after\": 10}, {\"date\": \"2020-03-25T00:00:00\", \"location\": \"Israel\", \"total_cases\": 1930, \"total_deaths\": 3, \"total_cases_normalized\": 1663, \"days_after\": 11}, {\"date\": \"2020-03-26T00:00:00\", \"location\": \"Israel\", \"total_cases\": 2369, \"total_deaths\": 5, \"total_cases_normalized\": 2042, \"days_after\": 12}, {\"date\": \"2020-03-27T00:00:00\", \"location\": \"Israel\", \"total_cases\": 2666, \"total_deaths\": 8, \"total_cases_normalized\": 2298, \"days_after\": 13}, {\"date\": \"2020-02-24T00:00:00\", \"location\": \"Italy\", \"total_cases\": 132, \"total_deaths\": 2, \"total_cases_normalized\": 100, \"days_after\": 0}, {\"date\": \"2020-02-25T00:00:00\", \"location\": \"Italy\", \"total_cases\": 229, \"total_deaths\": 6, \"total_cases_normalized\": 173, \"days_after\": 1}, {\"date\": \"2020-02-26T00:00:00\", \"location\": \"Italy\", \"total_cases\": 322, \"total_deaths\": 11, \"total_cases_normalized\": 243, \"days_after\": 2}, {\"date\": \"2020-02-27T00:00:00\", \"location\": \"Italy\", \"total_cases\": 400, \"total_deaths\": 12, \"total_cases_normalized\": 303, \"days_after\": 3}, {\"date\": \"2020-02-28T00:00:00\", \"location\": \"Italy\", \"total_cases\": 650, \"total_deaths\": 17, \"total_cases_normalized\": 492, \"days_after\": 4}, {\"date\": \"2020-02-29T00:00:00\", \"location\": \"Italy\", \"total_cases\": 888, \"total_deaths\": 21, \"total_cases_normalized\": 672, \"days_after\": 5}, {\"date\": \"2020-03-01T00:00:00\", \"location\": \"Italy\", \"total_cases\": 1128, \"total_deaths\": 29, \"total_cases_normalized\": 854, \"days_after\": 6}, {\"date\": \"2020-03-02T00:00:00\", \"location\": \"Italy\", \"total_cases\": 1689, \"total_deaths\": 35, \"total_cases_normalized\": 1279, \"days_after\": 7}, {\"date\": \"2020-03-03T00:00:00\", \"location\": \"Italy\", \"total_cases\": 1835, \"total_deaths\": 52, \"total_cases_normalized\": 1390, \"days_after\": 8}, {\"date\": \"2020-03-04T00:00:00\", \"location\": \"Italy\", \"total_cases\": 2502, \"total_deaths\": 80, \"total_cases_normalized\": 1895, \"days_after\": 9}, {\"date\": \"2020-03-05T00:00:00\", \"location\": \"Italy\", \"total_cases\": 3089, \"total_deaths\": 107, \"total_cases_normalized\": 2340, \"days_after\": 10}, {\"date\": \"2020-03-06T00:00:00\", \"location\": \"Italy\", \"total_cases\": 3858, \"total_deaths\": 148, \"total_cases_normalized\": 2922, \"days_after\": 11}, {\"date\": \"2020-03-07T00:00:00\", \"location\": \"Italy\", \"total_cases\": 4636, \"total_deaths\": 197, \"total_cases_normalized\": 3512, \"days_after\": 12}, {\"date\": \"2020-03-08T00:00:00\", \"location\": \"Italy\", \"total_cases\": 5883, \"total_deaths\": 233, \"total_cases_normalized\": 4456, \"days_after\": 13}, {\"date\": \"2020-03-09T00:00:00\", \"location\": \"Italy\", \"total_cases\": 7375, \"total_deaths\": 366, \"total_cases_normalized\": 5587, \"days_after\": 14}, {\"date\": \"2020-03-10T00:00:00\", \"location\": \"Italy\", \"total_cases\": 9172, \"total_deaths\": 464, \"total_cases_normalized\": 6948, \"days_after\": 15}, {\"date\": \"2020-03-11T00:00:00\", \"location\": \"Italy\", \"total_cases\": 10149, \"total_deaths\": 631, \"total_cases_normalized\": 7688, \"days_after\": 16}, {\"date\": \"2020-03-12T00:00:00\", \"location\": \"Italy\", \"total_cases\": 12462, \"total_deaths\": 827, \"total_cases_normalized\": 9440, \"days_after\": 17}, {\"date\": \"2020-03-13T00:00:00\", \"location\": \"Italy\", \"total_cases\": 15113, \"total_deaths\": 1016, \"total_cases_normalized\": 11449, \"days_after\": 18}, {\"date\": \"2020-03-14T00:00:00\", \"location\": \"Italy\", \"total_cases\": 17660, \"total_deaths\": 1268, \"total_cases_normalized\": 13378, \"days_after\": 19}, {\"date\": \"2020-03-15T00:00:00\", \"location\": \"Italy\", \"total_cases\": 17750, \"total_deaths\": 1441, \"total_cases_normalized\": 13446, \"days_after\": 20}, {\"date\": \"2020-03-16T00:00:00\", \"location\": \"Italy\", \"total_cases\": 23980, \"total_deaths\": 1811, \"total_cases_normalized\": 18166, \"days_after\": 21}, {\"date\": \"2020-03-17T00:00:00\", \"location\": \"Italy\", \"total_cases\": 27980, \"total_deaths\": 2158, \"total_cases_normalized\": 21196, \"days_after\": 22}, {\"date\": \"2020-03-18T00:00:00\", \"location\": \"Italy\", \"total_cases\": 31506, \"total_deaths\": 2505, \"total_cases_normalized\": 23868, \"days_after\": 23}, {\"date\": \"2020-03-19T00:00:00\", \"location\": \"Italy\", \"total_cases\": 35713, \"total_deaths\": 2978, \"total_cases_normalized\": 27055, \"days_after\": 24}, {\"date\": \"2020-03-20T00:00:00\", \"location\": \"Italy\", \"total_cases\": 41035, \"total_deaths\": 3407, \"total_cases_normalized\": 31087, \"days_after\": 25}, {\"date\": \"2020-03-21T00:00:00\", \"location\": \"Italy\", \"total_cases\": 47021, \"total_deaths\": 4032, \"total_cases_normalized\": 35621, \"days_after\": 26}, {\"date\": \"2020-03-22T00:00:00\", \"location\": \"Italy\", \"total_cases\": 53578, \"total_deaths\": 4827, \"total_cases_normalized\": 40589, \"days_after\": 27}, {\"date\": \"2020-03-23T00:00:00\", \"location\": \"Italy\", \"total_cases\": 59138, \"total_deaths\": 5476, \"total_cases_normalized\": 44801, \"days_after\": 28}, {\"date\": \"2020-03-24T00:00:00\", \"location\": \"Italy\", \"total_cases\": 63927, \"total_deaths\": 6077, \"total_cases_normalized\": 48429, \"days_after\": 29}, {\"date\": \"2020-03-25T00:00:00\", \"location\": \"Italy\", \"total_cases\": 69176, \"total_deaths\": 6820, \"total_cases_normalized\": 52406, \"days_after\": 30}, {\"date\": \"2020-03-26T00:00:00\", \"location\": \"Italy\", \"total_cases\": 74386, \"total_deaths\": 7505, \"total_cases_normalized\": 56353, \"days_after\": 31}, {\"date\": \"2020-03-27T00:00:00\", \"location\": \"Italy\", \"total_cases\": 80539, \"total_deaths\": 8165, \"total_cases_normalized\": 61014, \"days_after\": 32}, {\"date\": \"2020-02-22T00:00:00\", \"location\": \"Japan\", \"total_cases\": 105, \"total_deaths\": 1, \"total_cases_normalized\": 100, \"days_after\": 0}, {\"date\": \"2020-02-23T00:00:00\", \"location\": \"Japan\", \"total_cases\": 132, \"total_deaths\": 1, \"total_cases_normalized\": 125, \"days_after\": 1}, {\"date\": \"2020-02-24T00:00:00\", \"location\": \"Japan\", \"total_cases\": 144, \"total_deaths\": 1, \"total_cases_normalized\": 137, \"days_after\": 2}, {\"date\": \"2020-02-25T00:00:00\", \"location\": \"Japan\", \"total_cases\": 144, \"total_deaths\": 1, \"total_cases_normalized\": 137, \"days_after\": 3}, {\"date\": \"2020-02-26T00:00:00\", \"location\": \"Japan\", \"total_cases\": 164, \"total_deaths\": 1, \"total_cases_normalized\": 156, \"days_after\": 4}, {\"date\": \"2020-02-27T00:00:00\", \"location\": \"Japan\", \"total_cases\": 186, \"total_deaths\": 3, \"total_cases_normalized\": 177, \"days_after\": 5}, {\"date\": \"2020-02-28T00:00:00\", \"location\": \"Japan\", \"total_cases\": 210, \"total_deaths\": 3, \"total_cases_normalized\": 200, \"days_after\": 6}, {\"date\": \"2020-02-29T00:00:00\", \"location\": \"Japan\", \"total_cases\": 230, \"total_deaths\": 3, \"total_cases_normalized\": 219, \"days_after\": 7}, {\"date\": \"2020-03-01T00:00:00\", \"location\": \"Japan\", \"total_cases\": 239, \"total_deaths\": 5, \"total_cases_normalized\": 227, \"days_after\": 8}, {\"date\": \"2020-03-02T00:00:00\", \"location\": \"Japan\", \"total_cases\": 254, \"total_deaths\": 6, \"total_cases_normalized\": 241, \"days_after\": 9}, {\"date\": \"2020-03-03T00:00:00\", \"location\": \"Japan\", \"total_cases\": 254, \"total_deaths\": 6, \"total_cases_normalized\": 241, \"days_after\": 10}, {\"date\": \"2020-03-04T00:00:00\", \"location\": \"Japan\", \"total_cases\": 268, \"total_deaths\": 6, \"total_cases_normalized\": 255, \"days_after\": 11}, {\"date\": \"2020-03-05T00:00:00\", \"location\": \"Japan\", \"total_cases\": 317, \"total_deaths\": 6, \"total_cases_normalized\": 301, \"days_after\": 12}, {\"date\": \"2020-03-06T00:00:00\", \"location\": \"Japan\", \"total_cases\": 349, \"total_deaths\": 6, \"total_cases_normalized\": 332, \"days_after\": 13}, {\"date\": \"2020-03-07T00:00:00\", \"location\": \"Japan\", \"total_cases\": 408, \"total_deaths\": 6, \"total_cases_normalized\": 388, \"days_after\": 14}, {\"date\": \"2020-03-08T00:00:00\", \"location\": \"Japan\", \"total_cases\": 455, \"total_deaths\": 6, \"total_cases_normalized\": 433, \"days_after\": 15}, {\"date\": \"2020-03-09T00:00:00\", \"location\": \"Japan\", \"total_cases\": 488, \"total_deaths\": 7, \"total_cases_normalized\": 464, \"days_after\": 16}, {\"date\": \"2020-03-10T00:00:00\", \"location\": \"Japan\", \"total_cases\": 514, \"total_deaths\": 9, \"total_cases_normalized\": 489, \"days_after\": 17}, {\"date\": \"2020-03-11T00:00:00\", \"location\": \"Japan\", \"total_cases\": 568, \"total_deaths\": 12, \"total_cases_normalized\": 540, \"days_after\": 18}, {\"date\": \"2020-03-12T00:00:00\", \"location\": \"Japan\", \"total_cases\": 619, \"total_deaths\": 15, \"total_cases_normalized\": 589, \"days_after\": 19}, {\"date\": \"2020-03-13T00:00:00\", \"location\": \"Japan\", \"total_cases\": 675, \"total_deaths\": 19, \"total_cases_normalized\": 642, \"days_after\": 20}, {\"date\": \"2020-03-14T00:00:00\", \"location\": \"Japan\", \"total_cases\": 737, \"total_deaths\": 21, \"total_cases_normalized\": 701, \"days_after\": 21}, {\"date\": \"2020-03-15T00:00:00\", \"location\": \"Japan\", \"total_cases\": 780, \"total_deaths\": 22, \"total_cases_normalized\": 742, \"days_after\": 22}, {\"date\": \"2020-03-16T00:00:00\", \"location\": \"Japan\", \"total_cases\": 814, \"total_deaths\": 24, \"total_cases_normalized\": 775, \"days_after\": 23}, {\"date\": \"2020-03-17T00:00:00\", \"location\": \"Japan\", \"total_cases\": 824, \"total_deaths\": 28, \"total_cases_normalized\": 784, \"days_after\": 24}, {\"date\": \"2020-03-18T00:00:00\", \"location\": \"Japan\", \"total_cases\": 829, \"total_deaths\": 28, \"total_cases_normalized\": 789, \"days_after\": 25}, {\"date\": \"2020-03-19T00:00:00\", \"location\": \"Japan\", \"total_cases\": 873, \"total_deaths\": 29, \"total_cases_normalized\": 831, \"days_after\": 26}, {\"date\": \"2020-03-20T00:00:00\", \"location\": \"Japan\", \"total_cases\": 950, \"total_deaths\": 33, \"total_cases_normalized\": 904, \"days_after\": 27}, {\"date\": \"2020-03-21T00:00:00\", \"location\": \"Japan\", \"total_cases\": 1007, \"total_deaths\": 35, \"total_cases_normalized\": 959, \"days_after\": 28}, {\"date\": \"2020-03-22T00:00:00\", \"location\": \"Japan\", \"total_cases\": 1046, \"total_deaths\": 36, \"total_cases_normalized\": 996, \"days_after\": 29}, {\"date\": \"2020-03-23T00:00:00\", \"location\": \"Japan\", \"total_cases\": 1089, \"total_deaths\": 41, \"total_cases_normalized\": 1037, \"days_after\": 30}, {\"date\": \"2020-03-24T00:00:00\", \"location\": \"Japan\", \"total_cases\": 1128, \"total_deaths\": 42, \"total_cases_normalized\": 1074, \"days_after\": 31}, {\"date\": \"2020-03-25T00:00:00\", \"location\": \"Japan\", \"total_cases\": 1193, \"total_deaths\": 43, \"total_cases_normalized\": 1136, \"days_after\": 32}, {\"date\": \"2020-03-26T00:00:00\", \"location\": \"Japan\", \"total_cases\": 1268, \"total_deaths\": 45, \"total_cases_normalized\": 1207, \"days_after\": 33}, {\"date\": \"2020-03-27T00:00:00\", \"location\": \"Japan\", \"total_cases\": 1364, \"total_deaths\": 46, \"total_cases_normalized\": 1299, \"days_after\": 34}, {\"date\": \"2020-03-18T00:00:00\", \"location\": \"Luxembourg\", \"total_cases\": 140, \"total_deaths\": 1, \"total_cases_normalized\": 100, \"days_after\": 0}, {\"date\": \"2020-03-19T00:00:00\", \"location\": \"Luxembourg\", \"total_cases\": 210, \"total_deaths\": 2, \"total_cases_normalized\": 150, \"days_after\": 1}, {\"date\": \"2020-03-20T00:00:00\", \"location\": \"Luxembourg\", \"total_cases\": 345, \"total_deaths\": 4, \"total_cases_normalized\": 246, \"days_after\": 2}, {\"date\": \"2020-03-21T00:00:00\", \"location\": \"Luxembourg\", \"total_cases\": 484, \"total_deaths\": 5, \"total_cases_normalized\": 345, \"days_after\": 3}, {\"date\": \"2020-03-22T00:00:00\", \"location\": \"Luxembourg\", \"total_cases\": 670, \"total_deaths\": 8, \"total_cases_normalized\": 478, \"days_after\": 4}, {\"date\": \"2020-03-23T00:00:00\", \"location\": \"Luxembourg\", \"total_cases\": 798, \"total_deaths\": 8, \"total_cases_normalized\": 570, \"days_after\": 5}, {\"date\": \"2020-03-24T00:00:00\", \"location\": \"Luxembourg\", \"total_cases\": 875, \"total_deaths\": 8, \"total_cases_normalized\": 625, \"days_after\": 6}, {\"date\": \"2020-03-25T00:00:00\", \"location\": \"Luxembourg\", \"total_cases\": 1099, \"total_deaths\": 8, \"total_cases_normalized\": 785, \"days_after\": 7}, {\"date\": \"2020-03-26T00:00:00\", \"location\": \"Luxembourg\", \"total_cases\": 1333, \"total_deaths\": 8, \"total_cases_normalized\": 952, \"days_after\": 8}, {\"date\": \"2020-03-27T00:00:00\", \"location\": \"Luxembourg\", \"total_cases\": 1453, \"total_deaths\": 9, \"total_cases_normalized\": 1037, \"days_after\": 9}, {\"date\": \"2020-03-10T00:00:00\", \"location\": \"Malaysia\", \"total_cases\": 117, \"total_deaths\": 0, \"total_cases_normalized\": 100, \"days_after\": 0}, {\"date\": \"2020-03-11T00:00:00\", \"location\": \"Malaysia\", \"total_cases\": 129, \"total_deaths\": 0, \"total_cases_normalized\": 110, \"days_after\": 1}, {\"date\": \"2020-03-12T00:00:00\", \"location\": \"Malaysia\", \"total_cases\": 149, \"total_deaths\": 0, \"total_cases_normalized\": 127, \"days_after\": 2}, {\"date\": \"2020-03-13T00:00:00\", \"location\": \"Malaysia\", \"total_cases\": 158, \"total_deaths\": 0, \"total_cases_normalized\": 135, \"days_after\": 3}, {\"date\": \"2020-03-14T00:00:00\", \"location\": \"Malaysia\", \"total_cases\": 197, \"total_deaths\": 0, \"total_cases_normalized\": 168, \"days_after\": 4}, {\"date\": \"2020-03-15T00:00:00\", \"location\": \"Malaysia\", \"total_cases\": 238, \"total_deaths\": 0, \"total_cases_normalized\": 203, \"days_after\": 5}, {\"date\": \"2020-03-16T00:00:00\", \"location\": \"Malaysia\", \"total_cases\": 428, \"total_deaths\": 0, \"total_cases_normalized\": 365, \"days_after\": 6}, {\"date\": \"2020-03-17T00:00:00\", \"location\": \"Malaysia\", \"total_cases\": 553, \"total_deaths\": 0, \"total_cases_normalized\": 472, \"days_after\": 7}, {\"date\": \"2020-03-18T00:00:00\", \"location\": \"Malaysia\", \"total_cases\": 673, \"total_deaths\": 2, \"total_cases_normalized\": 575, \"days_after\": 8}, {\"date\": \"2020-03-19T00:00:00\", \"location\": \"Malaysia\", \"total_cases\": 790, \"total_deaths\": 2, \"total_cases_normalized\": 675, \"days_after\": 9}, {\"date\": \"2020-03-20T00:00:00\", \"location\": \"Malaysia\", \"total_cases\": 900, \"total_deaths\": 2, \"total_cases_normalized\": 769, \"days_after\": 10}, {\"date\": \"2020-03-21T00:00:00\", \"location\": \"Malaysia\", \"total_cases\": 1030, \"total_deaths\": 2, \"total_cases_normalized\": 880, \"days_after\": 11}, {\"date\": \"2020-03-22T00:00:00\", \"location\": \"Malaysia\", \"total_cases\": 1183, \"total_deaths\": 4, \"total_cases_normalized\": 1011, \"days_after\": 12}, {\"date\": \"2020-03-23T00:00:00\", \"location\": \"Malaysia\", \"total_cases\": 1306, \"total_deaths\": 10, \"total_cases_normalized\": 1116, \"days_after\": 13}, {\"date\": \"2020-03-24T00:00:00\", \"location\": \"Malaysia\", \"total_cases\": 1518, \"total_deaths\": 14, \"total_cases_normalized\": 1297, \"days_after\": 14}, {\"date\": \"2020-03-25T00:00:00\", \"location\": \"Malaysia\", \"total_cases\": 1624, \"total_deaths\": 15, \"total_cases_normalized\": 1388, \"days_after\": 15}, {\"date\": \"2020-03-26T00:00:00\", \"location\": \"Malaysia\", \"total_cases\": 1796, \"total_deaths\": 19, \"total_cases_normalized\": 1535, \"days_after\": 16}, {\"date\": \"2020-03-27T00:00:00\", \"location\": \"Malaysia\", \"total_cases\": 2031, \"total_deaths\": 23, \"total_cases_normalized\": 1735, \"days_after\": 17}, {\"date\": \"2020-03-07T00:00:00\", \"location\": \"Netherlands\", \"total_cases\": 128, \"total_deaths\": 1, \"total_cases_normalized\": 100, \"days_after\": 0}, {\"date\": \"2020-03-08T00:00:00\", \"location\": \"Netherlands\", \"total_cases\": 188, \"total_deaths\": 1, \"total_cases_normalized\": 146, \"days_after\": 1}, {\"date\": \"2020-03-09T00:00:00\", \"location\": \"Netherlands\", \"total_cases\": 265, \"total_deaths\": 3, \"total_cases_normalized\": 207, \"days_after\": 2}, {\"date\": \"2020-03-10T00:00:00\", \"location\": \"Netherlands\", \"total_cases\": 321, \"total_deaths\": 3, \"total_cases_normalized\": 250, \"days_after\": 3}, {\"date\": \"2020-03-11T00:00:00\", \"location\": \"Netherlands\", \"total_cases\": 382, \"total_deaths\": 4, \"total_cases_normalized\": 298, \"days_after\": 4}, {\"date\": \"2020-03-12T00:00:00\", \"location\": \"Netherlands\", \"total_cases\": 503, \"total_deaths\": 5, \"total_cases_normalized\": 392, \"days_after\": 5}, {\"date\": \"2020-03-13T00:00:00\", \"location\": \"Netherlands\", \"total_cases\": 614, \"total_deaths\": 5, \"total_cases_normalized\": 479, \"days_after\": 6}, {\"date\": \"2020-03-14T00:00:00\", \"location\": \"Netherlands\", \"total_cases\": 804, \"total_deaths\": 5, \"total_cases_normalized\": 628, \"days_after\": 7}, {\"date\": \"2020-03-15T00:00:00\", \"location\": \"Netherlands\", \"total_cases\": 959, \"total_deaths\": 12, \"total_cases_normalized\": 749, \"days_after\": 8}, {\"date\": \"2020-03-16T00:00:00\", \"location\": \"Netherlands\", \"total_cases\": 1135, \"total_deaths\": 20, \"total_cases_normalized\": 886, \"days_after\": 9}, {\"date\": \"2020-03-17T00:00:00\", \"location\": \"Netherlands\", \"total_cases\": 1413, \"total_deaths\": 24, \"total_cases_normalized\": 1103, \"days_after\": 10}, {\"date\": \"2020-03-18T00:00:00\", \"location\": \"Netherlands\", \"total_cases\": 1705, \"total_deaths\": 43, \"total_cases_normalized\": 1332, \"days_after\": 11}, {\"date\": \"2020-03-19T00:00:00\", \"location\": \"Netherlands\", \"total_cases\": 2051, \"total_deaths\": 58, \"total_cases_normalized\": 1602, \"days_after\": 12}, {\"date\": \"2020-03-20T00:00:00\", \"location\": \"Netherlands\", \"total_cases\": 2460, \"total_deaths\": 76, \"total_cases_normalized\": 1921, \"days_after\": 13}, {\"date\": \"2020-03-21T00:00:00\", \"location\": \"Netherlands\", \"total_cases\": 2994, \"total_deaths\": 106, \"total_cases_normalized\": 2339, \"days_after\": 14}, {\"date\": \"2020-03-22T00:00:00\", \"location\": \"Netherlands\", \"total_cases\": 3631, \"total_deaths\": 136, \"total_cases_normalized\": 2836, \"days_after\": 15}, {\"date\": \"2020-03-23T00:00:00\", \"location\": \"Netherlands\", \"total_cases\": 4204, \"total_deaths\": 179, \"total_cases_normalized\": 3284, \"days_after\": 16}, {\"date\": \"2020-03-24T00:00:00\", \"location\": \"Netherlands\", \"total_cases\": 4749, \"total_deaths\": 213, \"total_cases_normalized\": 3710, \"days_after\": 17}, {\"date\": \"2020-03-25T00:00:00\", \"location\": \"Netherlands\", \"total_cases\": 5560, \"total_deaths\": 276, \"total_cases_normalized\": 4343, \"days_after\": 18}, {\"date\": \"2020-03-26T00:00:00\", \"location\": \"Netherlands\", \"total_cases\": 6412, \"total_deaths\": 356, \"total_cases_normalized\": 5009, \"days_after\": 19}, {\"date\": \"2020-03-27T00:00:00\", \"location\": \"Netherlands\", \"total_cases\": 7431, \"total_deaths\": 434, \"total_cases_normalized\": 5805, \"days_after\": 20}, {\"date\": \"2020-03-07T00:00:00\", \"location\": \"Norway\", \"total_cases\": 113, \"total_deaths\": 0, \"total_cases_normalized\": 100, \"days_after\": 0}, {\"date\": \"2020-03-08T00:00:00\", \"location\": \"Norway\", \"total_cases\": 147, \"total_deaths\": 0, \"total_cases_normalized\": 130, \"days_after\": 1}, {\"date\": \"2020-03-09T00:00:00\", \"location\": \"Norway\", \"total_cases\": 169, \"total_deaths\": 0, \"total_cases_normalized\": 149, \"days_after\": 2}, {\"date\": \"2020-03-10T00:00:00\", \"location\": \"Norway\", \"total_cases\": 192, \"total_deaths\": 0, \"total_cases_normalized\": 169, \"days_after\": 3}, {\"date\": \"2020-03-11T00:00:00\", \"location\": \"Norway\", \"total_cases\": 277, \"total_deaths\": 0, \"total_cases_normalized\": 245, \"days_after\": 4}, {\"date\": \"2020-03-12T00:00:00\", \"location\": \"Norway\", \"total_cases\": 489, \"total_deaths\": 0, \"total_cases_normalized\": 432, \"days_after\": 5}, {\"date\": \"2020-03-13T00:00:00\", \"location\": \"Norway\", \"total_cases\": 621, \"total_deaths\": 1, \"total_cases_normalized\": 549, \"days_after\": 6}, {\"date\": \"2020-03-14T00:00:00\", \"location\": \"Norway\", \"total_cases\": 621, \"total_deaths\": 1, \"total_cases_normalized\": 549, \"days_after\": 7}, {\"date\": \"2020-03-15T00:00:00\", \"location\": \"Norway\", \"total_cases\": 907, \"total_deaths\": 1, \"total_cases_normalized\": 802, \"days_after\": 8}, {\"date\": \"2020-03-16T00:00:00\", \"location\": \"Norway\", \"total_cases\": 1077, \"total_deaths\": 1, \"total_cases_normalized\": 953, \"days_after\": 9}, {\"date\": \"2020-03-17T00:00:00\", \"location\": \"Norway\", \"total_cases\": 1169, \"total_deaths\": 3, \"total_cases_normalized\": 1034, \"days_after\": 10}, {\"date\": \"2020-03-18T00:00:00\", \"location\": \"Norway\", \"total_cases\": 1308, \"total_deaths\": 3, \"total_cases_normalized\": 1157, \"days_after\": 11}, {\"date\": \"2020-03-19T00:00:00\", \"location\": \"Norway\", \"total_cases\": 1423, \"total_deaths\": 3, \"total_cases_normalized\": 1259, \"days_after\": 12}, {\"date\": \"2020-03-20T00:00:00\", \"location\": \"Norway\", \"total_cases\": 1552, \"total_deaths\": 6, \"total_cases_normalized\": 1373, \"days_after\": 13}, {\"date\": \"2020-03-21T00:00:00\", \"location\": \"Norway\", \"total_cases\": 1742, \"total_deaths\": 7, \"total_cases_normalized\": 1541, \"days_after\": 14}, {\"date\": \"2020-03-22T00:00:00\", \"location\": \"Norway\", \"total_cases\": 1926, \"total_deaths\": 7, \"total_cases_normalized\": 1704, \"days_after\": 15}, {\"date\": \"2020-03-23T00:00:00\", \"location\": \"Norway\", \"total_cases\": 2132, \"total_deaths\": 7, \"total_cases_normalized\": 1886, \"days_after\": 16}, {\"date\": \"2020-03-24T00:00:00\", \"location\": \"Norway\", \"total_cases\": 2371, \"total_deaths\": 8, \"total_cases_normalized\": 2098, \"days_after\": 17}, {\"date\": \"2020-03-25T00:00:00\", \"location\": \"Norway\", \"total_cases\": 2566, \"total_deaths\": 10, \"total_cases_normalized\": 2270, \"days_after\": 18}, {\"date\": \"2020-03-26T00:00:00\", \"location\": \"Norway\", \"total_cases\": 2916, \"total_deaths\": 12, \"total_cases_normalized\": 2580, \"days_after\": 19}, {\"date\": \"2020-03-27T00:00:00\", \"location\": \"Norway\", \"total_cases\": 3156, \"total_deaths\": 14, \"total_cases_normalized\": 2792, \"days_after\": 20}, {\"date\": \"2020-03-17T00:00:00\", \"location\": \"Pakistan\", \"total_cases\": 187, \"total_deaths\": 0, \"total_cases_normalized\": 100, \"days_after\": 0}, {\"date\": \"2020-03-18T00:00:00\", \"location\": \"Pakistan\", \"total_cases\": 187, \"total_deaths\": 0, \"total_cases_normalized\": 100, \"days_after\": 1}, {\"date\": \"2020-03-19T00:00:00\", \"location\": \"Pakistan\", \"total_cases\": 302, \"total_deaths\": 0, \"total_cases_normalized\": 161, \"days_after\": 2}, {\"date\": \"2020-03-20T00:00:00\", \"location\": \"Pakistan\", \"total_cases\": 478, \"total_deaths\": 2, \"total_cases_normalized\": 255, \"days_after\": 3}, {\"date\": \"2020-03-21T00:00:00\", \"location\": \"Pakistan\", \"total_cases\": 495, \"total_deaths\": 3, \"total_cases_normalized\": 264, \"days_after\": 4}, {\"date\": \"2020-03-22T00:00:00\", \"location\": \"Pakistan\", \"total_cases\": 646, \"total_deaths\": 3, \"total_cases_normalized\": 345, \"days_after\": 5}, {\"date\": \"2020-03-23T00:00:00\", \"location\": \"Pakistan\", \"total_cases\": 784, \"total_deaths\": 5, \"total_cases_normalized\": 419, \"days_after\": 6}, {\"date\": \"2020-03-24T00:00:00\", \"location\": \"Pakistan\", \"total_cases\": 887, \"total_deaths\": 6, \"total_cases_normalized\": 474, \"days_after\": 7}, {\"date\": \"2020-03-25T00:00:00\", \"location\": \"Pakistan\", \"total_cases\": 991, \"total_deaths\": 7, \"total_cases_normalized\": 529, \"days_after\": 8}, {\"date\": \"2020-03-26T00:00:00\", \"location\": \"Pakistan\", \"total_cases\": 1057, \"total_deaths\": 8, \"total_cases_normalized\": 565, \"days_after\": 9}, {\"date\": \"2020-03-27T00:00:00\", \"location\": \"Pakistan\", \"total_cases\": 1197, \"total_deaths\": 9, \"total_cases_normalized\": 640, \"days_after\": 10}, {\"date\": \"2020-03-15T00:00:00\", \"location\": \"Poland\", \"total_cases\": 104, \"total_deaths\": 3, \"total_cases_normalized\": 100, \"days_after\": 0}, {\"date\": \"2020-03-16T00:00:00\", \"location\": \"Poland\", \"total_cases\": 125, \"total_deaths\": 3, \"total_cases_normalized\": 120, \"days_after\": 1}, {\"date\": \"2020-03-17T00:00:00\", \"location\": \"Poland\", \"total_cases\": 177, \"total_deaths\": 4, \"total_cases_normalized\": 170, \"days_after\": 2}, {\"date\": \"2020-03-18T00:00:00\", \"location\": \"Poland\", \"total_cases\": 238, \"total_deaths\": 5, \"total_cases_normalized\": 228, \"days_after\": 3}, {\"date\": \"2020-03-19T00:00:00\", \"location\": \"Poland\", \"total_cases\": 287, \"total_deaths\": 5, \"total_cases_normalized\": 275, \"days_after\": 4}, {\"date\": \"2020-03-20T00:00:00\", \"location\": \"Poland\", \"total_cases\": 355, \"total_deaths\": 5, \"total_cases_normalized\": 341, \"days_after\": 5}, {\"date\": \"2020-03-21T00:00:00\", \"location\": \"Poland\", \"total_cases\": 425, \"total_deaths\": 5, \"total_cases_normalized\": 408, \"days_after\": 6}, {\"date\": \"2020-03-22T00:00:00\", \"location\": \"Poland\", \"total_cases\": 536, \"total_deaths\": 5, \"total_cases_normalized\": 515, \"days_after\": 7}, {\"date\": \"2020-03-23T00:00:00\", \"location\": \"Poland\", \"total_cases\": 634, \"total_deaths\": 7, \"total_cases_normalized\": 609, \"days_after\": 8}, {\"date\": \"2020-03-24T00:00:00\", \"location\": \"Poland\", \"total_cases\": 749, \"total_deaths\": 8, \"total_cases_normalized\": 720, \"days_after\": 9}, {\"date\": \"2020-03-25T00:00:00\", \"location\": \"Poland\", \"total_cases\": 901, \"total_deaths\": 10, \"total_cases_normalized\": 866, \"days_after\": 10}, {\"date\": \"2020-03-26T00:00:00\", \"location\": \"Poland\", \"total_cases\": 1051, \"total_deaths\": 14, \"total_cases_normalized\": 1010, \"days_after\": 11}, {\"date\": \"2020-03-27T00:00:00\", \"location\": \"Poland\", \"total_cases\": 1221, \"total_deaths\": 16, \"total_cases_normalized\": 1174, \"days_after\": 12}, {\"date\": \"2020-03-14T00:00:00\", \"location\": \"Portugal\", \"total_cases\": 112, \"total_deaths\": 0, \"total_cases_normalized\": 100, \"days_after\": 0}, {\"date\": \"2020-03-15T00:00:00\", \"location\": \"Portugal\", \"total_cases\": 169, \"total_deaths\": 0, \"total_cases_normalized\": 150, \"days_after\": 1}, {\"date\": \"2020-03-16T00:00:00\", \"location\": \"Portugal\", \"total_cases\": 245, \"total_deaths\": 0, \"total_cases_normalized\": 218, \"days_after\": 2}, {\"date\": \"2020-03-17T00:00:00\", \"location\": \"Portugal\", \"total_cases\": 331, \"total_deaths\": 0, \"total_cases_normalized\": 295, \"days_after\": 3}, {\"date\": \"2020-03-18T00:00:00\", \"location\": \"Portugal\", \"total_cases\": 448, \"total_deaths\": 1, \"total_cases_normalized\": 400, \"days_after\": 4}, {\"date\": \"2020-03-19T00:00:00\", \"location\": \"Portugal\", \"total_cases\": 642, \"total_deaths\": 2, \"total_cases_normalized\": 573, \"days_after\": 5}, {\"date\": \"2020-03-20T00:00:00\", \"location\": \"Portugal\", \"total_cases\": 785, \"total_deaths\": 3, \"total_cases_normalized\": 700, \"days_after\": 6}, {\"date\": \"2020-03-21T00:00:00\", \"location\": \"Portugal\", \"total_cases\": 1020, \"total_deaths\": 6, \"total_cases_normalized\": 910, \"days_after\": 7}, {\"date\": \"2020-03-22T00:00:00\", \"location\": \"Portugal\", \"total_cases\": 1280, \"total_deaths\": 12, \"total_cases_normalized\": 1142, \"days_after\": 8}, {\"date\": \"2020-03-23T00:00:00\", \"location\": \"Portugal\", \"total_cases\": 1600, \"total_deaths\": 14, \"total_cases_normalized\": 1428, \"days_after\": 9}, {\"date\": \"2020-03-24T00:00:00\", \"location\": \"Portugal\", \"total_cases\": 2060, \"total_deaths\": 23, \"total_cases_normalized\": 1839, \"days_after\": 10}, {\"date\": \"2020-03-25T00:00:00\", \"location\": \"Portugal\", \"total_cases\": 2362, \"total_deaths\": 33, \"total_cases_normalized\": 2108, \"days_after\": 11}, {\"date\": \"2020-03-26T00:00:00\", \"location\": \"Portugal\", \"total_cases\": 2995, \"total_deaths\": 43, \"total_cases_normalized\": 2674, \"days_after\": 12}, {\"date\": \"2020-03-27T00:00:00\", \"location\": \"Portugal\", \"total_cases\": 3544, \"total_deaths\": 60, \"total_cases_normalized\": 3164, \"days_after\": 13}, {\"date\": \"2020-03-15T00:00:00\", \"location\": \"Romania\", \"total_cases\": 113, \"total_deaths\": 0, \"total_cases_normalized\": 100, \"days_after\": 0}, {\"date\": \"2020-03-16T00:00:00\", \"location\": \"Romania\", \"total_cases\": 139, \"total_deaths\": 0, \"total_cases_normalized\": 123, \"days_after\": 1}, {\"date\": \"2020-03-17T00:00:00\", \"location\": \"Romania\", \"total_cases\": 184, \"total_deaths\": 0, \"total_cases_normalized\": 162, \"days_after\": 2}, {\"date\": \"2020-03-18T00:00:00\", \"location\": \"Romania\", \"total_cases\": 217, \"total_deaths\": 0, \"total_cases_normalized\": 192, \"days_after\": 3}, {\"date\": \"2020-03-19T00:00:00\", \"location\": \"Romania\", \"total_cases\": 260, \"total_deaths\": 0, \"total_cases_normalized\": 230, \"days_after\": 4}, {\"date\": \"2020-03-20T00:00:00\", \"location\": \"Romania\", \"total_cases\": 277, \"total_deaths\": 0, \"total_cases_normalized\": 245, \"days_after\": 5}, {\"date\": \"2020-03-21T00:00:00\", \"location\": \"Romania\", \"total_cases\": 308, \"total_deaths\": 0, \"total_cases_normalized\": 272, \"days_after\": 6}, {\"date\": \"2020-03-22T00:00:00\", \"location\": \"Romania\", \"total_cases\": 367, \"total_deaths\": 0, \"total_cases_normalized\": 324, \"days_after\": 7}, {\"date\": \"2020-03-23T00:00:00\", \"location\": \"Romania\", \"total_cases\": 433, \"total_deaths\": 2, \"total_cases_normalized\": 383, \"days_after\": 8}, {\"date\": \"2020-03-24T00:00:00\", \"location\": \"Romania\", \"total_cases\": 576, \"total_deaths\": 7, \"total_cases_normalized\": 509, \"days_after\": 9}, {\"date\": \"2020-03-25T00:00:00\", \"location\": \"Romania\", \"total_cases\": 762, \"total_deaths\": 11, \"total_cases_normalized\": 674, \"days_after\": 10}, {\"date\": \"2020-03-26T00:00:00\", \"location\": \"Romania\", \"total_cases\": 906, \"total_deaths\": 13, \"total_cases_normalized\": 801, \"days_after\": 11}, {\"date\": \"2020-03-27T00:00:00\", \"location\": \"Romania\", \"total_cases\": 1029, \"total_deaths\": 17, \"total_cases_normalized\": 910, \"days_after\": 12}, {\"date\": \"2020-02-21T00:00:00\", \"location\": \"South Korea\", \"total_cases\": 155, \"total_deaths\": 1, \"total_cases_normalized\": 100, \"days_after\": 0}, {\"date\": \"2020-02-22T00:00:00\", \"location\": \"South Korea\", \"total_cases\": 345, \"total_deaths\": 2, \"total_cases_normalized\": 222, \"days_after\": 1}, {\"date\": \"2020-02-23T00:00:00\", \"location\": \"South Korea\", \"total_cases\": 601, \"total_deaths\": 5, \"total_cases_normalized\": 387, \"days_after\": 2}, {\"date\": \"2020-02-24T00:00:00\", \"location\": \"South Korea\", \"total_cases\": 762, \"total_deaths\": 7, \"total_cases_normalized\": 491, \"days_after\": 3}, {\"date\": \"2020-02-25T00:00:00\", \"location\": \"South Korea\", \"total_cases\": 892, \"total_deaths\": 8, \"total_cases_normalized\": 575, \"days_after\": 4}, {\"date\": \"2020-02-26T00:00:00\", \"location\": \"South Korea\", \"total_cases\": 1146, \"total_deaths\": 11, \"total_cases_normalized\": 739, \"days_after\": 5}, {\"date\": \"2020-02-27T00:00:00\", \"location\": \"South Korea\", \"total_cases\": 1595, \"total_deaths\": 12, \"total_cases_normalized\": 1029, \"days_after\": 6}, {\"date\": \"2020-02-28T00:00:00\", \"location\": \"South Korea\", \"total_cases\": 2022, \"total_deaths\": 13, \"total_cases_normalized\": 1304, \"days_after\": 7}, {\"date\": \"2020-02-29T00:00:00\", \"location\": \"South Korea\", \"total_cases\": 2931, \"total_deaths\": 16, \"total_cases_normalized\": 1890, \"days_after\": 8}, {\"date\": \"2020-03-01T00:00:00\", \"location\": \"South Korea\", \"total_cases\": 3526, \"total_deaths\": 17, \"total_cases_normalized\": 2274, \"days_after\": 9}, {\"date\": \"2020-03-02T00:00:00\", \"location\": \"South Korea\", \"total_cases\": 4212, \"total_deaths\": 22, \"total_cases_normalized\": 2717, \"days_after\": 10}, {\"date\": \"2020-03-03T00:00:00\", \"location\": \"South Korea\", \"total_cases\": 4812, \"total_deaths\": 28, \"total_cases_normalized\": 3104, \"days_after\": 11}, {\"date\": \"2020-03-04T00:00:00\", \"location\": \"South Korea\", \"total_cases\": 5328, \"total_deaths\": 32, \"total_cases_normalized\": 3437, \"days_after\": 12}, {\"date\": \"2020-03-05T00:00:00\", \"location\": \"South Korea\", \"total_cases\": 5766, \"total_deaths\": 35, \"total_cases_normalized\": 3720, \"days_after\": 13}, {\"date\": \"2020-03-06T00:00:00\", \"location\": \"South Korea\", \"total_cases\": 6284, \"total_deaths\": 42, \"total_cases_normalized\": 4054, \"days_after\": 14}, {\"date\": \"2020-03-07T00:00:00\", \"location\": \"South Korea\", \"total_cases\": 6767, \"total_deaths\": 44, \"total_cases_normalized\": 4365, \"days_after\": 15}, {\"date\": \"2020-03-08T00:00:00\", \"location\": \"South Korea\", \"total_cases\": 7134, \"total_deaths\": 50, \"total_cases_normalized\": 4602, \"days_after\": 16}, {\"date\": \"2020-03-09T00:00:00\", \"location\": \"South Korea\", \"total_cases\": 7382, \"total_deaths\": 51, \"total_cases_normalized\": 4762, \"days_after\": 17}, {\"date\": \"2020-03-10T00:00:00\", \"location\": \"South Korea\", \"total_cases\": 7513, \"total_deaths\": 54, \"total_cases_normalized\": 4847, \"days_after\": 18}, {\"date\": \"2020-03-11T00:00:00\", \"location\": \"South Korea\", \"total_cases\": 7755, \"total_deaths\": 60, \"total_cases_normalized\": 5003, \"days_after\": 19}, {\"date\": \"2020-03-12T00:00:00\", \"location\": \"South Korea\", \"total_cases\": 7869, \"total_deaths\": 66, \"total_cases_normalized\": 5076, \"days_after\": 20}, {\"date\": \"2020-03-13T00:00:00\", \"location\": \"South Korea\", \"total_cases\": 7979, \"total_deaths\": 67, \"total_cases_normalized\": 5147, \"days_after\": 21}, {\"date\": \"2020-03-14T00:00:00\", \"location\": \"South Korea\", \"total_cases\": 8086, \"total_deaths\": 72, \"total_cases_normalized\": 5216, \"days_after\": 22}, {\"date\": \"2020-03-15T00:00:00\", \"location\": \"South Korea\", \"total_cases\": 8162, \"total_deaths\": 75, \"total_cases_normalized\": 5265, \"days_after\": 23}, {\"date\": \"2020-03-16T00:00:00\", \"location\": \"South Korea\", \"total_cases\": 8236, \"total_deaths\": 75, \"total_cases_normalized\": 5313, \"days_after\": 24}, {\"date\": \"2020-03-17T00:00:00\", \"location\": \"South Korea\", \"total_cases\": 8320, \"total_deaths\": 81, \"total_cases_normalized\": 5367, \"days_after\": 25}, {\"date\": \"2020-03-18T00:00:00\", \"location\": \"South Korea\", \"total_cases\": 8413, \"total_deaths\": 86, \"total_cases_normalized\": 5427, \"days_after\": 26}, {\"date\": \"2020-03-19T00:00:00\", \"location\": \"South Korea\", \"total_cases\": 8565, \"total_deaths\": 91, \"total_cases_normalized\": 5525, \"days_after\": 27}, {\"date\": \"2020-03-20T00:00:00\", \"location\": \"South Korea\", \"total_cases\": 8652, \"total_deaths\": 100, \"total_cases_normalized\": 5581, \"days_after\": 28}, {\"date\": \"2020-03-21T00:00:00\", \"location\": \"South Korea\", \"total_cases\": 8799, \"total_deaths\": 103, \"total_cases_normalized\": 5676, \"days_after\": 29}, {\"date\": \"2020-03-22T00:00:00\", \"location\": \"South Korea\", \"total_cases\": 8897, \"total_deaths\": 104, \"total_cases_normalized\": 5740, \"days_after\": 30}, {\"date\": \"2020-03-23T00:00:00\", \"location\": \"South Korea\", \"total_cases\": 8961, \"total_deaths\": 113, \"total_cases_normalized\": 5781, \"days_after\": 31}, {\"date\": \"2020-03-24T00:00:00\", \"location\": \"South Korea\", \"total_cases\": 9037, \"total_deaths\": 120, \"total_cases_normalized\": 5830, \"days_after\": 32}, {\"date\": \"2020-03-25T00:00:00\", \"location\": \"South Korea\", \"total_cases\": 9137, \"total_deaths\": 126, \"total_cases_normalized\": 5894, \"days_after\": 33}, {\"date\": \"2020-03-26T00:00:00\", \"location\": \"South Korea\", \"total_cases\": 9241, \"total_deaths\": 131, \"total_cases_normalized\": 5961, \"days_after\": 34}, {\"date\": \"2020-03-27T00:00:00\", \"location\": \"South Korea\", \"total_cases\": 9332, \"total_deaths\": 139, \"total_cases_normalized\": 6020, \"days_after\": 35}, {\"date\": \"2020-03-03T00:00:00\", \"location\": \"Spain\", \"total_cases\": 114, \"total_deaths\": 0, \"total_cases_normalized\": 100, \"days_after\": 0}, {\"date\": \"2020-03-04T00:00:00\", \"location\": \"Spain\", \"total_cases\": 151, \"total_deaths\": 0, \"total_cases_normalized\": 132, \"days_after\": 1}, {\"date\": \"2020-03-05T00:00:00\", \"location\": \"Spain\", \"total_cases\": 200, \"total_deaths\": 1, \"total_cases_normalized\": 175, \"days_after\": 2}, {\"date\": \"2020-03-06T00:00:00\", \"location\": \"Spain\", \"total_cases\": 261, \"total_deaths\": 3, \"total_cases_normalized\": 228, \"days_after\": 3}, {\"date\": \"2020-03-07T00:00:00\", \"location\": \"Spain\", \"total_cases\": 374, \"total_deaths\": 5, \"total_cases_normalized\": 328, \"days_after\": 4}, {\"date\": \"2020-03-08T00:00:00\", \"location\": \"Spain\", \"total_cases\": 430, \"total_deaths\": 5, \"total_cases_normalized\": 377, \"days_after\": 5}, {\"date\": \"2020-03-09T00:00:00\", \"location\": \"Spain\", \"total_cases\": 589, \"total_deaths\": 5, \"total_cases_normalized\": 516, \"days_after\": 6}, {\"date\": \"2020-03-10T00:00:00\", \"location\": \"Spain\", \"total_cases\": 1204, \"total_deaths\": 28, \"total_cases_normalized\": 1056, \"days_after\": 7}, {\"date\": \"2020-03-11T00:00:00\", \"location\": \"Spain\", \"total_cases\": 1639, \"total_deaths\": 35, \"total_cases_normalized\": 1437, \"days_after\": 8}, {\"date\": \"2020-03-12T00:00:00\", \"location\": \"Spain\", \"total_cases\": 2140, \"total_deaths\": 47, \"total_cases_normalized\": 1877, \"days_after\": 9}, {\"date\": \"2020-03-13T00:00:00\", \"location\": \"Spain\", \"total_cases\": 3004, \"total_deaths\": 84, \"total_cases_normalized\": 2635, \"days_after\": 10}, {\"date\": \"2020-03-14T00:00:00\", \"location\": \"Spain\", \"total_cases\": 4231, \"total_deaths\": 121, \"total_cases_normalized\": 3711, \"days_after\": 11}, {\"date\": \"2020-03-15T00:00:00\", \"location\": \"Spain\", \"total_cases\": 5753, \"total_deaths\": 136, \"total_cases_normalized\": 5046, \"days_after\": 12}, {\"date\": \"2020-03-16T00:00:00\", \"location\": \"Spain\", \"total_cases\": 7753, \"total_deaths\": 288, \"total_cases_normalized\": 6800, \"days_after\": 13}, {\"date\": \"2020-03-17T00:00:00\", \"location\": \"Spain\", \"total_cases\": 9191, \"total_deaths\": 309, \"total_cases_normalized\": 8062, \"days_after\": 14}, {\"date\": \"2020-03-18T00:00:00\", \"location\": \"Spain\", \"total_cases\": 11178, \"total_deaths\": 491, \"total_cases_normalized\": 9805, \"days_after\": 15}, {\"date\": \"2020-03-19T00:00:00\", \"location\": \"Spain\", \"total_cases\": 13716, \"total_deaths\": 598, \"total_cases_normalized\": 12031, \"days_after\": 16}, {\"date\": \"2020-03-20T00:00:00\", \"location\": \"Spain\", \"total_cases\": 17147, \"total_deaths\": 767, \"total_cases_normalized\": 15041, \"days_after\": 17}, {\"date\": \"2020-03-21T00:00:00\", \"location\": \"Spain\", \"total_cases\": 19980, \"total_deaths\": 1002, \"total_cases_normalized\": 17526, \"days_after\": 18}, {\"date\": \"2020-03-22T00:00:00\", \"location\": \"Spain\", \"total_cases\": 24926, \"total_deaths\": 1326, \"total_cases_normalized\": 21864, \"days_after\": 19}, {\"date\": \"2020-03-23T00:00:00\", \"location\": \"Spain\", \"total_cases\": 28572, \"total_deaths\": 1720, \"total_cases_normalized\": 25063, \"days_after\": 20}, {\"date\": \"2020-03-24T00:00:00\", \"location\": \"Spain\", \"total_cases\": 33089, \"total_deaths\": 2182, \"total_cases_normalized\": 29025, \"days_after\": 21}, {\"date\": \"2020-03-25T00:00:00\", \"location\": \"Spain\", \"total_cases\": 39673, \"total_deaths\": 2696, \"total_cases_normalized\": 34800, \"days_after\": 22}, {\"date\": \"2020-03-26T00:00:00\", \"location\": \"Spain\", \"total_cases\": 47610, \"total_deaths\": 3434, \"total_cases_normalized\": 41763, \"days_after\": 23}, {\"date\": \"2020-03-27T00:00:00\", \"location\": \"Spain\", \"total_cases\": 56188, \"total_deaths\": 4089, \"total_cases_normalized\": 49287, \"days_after\": 24}, {\"date\": \"2020-03-07T00:00:00\", \"location\": \"Sweden\", \"total_cases\": 137, \"total_deaths\": 0, \"total_cases_normalized\": 100, \"days_after\": 0}, {\"date\": \"2020-03-08T00:00:00\", \"location\": \"Sweden\", \"total_cases\": 161, \"total_deaths\": 0, \"total_cases_normalized\": 117, \"days_after\": 1}, {\"date\": \"2020-03-09T00:00:00\", \"location\": \"Sweden\", \"total_cases\": 203, \"total_deaths\": 0, \"total_cases_normalized\": 148, \"days_after\": 2}, {\"date\": \"2020-03-10T00:00:00\", \"location\": \"Sweden\", \"total_cases\": 248, \"total_deaths\": 0, \"total_cases_normalized\": 181, \"days_after\": 3}, {\"date\": \"2020-03-11T00:00:00\", \"location\": \"Sweden\", \"total_cases\": 326, \"total_deaths\": 0, \"total_cases_normalized\": 237, \"days_after\": 4}, {\"date\": \"2020-03-12T00:00:00\", \"location\": \"Sweden\", \"total_cases\": 462, \"total_deaths\": 1, \"total_cases_normalized\": 337, \"days_after\": 5}, {\"date\": \"2020-03-13T00:00:00\", \"location\": \"Sweden\", \"total_cases\": 620, \"total_deaths\": 1, \"total_cases_normalized\": 452, \"days_after\": 6}, {\"date\": \"2020-03-14T00:00:00\", \"location\": \"Sweden\", \"total_cases\": 775, \"total_deaths\": 1, \"total_cases_normalized\": 565, \"days_after\": 7}, {\"date\": \"2020-03-15T00:00:00\", \"location\": \"Sweden\", \"total_cases\": 924, \"total_deaths\": 1, \"total_cases_normalized\": 674, \"days_after\": 8}, {\"date\": \"2020-03-16T00:00:00\", \"location\": \"Sweden\", \"total_cases\": 1032, \"total_deaths\": 3, \"total_cases_normalized\": 753, \"days_after\": 9}, {\"date\": \"2020-03-17T00:00:00\", \"location\": \"Sweden\", \"total_cases\": 1121, \"total_deaths\": 7, \"total_cases_normalized\": 818, \"days_after\": 10}, {\"date\": \"2020-03-18T00:00:00\", \"location\": \"Sweden\", \"total_cases\": 1167, \"total_deaths\": 8, \"total_cases_normalized\": 851, \"days_after\": 11}, {\"date\": \"2020-03-19T00:00:00\", \"location\": \"Sweden\", \"total_cases\": 1301, \"total_deaths\": 10, \"total_cases_normalized\": 949, \"days_after\": 12}, {\"date\": \"2020-03-20T00:00:00\", \"location\": \"Sweden\", \"total_cases\": 1423, \"total_deaths\": 10, \"total_cases_normalized\": 1038, \"days_after\": 13}, {\"date\": \"2020-03-21T00:00:00\", \"location\": \"Sweden\", \"total_cases\": 1623, \"total_deaths\": 16, \"total_cases_normalized\": 1184, \"days_after\": 14}, {\"date\": \"2020-03-22T00:00:00\", \"location\": \"Sweden\", \"total_cases\": 1746, \"total_deaths\": 20, \"total_cases_normalized\": 1274, \"days_after\": 15}, {\"date\": \"2020-03-23T00:00:00\", \"location\": \"Sweden\", \"total_cases\": 1906, \"total_deaths\": 21, \"total_cases_normalized\": 1391, \"days_after\": 16}, {\"date\": \"2020-03-24T00:00:00\", \"location\": \"Sweden\", \"total_cases\": 2016, \"total_deaths\": 25, \"total_cases_normalized\": 1471, \"days_after\": 17}, {\"date\": \"2020-03-25T00:00:00\", \"location\": \"Sweden\", \"total_cases\": 2272, \"total_deaths\": 36, \"total_cases_normalized\": 1658, \"days_after\": 18}, {\"date\": \"2020-03-26T00:00:00\", \"location\": \"Sweden\", \"total_cases\": 2510, \"total_deaths\": 42, \"total_cases_normalized\": 1832, \"days_after\": 19}, {\"date\": \"2020-03-27T00:00:00\", \"location\": \"Sweden\", \"total_cases\": 2806, \"total_deaths\": 66, \"total_cases_normalized\": 2048, \"days_after\": 20}, {\"date\": \"2020-03-07T00:00:00\", \"location\": \"Switzerland\", \"total_cases\": 209, \"total_deaths\": 1, \"total_cases_normalized\": 100, \"days_after\": 0}, {\"date\": \"2020-03-08T00:00:00\", \"location\": \"Switzerland\", \"total_cases\": 264, \"total_deaths\": 1, \"total_cases_normalized\": 126, \"days_after\": 1}, {\"date\": \"2020-03-09T00:00:00\", \"location\": \"Switzerland\", \"total_cases\": 332, \"total_deaths\": 2, \"total_cases_normalized\": 158, \"days_after\": 2}, {\"date\": \"2020-03-10T00:00:00\", \"location\": \"Switzerland\", \"total_cases\": 374, \"total_deaths\": 2, \"total_cases_normalized\": 178, \"days_after\": 3}, {\"date\": \"2020-03-11T00:00:00\", \"location\": \"Switzerland\", \"total_cases\": 490, \"total_deaths\": 3, \"total_cases_normalized\": 234, \"days_after\": 4}, {\"date\": \"2020-03-12T00:00:00\", \"location\": \"Switzerland\", \"total_cases\": 642, \"total_deaths\": 4, \"total_cases_normalized\": 307, \"days_after\": 5}, {\"date\": \"2020-03-13T00:00:00\", \"location\": \"Switzerland\", \"total_cases\": 854, \"total_deaths\": 4, \"total_cases_normalized\": 408, \"days_after\": 6}, {\"date\": \"2020-03-14T00:00:00\", \"location\": \"Switzerland\", \"total_cases\": 1121, \"total_deaths\": 7, \"total_cases_normalized\": 536, \"days_after\": 7}, {\"date\": \"2020-03-15T00:00:00\", \"location\": \"Switzerland\", \"total_cases\": 1359, \"total_deaths\": 11, \"total_cases_normalized\": 650, \"days_after\": 8}, {\"date\": \"2020-03-16T00:00:00\", \"location\": \"Switzerland\", \"total_cases\": 2200, \"total_deaths\": 13, \"total_cases_normalized\": 1052, \"days_after\": 9}, {\"date\": \"2020-03-17T00:00:00\", \"location\": \"Switzerland\", \"total_cases\": 2200, \"total_deaths\": 14, \"total_cases_normalized\": 1052, \"days_after\": 10}, {\"date\": \"2020-03-18T00:00:00\", \"location\": \"Switzerland\", \"total_cases\": 2650, \"total_deaths\": 19, \"total_cases_normalized\": 1267, \"days_after\": 11}, {\"date\": \"2020-03-19T00:00:00\", \"location\": \"Switzerland\", \"total_cases\": 3010, \"total_deaths\": 21, \"total_cases_normalized\": 1440, \"days_after\": 12}, {\"date\": \"2020-03-20T00:00:00\", \"location\": \"Switzerland\", \"total_cases\": 3888, \"total_deaths\": 33, \"total_cases_normalized\": 1860, \"days_after\": 13}, {\"date\": \"2020-03-21T00:00:00\", \"location\": \"Switzerland\", \"total_cases\": 4840, \"total_deaths\": 43, \"total_cases_normalized\": 2315, \"days_after\": 14}, {\"date\": \"2020-03-22T00:00:00\", \"location\": \"Switzerland\", \"total_cases\": 6077, \"total_deaths\": 56, \"total_cases_normalized\": 2907, \"days_after\": 15}, {\"date\": \"2020-03-23T00:00:00\", \"location\": \"Switzerland\", \"total_cases\": 6971, \"total_deaths\": 60, \"total_cases_normalized\": 3335, \"days_after\": 16}, {\"date\": \"2020-03-24T00:00:00\", \"location\": \"Switzerland\", \"total_cases\": 8015, \"total_deaths\": 66, \"total_cases_normalized\": 3834, \"days_after\": 17}, {\"date\": \"2020-03-25T00:00:00\", \"location\": \"Switzerland\", \"total_cases\": 8789, \"total_deaths\": 86, \"total_cases_normalized\": 4205, \"days_after\": 18}, {\"date\": \"2020-03-26T00:00:00\", \"location\": \"Switzerland\", \"total_cases\": 9714, \"total_deaths\": 103, \"total_cases_normalized\": 4647, \"days_after\": 19}, {\"date\": \"2020-03-27T00:00:00\", \"location\": \"Switzerland\", \"total_cases\": 10714, \"total_deaths\": 161, \"total_cases_normalized\": 5126, \"days_after\": 20}, {\"date\": \"2020-03-16T00:00:00\", \"location\": \"Thailand\", \"total_cases\": 114, \"total_deaths\": 1, \"total_cases_normalized\": 100, \"days_after\": 0}, {\"date\": \"2020-03-17T00:00:00\", \"location\": \"Thailand\", \"total_cases\": 177, \"total_deaths\": 1, \"total_cases_normalized\": 155, \"days_after\": 1}, {\"date\": \"2020-03-18T00:00:00\", \"location\": \"Thailand\", \"total_cases\": 177, \"total_deaths\": 1, \"total_cases_normalized\": 155, \"days_after\": 2}, {\"date\": \"2020-03-19T00:00:00\", \"location\": \"Thailand\", \"total_cases\": 177, \"total_deaths\": 1, \"total_cases_normalized\": 155, \"days_after\": 3}, {\"date\": \"2020-03-20T00:00:00\", \"location\": \"Thailand\", \"total_cases\": 212, \"total_deaths\": 1, \"total_cases_normalized\": 185, \"days_after\": 4}, {\"date\": \"2020-03-21T00:00:00\", \"location\": \"Thailand\", \"total_cases\": 366, \"total_deaths\": 1, \"total_cases_normalized\": 321, \"days_after\": 5}, {\"date\": \"2020-03-22T00:00:00\", \"location\": \"Thailand\", \"total_cases\": 599, \"total_deaths\": 1, \"total_cases_normalized\": 525, \"days_after\": 6}, {\"date\": \"2020-03-23T00:00:00\", \"location\": \"Thailand\", \"total_cases\": 721, \"total_deaths\": 1, \"total_cases_normalized\": 632, \"days_after\": 7}, {\"date\": \"2020-03-24T00:00:00\", \"location\": \"Thailand\", \"total_cases\": 827, \"total_deaths\": 4, \"total_cases_normalized\": 725, \"days_after\": 8}, {\"date\": \"2020-03-25T00:00:00\", \"location\": \"Thailand\", \"total_cases\": 934, \"total_deaths\": 4, \"total_cases_normalized\": 819, \"days_after\": 9}, {\"date\": \"2020-03-26T00:00:00\", \"location\": \"Thailand\", \"total_cases\": 1045, \"total_deaths\": 4, \"total_cases_normalized\": 916, \"days_after\": 10}, {\"date\": \"2020-03-27T00:00:00\", \"location\": \"Thailand\", \"total_cases\": 1136, \"total_deaths\": 5, \"total_cases_normalized\": 996, \"days_after\": 11}, {\"date\": \"2020-03-19T00:00:00\", \"location\": \"Turkey\", \"total_cases\": 191, \"total_deaths\": 1, \"total_cases_normalized\": 100, \"days_after\": 0}, {\"date\": \"2020-03-20T00:00:00\", \"location\": \"Turkey\", \"total_cases\": 359, \"total_deaths\": 4, \"total_cases_normalized\": 187, \"days_after\": 1}, {\"date\": \"2020-03-21T00:00:00\", \"location\": \"Turkey\", \"total_cases\": 670, \"total_deaths\": 9, \"total_cases_normalized\": 350, \"days_after\": 2}, {\"date\": \"2020-03-22T00:00:00\", \"location\": \"Turkey\", \"total_cases\": 947, \"total_deaths\": 21, \"total_cases_normalized\": 495, \"days_after\": 3}, {\"date\": \"2020-03-23T00:00:00\", \"location\": \"Turkey\", \"total_cases\": 1236, \"total_deaths\": 30, \"total_cases_normalized\": 647, \"days_after\": 4}, {\"date\": \"2020-03-24T00:00:00\", \"location\": \"Turkey\", \"total_cases\": 1529, \"total_deaths\": 37, \"total_cases_normalized\": 800, \"days_after\": 5}, {\"date\": \"2020-03-25T00:00:00\", \"location\": \"Turkey\", \"total_cases\": 1872, \"total_deaths\": 44, \"total_cases_normalized\": 980, \"days_after\": 6}, {\"date\": \"2020-03-26T00:00:00\", \"location\": \"Turkey\", \"total_cases\": 2433, \"total_deaths\": 59, \"total_cases_normalized\": 1273, \"days_after\": 7}, {\"date\": \"2020-03-27T00:00:00\", \"location\": \"Turkey\", \"total_cases\": 3629, \"total_deaths\": 75, \"total_cases_normalized\": 1900, \"days_after\": 8}, {\"date\": \"2020-03-06T00:00:00\", \"location\": \"United Kingdom\", \"total_cases\": 115, \"total_deaths\": 1, \"total_cases_normalized\": 100, \"days_after\": 0}, {\"date\": \"2020-03-07T00:00:00\", \"location\": \"United Kingdom\", \"total_cases\": 163, \"total_deaths\": 1, \"total_cases_normalized\": 141, \"days_after\": 1}, {\"date\": \"2020-03-08T00:00:00\", \"location\": \"United Kingdom\", \"total_cases\": 206, \"total_deaths\": 2, \"total_cases_normalized\": 179, \"days_after\": 2}, {\"date\": \"2020-03-09T00:00:00\", \"location\": \"United Kingdom\", \"total_cases\": 273, \"total_deaths\": 3, \"total_cases_normalized\": 237, \"days_after\": 3}, {\"date\": \"2020-03-10T00:00:00\", \"location\": \"United Kingdom\", \"total_cases\": 321, \"total_deaths\": 5, \"total_cases_normalized\": 279, \"days_after\": 4}, {\"date\": \"2020-03-11T00:00:00\", \"location\": \"United Kingdom\", \"total_cases\": 373, \"total_deaths\": 6, \"total_cases_normalized\": 324, \"days_after\": 5}, {\"date\": \"2020-03-12T00:00:00\", \"location\": \"United Kingdom\", \"total_cases\": 456, \"total_deaths\": 6, \"total_cases_normalized\": 396, \"days_after\": 6}, {\"date\": \"2020-03-13T00:00:00\", \"location\": \"United Kingdom\", \"total_cases\": 590, \"total_deaths\": 10, \"total_cases_normalized\": 513, \"days_after\": 7}, {\"date\": \"2020-03-14T00:00:00\", \"location\": \"United Kingdom\", \"total_cases\": 707, \"total_deaths\": 10, \"total_cases_normalized\": 614, \"days_after\": 8}, {\"date\": \"2020-03-15T00:00:00\", \"location\": \"United Kingdom\", \"total_cases\": 1140, \"total_deaths\": 21, \"total_cases_normalized\": 991, \"days_after\": 9}, {\"date\": \"2020-03-16T00:00:00\", \"location\": \"United Kingdom\", \"total_cases\": 1391, \"total_deaths\": 35, \"total_cases_normalized\": 1209, \"days_after\": 10}, {\"date\": \"2020-03-17T00:00:00\", \"location\": \"United Kingdom\", \"total_cases\": 1543, \"total_deaths\": 55, \"total_cases_normalized\": 1341, \"days_after\": 11}, {\"date\": \"2020-03-18T00:00:00\", \"location\": \"United Kingdom\", \"total_cases\": 1950, \"total_deaths\": 60, \"total_cases_normalized\": 1695, \"days_after\": 12}, {\"date\": \"2020-03-19T00:00:00\", \"location\": \"United Kingdom\", \"total_cases\": 2630, \"total_deaths\": 103, \"total_cases_normalized\": 2286, \"days_after\": 13}, {\"date\": \"2020-03-20T00:00:00\", \"location\": \"United Kingdom\", \"total_cases\": 3277, \"total_deaths\": 144, \"total_cases_normalized\": 2849, \"days_after\": 14}, {\"date\": \"2020-03-21T00:00:00\", \"location\": \"United Kingdom\", \"total_cases\": 3983, \"total_deaths\": 177, \"total_cases_normalized\": 3463, \"days_after\": 15}, {\"date\": \"2020-03-22T00:00:00\", \"location\": \"United Kingdom\", \"total_cases\": 5018, \"total_deaths\": 233, \"total_cases_normalized\": 4363, \"days_after\": 16}, {\"date\": \"2020-03-23T00:00:00\", \"location\": \"United Kingdom\", \"total_cases\": 5683, \"total_deaths\": 281, \"total_cases_normalized\": 4941, \"days_after\": 17}, {\"date\": \"2020-03-24T00:00:00\", \"location\": \"United Kingdom\", \"total_cases\": 6650, \"total_deaths\": 335, \"total_cases_normalized\": 5782, \"days_after\": 18}, {\"date\": \"2020-03-25T00:00:00\", \"location\": \"United Kingdom\", \"total_cases\": 8077, \"total_deaths\": 422, \"total_cases_normalized\": 7023, \"days_after\": 19}, {\"date\": \"2020-03-26T00:00:00\", \"location\": \"United Kingdom\", \"total_cases\": 9529, \"total_deaths\": 463, \"total_cases_normalized\": 8286, \"days_after\": 20}, {\"date\": \"2020-03-27T00:00:00\", \"location\": \"United Kingdom\", \"total_cases\": 11658, \"total_deaths\": 578, \"total_cases_normalized\": 10137, \"days_after\": 21}, {\"date\": \"2020-03-03T00:00:00\", \"location\": \"United States\", \"total_cases\": 103, \"total_deaths\": 6, \"total_cases_normalized\": 100, \"days_after\": 0}, {\"date\": \"2020-03-04T00:00:00\", \"location\": \"United States\", \"total_cases\": 125, \"total_deaths\": 9, \"total_cases_normalized\": 121, \"days_after\": 1}, {\"date\": \"2020-03-05T00:00:00\", \"location\": \"United States\", \"total_cases\": 159, \"total_deaths\": 11, \"total_cases_normalized\": 154, \"days_after\": 2}, {\"date\": \"2020-03-06T00:00:00\", \"location\": \"United States\", \"total_cases\": 233, \"total_deaths\": 12, \"total_cases_normalized\": 226, \"days_after\": 3}, {\"date\": \"2020-03-07T00:00:00\", \"location\": \"United States\", \"total_cases\": 338, \"total_deaths\": 14, \"total_cases_normalized\": 328, \"days_after\": 4}, {\"date\": \"2020-03-08T00:00:00\", \"location\": \"United States\", \"total_cases\": 433, \"total_deaths\": 17, \"total_cases_normalized\": 420, \"days_after\": 5}, {\"date\": \"2020-03-09T00:00:00\", \"location\": \"United States\", \"total_cases\": 554, \"total_deaths\": 21, \"total_cases_normalized\": 537, \"days_after\": 6}, {\"date\": \"2020-03-10T00:00:00\", \"location\": \"United States\", \"total_cases\": 754, \"total_deaths\": 26, \"total_cases_normalized\": 732, \"days_after\": 7}, {\"date\": \"2020-03-11T00:00:00\", \"location\": \"United States\", \"total_cases\": 1025, \"total_deaths\": 28, \"total_cases_normalized\": 995, \"days_after\": 8}, {\"date\": \"2020-03-12T00:00:00\", \"location\": \"United States\", \"total_cases\": 1312, \"total_deaths\": 30, \"total_cases_normalized\": 1273, \"days_after\": 9}, {\"date\": \"2020-03-13T00:00:00\", \"location\": \"United States\", \"total_cases\": 1663, \"total_deaths\": 40, \"total_cases_normalized\": 1614, \"days_after\": 10}, {\"date\": \"2020-03-14T00:00:00\", \"location\": \"United States\", \"total_cases\": 2174, \"total_deaths\": 47, \"total_cases_normalized\": 2110, \"days_after\": 11}, {\"date\": \"2020-03-15T00:00:00\", \"location\": \"United States\", \"total_cases\": 2951, \"total_deaths\": 57, \"total_cases_normalized\": 2865, \"days_after\": 12}, {\"date\": \"2020-03-16T00:00:00\", \"location\": \"United States\", \"total_cases\": 3774, \"total_deaths\": 69, \"total_cases_normalized\": 3664, \"days_after\": 13}, {\"date\": \"2020-03-17T00:00:00\", \"location\": \"United States\", \"total_cases\": 4661, \"total_deaths\": 85, \"total_cases_normalized\": 4525, \"days_after\": 14}, {\"date\": \"2020-03-18T00:00:00\", \"location\": \"United States\", \"total_cases\": 6427, \"total_deaths\": 108, \"total_cases_normalized\": 6239, \"days_after\": 15}, {\"date\": \"2020-03-19T00:00:00\", \"location\": \"United States\", \"total_cases\": 9415, \"total_deaths\": 150, \"total_cases_normalized\": 9140, \"days_after\": 16}, {\"date\": \"2020-03-20T00:00:00\", \"location\": \"United States\", \"total_cases\": 14250, \"total_deaths\": 150, \"total_cases_normalized\": 13834, \"days_after\": 17}, {\"date\": \"2020-03-21T00:00:00\", \"location\": \"United States\", \"total_cases\": 19624, \"total_deaths\": 260, \"total_cases_normalized\": 19052, \"days_after\": 18}, {\"date\": \"2020-03-22T00:00:00\", \"location\": \"United States\", \"total_cases\": 26747, \"total_deaths\": 340, \"total_cases_normalized\": 25967, \"days_after\": 19}, {\"date\": \"2020-03-23T00:00:00\", \"location\": \"United States\", \"total_cases\": 35206, \"total_deaths\": 471, \"total_cases_normalized\": 34180, \"days_after\": 20}, {\"date\": \"2020-03-24T00:00:00\", \"location\": \"United States\", \"total_cases\": 46442, \"total_deaths\": 590, \"total_cases_normalized\": 45089, \"days_after\": 21}, {\"date\": \"2020-03-25T00:00:00\", \"location\": \"United States\", \"total_cases\": 55231, \"total_deaths\": 801, \"total_cases_normalized\": 53622, \"days_after\": 22}, {\"date\": \"2020-03-26T00:00:00\", \"location\": \"United States\", \"total_cases\": 69194, \"total_deaths\": 1050, \"total_cases_normalized\": 67178, \"days_after\": 23}, {\"date\": \"2020-03-27T00:00:00\", \"location\": \"United States\", \"total_cases\": 85991, \"total_deaths\": 1296, \"total_cases_normalized\": 83486, \"days_after\": 24}], \"data-90add0c679489cc4b3ba7350e15530a3\": [{\"date\": \"2020-03-27T00:00:00\", \"location\": \"Australia\", \"total_cases\": 3166, \"total_deaths\": 13, \"total_deaths_normalized\": 10, \"days_after\": 0}, {\"date\": \"2020-03-23T00:00:00\", \"location\": \"Austria\", \"total_cases\": 3631, \"total_deaths\": 16, \"total_deaths_normalized\": 10, \"days_after\": 0}, {\"date\": \"2020-03-24T00:00:00\", \"location\": \"Austria\", \"total_cases\": 4486, \"total_deaths\": 25, \"total_deaths_normalized\": 15, \"days_after\": 1}, {\"date\": \"2020-03-25T00:00:00\", \"location\": \"Austria\", \"total_cases\": 5282, \"total_deaths\": 30, \"total_deaths_normalized\": 18, \"days_after\": 2}, {\"date\": \"2020-03-26T00:00:00\", \"location\": \"Austria\", \"total_cases\": 5888, \"total_deaths\": 34, \"total_deaths_normalized\": 21, \"days_after\": 3}, {\"date\": \"2020-03-27T00:00:00\", \"location\": \"Austria\", \"total_cases\": 7029, \"total_deaths\": 49, \"total_deaths_normalized\": 30, \"days_after\": 4}, {\"date\": \"2020-03-19T00:00:00\", \"location\": \"Belgium\", \"total_cases\": 1486, \"total_deaths\": 14, \"total_deaths_normalized\": 10, \"days_after\": 0}, {\"date\": \"2020-03-20T00:00:00\", \"location\": \"Belgium\", \"total_cases\": 1795, \"total_deaths\": 21, \"total_deaths_normalized\": 15, \"days_after\": 1}, {\"date\": \"2020-03-21T00:00:00\", \"location\": \"Belgium\", \"total_cases\": 2257, \"total_deaths\": 37, \"total_deaths_normalized\": 26, \"days_after\": 2}, {\"date\": \"2020-03-22T00:00:00\", \"location\": \"Belgium\", \"total_cases\": 2815, \"total_deaths\": 67, \"total_deaths_normalized\": 47, \"days_after\": 3}, {\"date\": \"2020-03-23T00:00:00\", \"location\": \"Belgium\", \"total_cases\": 3401, \"total_deaths\": 75, \"total_deaths_normalized\": 53, \"days_after\": 4}, {\"date\": \"2020-03-24T00:00:00\", \"location\": \"Belgium\", \"total_cases\": 3743, \"total_deaths\": 88, \"total_deaths_normalized\": 62, \"days_after\": 5}, {\"date\": \"2020-03-25T00:00:00\", \"location\": \"Belgium\", \"total_cases\": 4269, \"total_deaths\": 122, \"total_deaths_normalized\": 87, \"days_after\": 6}, {\"date\": \"2020-03-26T00:00:00\", \"location\": \"Belgium\", \"total_cases\": 4937, \"total_deaths\": 178, \"total_deaths_normalized\": 127, \"days_after\": 7}, {\"date\": \"2020-03-27T00:00:00\", \"location\": \"Belgium\", \"total_cases\": 6235, \"total_deaths\": 220, \"total_deaths_normalized\": 157, \"days_after\": 8}, {\"date\": \"2020-03-21T00:00:00\", \"location\": \"Brazil\", \"total_cases\": 904, \"total_deaths\": 11, \"total_deaths_normalized\": 10, \"days_after\": 0}, {\"date\": \"2020-03-22T00:00:00\", \"location\": \"Brazil\", \"total_cases\": 1128, \"total_deaths\": 18, \"total_deaths_normalized\": 16, \"days_after\": 1}, {\"date\": \"2020-03-23T00:00:00\", \"location\": \"Brazil\", \"total_cases\": 1546, \"total_deaths\": 25, \"total_deaths_normalized\": 22, \"days_after\": 2}, {\"date\": \"2020-03-24T00:00:00\", \"location\": \"Brazil\", \"total_cases\": 1891, \"total_deaths\": 34, \"total_deaths_normalized\": 30, \"days_after\": 3}, {\"date\": \"2020-03-25T00:00:00\", \"location\": \"Brazil\", \"total_cases\": 2201, \"total_deaths\": 46, \"total_deaths_normalized\": 41, \"days_after\": 4}, {\"date\": \"2020-03-26T00:00:00\", \"location\": \"Brazil\", \"total_cases\": 2433, \"total_deaths\": 57, \"total_deaths_normalized\": 51, \"days_after\": 5}, {\"date\": \"2020-03-27T00:00:00\", \"location\": \"Brazil\", \"total_cases\": 2915, \"total_deaths\": 77, \"total_deaths_normalized\": 70, \"days_after\": 6}, {\"date\": \"2020-03-20T00:00:00\", \"location\": \"Canada\", \"total_cases\": 846, \"total_deaths\": 10, \"total_deaths_normalized\": 10, \"days_after\": 0}, {\"date\": \"2020-03-21T00:00:00\", \"location\": \"Canada\", \"total_cases\": 971, \"total_deaths\": 12, \"total_deaths_normalized\": 12, \"days_after\": 1}, {\"date\": \"2020-03-22T00:00:00\", \"location\": \"Canada\", \"total_cases\": 1231, \"total_deaths\": 13, \"total_deaths_normalized\": 13, \"days_after\": 2}, {\"date\": \"2020-03-23T00:00:00\", \"location\": \"Canada\", \"total_cases\": 1430, \"total_deaths\": 18, \"total_deaths_normalized\": 18, \"days_after\": 3}, {\"date\": \"2020-03-24T00:00:00\", \"location\": \"Canada\", \"total_cases\": 1646, \"total_deaths\": 24, \"total_deaths_normalized\": 24, \"days_after\": 4}, {\"date\": \"2020-03-25T00:00:00\", \"location\": \"Canada\", \"total_cases\": 1959, \"total_deaths\": 27, \"total_deaths_normalized\": 27, \"days_after\": 5}, {\"date\": \"2020-03-26T00:00:00\", \"location\": \"Canada\", \"total_cases\": 3385, \"total_deaths\": 35, \"total_deaths_normalized\": 35, \"days_after\": 6}, {\"date\": \"2020-03-27T00:00:00\", \"location\": \"Canada\", \"total_cases\": 4018, \"total_deaths\": 39, \"total_deaths_normalized\": 39, \"days_after\": 7}, {\"date\": \"2020-01-22T00:00:00\", \"location\": \"China\", \"total_cases\": 526, \"total_deaths\": 17, \"total_deaths_normalized\": 10, \"days_after\": 0}, {\"date\": \"2020-01-23T00:00:00\", \"location\": \"China\", \"total_cases\": 623, \"total_deaths\": 17, \"total_deaths_normalized\": 10, \"days_after\": 1}, {\"date\": \"2020-01-24T00:00:00\", \"location\": \"China\", \"total_cases\": 882, \"total_deaths\": 26, \"total_deaths_normalized\": 15, \"days_after\": 2}, {\"date\": \"2020-01-25T00:00:00\", \"location\": \"China\", \"total_cases\": 1323, \"total_deaths\": 41, \"total_deaths_normalized\": 24, \"days_after\": 3}, {\"date\": \"2020-01-26T00:00:00\", \"location\": \"China\", \"total_cases\": 1988, \"total_deaths\": 56, \"total_deaths_normalized\": 32, \"days_after\": 4}, {\"date\": \"2020-01-27T00:00:00\", \"location\": \"China\", \"total_cases\": 2775, \"total_deaths\": 81, \"total_deaths_normalized\": 47, \"days_after\": 5}, {\"date\": \"2020-01-28T00:00:00\", \"location\": \"China\", \"total_cases\": 4528, \"total_deaths\": 106, \"total_deaths_normalized\": 62, \"days_after\": 6}, {\"date\": \"2020-01-29T00:00:00\", \"location\": \"China\", \"total_cases\": 5994, \"total_deaths\": 132, \"total_deaths_normalized\": 77, \"days_after\": 7}, {\"date\": \"2020-01-30T00:00:00\", \"location\": \"China\", \"total_cases\": 7734, \"total_deaths\": 170, \"total_deaths_normalized\": 100, \"days_after\": 8}, {\"date\": \"2020-01-31T00:00:00\", \"location\": \"China\", \"total_cases\": 9714, \"total_deaths\": 213, \"total_deaths_normalized\": 125, \"days_after\": 9}, {\"date\": \"2020-02-01T00:00:00\", \"location\": \"China\", \"total_cases\": 11809, \"total_deaths\": 259, \"total_deaths_normalized\": 152, \"days_after\": 10}, {\"date\": \"2020-02-02T00:00:00\", \"location\": \"China\", \"total_cases\": 14399, \"total_deaths\": 304, \"total_deaths_normalized\": 178, \"days_after\": 11}, {\"date\": \"2020-02-03T00:00:00\", \"location\": \"China\", \"total_cases\": 17211, \"total_deaths\": 361, \"total_deaths_normalized\": 212, \"days_after\": 12}, {\"date\": \"2020-02-04T00:00:00\", \"location\": \"China\", \"total_cases\": 20448, \"total_deaths\": 426, \"total_deaths_normalized\": 250, \"days_after\": 13}, {\"date\": \"2020-02-05T00:00:00\", \"location\": \"China\", \"total_cases\": 24320, \"total_deaths\": 492, \"total_deaths_normalized\": 289, \"days_after\": 14}, {\"date\": \"2020-02-06T00:00:00\", \"location\": \"China\", \"total_cases\": 28047, \"total_deaths\": 564, \"total_deaths_normalized\": 331, \"days_after\": 15}, {\"date\": \"2020-02-07T00:00:00\", \"location\": \"China\", \"total_cases\": 31207, \"total_deaths\": 637, \"total_deaths_normalized\": 374, \"days_after\": 16}, {\"date\": \"2020-02-08T00:00:00\", \"location\": \"China\", \"total_cases\": 34625, \"total_deaths\": 723, \"total_deaths_normalized\": 425, \"days_after\": 17}, {\"date\": \"2020-02-09T00:00:00\", \"location\": \"China\", \"total_cases\": 37232, \"total_deaths\": 812, \"total_deaths_normalized\": 477, \"days_after\": 18}, {\"date\": \"2020-02-10T00:00:00\", \"location\": \"China\", \"total_cases\": 40206, \"total_deaths\": 909, \"total_deaths_normalized\": 534, \"days_after\": 19}, {\"date\": \"2020-02-11T00:00:00\", \"location\": \"China\", \"total_cases\": 42696, \"total_deaths\": 1017, \"total_deaths_normalized\": 598, \"days_after\": 20}, {\"date\": \"2020-02-12T00:00:00\", \"location\": \"China\", \"total_cases\": 44724, \"total_deaths\": 1114, \"total_deaths_normalized\": 655, \"days_after\": 21}, {\"date\": \"2020-02-13T00:00:00\", \"location\": \"China\", \"total_cases\": 59865, \"total_deaths\": 1368, \"total_deaths_normalized\": 804, \"days_after\": 22}, {\"date\": \"2020-02-14T00:00:00\", \"location\": \"China\", \"total_cases\": 64021, \"total_deaths\": 1381, \"total_deaths_normalized\": 812, \"days_after\": 23}, {\"date\": \"2020-02-15T00:00:00\", \"location\": \"China\", \"total_cases\": 66559, \"total_deaths\": 1524, \"total_deaths_normalized\": 896, \"days_after\": 24}, {\"date\": \"2020-02-16T00:00:00\", \"location\": \"China\", \"total_cases\": 68566, \"total_deaths\": 1666, \"total_deaths_normalized\": 980, \"days_after\": 25}, {\"date\": \"2020-02-17T00:00:00\", \"location\": \"China\", \"total_cases\": 70618, \"total_deaths\": 1771, \"total_deaths_normalized\": 1041, \"days_after\": 26}, {\"date\": \"2020-02-18T00:00:00\", \"location\": \"China\", \"total_cases\": 72508, \"total_deaths\": 1869, \"total_deaths_normalized\": 1099, \"days_after\": 27}, {\"date\": \"2020-02-19T00:00:00\", \"location\": \"China\", \"total_cases\": 74258, \"total_deaths\": 2008, \"total_deaths_normalized\": 1181, \"days_after\": 28}, {\"date\": \"2020-02-20T00:00:00\", \"location\": \"China\", \"total_cases\": 74652, \"total_deaths\": 2120, \"total_deaths_normalized\": 1247, \"days_after\": 29}, {\"date\": \"2020-02-21T00:00:00\", \"location\": \"China\", \"total_cases\": 75543, \"total_deaths\": 2238, \"total_deaths_normalized\": 1316, \"days_after\": 30}, {\"date\": \"2020-02-22T00:00:00\", \"location\": \"China\", \"total_cases\": 76369, \"total_deaths\": 2347, \"total_deaths_normalized\": 1380, \"days_after\": 31}, {\"date\": \"2020-02-23T00:00:00\", \"location\": \"China\", \"total_cases\": 77016, \"total_deaths\": 2445, \"total_deaths_normalized\": 1438, \"days_after\": 32}, {\"date\": \"2020-02-24T00:00:00\", \"location\": \"China\", \"total_cases\": 77234, \"total_deaths\": 2595, \"total_deaths_normalized\": 1526, \"days_after\": 33}, {\"date\": \"2020-02-25T00:00:00\", \"location\": \"China\", \"total_cases\": 77749, \"total_deaths\": 2665, \"total_deaths_normalized\": 1567, \"days_after\": 34}, {\"date\": \"2020-02-26T00:00:00\", \"location\": \"China\", \"total_cases\": 78159, \"total_deaths\": 2717, \"total_deaths_normalized\": 1598, \"days_after\": 35}, {\"date\": \"2020-02-27T00:00:00\", \"location\": \"China\", \"total_cases\": 78598, \"total_deaths\": 2746, \"total_deaths_normalized\": 1615, \"days_after\": 36}, {\"date\": \"2020-02-28T00:00:00\", \"location\": \"China\", \"total_cases\": 78927, \"total_deaths\": 2790, \"total_deaths_normalized\": 1641, \"days_after\": 37}, {\"date\": \"2020-02-29T00:00:00\", \"location\": \"China\", \"total_cases\": 79355, \"total_deaths\": 2837, \"total_deaths_normalized\": 1668, \"days_after\": 38}, {\"date\": \"2020-03-01T00:00:00\", \"location\": \"China\", \"total_cases\": 79929, \"total_deaths\": 2872, \"total_deaths_normalized\": 1689, \"days_after\": 39}, {\"date\": \"2020-03-02T00:00:00\", \"location\": \"China\", \"total_cases\": 80134, \"total_deaths\": 2914, \"total_deaths_normalized\": 1714, \"days_after\": 40}, {\"date\": \"2020-03-03T00:00:00\", \"location\": \"China\", \"total_cases\": 80261, \"total_deaths\": 2946, \"total_deaths_normalized\": 1732, \"days_after\": 41}, {\"date\": \"2020-03-04T00:00:00\", \"location\": \"China\", \"total_cases\": 80380, \"total_deaths\": 2983, \"total_deaths_normalized\": 1754, \"days_after\": 42}, {\"date\": \"2020-03-05T00:00:00\", \"location\": \"China\", \"total_cases\": 80497, \"total_deaths\": 3014, \"total_deaths_normalized\": 1772, \"days_after\": 43}, {\"date\": \"2020-03-06T00:00:00\", \"location\": \"China\", \"total_cases\": 80667, \"total_deaths\": 3044, \"total_deaths_normalized\": 1790, \"days_after\": 44}, {\"date\": \"2020-03-07T00:00:00\", \"location\": \"China\", \"total_cases\": 80768, \"total_deaths\": 3072, \"total_deaths_normalized\": 1807, \"days_after\": 45}, {\"date\": \"2020-03-08T00:00:00\", \"location\": \"China\", \"total_cases\": 80814, \"total_deaths\": 3099, \"total_deaths_normalized\": 1822, \"days_after\": 46}, {\"date\": \"2020-03-09T00:00:00\", \"location\": \"China\", \"total_cases\": 80859, \"total_deaths\": 3122, \"total_deaths_normalized\": 1836, \"days_after\": 47}, {\"date\": \"2020-03-10T00:00:00\", \"location\": \"China\", \"total_cases\": 80879, \"total_deaths\": 3139, \"total_deaths_normalized\": 1846, \"days_after\": 48}, {\"date\": \"2020-03-11T00:00:00\", \"location\": \"China\", \"total_cases\": 80908, \"total_deaths\": 3161, \"total_deaths_normalized\": 1859, \"days_after\": 49}, {\"date\": \"2020-03-12T00:00:00\", \"location\": \"China\", \"total_cases\": 80932, \"total_deaths\": 3172, \"total_deaths_normalized\": 1865, \"days_after\": 50}, {\"date\": \"2020-03-13T00:00:00\", \"location\": \"China\", \"total_cases\": 80954, \"total_deaths\": 3179, \"total_deaths_normalized\": 1870, \"days_after\": 51}, {\"date\": \"2020-03-14T00:00:00\", \"location\": \"China\", \"total_cases\": 80973, \"total_deaths\": 3194, \"total_deaths_normalized\": 1878, \"days_after\": 52}, {\"date\": \"2020-03-15T00:00:00\", \"location\": \"China\", \"total_cases\": 80995, \"total_deaths\": 3203, \"total_deaths_normalized\": 1884, \"days_after\": 53}, {\"date\": \"2020-03-16T00:00:00\", \"location\": \"China\", \"total_cases\": 81020, \"total_deaths\": 3217, \"total_deaths_normalized\": 1892, \"days_after\": 54}, {\"date\": \"2020-03-17T00:00:00\", \"location\": \"China\", \"total_cases\": 81130, \"total_deaths\": 3226, \"total_deaths_normalized\": 1897, \"days_after\": 55}, {\"date\": \"2020-03-18T00:00:00\", \"location\": \"China\", \"total_cases\": 81163, \"total_deaths\": 3242, \"total_deaths_normalized\": 1907, \"days_after\": 56}, {\"date\": \"2020-03-19T00:00:00\", \"location\": \"China\", \"total_cases\": 81238, \"total_deaths\": 3250, \"total_deaths_normalized\": 1911, \"days_after\": 57}, {\"date\": \"2020-03-20T00:00:00\", \"location\": \"China\", \"total_cases\": 81337, \"total_deaths\": 3254, \"total_deaths_normalized\": 1914, \"days_after\": 58}, {\"date\": \"2020-03-21T00:00:00\", \"location\": \"China\", \"total_cases\": 81416, \"total_deaths\": 3261, \"total_deaths_normalized\": 1918, \"days_after\": 59}, {\"date\": \"2020-03-22T00:00:00\", \"location\": \"China\", \"total_cases\": 81499, \"total_deaths\": 3267, \"total_deaths_normalized\": 1921, \"days_after\": 60}, {\"date\": \"2020-03-23T00:00:00\", \"location\": \"China\", \"total_cases\": 81649, \"total_deaths\": 3276, \"total_deaths_normalized\": 1927, \"days_after\": 61}, {\"date\": \"2020-03-24T00:00:00\", \"location\": \"China\", \"total_cases\": 81748, \"total_deaths\": 3283, \"total_deaths_normalized\": 1931, \"days_after\": 62}, {\"date\": \"2020-03-25T00:00:00\", \"location\": \"China\", \"total_cases\": 81847, \"total_deaths\": 3287, \"total_deaths_normalized\": 1933, \"days_after\": 63}, {\"date\": \"2020-03-26T00:00:00\", \"location\": \"China\", \"total_cases\": 81968, \"total_deaths\": 3293, \"total_deaths_normalized\": 1937, \"days_after\": 64}, {\"date\": \"2020-03-27T00:00:00\", \"location\": \"China\", \"total_cases\": 82079, \"total_deaths\": 3298, \"total_deaths_normalized\": 1940, \"days_after\": 65}, {\"date\": \"2020-03-22T00:00:00\", \"location\": \"Denmark\", \"total_cases\": 1326, \"total_deaths\": 13, \"total_deaths_normalized\": 10, \"days_after\": 0}, {\"date\": \"2020-03-23T00:00:00\", \"location\": \"Denmark\", \"total_cases\": 1395, \"total_deaths\": 13, \"total_deaths_normalized\": 10, \"days_after\": 1}, {\"date\": \"2020-03-24T00:00:00\", \"location\": \"Denmark\", \"total_cases\": 1460, \"total_deaths\": 24, \"total_deaths_normalized\": 18, \"days_after\": 2}, {\"date\": \"2020-03-25T00:00:00\", \"location\": \"Denmark\", \"total_cases\": 1591, \"total_deaths\": 32, \"total_deaths_normalized\": 24, \"days_after\": 3}, {\"date\": \"2020-03-26T00:00:00\", \"location\": \"Denmark\", \"total_cases\": 1724, \"total_deaths\": 34, \"total_deaths_normalized\": 26, \"days_after\": 4}, {\"date\": \"2020-03-27T00:00:00\", \"location\": \"Denmark\", \"total_cases\": 1877, \"total_deaths\": 41, \"total_deaths_normalized\": 31, \"days_after\": 5}, {\"date\": \"2020-03-23T00:00:00\", \"location\": \"Ecuador\", \"total_cases\": 789, \"total_deaths\": 14, \"total_deaths_normalized\": 10, \"days_after\": 0}, {\"date\": \"2020-03-24T00:00:00\", \"location\": \"Ecuador\", \"total_cases\": 981, \"total_deaths\": 18, \"total_deaths_normalized\": 12, \"days_after\": 1}, {\"date\": \"2020-03-25T00:00:00\", \"location\": \"Ecuador\", \"total_cases\": 1082, \"total_deaths\": 27, \"total_deaths_normalized\": 19, \"days_after\": 2}, {\"date\": \"2020-03-26T00:00:00\", \"location\": \"Ecuador\", \"total_cases\": 1211, \"total_deaths\": 29, \"total_deaths_normalized\": 20, \"days_after\": 3}, {\"date\": \"2020-03-27T00:00:00\", \"location\": \"Ecuador\", \"total_cases\": 1403, \"total_deaths\": 34, \"total_deaths_normalized\": 24, \"days_after\": 4}, {\"date\": \"2020-03-08T00:00:00\", \"location\": \"France\", \"total_cases\": 716, \"total_deaths\": 10, \"total_deaths_normalized\": 10, \"days_after\": 0}, {\"date\": \"2020-03-09T00:00:00\", \"location\": \"France\", \"total_cases\": 1126, \"total_deaths\": 19, \"total_deaths_normalized\": 19, \"days_after\": 1}, {\"date\": \"2020-03-10T00:00:00\", \"location\": \"France\", \"total_cases\": 1412, \"total_deaths\": 30, \"total_deaths_normalized\": 30, \"days_after\": 2}, {\"date\": \"2020-03-11T00:00:00\", \"location\": \"France\", \"total_cases\": 1784, \"total_deaths\": 33, \"total_deaths_normalized\": 33, \"days_after\": 3}, {\"date\": \"2020-03-12T00:00:00\", \"location\": \"France\", \"total_cases\": 2281, \"total_deaths\": 48, \"total_deaths_normalized\": 48, \"days_after\": 4}, {\"date\": \"2020-03-13T00:00:00\", \"location\": \"France\", \"total_cases\": 2876, \"total_deaths\": 61, \"total_deaths_normalized\": 61, \"days_after\": 5}, {\"date\": \"2020-03-14T00:00:00\", \"location\": \"France\", \"total_cases\": 3661, \"total_deaths\": 79, \"total_deaths_normalized\": 79, \"days_after\": 6}, {\"date\": \"2020-03-15T00:00:00\", \"location\": \"France\", \"total_cases\": 4499, \"total_deaths\": 91, \"total_deaths_normalized\": 91, \"days_after\": 7}, {\"date\": \"2020-03-16T00:00:00\", \"location\": \"France\", \"total_cases\": 5423, \"total_deaths\": 127, \"total_deaths_normalized\": 127, \"days_after\": 8}, {\"date\": \"2020-03-17T00:00:00\", \"location\": \"France\", \"total_cases\": 6633, \"total_deaths\": 148, \"total_deaths_normalized\": 148, \"days_after\": 9}, {\"date\": \"2020-03-18T00:00:00\", \"location\": \"France\", \"total_cases\": 7730, \"total_deaths\": 175, \"total_deaths_normalized\": 175, \"days_after\": 10}, {\"date\": \"2020-03-19T00:00:00\", \"location\": \"France\", \"total_cases\": 9134, \"total_deaths\": 244, \"total_deaths_normalized\": 244, \"days_after\": 11}, {\"date\": \"2020-03-20T00:00:00\", \"location\": \"France\", \"total_cases\": 10995, \"total_deaths\": 372, \"total_deaths_normalized\": 372, \"days_after\": 12}, {\"date\": \"2020-03-21T00:00:00\", \"location\": \"France\", \"total_cases\": 12612, \"total_deaths\": 450, \"total_deaths_normalized\": 450, \"days_after\": 13}, {\"date\": \"2020-03-22T00:00:00\", \"location\": \"France\", \"total_cases\": 14459, \"total_deaths\": 562, \"total_deaths_normalized\": 562, \"days_after\": 14}, {\"date\": \"2020-03-23T00:00:00\", \"location\": \"France\", \"total_cases\": 16018, \"total_deaths\": 674, \"total_deaths_normalized\": 674, \"days_after\": 15}, {\"date\": \"2020-03-24T00:00:00\", \"location\": \"France\", \"total_cases\": 19856, \"total_deaths\": 860, \"total_deaths_normalized\": 860, \"days_after\": 16}, {\"date\": \"2020-03-25T00:00:00\", \"location\": \"France\", \"total_cases\": 22302, \"total_deaths\": 1100, \"total_deaths_normalized\": 1100, \"days_after\": 17}, {\"date\": \"2020-03-26T00:00:00\", \"location\": \"France\", \"total_cases\": 25233, \"total_deaths\": 1331, \"total_deaths_normalized\": 1331, \"days_after\": 18}, {\"date\": \"2020-03-27T00:00:00\", \"location\": \"France\", \"total_cases\": 29155, \"total_deaths\": 1696, \"total_deaths_normalized\": 1696, \"days_after\": 19}, {\"date\": \"2020-03-16T00:00:00\", \"location\": \"Germany\", \"total_cases\": 4838, \"total_deaths\": 12, \"total_deaths_normalized\": 10, \"days_after\": 0}, {\"date\": \"2020-03-17T00:00:00\", \"location\": \"Germany\", \"total_cases\": 6012, \"total_deaths\": 13, \"total_deaths_normalized\": 10, \"days_after\": 1}, {\"date\": \"2020-03-18T00:00:00\", \"location\": \"Germany\", \"total_cases\": 7156, \"total_deaths\": 13, \"total_deaths_normalized\": 10, \"days_after\": 2}, {\"date\": \"2020-03-19T00:00:00\", \"location\": \"Germany\", \"total_cases\": 8198, \"total_deaths\": 13, \"total_deaths_normalized\": 10, \"days_after\": 3}, {\"date\": \"2020-03-20T00:00:00\", \"location\": \"Germany\", \"total_cases\": 14138, \"total_deaths\": 43, \"total_deaths_normalized\": 35, \"days_after\": 4}, {\"date\": \"2020-03-21T00:00:00\", \"location\": \"Germany\", \"total_cases\": 18187, \"total_deaths\": 45, \"total_deaths_normalized\": 37, \"days_after\": 5}, {\"date\": \"2020-03-22T00:00:00\", \"location\": \"Germany\", \"total_cases\": 21463, \"total_deaths\": 67, \"total_deaths_normalized\": 55, \"days_after\": 6}, {\"date\": \"2020-03-23T00:00:00\", \"location\": \"Germany\", \"total_cases\": 24774, \"total_deaths\": 94, \"total_deaths_normalized\": 78, \"days_after\": 7}, {\"date\": \"2020-03-24T00:00:00\", \"location\": \"Germany\", \"total_cases\": 29212, \"total_deaths\": 126, \"total_deaths_normalized\": 105, \"days_after\": 8}, {\"date\": \"2020-03-25T00:00:00\", \"location\": \"Germany\", \"total_cases\": 31554, \"total_deaths\": 149, \"total_deaths_normalized\": 124, \"days_after\": 9}, {\"date\": \"2020-03-26T00:00:00\", \"location\": \"Germany\", \"total_cases\": 36508, \"total_deaths\": 198, \"total_deaths_normalized\": 165, \"days_after\": 10}, {\"date\": \"2020-03-27T00:00:00\", \"location\": \"Germany\", \"total_cases\": 42288, \"total_deaths\": 253, \"total_deaths_normalized\": 210, \"days_after\": 11}, {\"date\": \"2020-02-25T00:00:00\", \"location\": \"Iran\", \"total_cases\": 61, \"total_deaths\": 12, \"total_deaths_normalized\": 10, \"days_after\": 0}, {\"date\": \"2020-02-26T00:00:00\", \"location\": \"Iran\", \"total_cases\": 95, \"total_deaths\": 15, \"total_deaths_normalized\": 12, \"days_after\": 1}, {\"date\": \"2020-02-27T00:00:00\", \"location\": \"Iran\", \"total_cases\": 139, \"total_deaths\": 19, \"total_deaths_normalized\": 15, \"days_after\": 2}, {\"date\": \"2020-02-28T00:00:00\", \"location\": \"Iran\", \"total_cases\": 245, \"total_deaths\": 26, \"total_deaths_normalized\": 21, \"days_after\": 3}, {\"date\": \"2020-02-29T00:00:00\", \"location\": \"Iran\", \"total_cases\": 388, \"total_deaths\": 34, \"total_deaths_normalized\": 28, \"days_after\": 4}, {\"date\": \"2020-03-01T00:00:00\", \"location\": \"Iran\", \"total_cases\": 593, \"total_deaths\": 43, \"total_deaths_normalized\": 35, \"days_after\": 5}, {\"date\": \"2020-03-02T00:00:00\", \"location\": \"Iran\", \"total_cases\": 978, \"total_deaths\": 54, \"total_deaths_normalized\": 45, \"days_after\": 6}, {\"date\": \"2020-03-03T00:00:00\", \"location\": \"Iran\", \"total_cases\": 1501, \"total_deaths\": 66, \"total_deaths_normalized\": 55, \"days_after\": 7}, {\"date\": \"2020-03-04T00:00:00\", \"location\": \"Iran\", \"total_cases\": 2336, \"total_deaths\": 77, \"total_deaths_normalized\": 64, \"days_after\": 8}, {\"date\": \"2020-03-05T00:00:00\", \"location\": \"Iran\", \"total_cases\": 2922, \"total_deaths\": 92, \"total_deaths_normalized\": 76, \"days_after\": 9}, {\"date\": \"2020-03-06T00:00:00\", \"location\": \"Iran\", \"total_cases\": 3513, \"total_deaths\": 107, \"total_deaths_normalized\": 89, \"days_after\": 10}, {\"date\": \"2020-03-07T00:00:00\", \"location\": \"Iran\", \"total_cases\": 4747, \"total_deaths\": 124, \"total_deaths_normalized\": 103, \"days_after\": 11}, {\"date\": \"2020-03-08T00:00:00\", \"location\": \"Iran\", \"total_cases\": 5823, \"total_deaths\": 145, \"total_deaths_normalized\": 120, \"days_after\": 12}, {\"date\": \"2020-03-09T00:00:00\", \"location\": \"Iran\", \"total_cases\": 6566, \"total_deaths\": 194, \"total_deaths_normalized\": 161, \"days_after\": 13}, {\"date\": \"2020-03-10T00:00:00\", \"location\": \"Iran\", \"total_cases\": 7161, \"total_deaths\": 237, \"total_deaths_normalized\": 197, \"days_after\": 14}, {\"date\": \"2020-03-11T00:00:00\", \"location\": \"Iran\", \"total_cases\": 8042, \"total_deaths\": 291, \"total_deaths_normalized\": 242, \"days_after\": 15}, {\"date\": \"2020-03-12T00:00:00\", \"location\": \"Iran\", \"total_cases\": 9000, \"total_deaths\": 354, \"total_deaths_normalized\": 295, \"days_after\": 16}, {\"date\": \"2020-03-13T00:00:00\", \"location\": \"Iran\", \"total_cases\": 10075, \"total_deaths\": 429, \"total_deaths_normalized\": 357, \"days_after\": 17}, {\"date\": \"2020-03-14T00:00:00\", \"location\": \"Iran\", \"total_cases\": 11364, \"total_deaths\": 514, \"total_deaths_normalized\": 428, \"days_after\": 18}, {\"date\": \"2020-03-15T00:00:00\", \"location\": \"Iran\", \"total_cases\": 12729, \"total_deaths\": 611, \"total_deaths_normalized\": 509, \"days_after\": 19}, {\"date\": \"2020-03-16T00:00:00\", \"location\": \"Iran\", \"total_cases\": 13938, \"total_deaths\": 724, \"total_deaths_normalized\": 603, \"days_after\": 20}, {\"date\": \"2020-03-17T00:00:00\", \"location\": \"Iran\", \"total_cases\": 14991, \"total_deaths\": 853, \"total_deaths_normalized\": 710, \"days_after\": 21}, {\"date\": \"2020-03-18T00:00:00\", \"location\": \"Iran\", \"total_cases\": 16169, \"total_deaths\": 988, \"total_deaths_normalized\": 823, \"days_after\": 22}, {\"date\": \"2020-03-19T00:00:00\", \"location\": \"Iran\", \"total_cases\": 17361, \"total_deaths\": 1135, \"total_deaths_normalized\": 945, \"days_after\": 23}, {\"date\": \"2020-03-20T00:00:00\", \"location\": \"Iran\", \"total_cases\": 18407, \"total_deaths\": 1284, \"total_deaths_normalized\": 1070, \"days_after\": 24}, {\"date\": \"2020-03-21T00:00:00\", \"location\": \"Iran\", \"total_cases\": 19644, \"total_deaths\": 1433, \"total_deaths_normalized\": 1194, \"days_after\": 25}, {\"date\": \"2020-03-22T00:00:00\", \"location\": \"Iran\", \"total_cases\": 20610, \"total_deaths\": 1556, \"total_deaths_normalized\": 1296, \"days_after\": 26}, {\"date\": \"2020-03-23T00:00:00\", \"location\": \"Iran\", \"total_cases\": 21638, \"total_deaths\": 1685, \"total_deaths_normalized\": 1404, \"days_after\": 27}, {\"date\": \"2020-03-24T00:00:00\", \"location\": \"Iran\", \"total_cases\": 23049, \"total_deaths\": 1812, \"total_deaths_normalized\": 1510, \"days_after\": 28}, {\"date\": \"2020-03-25T00:00:00\", \"location\": \"Iran\", \"total_cases\": 24811, \"total_deaths\": 1934, \"total_deaths_normalized\": 1611, \"days_after\": 29}, {\"date\": \"2020-03-26T00:00:00\", \"location\": \"Iran\", \"total_cases\": 27017, \"total_deaths\": 2077, \"total_deaths_normalized\": 1730, \"days_after\": 30}, {\"date\": \"2020-03-27T00:00:00\", \"location\": \"Iran\", \"total_cases\": 29406, \"total_deaths\": 2234, \"total_deaths_normalized\": 1861, \"days_after\": 31}, {\"date\": \"2020-03-27T00:00:00\", \"location\": \"Ireland\", \"total_cases\": 1819, \"total_deaths\": 19, \"total_deaths_normalized\": 10, \"days_after\": 0}, {\"date\": \"2020-02-26T00:00:00\", \"location\": \"Italy\", \"total_cases\": 322, \"total_deaths\": 11, \"total_deaths_normalized\": 10, \"days_after\": 0}, {\"date\": \"2020-02-27T00:00:00\", \"location\": \"Italy\", \"total_cases\": 400, \"total_deaths\": 12, \"total_deaths_normalized\": 10, \"days_after\": 1}, {\"date\": \"2020-02-28T00:00:00\", \"location\": \"Italy\", \"total_cases\": 650, \"total_deaths\": 17, \"total_deaths_normalized\": 15, \"days_after\": 2}, {\"date\": \"2020-02-29T00:00:00\", \"location\": \"Italy\", \"total_cases\": 888, \"total_deaths\": 21, \"total_deaths_normalized\": 19, \"days_after\": 3}, {\"date\": \"2020-03-01T00:00:00\", \"location\": \"Italy\", \"total_cases\": 1128, \"total_deaths\": 29, \"total_deaths_normalized\": 26, \"days_after\": 4}, {\"date\": \"2020-03-02T00:00:00\", \"location\": \"Italy\", \"total_cases\": 1689, \"total_deaths\": 35, \"total_deaths_normalized\": 31, \"days_after\": 5}, {\"date\": \"2020-03-03T00:00:00\", \"location\": \"Italy\", \"total_cases\": 1835, \"total_deaths\": 52, \"total_deaths_normalized\": 47, \"days_after\": 6}, {\"date\": \"2020-03-04T00:00:00\", \"location\": \"Italy\", \"total_cases\": 2502, \"total_deaths\": 80, \"total_deaths_normalized\": 72, \"days_after\": 7}, {\"date\": \"2020-03-05T00:00:00\", \"location\": \"Italy\", \"total_cases\": 3089, \"total_deaths\": 107, \"total_deaths_normalized\": 97, \"days_after\": 8}, {\"date\": \"2020-03-06T00:00:00\", \"location\": \"Italy\", \"total_cases\": 3858, \"total_deaths\": 148, \"total_deaths_normalized\": 134, \"days_after\": 9}, {\"date\": \"2020-03-07T00:00:00\", \"location\": \"Italy\", \"total_cases\": 4636, \"total_deaths\": 197, \"total_deaths_normalized\": 179, \"days_after\": 10}, {\"date\": \"2020-03-08T00:00:00\", \"location\": \"Italy\", \"total_cases\": 5883, \"total_deaths\": 233, \"total_deaths_normalized\": 211, \"days_after\": 11}, {\"date\": \"2020-03-09T00:00:00\", \"location\": \"Italy\", \"total_cases\": 7375, \"total_deaths\": 366, \"total_deaths_normalized\": 332, \"days_after\": 12}, {\"date\": \"2020-03-10T00:00:00\", \"location\": \"Italy\", \"total_cases\": 9172, \"total_deaths\": 464, \"total_deaths_normalized\": 421, \"days_after\": 13}, {\"date\": \"2020-03-11T00:00:00\", \"location\": \"Italy\", \"total_cases\": 10149, \"total_deaths\": 631, \"total_deaths_normalized\": 573, \"days_after\": 14}, {\"date\": \"2020-03-12T00:00:00\", \"location\": \"Italy\", \"total_cases\": 12462, \"total_deaths\": 827, \"total_deaths_normalized\": 751, \"days_after\": 15}, {\"date\": \"2020-03-13T00:00:00\", \"location\": \"Italy\", \"total_cases\": 15113, \"total_deaths\": 1016, \"total_deaths_normalized\": 923, \"days_after\": 16}, {\"date\": \"2020-03-14T00:00:00\", \"location\": \"Italy\", \"total_cases\": 17660, \"total_deaths\": 1268, \"total_deaths_normalized\": 1152, \"days_after\": 17}, {\"date\": \"2020-03-15T00:00:00\", \"location\": \"Italy\", \"total_cases\": 17750, \"total_deaths\": 1441, \"total_deaths_normalized\": 1310, \"days_after\": 18}, {\"date\": \"2020-03-16T00:00:00\", \"location\": \"Italy\", \"total_cases\": 23980, \"total_deaths\": 1811, \"total_deaths_normalized\": 1646, \"days_after\": 19}, {\"date\": \"2020-03-17T00:00:00\", \"location\": \"Italy\", \"total_cases\": 27980, \"total_deaths\": 2158, \"total_deaths_normalized\": 1961, \"days_after\": 20}, {\"date\": \"2020-03-18T00:00:00\", \"location\": \"Italy\", \"total_cases\": 31506, \"total_deaths\": 2505, \"total_deaths_normalized\": 2277, \"days_after\": 21}, {\"date\": \"2020-03-19T00:00:00\", \"location\": \"Italy\", \"total_cases\": 35713, \"total_deaths\": 2978, \"total_deaths_normalized\": 2707, \"days_after\": 22}, {\"date\": \"2020-03-20T00:00:00\", \"location\": \"Italy\", \"total_cases\": 41035, \"total_deaths\": 3407, \"total_deaths_normalized\": 3097, \"days_after\": 23}, {\"date\": \"2020-03-21T00:00:00\", \"location\": \"Italy\", \"total_cases\": 47021, \"total_deaths\": 4032, \"total_deaths_normalized\": 3665, \"days_after\": 24}, {\"date\": \"2020-03-22T00:00:00\", \"location\": \"Italy\", \"total_cases\": 53578, \"total_deaths\": 4827, \"total_deaths_normalized\": 4388, \"days_after\": 25}, {\"date\": \"2020-03-23T00:00:00\", \"location\": \"Italy\", \"total_cases\": 59138, \"total_deaths\": 5476, \"total_deaths_normalized\": 4978, \"days_after\": 26}, {\"date\": \"2020-03-24T00:00:00\", \"location\": \"Italy\", \"total_cases\": 63927, \"total_deaths\": 6077, \"total_deaths_normalized\": 5524, \"days_after\": 27}, {\"date\": \"2020-03-25T00:00:00\", \"location\": \"Italy\", \"total_cases\": 69176, \"total_deaths\": 6820, \"total_deaths_normalized\": 6200, \"days_after\": 28}, {\"date\": \"2020-03-26T00:00:00\", \"location\": \"Italy\", \"total_cases\": 74386, \"total_deaths\": 7505, \"total_deaths_normalized\": 6822, \"days_after\": 29}, {\"date\": \"2020-03-27T00:00:00\", \"location\": \"Italy\", \"total_cases\": 80539, \"total_deaths\": 8165, \"total_deaths_normalized\": 7422, \"days_after\": 30}, {\"date\": \"2020-03-11T00:00:00\", \"location\": \"Japan\", \"total_cases\": 568, \"total_deaths\": 12, \"total_deaths_normalized\": 10, \"days_after\": 0}, {\"date\": \"2020-03-12T00:00:00\", \"location\": \"Japan\", \"total_cases\": 619, \"total_deaths\": 15, \"total_deaths_normalized\": 12, \"days_after\": 1}, {\"date\": \"2020-03-13T00:00:00\", \"location\": \"Japan\", \"total_cases\": 675, \"total_deaths\": 19, \"total_deaths_normalized\": 15, \"days_after\": 2}, {\"date\": \"2020-03-14T00:00:00\", \"location\": \"Japan\", \"total_cases\": 737, \"total_deaths\": 21, \"total_deaths_normalized\": 17, \"days_after\": 3}, {\"date\": \"2020-03-15T00:00:00\", \"location\": \"Japan\", \"total_cases\": 780, \"total_deaths\": 22, \"total_deaths_normalized\": 18, \"days_after\": 4}, {\"date\": \"2020-03-16T00:00:00\", \"location\": \"Japan\", \"total_cases\": 814, \"total_deaths\": 24, \"total_deaths_normalized\": 20, \"days_after\": 5}, {\"date\": \"2020-03-17T00:00:00\", \"location\": \"Japan\", \"total_cases\": 824, \"total_deaths\": 28, \"total_deaths_normalized\": 23, \"days_after\": 6}, {\"date\": \"2020-03-18T00:00:00\", \"location\": \"Japan\", \"total_cases\": 829, \"total_deaths\": 28, \"total_deaths_normalized\": 23, \"days_after\": 7}, {\"date\": \"2020-03-19T00:00:00\", \"location\": \"Japan\", \"total_cases\": 873, \"total_deaths\": 29, \"total_deaths_normalized\": 24, \"days_after\": 8}, {\"date\": \"2020-03-20T00:00:00\", \"location\": \"Japan\", \"total_cases\": 950, \"total_deaths\": 33, \"total_deaths_normalized\": 27, \"days_after\": 9}, {\"date\": \"2020-03-21T00:00:00\", \"location\": \"Japan\", \"total_cases\": 1007, \"total_deaths\": 35, \"total_deaths_normalized\": 29, \"days_after\": 10}, {\"date\": \"2020-03-22T00:00:00\", \"location\": \"Japan\", \"total_cases\": 1046, \"total_deaths\": 36, \"total_deaths_normalized\": 30, \"days_after\": 11}, {\"date\": \"2020-03-23T00:00:00\", \"location\": \"Japan\", \"total_cases\": 1089, \"total_deaths\": 41, \"total_deaths_normalized\": 34, \"days_after\": 12}, {\"date\": \"2020-03-24T00:00:00\", \"location\": \"Japan\", \"total_cases\": 1128, \"total_deaths\": 42, \"total_deaths_normalized\": 35, \"days_after\": 13}, {\"date\": \"2020-03-25T00:00:00\", \"location\": \"Japan\", \"total_cases\": 1193, \"total_deaths\": 43, \"total_deaths_normalized\": 35, \"days_after\": 14}, {\"date\": \"2020-03-26T00:00:00\", \"location\": \"Japan\", \"total_cases\": 1268, \"total_deaths\": 45, \"total_deaths_normalized\": 37, \"days_after\": 15}, {\"date\": \"2020-03-27T00:00:00\", \"location\": \"Japan\", \"total_cases\": 1364, \"total_deaths\": 46, \"total_deaths_normalized\": 38, \"days_after\": 16}, {\"date\": \"2020-03-23T00:00:00\", \"location\": \"Malaysia\", \"total_cases\": 1306, \"total_deaths\": 10, \"total_deaths_normalized\": 10, \"days_after\": 0}, {\"date\": \"2020-03-24T00:00:00\", \"location\": \"Malaysia\", \"total_cases\": 1518, \"total_deaths\": 14, \"total_deaths_normalized\": 14, \"days_after\": 1}, {\"date\": \"2020-03-25T00:00:00\", \"location\": \"Malaysia\", \"total_cases\": 1624, \"total_deaths\": 15, \"total_deaths_normalized\": 15, \"days_after\": 2}, {\"date\": \"2020-03-26T00:00:00\", \"location\": \"Malaysia\", \"total_cases\": 1796, \"total_deaths\": 19, \"total_deaths_normalized\": 19, \"days_after\": 3}, {\"date\": \"2020-03-27T00:00:00\", \"location\": \"Malaysia\", \"total_cases\": 2031, \"total_deaths\": 23, \"total_deaths_normalized\": 23, \"days_after\": 4}, {\"date\": \"2020-03-15T00:00:00\", \"location\": \"Netherlands\", \"total_cases\": 959, \"total_deaths\": 12, \"total_deaths_normalized\": 10, \"days_after\": 0}, {\"date\": \"2020-03-16T00:00:00\", \"location\": \"Netherlands\", \"total_cases\": 1135, \"total_deaths\": 20, \"total_deaths_normalized\": 16, \"days_after\": 1}, {\"date\": \"2020-03-17T00:00:00\", \"location\": \"Netherlands\", \"total_cases\": 1413, \"total_deaths\": 24, \"total_deaths_normalized\": 20, \"days_after\": 2}, {\"date\": \"2020-03-18T00:00:00\", \"location\": \"Netherlands\", \"total_cases\": 1705, \"total_deaths\": 43, \"total_deaths_normalized\": 35, \"days_after\": 3}, {\"date\": \"2020-03-19T00:00:00\", \"location\": \"Netherlands\", \"total_cases\": 2051, \"total_deaths\": 58, \"total_deaths_normalized\": 48, \"days_after\": 4}, {\"date\": \"2020-03-20T00:00:00\", \"location\": \"Netherlands\", \"total_cases\": 2460, \"total_deaths\": 76, \"total_deaths_normalized\": 63, \"days_after\": 5}, {\"date\": \"2020-03-21T00:00:00\", \"location\": \"Netherlands\", \"total_cases\": 2994, \"total_deaths\": 106, \"total_deaths_normalized\": 88, \"days_after\": 6}, {\"date\": \"2020-03-22T00:00:00\", \"location\": \"Netherlands\", \"total_cases\": 3631, \"total_deaths\": 136, \"total_deaths_normalized\": 113, \"days_after\": 7}, {\"date\": \"2020-03-23T00:00:00\", \"location\": \"Netherlands\", \"total_cases\": 4204, \"total_deaths\": 179, \"total_deaths_normalized\": 149, \"days_after\": 8}, {\"date\": \"2020-03-24T00:00:00\", \"location\": \"Netherlands\", \"total_cases\": 4749, \"total_deaths\": 213, \"total_deaths_normalized\": 177, \"days_after\": 9}, {\"date\": \"2020-03-25T00:00:00\", \"location\": \"Netherlands\", \"total_cases\": 5560, \"total_deaths\": 276, \"total_deaths_normalized\": 230, \"days_after\": 10}, {\"date\": \"2020-03-26T00:00:00\", \"location\": \"Netherlands\", \"total_cases\": 6412, \"total_deaths\": 356, \"total_deaths_normalized\": 296, \"days_after\": 11}, {\"date\": \"2020-03-27T00:00:00\", \"location\": \"Netherlands\", \"total_cases\": 7431, \"total_deaths\": 434, \"total_deaths_normalized\": 361, \"days_after\": 12}, {\"date\": \"2020-03-25T00:00:00\", \"location\": \"Norway\", \"total_cases\": 2566, \"total_deaths\": 10, \"total_deaths_normalized\": 10, \"days_after\": 0}, {\"date\": \"2020-03-26T00:00:00\", \"location\": \"Norway\", \"total_cases\": 2916, \"total_deaths\": 12, \"total_deaths_normalized\": 12, \"days_after\": 1}, {\"date\": \"2020-03-27T00:00:00\", \"location\": \"Norway\", \"total_cases\": 3156, \"total_deaths\": 14, \"total_deaths_normalized\": 14, \"days_after\": 2}, {\"date\": \"2020-03-25T00:00:00\", \"location\": \"Poland\", \"total_cases\": 901, \"total_deaths\": 10, \"total_deaths_normalized\": 10, \"days_after\": 0}, {\"date\": \"2020-03-26T00:00:00\", \"location\": \"Poland\", \"total_cases\": 1051, \"total_deaths\": 14, \"total_deaths_normalized\": 14, \"days_after\": 1}, {\"date\": \"2020-03-27T00:00:00\", \"location\": \"Poland\", \"total_cases\": 1221, \"total_deaths\": 16, \"total_deaths_normalized\": 16, \"days_after\": 2}, {\"date\": \"2020-03-22T00:00:00\", \"location\": \"Portugal\", \"total_cases\": 1280, \"total_deaths\": 12, \"total_deaths_normalized\": 10, \"days_after\": 0}, {\"date\": \"2020-03-23T00:00:00\", \"location\": \"Portugal\", \"total_cases\": 1600, \"total_deaths\": 14, \"total_deaths_normalized\": 11, \"days_after\": 1}, {\"date\": \"2020-03-24T00:00:00\", \"location\": \"Portugal\", \"total_cases\": 2060, \"total_deaths\": 23, \"total_deaths_normalized\": 19, \"days_after\": 2}, {\"date\": \"2020-03-25T00:00:00\", \"location\": \"Portugal\", \"total_cases\": 2362, \"total_deaths\": 33, \"total_deaths_normalized\": 27, \"days_after\": 3}, {\"date\": \"2020-03-26T00:00:00\", \"location\": \"Portugal\", \"total_cases\": 2995, \"total_deaths\": 43, \"total_deaths_normalized\": 35, \"days_after\": 4}, {\"date\": \"2020-03-27T00:00:00\", \"location\": \"Portugal\", \"total_cases\": 3544, \"total_deaths\": 60, \"total_deaths_normalized\": 50, \"days_after\": 5}, {\"date\": \"2020-03-25T00:00:00\", \"location\": \"Romania\", \"total_cases\": 762, \"total_deaths\": 11, \"total_deaths_normalized\": 10, \"days_after\": 0}, {\"date\": \"2020-03-26T00:00:00\", \"location\": \"Romania\", \"total_cases\": 906, \"total_deaths\": 13, \"total_deaths_normalized\": 11, \"days_after\": 1}, {\"date\": \"2020-03-27T00:00:00\", \"location\": \"Romania\", \"total_cases\": 1029, \"total_deaths\": 17, \"total_deaths_normalized\": 15, \"days_after\": 2}, {\"date\": \"2020-02-26T00:00:00\", \"location\": \"South Korea\", \"total_cases\": 1146, \"total_deaths\": 11, \"total_deaths_normalized\": 10, \"days_after\": 0}, {\"date\": \"2020-02-27T00:00:00\", \"location\": \"South Korea\", \"total_cases\": 1595, \"total_deaths\": 12, \"total_deaths_normalized\": 10, \"days_after\": 1}, {\"date\": \"2020-02-28T00:00:00\", \"location\": \"South Korea\", \"total_cases\": 2022, \"total_deaths\": 13, \"total_deaths_normalized\": 11, \"days_after\": 2}, {\"date\": \"2020-02-29T00:00:00\", \"location\": \"South Korea\", \"total_cases\": 2931, \"total_deaths\": 16, \"total_deaths_normalized\": 14, \"days_after\": 3}, {\"date\": \"2020-03-01T00:00:00\", \"location\": \"South Korea\", \"total_cases\": 3526, \"total_deaths\": 17, \"total_deaths_normalized\": 15, \"days_after\": 4}, {\"date\": \"2020-03-02T00:00:00\", \"location\": \"South Korea\", \"total_cases\": 4212, \"total_deaths\": 22, \"total_deaths_normalized\": 20, \"days_after\": 5}, {\"date\": \"2020-03-03T00:00:00\", \"location\": \"South Korea\", \"total_cases\": 4812, \"total_deaths\": 28, \"total_deaths_normalized\": 25, \"days_after\": 6}, {\"date\": \"2020-03-04T00:00:00\", \"location\": \"South Korea\", \"total_cases\": 5328, \"total_deaths\": 32, \"total_deaths_normalized\": 29, \"days_after\": 7}, {\"date\": \"2020-03-05T00:00:00\", \"location\": \"South Korea\", \"total_cases\": 5766, \"total_deaths\": 35, \"total_deaths_normalized\": 31, \"days_after\": 8}, {\"date\": \"2020-03-06T00:00:00\", \"location\": \"South Korea\", \"total_cases\": 6284, \"total_deaths\": 42, \"total_deaths_normalized\": 38, \"days_after\": 9}, {\"date\": \"2020-03-07T00:00:00\", \"location\": \"South Korea\", \"total_cases\": 6767, \"total_deaths\": 44, \"total_deaths_normalized\": 40, \"days_after\": 10}, {\"date\": \"2020-03-08T00:00:00\", \"location\": \"South Korea\", \"total_cases\": 7134, \"total_deaths\": 50, \"total_deaths_normalized\": 45, \"days_after\": 11}, {\"date\": \"2020-03-09T00:00:00\", \"location\": \"South Korea\", \"total_cases\": 7382, \"total_deaths\": 51, \"total_deaths_normalized\": 46, \"days_after\": 12}, {\"date\": \"2020-03-10T00:00:00\", \"location\": \"South Korea\", \"total_cases\": 7513, \"total_deaths\": 54, \"total_deaths_normalized\": 49, \"days_after\": 13}, {\"date\": \"2020-03-11T00:00:00\", \"location\": \"South Korea\", \"total_cases\": 7755, \"total_deaths\": 60, \"total_deaths_normalized\": 54, \"days_after\": 14}, {\"date\": \"2020-03-12T00:00:00\", \"location\": \"South Korea\", \"total_cases\": 7869, \"total_deaths\": 66, \"total_deaths_normalized\": 60, \"days_after\": 15}, {\"date\": \"2020-03-13T00:00:00\", \"location\": \"South Korea\", \"total_cases\": 7979, \"total_deaths\": 67, \"total_deaths_normalized\": 60, \"days_after\": 16}, {\"date\": \"2020-03-14T00:00:00\", \"location\": \"South Korea\", \"total_cases\": 8086, \"total_deaths\": 72, \"total_deaths_normalized\": 65, \"days_after\": 17}, {\"date\": \"2020-03-15T00:00:00\", \"location\": \"South Korea\", \"total_cases\": 8162, \"total_deaths\": 75, \"total_deaths_normalized\": 68, \"days_after\": 18}, {\"date\": \"2020-03-16T00:00:00\", \"location\": \"South Korea\", \"total_cases\": 8236, \"total_deaths\": 75, \"total_deaths_normalized\": 68, \"days_after\": 19}, {\"date\": \"2020-03-17T00:00:00\", \"location\": \"South Korea\", \"total_cases\": 8320, \"total_deaths\": 81, \"total_deaths_normalized\": 73, \"days_after\": 20}, {\"date\": \"2020-03-18T00:00:00\", \"location\": \"South Korea\", \"total_cases\": 8413, \"total_deaths\": 86, \"total_deaths_normalized\": 78, \"days_after\": 21}, {\"date\": \"2020-03-19T00:00:00\", \"location\": \"South Korea\", \"total_cases\": 8565, \"total_deaths\": 91, \"total_deaths_normalized\": 82, \"days_after\": 22}, {\"date\": \"2020-03-20T00:00:00\", \"location\": \"South Korea\", \"total_cases\": 8652, \"total_deaths\": 100, \"total_deaths_normalized\": 90, \"days_after\": 23}, {\"date\": \"2020-03-21T00:00:00\", \"location\": \"South Korea\", \"total_cases\": 8799, \"total_deaths\": 103, \"total_deaths_normalized\": 93, \"days_after\": 24}, {\"date\": \"2020-03-22T00:00:00\", \"location\": \"South Korea\", \"total_cases\": 8897, \"total_deaths\": 104, \"total_deaths_normalized\": 94, \"days_after\": 25}, {\"date\": \"2020-03-23T00:00:00\", \"location\": \"South Korea\", \"total_cases\": 8961, \"total_deaths\": 113, \"total_deaths_normalized\": 102, \"days_after\": 26}, {\"date\": \"2020-03-24T00:00:00\", \"location\": \"South Korea\", \"total_cases\": 9037, \"total_deaths\": 120, \"total_deaths_normalized\": 109, \"days_after\": 27}, {\"date\": \"2020-03-25T00:00:00\", \"location\": \"South Korea\", \"total_cases\": 9137, \"total_deaths\": 126, \"total_deaths_normalized\": 114, \"days_after\": 28}, {\"date\": \"2020-03-26T00:00:00\", \"location\": \"South Korea\", \"total_cases\": 9241, \"total_deaths\": 131, \"total_deaths_normalized\": 119, \"days_after\": 29}, {\"date\": \"2020-03-27T00:00:00\", \"location\": \"South Korea\", \"total_cases\": 9332, \"total_deaths\": 139, \"total_deaths_normalized\": 126, \"days_after\": 30}, {\"date\": \"2020-03-10T00:00:00\", \"location\": \"Spain\", \"total_cases\": 1204, \"total_deaths\": 28, \"total_deaths_normalized\": 10, \"days_after\": 0}, {\"date\": \"2020-03-11T00:00:00\", \"location\": \"Spain\", \"total_cases\": 1639, \"total_deaths\": 35, \"total_deaths_normalized\": 12, \"days_after\": 1}, {\"date\": \"2020-03-12T00:00:00\", \"location\": \"Spain\", \"total_cases\": 2140, \"total_deaths\": 47, \"total_deaths_normalized\": 16, \"days_after\": 2}, {\"date\": \"2020-03-13T00:00:00\", \"location\": \"Spain\", \"total_cases\": 3004, \"total_deaths\": 84, \"total_deaths_normalized\": 30, \"days_after\": 3}, {\"date\": \"2020-03-14T00:00:00\", \"location\": \"Spain\", \"total_cases\": 4231, \"total_deaths\": 121, \"total_deaths_normalized\": 43, \"days_after\": 4}, {\"date\": \"2020-03-15T00:00:00\", \"location\": \"Spain\", \"total_cases\": 5753, \"total_deaths\": 136, \"total_deaths_normalized\": 48, \"days_after\": 5}, {\"date\": \"2020-03-16T00:00:00\", \"location\": \"Spain\", \"total_cases\": 7753, \"total_deaths\": 288, \"total_deaths_normalized\": 102, \"days_after\": 6}, {\"date\": \"2020-03-17T00:00:00\", \"location\": \"Spain\", \"total_cases\": 9191, \"total_deaths\": 309, \"total_deaths_normalized\": 110, \"days_after\": 7}, {\"date\": \"2020-03-18T00:00:00\", \"location\": \"Spain\", \"total_cases\": 11178, \"total_deaths\": 491, \"total_deaths_normalized\": 175, \"days_after\": 8}, {\"date\": \"2020-03-19T00:00:00\", \"location\": \"Spain\", \"total_cases\": 13716, \"total_deaths\": 598, \"total_deaths_normalized\": 213, \"days_after\": 9}, {\"date\": \"2020-03-20T00:00:00\", \"location\": \"Spain\", \"total_cases\": 17147, \"total_deaths\": 767, \"total_deaths_normalized\": 273, \"days_after\": 10}, {\"date\": \"2020-03-21T00:00:00\", \"location\": \"Spain\", \"total_cases\": 19980, \"total_deaths\": 1002, \"total_deaths_normalized\": 357, \"days_after\": 11}, {\"date\": \"2020-03-22T00:00:00\", \"location\": \"Spain\", \"total_cases\": 24926, \"total_deaths\": 1326, \"total_deaths_normalized\": 473, \"days_after\": 12}, {\"date\": \"2020-03-23T00:00:00\", \"location\": \"Spain\", \"total_cases\": 28572, \"total_deaths\": 1720, \"total_deaths_normalized\": 614, \"days_after\": 13}, {\"date\": \"2020-03-24T00:00:00\", \"location\": \"Spain\", \"total_cases\": 33089, \"total_deaths\": 2182, \"total_deaths_normalized\": 779, \"days_after\": 14}, {\"date\": \"2020-03-25T00:00:00\", \"location\": \"Spain\", \"total_cases\": 39673, \"total_deaths\": 2696, \"total_deaths_normalized\": 962, \"days_after\": 15}, {\"date\": \"2020-03-26T00:00:00\", \"location\": \"Spain\", \"total_cases\": 47610, \"total_deaths\": 3434, \"total_deaths_normalized\": 1226, \"days_after\": 16}, {\"date\": \"2020-03-27T00:00:00\", \"location\": \"Spain\", \"total_cases\": 56188, \"total_deaths\": 4089, \"total_deaths_normalized\": 1460, \"days_after\": 17}, {\"date\": \"2020-03-19T00:00:00\", \"location\": \"Sweden\", \"total_cases\": 1301, \"total_deaths\": 10, \"total_deaths_normalized\": 10, \"days_after\": 0}, {\"date\": \"2020-03-20T00:00:00\", \"location\": \"Sweden\", \"total_cases\": 1423, \"total_deaths\": 10, \"total_deaths_normalized\": 10, \"days_after\": 1}, {\"date\": \"2020-03-21T00:00:00\", \"location\": \"Sweden\", \"total_cases\": 1623, \"total_deaths\": 16, \"total_deaths_normalized\": 16, \"days_after\": 2}, {\"date\": \"2020-03-22T00:00:00\", \"location\": \"Sweden\", \"total_cases\": 1746, \"total_deaths\": 20, \"total_deaths_normalized\": 20, \"days_after\": 3}, {\"date\": \"2020-03-23T00:00:00\", \"location\": \"Sweden\", \"total_cases\": 1906, \"total_deaths\": 21, \"total_deaths_normalized\": 21, \"days_after\": 4}, {\"date\": \"2020-03-24T00:00:00\", \"location\": \"Sweden\", \"total_cases\": 2016, \"total_deaths\": 25, \"total_deaths_normalized\": 25, \"days_after\": 5}, {\"date\": \"2020-03-25T00:00:00\", \"location\": \"Sweden\", \"total_cases\": 2272, \"total_deaths\": 36, \"total_deaths_normalized\": 36, \"days_after\": 6}, {\"date\": \"2020-03-26T00:00:00\", \"location\": \"Sweden\", \"total_cases\": 2510, \"total_deaths\": 42, \"total_deaths_normalized\": 42, \"days_after\": 7}, {\"date\": \"2020-03-27T00:00:00\", \"location\": \"Sweden\", \"total_cases\": 2806, \"total_deaths\": 66, \"total_deaths_normalized\": 66, \"days_after\": 8}, {\"date\": \"2020-03-15T00:00:00\", \"location\": \"Switzerland\", \"total_cases\": 1359, \"total_deaths\": 11, \"total_deaths_normalized\": 10, \"days_after\": 0}, {\"date\": \"2020-03-16T00:00:00\", \"location\": \"Switzerland\", \"total_cases\": 2200, \"total_deaths\": 13, \"total_deaths_normalized\": 11, \"days_after\": 1}, {\"date\": \"2020-03-17T00:00:00\", \"location\": \"Switzerland\", \"total_cases\": 2200, \"total_deaths\": 14, \"total_deaths_normalized\": 12, \"days_after\": 2}, {\"date\": \"2020-03-18T00:00:00\", \"location\": \"Switzerland\", \"total_cases\": 2650, \"total_deaths\": 19, \"total_deaths_normalized\": 17, \"days_after\": 3}, {\"date\": \"2020-03-19T00:00:00\", \"location\": \"Switzerland\", \"total_cases\": 3010, \"total_deaths\": 21, \"total_deaths_normalized\": 19, \"days_after\": 4}, {\"date\": \"2020-03-20T00:00:00\", \"location\": \"Switzerland\", \"total_cases\": 3888, \"total_deaths\": 33, \"total_deaths_normalized\": 30, \"days_after\": 5}, {\"date\": \"2020-03-21T00:00:00\", \"location\": \"Switzerland\", \"total_cases\": 4840, \"total_deaths\": 43, \"total_deaths_normalized\": 39, \"days_after\": 6}, {\"date\": \"2020-03-22T00:00:00\", \"location\": \"Switzerland\", \"total_cases\": 6077, \"total_deaths\": 56, \"total_deaths_normalized\": 50, \"days_after\": 7}, {\"date\": \"2020-03-23T00:00:00\", \"location\": \"Switzerland\", \"total_cases\": 6971, \"total_deaths\": 60, \"total_deaths_normalized\": 54, \"days_after\": 8}, {\"date\": \"2020-03-24T00:00:00\", \"location\": \"Switzerland\", \"total_cases\": 8015, \"total_deaths\": 66, \"total_deaths_normalized\": 60, \"days_after\": 9}, {\"date\": \"2020-03-25T00:00:00\", \"location\": \"Switzerland\", \"total_cases\": 8789, \"total_deaths\": 86, \"total_deaths_normalized\": 78, \"days_after\": 10}, {\"date\": \"2020-03-26T00:00:00\", \"location\": \"Switzerland\", \"total_cases\": 9714, \"total_deaths\": 103, \"total_deaths_normalized\": 93, \"days_after\": 11}, {\"date\": \"2020-03-27T00:00:00\", \"location\": \"Switzerland\", \"total_cases\": 10714, \"total_deaths\": 161, \"total_deaths_normalized\": 146, \"days_after\": 12}, {\"date\": \"2020-03-22T00:00:00\", \"location\": \"Turkey\", \"total_cases\": 947, \"total_deaths\": 21, \"total_deaths_normalized\": 10, \"days_after\": 0}, {\"date\": \"2020-03-23T00:00:00\", \"location\": \"Turkey\", \"total_cases\": 1236, \"total_deaths\": 30, \"total_deaths_normalized\": 14, \"days_after\": 1}, {\"date\": \"2020-03-24T00:00:00\", \"location\": \"Turkey\", \"total_cases\": 1529, \"total_deaths\": 37, \"total_deaths_normalized\": 17, \"days_after\": 2}, {\"date\": \"2020-03-25T00:00:00\", \"location\": \"Turkey\", \"total_cases\": 1872, \"total_deaths\": 44, \"total_deaths_normalized\": 20, \"days_after\": 3}, {\"date\": \"2020-03-26T00:00:00\", \"location\": \"Turkey\", \"total_cases\": 2433, \"total_deaths\": 59, \"total_deaths_normalized\": 28, \"days_after\": 4}, {\"date\": \"2020-03-27T00:00:00\", \"location\": \"Turkey\", \"total_cases\": 3629, \"total_deaths\": 75, \"total_deaths_normalized\": 35, \"days_after\": 5}, {\"date\": \"2020-03-13T00:00:00\", \"location\": \"United Kingdom\", \"total_cases\": 590, \"total_deaths\": 10, \"total_deaths_normalized\": 10, \"days_after\": 0}, {\"date\": \"2020-03-14T00:00:00\", \"location\": \"United Kingdom\", \"total_cases\": 707, \"total_deaths\": 10, \"total_deaths_normalized\": 10, \"days_after\": 1}, {\"date\": \"2020-03-15T00:00:00\", \"location\": \"United Kingdom\", \"total_cases\": 1140, \"total_deaths\": 21, \"total_deaths_normalized\": 21, \"days_after\": 2}, {\"date\": \"2020-03-16T00:00:00\", \"location\": \"United Kingdom\", \"total_cases\": 1391, \"total_deaths\": 35, \"total_deaths_normalized\": 35, \"days_after\": 3}, {\"date\": \"2020-03-17T00:00:00\", \"location\": \"United Kingdom\", \"total_cases\": 1543, \"total_deaths\": 55, \"total_deaths_normalized\": 55, \"days_after\": 4}, {\"date\": \"2020-03-18T00:00:00\", \"location\": \"United Kingdom\", \"total_cases\": 1950, \"total_deaths\": 60, \"total_deaths_normalized\": 60, \"days_after\": 5}, {\"date\": \"2020-03-19T00:00:00\", \"location\": \"United Kingdom\", \"total_cases\": 2630, \"total_deaths\": 103, \"total_deaths_normalized\": 103, \"days_after\": 6}, {\"date\": \"2020-03-20T00:00:00\", \"location\": \"United Kingdom\", \"total_cases\": 3277, \"total_deaths\": 144, \"total_deaths_normalized\": 144, \"days_after\": 7}, {\"date\": \"2020-03-21T00:00:00\", \"location\": \"United Kingdom\", \"total_cases\": 3983, \"total_deaths\": 177, \"total_deaths_normalized\": 177, \"days_after\": 8}, {\"date\": \"2020-03-22T00:00:00\", \"location\": \"United Kingdom\", \"total_cases\": 5018, \"total_deaths\": 233, \"total_deaths_normalized\": 233, \"days_after\": 9}, {\"date\": \"2020-03-23T00:00:00\", \"location\": \"United Kingdom\", \"total_cases\": 5683, \"total_deaths\": 281, \"total_deaths_normalized\": 281, \"days_after\": 10}, {\"date\": \"2020-03-24T00:00:00\", \"location\": \"United Kingdom\", \"total_cases\": 6650, \"total_deaths\": 335, \"total_deaths_normalized\": 335, \"days_after\": 11}, {\"date\": \"2020-03-25T00:00:00\", \"location\": \"United Kingdom\", \"total_cases\": 8077, \"total_deaths\": 422, \"total_deaths_normalized\": 422, \"days_after\": 12}, {\"date\": \"2020-03-26T00:00:00\", \"location\": \"United Kingdom\", \"total_cases\": 9529, \"total_deaths\": 463, \"total_deaths_normalized\": 463, \"days_after\": 13}, {\"date\": \"2020-03-27T00:00:00\", \"location\": \"United Kingdom\", \"total_cases\": 11658, \"total_deaths\": 578, \"total_deaths_normalized\": 578, \"days_after\": 14}, {\"date\": \"2020-03-05T00:00:00\", \"location\": \"United States\", \"total_cases\": 159, \"total_deaths\": 11, \"total_deaths_normalized\": 10, \"days_after\": 0}, {\"date\": \"2020-03-06T00:00:00\", \"location\": \"United States\", \"total_cases\": 233, \"total_deaths\": 12, \"total_deaths_normalized\": 10, \"days_after\": 1}, {\"date\": \"2020-03-07T00:00:00\", \"location\": \"United States\", \"total_cases\": 338, \"total_deaths\": 14, \"total_deaths_normalized\": 12, \"days_after\": 2}, {\"date\": \"2020-03-08T00:00:00\", \"location\": \"United States\", \"total_cases\": 433, \"total_deaths\": 17, \"total_deaths_normalized\": 15, \"days_after\": 3}, {\"date\": \"2020-03-09T00:00:00\", \"location\": \"United States\", \"total_cases\": 554, \"total_deaths\": 21, \"total_deaths_normalized\": 19, \"days_after\": 4}, {\"date\": \"2020-03-10T00:00:00\", \"location\": \"United States\", \"total_cases\": 754, \"total_deaths\": 26, \"total_deaths_normalized\": 23, \"days_after\": 5}, {\"date\": \"2020-03-11T00:00:00\", \"location\": \"United States\", \"total_cases\": 1025, \"total_deaths\": 28, \"total_deaths_normalized\": 25, \"days_after\": 6}, {\"date\": \"2020-03-12T00:00:00\", \"location\": \"United States\", \"total_cases\": 1312, \"total_deaths\": 30, \"total_deaths_normalized\": 27, \"days_after\": 7}, {\"date\": \"2020-03-13T00:00:00\", \"location\": \"United States\", \"total_cases\": 1663, \"total_deaths\": 40, \"total_deaths_normalized\": 36, \"days_after\": 8}, {\"date\": \"2020-03-14T00:00:00\", \"location\": \"United States\", \"total_cases\": 2174, \"total_deaths\": 47, \"total_deaths_normalized\": 42, \"days_after\": 9}, {\"date\": \"2020-03-15T00:00:00\", \"location\": \"United States\", \"total_cases\": 2951, \"total_deaths\": 57, \"total_deaths_normalized\": 51, \"days_after\": 10}, {\"date\": \"2020-03-16T00:00:00\", \"location\": \"United States\", \"total_cases\": 3774, \"total_deaths\": 69, \"total_deaths_normalized\": 62, \"days_after\": 11}, {\"date\": \"2020-03-17T00:00:00\", \"location\": \"United States\", \"total_cases\": 4661, \"total_deaths\": 85, \"total_deaths_normalized\": 77, \"days_after\": 12}, {\"date\": \"2020-03-18T00:00:00\", \"location\": \"United States\", \"total_cases\": 6427, \"total_deaths\": 108, \"total_deaths_normalized\": 98, \"days_after\": 13}, {\"date\": \"2020-03-19T00:00:00\", \"location\": \"United States\", \"total_cases\": 9415, \"total_deaths\": 150, \"total_deaths_normalized\": 136, \"days_after\": 14}, {\"date\": \"2020-03-20T00:00:00\", \"location\": \"United States\", \"total_cases\": 14250, \"total_deaths\": 150, \"total_deaths_normalized\": 136, \"days_after\": 15}, {\"date\": \"2020-03-21T00:00:00\", \"location\": \"United States\", \"total_cases\": 19624, \"total_deaths\": 260, \"total_deaths_normalized\": 236, \"days_after\": 16}, {\"date\": \"2020-03-22T00:00:00\", \"location\": \"United States\", \"total_cases\": 26747, \"total_deaths\": 340, \"total_deaths_normalized\": 309, \"days_after\": 17}, {\"date\": \"2020-03-23T00:00:00\", \"location\": \"United States\", \"total_cases\": 35206, \"total_deaths\": 471, \"total_deaths_normalized\": 428, \"days_after\": 18}, {\"date\": \"2020-03-24T00:00:00\", \"location\": \"United States\", \"total_cases\": 46442, \"total_deaths\": 590, \"total_deaths_normalized\": 536, \"days_after\": 19}, {\"date\": \"2020-03-25T00:00:00\", \"location\": \"United States\", \"total_cases\": 55231, \"total_deaths\": 801, \"total_deaths_normalized\": 728, \"days_after\": 20}, {\"date\": \"2020-03-26T00:00:00\", \"location\": \"United States\", \"total_cases\": 69194, \"total_deaths\": 1050, \"total_deaths_normalized\": 954, \"days_after\": 21}, {\"date\": \"2020-03-27T00:00:00\", \"location\": \"United States\", \"total_cases\": 85991, \"total_deaths\": 1296, \"total_deaths_normalized\": 1178, \"days_after\": 22}]}}, {\"mode\": \"vega-lite\"});\n",
       "</script>"
      ],
      "text/plain": [
       "alt.HConcatChart(...)"
      ]
     },
     "execution_count": 235,
     "metadata": {},
     "output_type": "execute_result"
    }
   ],
   "source": [
    "highlight = alt.selection(type='single', on='mouseover',\n",
    "                          fields=['location'], nearest=True)\n",
    "\n",
    "base_infection = alt.Chart(url_infection).encode(\n",
    "    alt.X('days_after', type='quantitative', scale=alt.Scale(domain=[0,30], type='ordinal'),\n",
    "         title='Days since the 100th confirmed infection'),\n",
    "    alt.Y('total_cases_normalized', type='quantitative', scale=alt.Scale(type='log', base=10), \n",
    "          title='Total confirmed infections of COVID-19, normalized'),\n",
    "    alt.Color('location:N', title=\"Country\", legend=None),\n",
    "    alt.Tooltip(['location:N', 'total_cases:Q', 'date:T'])\n",
    ").properties(\n",
    "    title='Development of Corona infections',\n",
    ")\n",
    "\n",
    "base_death = alt.Chart(url_death).encode(\n",
    "    alt.X('days_after', type='quantitative',  scale=alt.Scale(domain=[0,30], type='ordinal'),\n",
    "         title='Days since the 10th confirmed death'),\n",
    "    alt.Y('total_deaths_normalized', type='quantitative', scale=alt.Scale(type='log', base=10), \n",
    "          title='Total confirmed deaths of COVID-19, normalized'),\n",
    "    alt.Color('location:N', title=\"Country\", legend=None),\n",
    "    alt.Tooltip(['location:N', 'total_deaths:Q', 'date:T'])\n",
    ").properties(\n",
    "    title='Development of Corona deaths',\n",
    ")\n",
    "\n",
    "base_summary = alt.Chart(url_summary).mark_bar().encode(\n",
    "    x = alt.X('cases', type='quantitative', title='Confirmed cases', scale=alt.Scale(type='linear')),\n",
    "    y = alt.Y('location:N', title='Country'),\n",
    "    color = alt.condition(highlight, alt.Color('location:N', title=\"Country\", legend=None), alt.ColorValue(\"grey\")),\n",
    "    tooltip = alt.Tooltip(['location:N', 'cases:Q'])\n",
    ").add_selection(\n",
    "    highlight\n",
    ").properties(\n",
    "    width=200,\n",
    "    title='Corona cases by country'\n",
    ")\n",
    "\n",
    "\n",
    "points_infection = base_infection.mark_circle().encode(\n",
    "    opacity=alt.value(0)\n",
    ").add_selection(\n",
    "    highlight\n",
    ").properties(\n",
    "    width=600\n",
    ").interactive(\n",
    "    bind_y = False\n",
    ")\n",
    "\n",
    "points_death = base_death.mark_circle().encode(\n",
    "    opacity=alt.value(0)\n",
    ").add_selection(\n",
    "    highlight\n",
    ").properties(\n",
    "    width=600\n",
    ").interactive(\n",
    "    bind_y = False\n",
    ")\n",
    "\n",
    "\n",
    "lines_infection = base_infection.mark_line().encode(\n",
    "    size=alt.condition(~highlight, alt.value(1), alt.value(5), legend=None)\n",
    ")\n",
    "\n",
    "lines_death = base_death.mark_line().encode(\n",
    "    size=alt.condition(~highlight, alt.value(1), alt.value(5), legend=None)\n",
    ")\n",
    "\n",
    "chart = alt.vconcat(points_infection + lines_infection, points_death + lines_death)\n",
    "\n",
    "chart = alt.hconcat(base_summary, chart)\n",
    "\n",
    "\n",
    "#chart.save('corona.html')\n",
    "chart.save('corona.json')\n",
    "\n",
    "chart"
   ]
  },
  {
   "cell_type": "code",
   "execution_count": null,
   "metadata": {},
   "outputs": [],
   "source": []
  }
 ],
 "metadata": {
  "kernelspec": {
   "display_name": "Python 3",
   "language": "python",
   "name": "python3"
  },
  "language_info": {
   "codemirror_mode": {
    "name": "ipython",
    "version": 3
   },
   "file_extension": ".py",
   "mimetype": "text/x-python",
   "name": "python",
   "nbconvert_exporter": "python",
   "pygments_lexer": "ipython3",
   "version": "3.7.6"
  }
 },
 "nbformat": 4,
 "nbformat_minor": 4
}
