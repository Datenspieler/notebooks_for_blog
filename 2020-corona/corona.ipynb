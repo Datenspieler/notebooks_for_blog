{
 "cells": [
  {
   "cell_type": "markdown",
   "metadata": {},
   "source": [
    "# Loading libraries and data "
   ]
  },
  {
   "cell_type": "code",
   "execution_count": null,
   "metadata": {},
   "outputs": [],
   "source": [
    "import pandas as pd\n",
    "import altair as alt"
   ]
  },
  {
   "cell_type": "code",
   "execution_count": null,
   "metadata": {},
   "outputs": [],
   "source": [
    "START_CASES_INFECTION = 100\n",
    "START_CASES_DEATH = 5"
   ]
  },
  {
   "cell_type": "code",
   "execution_count": 3,
   "metadata": {},
   "outputs": [],
   "source": [
    "URL = \"https://covid.ourworldindata.org/data/ecdc/full_data.csv\""
   ]
  },
  {
   "cell_type": "code",
   "execution_count": 4,
   "metadata": {},
   "outputs": [],
   "source": [
    "df = pd.read_csv(URL)"
   ]
  },
  {
   "cell_type": "code",
   "execution_count": 5,
   "metadata": {},
   "outputs": [],
   "source": [
    "df.date = pd.to_datetime(df.date)"
   ]
  },
  {
   "cell_type": "code",
   "execution_count": 6,
   "metadata": {},
   "outputs": [],
   "source": [
    "df = df.sort_values(['location','date'], ascending=True)"
   ]
  },
  {
   "cell_type": "code",
   "execution_count": 7,
   "metadata": {},
   "outputs": [
    {
     "data": {
      "text/html": [
       "<div>\n",
       "<style scoped>\n",
       "    .dataframe tbody tr th:only-of-type {\n",
       "        vertical-align: middle;\n",
       "    }\n",
       "\n",
       "    .dataframe tbody tr th {\n",
       "        vertical-align: top;\n",
       "    }\n",
       "\n",
       "    .dataframe thead th {\n",
       "        text-align: right;\n",
       "    }\n",
       "</style>\n",
       "<table border=\"1\" class=\"dataframe\">\n",
       "  <thead>\n",
       "    <tr style=\"text-align: right;\">\n",
       "      <th></th>\n",
       "      <th>date</th>\n",
       "      <th>location</th>\n",
       "      <th>new_cases</th>\n",
       "      <th>new_deaths</th>\n",
       "      <th>total_cases</th>\n",
       "      <th>total_deaths</th>\n",
       "    </tr>\n",
       "  </thead>\n",
       "  <tbody>\n",
       "    <tr>\n",
       "      <th>0</th>\n",
       "      <td>2019-12-31</td>\n",
       "      <td>Afghanistan</td>\n",
       "      <td>0</td>\n",
       "      <td>0</td>\n",
       "      <td>0</td>\n",
       "      <td>0</td>\n",
       "    </tr>\n",
       "    <tr>\n",
       "      <th>1</th>\n",
       "      <td>2020-01-01</td>\n",
       "      <td>Afghanistan</td>\n",
       "      <td>0</td>\n",
       "      <td>0</td>\n",
       "      <td>0</td>\n",
       "      <td>0</td>\n",
       "    </tr>\n",
       "    <tr>\n",
       "      <th>2</th>\n",
       "      <td>2020-01-02</td>\n",
       "      <td>Afghanistan</td>\n",
       "      <td>0</td>\n",
       "      <td>0</td>\n",
       "      <td>0</td>\n",
       "      <td>0</td>\n",
       "    </tr>\n",
       "    <tr>\n",
       "      <th>3</th>\n",
       "      <td>2020-01-03</td>\n",
       "      <td>Afghanistan</td>\n",
       "      <td>0</td>\n",
       "      <td>0</td>\n",
       "      <td>0</td>\n",
       "      <td>0</td>\n",
       "    </tr>\n",
       "    <tr>\n",
       "      <th>4</th>\n",
       "      <td>2020-01-04</td>\n",
       "      <td>Afghanistan</td>\n",
       "      <td>0</td>\n",
       "      <td>0</td>\n",
       "      <td>0</td>\n",
       "      <td>0</td>\n",
       "    </tr>\n",
       "  </tbody>\n",
       "</table>\n",
       "</div>"
      ],
      "text/plain": [
       "        date     location  new_cases  new_deaths  total_cases  total_deaths\n",
       "0 2019-12-31  Afghanistan          0           0            0             0\n",
       "1 2020-01-01  Afghanistan          0           0            0             0\n",
       "2 2020-01-02  Afghanistan          0           0            0             0\n",
       "3 2020-01-03  Afghanistan          0           0            0             0\n",
       "4 2020-01-04  Afghanistan          0           0            0             0"
      ]
     },
     "execution_count": 7,
     "metadata": {},
     "output_type": "execute_result"
    }
   ],
   "source": [
    "df.head()"
   ]
  },
  {
   "cell_type": "code",
   "execution_count": 8,
   "metadata": {},
   "outputs": [
    {
     "name": "stdout",
     "output_type": "stream",
     "text": [
      "<class 'pandas.core.frame.DataFrame'>\n",
      "Int64Index: 6094 entries, 0 to 6093\n",
      "Data columns (total 6 columns):\n",
      " #   Column        Non-Null Count  Dtype         \n",
      "---  ------        --------------  -----         \n",
      " 0   date          6094 non-null   datetime64[ns]\n",
      " 1   location      6094 non-null   object        \n",
      " 2   new_cases     6094 non-null   int64         \n",
      " 3   new_deaths    6094 non-null   int64         \n",
      " 4   total_cases   6094 non-null   int64         \n",
      " 5   total_deaths  6094 non-null   int64         \n",
      "dtypes: datetime64[ns](1), int64(4), object(1)\n",
      "memory usage: 333.3+ KB\n"
     ]
    }
   ],
   "source": [
    "df.info()"
   ]
  },
  {
   "cell_type": "markdown",
   "metadata": {},
   "source": [
    "# Date of data"
   ]
  },
  {
   "cell_type": "code",
   "execution_count": 9,
   "metadata": {},
   "outputs": [
    {
     "data": {
      "text/plain": [
       "Timestamp('2020-03-21 00:00:00')"
      ]
     },
     "execution_count": 9,
     "metadata": {},
     "output_type": "execute_result"
    }
   ],
   "source": [
    "df.date.max()"
   ]
  },
  {
   "cell_type": "markdown",
   "metadata": {},
   "source": [
    "# Creating data for graphs"
   ]
  },
  {
   "cell_type": "code",
   "execution_count": 10,
   "metadata": {},
   "outputs": [],
   "source": [
    "df = df.drop(columns=['new_cases', 'new_deaths'])"
   ]
  },
  {
   "cell_type": "code",
   "execution_count": 11,
   "metadata": {},
   "outputs": [],
   "source": [
    "df_infection = df[df.total_cases >= START_CASES_INFECTION].copy()\n",
    "df_death = df[df.total_deaths >= START_CASES_DEATH].copy()"
   ]
  },
  {
   "cell_type": "code",
   "execution_count": 12,
   "metadata": {},
   "outputs": [
    {
     "data": {
      "text/html": [
       "<div>\n",
       "<style scoped>\n",
       "    .dataframe tbody tr th:only-of-type {\n",
       "        vertical-align: middle;\n",
       "    }\n",
       "\n",
       "    .dataframe tbody tr th {\n",
       "        vertical-align: top;\n",
       "    }\n",
       "\n",
       "    .dataframe thead th {\n",
       "        text-align: right;\n",
       "    }\n",
       "</style>\n",
       "<table border=\"1\" class=\"dataframe\">\n",
       "  <thead>\n",
       "    <tr style=\"text-align: right;\">\n",
       "      <th></th>\n",
       "      <th>date</th>\n",
       "      <th>location</th>\n",
       "      <th>total_cases</th>\n",
       "      <th>total_deaths</th>\n",
       "    </tr>\n",
       "  </thead>\n",
       "  <tbody>\n",
       "    <tr>\n",
       "      <th>185</th>\n",
       "      <td>2020-03-20</td>\n",
       "      <td>Argentina</td>\n",
       "      <td>128</td>\n",
       "      <td>3</td>\n",
       "    </tr>\n",
       "    <tr>\n",
       "      <th>186</th>\n",
       "      <td>2020-03-21</td>\n",
       "      <td>Argentina</td>\n",
       "      <td>158</td>\n",
       "      <td>3</td>\n",
       "    </tr>\n",
       "    <tr>\n",
       "      <th>257</th>\n",
       "      <td>2020-03-19</td>\n",
       "      <td>Armenia</td>\n",
       "      <td>115</td>\n",
       "      <td>0</td>\n",
       "    </tr>\n",
       "    <tr>\n",
       "      <th>258</th>\n",
       "      <td>2020-03-20</td>\n",
       "      <td>Armenia</td>\n",
       "      <td>122</td>\n",
       "      <td>0</td>\n",
       "    </tr>\n",
       "    <tr>\n",
       "      <th>259</th>\n",
       "      <td>2020-03-21</td>\n",
       "      <td>Armenia</td>\n",
       "      <td>136</td>\n",
       "      <td>0</td>\n",
       "    </tr>\n",
       "  </tbody>\n",
       "</table>\n",
       "</div>"
      ],
      "text/plain": [
       "          date   location  total_cases  total_deaths\n",
       "185 2020-03-20  Argentina          128             3\n",
       "186 2020-03-21  Argentina          158             3\n",
       "257 2020-03-19    Armenia          115             0\n",
       "258 2020-03-20    Armenia          122             0\n",
       "259 2020-03-21    Armenia          136             0"
      ]
     },
     "execution_count": 12,
     "metadata": {},
     "output_type": "execute_result"
    }
   ],
   "source": [
    "df_infection.head()"
   ]
  },
  {
   "cell_type": "code",
   "execution_count": 13,
   "metadata": {},
   "outputs": [
    {
     "data": {
      "text/html": [
       "<div>\n",
       "<style scoped>\n",
       "    .dataframe tbody tr th:only-of-type {\n",
       "        vertical-align: middle;\n",
       "    }\n",
       "\n",
       "    .dataframe tbody tr th {\n",
       "        vertical-align: top;\n",
       "    }\n",
       "\n",
       "    .dataframe thead th {\n",
       "        text-align: right;\n",
       "    }\n",
       "</style>\n",
       "<table border=\"1\" class=\"dataframe\">\n",
       "  <thead>\n",
       "    <tr style=\"text-align: right;\">\n",
       "      <th></th>\n",
       "      <th>date</th>\n",
       "      <th>location</th>\n",
       "      <th>total_cases</th>\n",
       "      <th>total_deaths</th>\n",
       "    </tr>\n",
       "  </thead>\n",
       "  <tbody>\n",
       "    <tr>\n",
       "      <th>411</th>\n",
       "      <td>2020-03-09</td>\n",
       "      <td>Austria</td>\n",
       "      <td>102</td>\n",
       "      <td>0</td>\n",
       "    </tr>\n",
       "    <tr>\n",
       "      <th>412</th>\n",
       "      <td>2020-03-10</td>\n",
       "      <td>Austria</td>\n",
       "      <td>131</td>\n",
       "      <td>0</td>\n",
       "    </tr>\n",
       "    <tr>\n",
       "      <th>413</th>\n",
       "      <td>2020-03-11</td>\n",
       "      <td>Austria</td>\n",
       "      <td>182</td>\n",
       "      <td>0</td>\n",
       "    </tr>\n",
       "    <tr>\n",
       "      <th>414</th>\n",
       "      <td>2020-03-12</td>\n",
       "      <td>Austria</td>\n",
       "      <td>246</td>\n",
       "      <td>0</td>\n",
       "    </tr>\n",
       "    <tr>\n",
       "      <th>415</th>\n",
       "      <td>2020-03-13</td>\n",
       "      <td>Austria</td>\n",
       "      <td>361</td>\n",
       "      <td>1</td>\n",
       "    </tr>\n",
       "    <tr>\n",
       "      <th>416</th>\n",
       "      <td>2020-03-14</td>\n",
       "      <td>Austria</td>\n",
       "      <td>504</td>\n",
       "      <td>1</td>\n",
       "    </tr>\n",
       "    <tr>\n",
       "      <th>417</th>\n",
       "      <td>2020-03-15</td>\n",
       "      <td>Austria</td>\n",
       "      <td>655</td>\n",
       "      <td>1</td>\n",
       "    </tr>\n",
       "    <tr>\n",
       "      <th>418</th>\n",
       "      <td>2020-03-16</td>\n",
       "      <td>Austria</td>\n",
       "      <td>860</td>\n",
       "      <td>1</td>\n",
       "    </tr>\n",
       "    <tr>\n",
       "      <th>419</th>\n",
       "      <td>2020-03-17</td>\n",
       "      <td>Austria</td>\n",
       "      <td>1016</td>\n",
       "      <td>3</td>\n",
       "    </tr>\n",
       "    <tr>\n",
       "      <th>420</th>\n",
       "      <td>2020-03-18</td>\n",
       "      <td>Austria</td>\n",
       "      <td>1332</td>\n",
       "      <td>3</td>\n",
       "    </tr>\n",
       "    <tr>\n",
       "      <th>421</th>\n",
       "      <td>2020-03-19</td>\n",
       "      <td>Austria</td>\n",
       "      <td>1646</td>\n",
       "      <td>4</td>\n",
       "    </tr>\n",
       "    <tr>\n",
       "      <th>422</th>\n",
       "      <td>2020-03-20</td>\n",
       "      <td>Austria</td>\n",
       "      <td>2196</td>\n",
       "      <td>6</td>\n",
       "    </tr>\n",
       "    <tr>\n",
       "      <th>423</th>\n",
       "      <td>2020-03-21</td>\n",
       "      <td>Austria</td>\n",
       "      <td>2649</td>\n",
       "      <td>6</td>\n",
       "    </tr>\n",
       "  </tbody>\n",
       "</table>\n",
       "</div>"
      ],
      "text/plain": [
       "          date location  total_cases  total_deaths\n",
       "411 2020-03-09  Austria          102             0\n",
       "412 2020-03-10  Austria          131             0\n",
       "413 2020-03-11  Austria          182             0\n",
       "414 2020-03-12  Austria          246             0\n",
       "415 2020-03-13  Austria          361             1\n",
       "416 2020-03-14  Austria          504             1\n",
       "417 2020-03-15  Austria          655             1\n",
       "418 2020-03-16  Austria          860             1\n",
       "419 2020-03-17  Austria         1016             3\n",
       "420 2020-03-18  Austria         1332             3\n",
       "421 2020-03-19  Austria         1646             4\n",
       "422 2020-03-20  Austria         2196             6\n",
       "423 2020-03-21  Austria         2649             6"
      ]
     },
     "execution_count": 13,
     "metadata": {},
     "output_type": "execute_result"
    }
   ],
   "source": [
    "df_infection[df_infection.location == 'Austria']"
   ]
  },
  {
   "cell_type": "code",
   "execution_count": 14,
   "metadata": {},
   "outputs": [
    {
     "data": {
      "text/html": [
       "<div>\n",
       "<style scoped>\n",
       "    .dataframe tbody tr th:only-of-type {\n",
       "        vertical-align: middle;\n",
       "    }\n",
       "\n",
       "    .dataframe tbody tr th {\n",
       "        vertical-align: top;\n",
       "    }\n",
       "\n",
       "    .dataframe thead th {\n",
       "        text-align: right;\n",
       "    }\n",
       "</style>\n",
       "<table border=\"1\" class=\"dataframe\">\n",
       "  <thead>\n",
       "    <tr style=\"text-align: right;\">\n",
       "      <th></th>\n",
       "      <th>date</th>\n",
       "      <th>location</th>\n",
       "      <th>total_cases</th>\n",
       "      <th>total_deaths</th>\n",
       "    </tr>\n",
       "  </thead>\n",
       "  <tbody>\n",
       "    <tr>\n",
       "      <th>158</th>\n",
       "      <td>2020-03-18</td>\n",
       "      <td>Algeria</td>\n",
       "      <td>60</td>\n",
       "      <td>5</td>\n",
       "    </tr>\n",
       "    <tr>\n",
       "      <th>159</th>\n",
       "      <td>2020-03-19</td>\n",
       "      <td>Algeria</td>\n",
       "      <td>73</td>\n",
       "      <td>6</td>\n",
       "    </tr>\n",
       "    <tr>\n",
       "      <th>160</th>\n",
       "      <td>2020-03-20</td>\n",
       "      <td>Algeria</td>\n",
       "      <td>82</td>\n",
       "      <td>7</td>\n",
       "    </tr>\n",
       "    <tr>\n",
       "      <th>161</th>\n",
       "      <td>2020-03-21</td>\n",
       "      <td>Algeria</td>\n",
       "      <td>94</td>\n",
       "      <td>10</td>\n",
       "    </tr>\n",
       "    <tr>\n",
       "      <th>336</th>\n",
       "      <td>2020-03-16</td>\n",
       "      <td>Australia</td>\n",
       "      <td>298</td>\n",
       "      <td>5</td>\n",
       "    </tr>\n",
       "  </tbody>\n",
       "</table>\n",
       "</div>"
      ],
      "text/plain": [
       "          date   location  total_cases  total_deaths\n",
       "158 2020-03-18    Algeria           60             5\n",
       "159 2020-03-19    Algeria           73             6\n",
       "160 2020-03-20    Algeria           82             7\n",
       "161 2020-03-21    Algeria           94            10\n",
       "336 2020-03-16  Australia          298             5"
      ]
     },
     "execution_count": 14,
     "metadata": {},
     "output_type": "execute_result"
    }
   ],
   "source": [
    "df_death.head()"
   ]
  },
  {
   "cell_type": "code",
   "execution_count": 15,
   "metadata": {},
   "outputs": [],
   "source": [
    "df_infection['total_cases_normalized'] = df_infection.groupby(\n",
    "    \"location\")[['total_cases']].transform(lambda x: x / x.min() * START_CASES_INFECTION)\n",
    "df_infection.total_cases_normalized = df_infection.total_cases_normalized.astype(\"int\")\n",
    "\n",
    "df_death['total_deaths_normalized'] = df_death.groupby(\n",
    "    \"location\")[['total_deaths']].transform(lambda x: x / x.min() * START_CASES_DEATH)\n",
    "df_death.total_deaths_normalized = df_death.total_deaths_normalized.astype(\"int\")"
   ]
  },
  {
   "cell_type": "code",
   "execution_count": 16,
   "metadata": {},
   "outputs": [],
   "source": [
    "df_infection[\"days_after\"] = df_infection.groupby(\"location\").cumcount()\n",
    "df_death[\"days_after\"] = df_death.groupby(\"location\").cumcount()"
   ]
  },
  {
   "cell_type": "code",
   "execution_count": 17,
   "metadata": {},
   "outputs": [
    {
     "data": {
      "text/html": [
       "<div>\n",
       "<style scoped>\n",
       "    .dataframe tbody tr th:only-of-type {\n",
       "        vertical-align: middle;\n",
       "    }\n",
       "\n",
       "    .dataframe tbody tr th {\n",
       "        vertical-align: top;\n",
       "    }\n",
       "\n",
       "    .dataframe thead th {\n",
       "        text-align: right;\n",
       "    }\n",
       "</style>\n",
       "<table border=\"1\" class=\"dataframe\">\n",
       "  <thead>\n",
       "    <tr style=\"text-align: right;\">\n",
       "      <th></th>\n",
       "      <th>date</th>\n",
       "      <th>location</th>\n",
       "      <th>total_cases</th>\n",
       "      <th>total_deaths</th>\n",
       "      <th>total_cases_normalized</th>\n",
       "      <th>days_after</th>\n",
       "    </tr>\n",
       "  </thead>\n",
       "  <tbody>\n",
       "    <tr>\n",
       "      <th>185</th>\n",
       "      <td>2020-03-20</td>\n",
       "      <td>Argentina</td>\n",
       "      <td>128</td>\n",
       "      <td>3</td>\n",
       "      <td>100</td>\n",
       "      <td>0</td>\n",
       "    </tr>\n",
       "    <tr>\n",
       "      <th>186</th>\n",
       "      <td>2020-03-21</td>\n",
       "      <td>Argentina</td>\n",
       "      <td>158</td>\n",
       "      <td>3</td>\n",
       "      <td>123</td>\n",
       "      <td>1</td>\n",
       "    </tr>\n",
       "    <tr>\n",
       "      <th>257</th>\n",
       "      <td>2020-03-19</td>\n",
       "      <td>Armenia</td>\n",
       "      <td>115</td>\n",
       "      <td>0</td>\n",
       "      <td>100</td>\n",
       "      <td>0</td>\n",
       "    </tr>\n",
       "    <tr>\n",
       "      <th>258</th>\n",
       "      <td>2020-03-20</td>\n",
       "      <td>Armenia</td>\n",
       "      <td>122</td>\n",
       "      <td>0</td>\n",
       "      <td>106</td>\n",
       "      <td>1</td>\n",
       "    </tr>\n",
       "    <tr>\n",
       "      <th>259</th>\n",
       "      <td>2020-03-21</td>\n",
       "      <td>Armenia</td>\n",
       "      <td>136</td>\n",
       "      <td>0</td>\n",
       "      <td>118</td>\n",
       "      <td>2</td>\n",
       "    </tr>\n",
       "  </tbody>\n",
       "</table>\n",
       "</div>"
      ],
      "text/plain": [
       "          date   location  total_cases  total_deaths  total_cases_normalized  \\\n",
       "185 2020-03-20  Argentina          128             3                     100   \n",
       "186 2020-03-21  Argentina          158             3                     123   \n",
       "257 2020-03-19    Armenia          115             0                     100   \n",
       "258 2020-03-20    Armenia          122             0                     106   \n",
       "259 2020-03-21    Armenia          136             0                     118   \n",
       "\n",
       "     days_after  \n",
       "185           0  \n",
       "186           1  \n",
       "257           0  \n",
       "258           1  \n",
       "259           2  "
      ]
     },
     "execution_count": 17,
     "metadata": {},
     "output_type": "execute_result"
    }
   ],
   "source": [
    "df_infection.head()"
   ]
  },
  {
   "cell_type": "code",
   "execution_count": 18,
   "metadata": {},
   "outputs": [
    {
     "data": {
      "text/html": [
       "<div>\n",
       "<style scoped>\n",
       "    .dataframe tbody tr th:only-of-type {\n",
       "        vertical-align: middle;\n",
       "    }\n",
       "\n",
       "    .dataframe tbody tr th {\n",
       "        vertical-align: top;\n",
       "    }\n",
       "\n",
       "    .dataframe thead th {\n",
       "        text-align: right;\n",
       "    }\n",
       "</style>\n",
       "<table border=\"1\" class=\"dataframe\">\n",
       "  <thead>\n",
       "    <tr style=\"text-align: right;\">\n",
       "      <th></th>\n",
       "      <th>date</th>\n",
       "      <th>location</th>\n",
       "      <th>total_cases</th>\n",
       "      <th>total_deaths</th>\n",
       "      <th>total_deaths_normalized</th>\n",
       "      <th>days_after</th>\n",
       "    </tr>\n",
       "  </thead>\n",
       "  <tbody>\n",
       "    <tr>\n",
       "      <th>158</th>\n",
       "      <td>2020-03-18</td>\n",
       "      <td>Algeria</td>\n",
       "      <td>60</td>\n",
       "      <td>5</td>\n",
       "      <td>5</td>\n",
       "      <td>0</td>\n",
       "    </tr>\n",
       "    <tr>\n",
       "      <th>159</th>\n",
       "      <td>2020-03-19</td>\n",
       "      <td>Algeria</td>\n",
       "      <td>73</td>\n",
       "      <td>6</td>\n",
       "      <td>6</td>\n",
       "      <td>1</td>\n",
       "    </tr>\n",
       "    <tr>\n",
       "      <th>160</th>\n",
       "      <td>2020-03-20</td>\n",
       "      <td>Algeria</td>\n",
       "      <td>82</td>\n",
       "      <td>7</td>\n",
       "      <td>7</td>\n",
       "      <td>2</td>\n",
       "    </tr>\n",
       "    <tr>\n",
       "      <th>161</th>\n",
       "      <td>2020-03-21</td>\n",
       "      <td>Algeria</td>\n",
       "      <td>94</td>\n",
       "      <td>10</td>\n",
       "      <td>10</td>\n",
       "      <td>3</td>\n",
       "    </tr>\n",
       "    <tr>\n",
       "      <th>336</th>\n",
       "      <td>2020-03-16</td>\n",
       "      <td>Australia</td>\n",
       "      <td>298</td>\n",
       "      <td>5</td>\n",
       "      <td>5</td>\n",
       "      <td>0</td>\n",
       "    </tr>\n",
       "  </tbody>\n",
       "</table>\n",
       "</div>"
      ],
      "text/plain": [
       "          date   location  total_cases  total_deaths  total_deaths_normalized  \\\n",
       "158 2020-03-18    Algeria           60             5                        5   \n",
       "159 2020-03-19    Algeria           73             6                        6   \n",
       "160 2020-03-20    Algeria           82             7                        7   \n",
       "161 2020-03-21    Algeria           94            10                       10   \n",
       "336 2020-03-16  Australia          298             5                        5   \n",
       "\n",
       "     days_after  \n",
       "158           0  \n",
       "159           1  \n",
       "160           2  \n",
       "161           3  \n",
       "336           0  "
      ]
     },
     "execution_count": 18,
     "metadata": {},
     "output_type": "execute_result"
    }
   ],
   "source": [
    "df_death.head()"
   ]
  },
  {
   "cell_type": "code",
   "execution_count": 19,
   "metadata": {},
   "outputs": [],
   "source": [
    "df_summary = df[df.date == df.date.max()].drop(columns='date')\n",
    "df_summary['cases'] = df_summary.total_cases\n",
    "df_summary = df_summary.drop(['total_cases', 'total_deaths'], axis=1)"
   ]
  },
  {
   "cell_type": "code",
   "execution_count": 20,
   "metadata": {},
   "outputs": [
    {
     "data": {
      "text/html": [
       "<div>\n",
       "<style scoped>\n",
       "    .dataframe tbody tr th:only-of-type {\n",
       "        vertical-align: middle;\n",
       "    }\n",
       "\n",
       "    .dataframe tbody tr th {\n",
       "        vertical-align: top;\n",
       "    }\n",
       "\n",
       "    .dataframe thead th {\n",
       "        text-align: right;\n",
       "    }\n",
       "</style>\n",
       "<table border=\"1\" class=\"dataframe\">\n",
       "  <thead>\n",
       "    <tr style=\"text-align: right;\">\n",
       "      <th></th>\n",
       "      <th>location</th>\n",
       "      <th>cases</th>\n",
       "    </tr>\n",
       "  </thead>\n",
       "  <tbody>\n",
       "    <tr>\n",
       "      <th>71</th>\n",
       "      <td>Afghanistan</td>\n",
       "      <td>24</td>\n",
       "    </tr>\n",
       "    <tr>\n",
       "      <th>84</th>\n",
       "      <td>Albania</td>\n",
       "      <td>70</td>\n",
       "    </tr>\n",
       "    <tr>\n",
       "      <th>161</th>\n",
       "      <td>Algeria</td>\n",
       "      <td>94</td>\n",
       "    </tr>\n",
       "    <tr>\n",
       "      <th>169</th>\n",
       "      <td>Andorra</td>\n",
       "      <td>75</td>\n",
       "    </tr>\n",
       "    <tr>\n",
       "      <th>171</th>\n",
       "      <td>Antigua and Barbuda</td>\n",
       "      <td>1</td>\n",
       "    </tr>\n",
       "  </tbody>\n",
       "</table>\n",
       "</div>"
      ],
      "text/plain": [
       "                location  cases\n",
       "71           Afghanistan     24\n",
       "84               Albania     70\n",
       "161              Algeria     94\n",
       "169              Andorra     75\n",
       "171  Antigua and Barbuda      1"
      ]
     },
     "execution_count": 20,
     "metadata": {},
     "output_type": "execute_result"
    }
   ],
   "source": [
    "df_summary.head()"
   ]
  },
  {
   "cell_type": "code",
   "execution_count": 21,
   "metadata": {},
   "outputs": [
    {
     "data": {
      "text/plain": [
       "array(['Argentina', 'Armenia', 'Australia', 'Austria', 'Bahrain',\n",
       "       'Belgium', 'Brazil', 'Bulgaria', 'Canada', 'Chile', 'China',\n",
       "       'Colombia', 'Costa Rica', 'Croatia', 'Czech Republic', 'Denmark',\n",
       "       'Ecuador', 'Egypt', 'Estonia', 'Finland', 'France', 'Germany',\n",
       "       'Greece', 'Iceland', 'India', 'Indonesia', 'International', 'Iran',\n",
       "       'Iraq', 'Ireland', 'Israel', 'Italy', 'Japan', 'Kuwait', 'Latvia',\n",
       "       'Lebanon', 'Luxembourg', 'Malaysia', 'Mexico', 'Netherlands',\n",
       "       'Norway', 'Pakistan', 'Panama', 'Peru', 'Philippines', 'Poland',\n",
       "       'Portugal', 'Qatar', 'Romania', 'Russia', 'San Marino',\n",
       "       'Saudi Arabia', 'Serbia', 'Singapore', 'Slovakia', 'Slovenia',\n",
       "       'South Africa', 'South Korea', 'Spain', 'Sweden', 'Switzerland',\n",
       "       'Taiwan', 'Thailand', 'Turkey', 'United Arab Emirates',\n",
       "       'United Kingdom', 'United States', 'Uruguay', 'World'],\n",
       "      dtype=object)"
      ]
     },
     "execution_count": 21,
     "metadata": {},
     "output_type": "execute_result"
    }
   ],
   "source": [
    "df_infection.location.unique()"
   ]
  },
  {
   "cell_type": "code",
   "execution_count": 22,
   "metadata": {},
   "outputs": [
    {
     "data": {
      "text/plain": [
       "array(['Algeria', 'Australia', 'Austria', 'Belgium', 'Brazil', 'Canada',\n",
       "       'China', 'Denmark', 'Ecuador', 'Egypt', 'France', 'Germany',\n",
       "       'Greece', 'Indonesia', 'International', 'Iran', 'Iraq', 'Italy',\n",
       "       'Japan', 'Luxembourg', 'Netherlands', 'Norway', 'Philippines',\n",
       "       'Poland', 'Portugal', 'San Marino', 'South Korea', 'Spain',\n",
       "       'Sweden', 'Switzerland', 'Turkey', 'United Kingdom',\n",
       "       'United States', 'World'], dtype=object)"
      ]
     },
     "execution_count": 22,
     "metadata": {},
     "output_type": "execute_result"
    }
   ],
   "source": [
    "df_death.location.unique()"
   ]
  },
  {
   "cell_type": "code",
   "execution_count": 23,
   "metadata": {},
   "outputs": [],
   "source": [
    "COUNTRIES = set(df[(df.date == df.date.max())].nlargest(columns='total_cases', n=34).sort_values('location').location)\n",
    "COUNTRIES.remove('World')"
   ]
  },
  {
   "cell_type": "markdown",
   "metadata": {},
   "source": [
    "# Altair"
   ]
  },
  {
   "cell_type": "markdown",
   "metadata": {},
   "source": [
    "## Storing data "
   ]
  },
  {
   "cell_type": "code",
   "execution_count": 26,
   "metadata": {},
   "outputs": [],
   "source": [
    "url_infection = 'data_infection.json'\n",
    "url_death = 'data_death.json'\n",
    "url_summary = 'data_summary.json'\n",
    "\n",
    "df_infection[df_infection.location.isin(COUNTRIES)].to_json(url_infection, orient='records')\n",
    "df_death[df_death.location.isin(COUNTRIES)].to_json(url_death, orient='records')\n",
    "df_summary[df_summary.location.isin(COUNTRIES)].to_json(url_summary, orient='records')\n",
    "\n",
    "# In future version files should be pushed to git automatically, this time I uploaded them \n",
    "\n",
    "BASEURL = 'https://raw.githubusercontent.com/Datenspieler/notebooks_for_blog/master/2020-corona/'\n",
    "\n",
    "url_infection = BASEURL + url_infection\n",
    "url_death = BASEURL + url_death\n",
    "url_summary = BASEURL + url_summary"
   ]
  },
  {
   "cell_type": "markdown",
   "metadata": {},
   "source": [
    "## Plotting data "
   ]
  },
  {
   "cell_type": "code",
   "execution_count": 25,
   "metadata": {},
   "outputs": [
    {
     "data": {
      "text/html": [
       "\n",
       "<div id=\"altair-viz-ae0c5fb0509941ccbf17d19c2e315699\"></div>\n",
       "<script type=\"text/javascript\">\n",
       "  (function(spec, embedOpt){\n",
       "    const outputDiv = document.getElementById(\"altair-viz-ae0c5fb0509941ccbf17d19c2e315699\");\n",
       "    const paths = {\n",
       "      \"vega\": \"https://cdn.jsdelivr.net/npm//vega@5?noext\",\n",
       "      \"vega-lib\": \"https://cdn.jsdelivr.net/npm//vega-lib?noext\",\n",
       "      \"vega-lite\": \"https://cdn.jsdelivr.net/npm//vega-lite@4.0.2?noext\",\n",
       "      \"vega-embed\": \"https://cdn.jsdelivr.net/npm//vega-embed@6?noext\",\n",
       "    };\n",
       "\n",
       "    function loadScript(lib) {\n",
       "      return new Promise(function(resolve, reject) {\n",
       "        var s = document.createElement('script');\n",
       "        s.src = paths[lib];\n",
       "        s.async = true;\n",
       "        s.onload = () => resolve(paths[lib]);\n",
       "        s.onerror = () => reject(`Error loading script: ${paths[lib]}`);\n",
       "        document.getElementsByTagName(\"head\")[0].appendChild(s);\n",
       "      });\n",
       "    }\n",
       "\n",
       "    function showError(err) {\n",
       "      outputDiv.innerHTML = `<div class=\"error\" style=\"color:red;\">${err}</div>`;\n",
       "      throw err;\n",
       "    }\n",
       "\n",
       "    function displayChart(vegaEmbed) {\n",
       "      vegaEmbed(outputDiv, spec, embedOpt)\n",
       "        .catch(err => showError(`Javascript Error: ${err.message}<br>This usually means there's a typo in your chart specification. See the javascript console for the full traceback.`));\n",
       "    }\n",
       "\n",
       "    if(typeof define === \"function\" && define.amd) {\n",
       "      requirejs.config({paths});\n",
       "      require([\"vega-embed\"], displayChart, err => showError(`Error loading script: ${err.message}`));\n",
       "    } else if (typeof vegaEmbed === \"function\") {\n",
       "      displayChart(vegaEmbed);\n",
       "    } else {\n",
       "      loadScript(\"vega\")\n",
       "        .then(() => loadScript(\"vega-lite\"))\n",
       "        .then(() => loadScript(\"vega-embed\"))\n",
       "        .catch(showError)\n",
       "        .then(() => displayChart(vegaEmbed));\n",
       "    }\n",
       "  })({\"config\": {\"view\": {\"continuousWidth\": 400, \"continuousHeight\": 300}}, \"hconcat\": [{\"data\": {\"url\": \"https://raw.githubusercontent.com/Datenspieler/notebooks_for_blog/master/2020-corona/data_summary.json\"}, \"mark\": \"bar\", \"encoding\": {\"color\": {\"condition\": {\"type\": \"nominal\", \"field\": \"location\", \"legend\": null, \"title\": \"Country\", \"selection\": \"selector001\"}, \"value\": \"grey\"}, \"tooltip\": [{\"type\": \"nominal\", \"field\": \"location\"}, {\"type\": \"quantitative\", \"field\": \"cases\"}], \"x\": {\"type\": \"quantitative\", \"field\": \"cases\", \"scale\": {\"type\": \"linear\"}, \"title\": \"Confirmed cases\"}, \"y\": {\"type\": \"nominal\", \"field\": \"location\", \"title\": \"Country\"}}, \"selection\": {\"selector001\": {\"type\": \"single\", \"on\": \"mouseover\", \"fields\": [\"location\"], \"nearest\": true}}, \"title\": \"Corona cases by country\", \"width\": 200}, {\"vconcat\": [{\"layer\": [{\"mark\": \"circle\", \"encoding\": {\"color\": {\"type\": \"nominal\", \"field\": \"location\", \"legend\": null, \"title\": \"Country\"}, \"opacity\": {\"value\": 0}, \"tooltip\": [{\"type\": \"nominal\", \"field\": \"location\"}, {\"type\": \"quantitative\", \"field\": \"total_cases\"}, {\"type\": \"temporal\", \"field\": \"date\"}], \"x\": {\"type\": \"quantitative\", \"field\": \"days_after\", \"scale\": {\"domain\": [0, 20], \"type\": \"ordinal\"}, \"title\": \"Days since the 100th confirmed infection\"}, \"y\": {\"type\": \"quantitative\", \"field\": \"total_cases_normalized\", \"scale\": {\"base\": 10, \"type\": \"log\"}, \"title\": \"Total confirmed infections of COVID-19, normalized\"}}, \"selection\": {\"selector001\": {\"type\": \"single\", \"on\": \"mouseover\", \"fields\": [\"location\"], \"nearest\": true}, \"selector002\": {\"type\": \"interval\", \"bind\": \"scales\", \"encodings\": [\"x\"]}}, \"title\": \"Development of Corona infections\", \"width\": 600}, {\"mark\": \"line\", \"encoding\": {\"color\": {\"type\": \"nominal\", \"field\": \"location\", \"legend\": null, \"title\": \"Country\"}, \"size\": {\"condition\": {\"value\": 1, \"selection\": {\"not\": \"selector001\"}}, \"value\": 5}, \"tooltip\": [{\"type\": \"nominal\", \"field\": \"location\"}, {\"type\": \"quantitative\", \"field\": \"total_cases\"}, {\"type\": \"temporal\", \"field\": \"date\"}], \"x\": {\"type\": \"quantitative\", \"field\": \"days_after\", \"scale\": {\"domain\": [0, 20], \"type\": \"ordinal\"}, \"title\": \"Days since the 100th confirmed infection\"}, \"y\": {\"type\": \"quantitative\", \"field\": \"total_cases_normalized\", \"scale\": {\"base\": 10, \"type\": \"log\"}, \"title\": \"Total confirmed infections of COVID-19, normalized\"}}, \"title\": \"Development of Corona infections\"}], \"data\": {\"url\": \"https://raw.githubusercontent.com/Datenspieler/notebooks_for_blog/master/2020-corona/data_infection.json\"}}, {\"layer\": [{\"mark\": \"circle\", \"encoding\": {\"color\": {\"type\": \"nominal\", \"field\": \"location\", \"legend\": null, \"title\": \"Country\"}, \"opacity\": {\"value\": 0}, \"tooltip\": [{\"type\": \"nominal\", \"field\": \"location\"}, {\"type\": \"quantitative\", \"field\": \"total_deaths\"}, {\"type\": \"temporal\", \"field\": \"date\"}], \"x\": {\"type\": \"quantitative\", \"field\": \"days_after\", \"scale\": {\"bins\": [0, 1, 2, 3, 4, 5, 6, 7, 8, 9, 10, 11, 12, 13, 14, 15, 16, 17, 18, 19, 20, 21, 22, 23, 24, 25, 26, 27, 28, 29, 30, 31, 32, 33, 34, 35, 36, 37, 38, 39, 40, 41, 42, 43, 44, 45, 46, 47, 48, 49, 50, 51, 52, 53, 54, 55, 56, 57, 58, 59, 60, 61, 62, 63, 64, 65, 66, 67, 68, 69, 70, 71, 72, 73, 74, 75, 76, 77, 78, 79, 80, 81, 82, 83, 84, 85, 86, 87, 88, 89, 90, 91, 92, 93, 94, 95, 96, 97, 98, 99], \"domain\": [0, 20], \"type\": \"ordinal\"}, \"title\": \"Days since the 5th confirmed death\"}, \"y\": {\"type\": \"quantitative\", \"field\": \"total_deaths_normalized\", \"scale\": {\"base\": 10, \"type\": \"log\"}, \"title\": \"Total confirmed deaths of COVID-19, normalized\"}}, \"selection\": {\"selector001\": {\"type\": \"single\", \"on\": \"mouseover\", \"fields\": [\"location\"], \"nearest\": true}, \"selector003\": {\"type\": \"interval\", \"bind\": \"scales\", \"encodings\": [\"x\"]}}, \"title\": \"Development of Corona deaths\", \"width\": 600}, {\"mark\": \"line\", \"encoding\": {\"color\": {\"type\": \"nominal\", \"field\": \"location\", \"legend\": null, \"title\": \"Country\"}, \"size\": {\"condition\": {\"value\": 1, \"selection\": {\"not\": \"selector001\"}}, \"value\": 5}, \"tooltip\": [{\"type\": \"nominal\", \"field\": \"location\"}, {\"type\": \"quantitative\", \"field\": \"total_deaths\"}, {\"type\": \"temporal\", \"field\": \"date\"}], \"x\": {\"type\": \"quantitative\", \"field\": \"days_after\", \"scale\": {\"bins\": [0, 1, 2, 3, 4, 5, 6, 7, 8, 9, 10, 11, 12, 13, 14, 15, 16, 17, 18, 19, 20, 21, 22, 23, 24, 25, 26, 27, 28, 29, 30, 31, 32, 33, 34, 35, 36, 37, 38, 39, 40, 41, 42, 43, 44, 45, 46, 47, 48, 49, 50, 51, 52, 53, 54, 55, 56, 57, 58, 59, 60, 61, 62, 63, 64, 65, 66, 67, 68, 69, 70, 71, 72, 73, 74, 75, 76, 77, 78, 79, 80, 81, 82, 83, 84, 85, 86, 87, 88, 89, 90, 91, 92, 93, 94, 95, 96, 97, 98, 99], \"domain\": [0, 20], \"type\": \"ordinal\"}, \"title\": \"Days since the 5th confirmed death\"}, \"y\": {\"type\": \"quantitative\", \"field\": \"total_deaths_normalized\", \"scale\": {\"base\": 10, \"type\": \"log\"}, \"title\": \"Total confirmed deaths of COVID-19, normalized\"}}, \"title\": \"Development of Corona deaths\"}], \"data\": {\"url\": \"https://raw.githubusercontent.com/Datenspieler/notebooks_for_blog/master/2020-corona/data_death.json\"}}]}], \"$schema\": \"https://vega.github.io/schema/vega-lite/v4.0.2.json\"}, {\"mode\": \"vega-lite\"});\n",
       "</script>"
      ],
      "text/plain": [
       "alt.HConcatChart(...)"
      ]
     },
     "execution_count": 25,
     "metadata": {},
     "output_type": "execute_result"
    }
   ],
   "source": [
    "highlight = alt.selection(type='single', on='mouseover',\n",
    "                          fields=['location'], nearest=True)\n",
    "\n",
    "base_infection = alt.Chart(url_infection).encode(\n",
    "    alt.X('days_after', type='quantitative', scale=alt.Scale(domain=[0,20], type='ordinal'),\n",
    "         title='Days since the 100th confirmed infection'),\n",
    "    alt.Y('total_cases_normalized', type='quantitative', scale=alt.Scale(type='log', base=10), \n",
    "          title='Total confirmed infections of COVID-19, normalized'),\n",
    "    alt.Color('location:N', title=\"Country\", legend=None),\n",
    "    alt.Tooltip(['location:N', 'total_cases:Q', 'date:T'])\n",
    ").properties(\n",
    "    title='Development of Corona infections',\n",
    ")\n",
    "\n",
    "base_death = alt.Chart(url_death).encode(\n",
    "    alt.X('days_after', type='quantitative',  scale=alt.Scale(domain=[0,20], type='ordinal', bins=list(range(100))),\n",
    "         title='Days since the 5th confirmed death'),\n",
    "    alt.Y('total_deaths_normalized', type='quantitative', scale=alt.Scale(type='log', base=10), \n",
    "          title='Total confirmed deaths of COVID-19, normalized'),\n",
    "    alt.Color('location:N', title=\"Country\", legend=None),\n",
    "    alt.Tooltip(['location:N', 'total_deaths:Q', 'date:T'])\n",
    ").properties(\n",
    "    title='Development of Corona deaths',\n",
    ")\n",
    "\n",
    "base_summary = alt.Chart(url_summary).mark_bar().encode(\n",
    "    x = alt.X('cases', type='quantitative', title='Confirmed cases', scale=alt.Scale(type='linear')),\n",
    "    y = alt.Y('location:N', title='Country'),\n",
    "    color = alt.condition(highlight, alt.Color('location:N', title=\"Country\", legend=None), alt.ColorValue(\"grey\")),\n",
    "    tooltip = alt.Tooltip(['location:N', 'cases:Q'])\n",
    ").add_selection(\n",
    "    highlight\n",
    ").properties(\n",
    "    width=200,\n",
    "    title='Corona cases by country'\n",
    ")\n",
    "\n",
    "\n",
    "points_infection = base_infection.mark_circle().encode(\n",
    "    opacity=alt.value(0)\n",
    ").add_selection(\n",
    "    highlight\n",
    ").properties(\n",
    "    width=600\n",
    ").interactive(\n",
    "    bind_y = False\n",
    ")\n",
    "\n",
    "points_death = base_death.mark_circle().encode(\n",
    "    opacity=alt.value(0)\n",
    ").add_selection(\n",
    "    highlight\n",
    ").properties(\n",
    "    width=600\n",
    ").interactive(\n",
    "    bind_y = False\n",
    ")\n",
    "\n",
    "\n",
    "lines_infection = base_infection.mark_line().encode(\n",
    "    size=alt.condition(~highlight, alt.value(1), alt.value(5), legend=None)\n",
    ")\n",
    "\n",
    "lines_death = base_death.mark_line().encode(\n",
    "    size=alt.condition(~highlight, alt.value(1), alt.value(5), legend=None)\n",
    ")\n",
    "\n",
    "chart = alt.vconcat(points_infection + lines_infection, points_death + lines_death)\n",
    "\n",
    "chart = alt.hconcat(base_summary, chart)\n",
    "\n",
    "\n",
    "#chart.save('corona.html')\n",
    "chart.save('corona.json')\n",
    "\n",
    "chart"
   ]
  }
 ],
 "metadata": {
  "kernelspec": {
   "display_name": "Python 3",
   "language": "python",
   "name": "python3"
  },
  "language_info": {
   "codemirror_mode": {
    "name": "ipython",
    "version": 3
   },
   "file_extension": ".py",
   "mimetype": "text/x-python",
   "name": "python",
   "nbconvert_exporter": "python",
   "pygments_lexer": "ipython3",
   "version": "3.7.6"
  }
 },
 "nbformat": 4,
 "nbformat_minor": 4
}
