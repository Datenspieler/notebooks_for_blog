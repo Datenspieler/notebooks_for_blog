{
 "cells": [
  {
   "cell_type": "markdown",
   "metadata": {},
   "source": [
    "# Haba Obstgarten"
   ]
  },
  {
   "cell_type": "markdown",
   "metadata": {},
   "source": [
    "* [Erste Analysen](#Erste-Analysen)\n",
    "* [Simulation](#Simulation)\n",
    "* [Ergebnisse](#Ergebnisse)"
   ]
  },
  {
   "cell_type": "markdown",
   "metadata": {},
   "source": [
    "# Hintergrund"
   ]
  },
  {
   "cell_type": "markdown",
   "metadata": {
    "collapsed": false
   },
   "source": [
    "Hintergrund zu dem Spiel Obstgarten findet sich in meinem [Blog](http://datenspieler.com/Haba-Obstgarten/)"
   ]
  },
  {
   "cell_type": "markdown",
   "metadata": {},
   "source": [
    "### Erste Analysen\n",
    "Die Liste `wuerfel` beschreibt die jeweiligen Seiten des Würfels. Mittels `random.choice(wuerfel)`, wird dann eine zufällige Aktion \"erwürfelt\"."
   ]
  },
  {
   "cell_type": "code",
   "execution_count": 1,
   "metadata": {
    "collapsed": true
   },
   "outputs": [],
   "source": [
    "wuerfel = ('apfel', 'birne', 'kirsche', 'zwetschke', 'korb', 'rabe')"
   ]
  },
  {
   "cell_type": "code",
   "execution_count": 2,
   "metadata": {
    "collapsed": false
   },
   "outputs": [
    {
     "data": {
      "text/plain": [
       "'kirsche'"
      ]
     },
     "execution_count": 2,
     "metadata": {},
     "output_type": "execute_result"
    }
   ],
   "source": [
    "import random\n",
    "aktion = random.choice(wuerfel)\n",
    "aktion"
   ]
  },
  {
   "cell_type": "markdown",
   "metadata": {},
   "source": [
    "Im Python Dictionary `status` wird der Zustand des Spiels beschreiben, sprich wie viele Früchte noch auf den Bäumen sind und wie viele Rabenteile schon aufgelegt sind. Damit lässt sich dann einmal Würfeln und die Auswirkung davon, ausgenommen `Korb`, dazu komme ich gleich, leicht abbilden. Das `max(..., 0)` beim Update des Status dient dazu, dass nicht negative Zahlen entstehen, falls ein Obst gewürfelt wird, dass gar nicht auf einem Baum hängt."
   ]
  },
  {
   "cell_type": "code",
   "execution_count": 3,
   "metadata": {
    "collapsed": true
   },
   "outputs": [],
   "source": [
    "status = {'apfel': 10, 'birne': 10, 'kirsche': 10, 'zwetschke': 10, 'rabe': 0}"
   ]
  },
  {
   "cell_type": "code",
   "execution_count": 4,
   "metadata": {
    "collapsed": false
   },
   "outputs": [
    {
     "name": "stdout",
     "output_type": "stream",
     "text": [
      "Aktion: birne\n",
      "Stats: {'rabe': 0, 'apfel': 10, 'zwetschke': 10, 'kirsche': 10, 'birne': 9}\n"
     ]
    }
   ],
   "source": [
    "aktion = random.choice(wuerfel)\n",
    "print('Aktion:', aktion)\n",
    "if aktion in ('apfel', 'birne', 'kirsche', 'zwetschke'):\n",
    "    status[aktion] = max(status[aktion] - 1, 0)\n",
    "elif aktion == 'rabe':\n",
    "    status[aktion] += 1\n",
    "print('Stats:', status)"
   ]
  },
  {
   "cell_type": "markdown",
   "metadata": {},
   "source": [
    "Jetzt kommen wir zum spannenden Teil - der Korb-Seite des Würfels. Dass der Korb wichtig ist, zeigt folgende Überlegung. Angenommen, es gebe den Korb nicht: um den Raben fertig zu bauen, benötigt man 9 Teile, vom Obst gibt es 10 Teile. Somit wäre der Rabe im Schnitt also schneller zusammengebaut, als jedes einzelne Obst für sich genommen abgeerntet wäre. Bei 4 Obstsorten wäre der Rabe dann ganz klar im Vorteil und die Spieler würden fast immer verlieren. \n",
    "\n",
    "Aber zum Glück gibt es den Korb, der das Spiel zugunsten der Spieler beeinflusst. Zusätzlich ist der Korb der einzige Teil des Spiels, bei dem der Spieler eine Entscheidung treffen kann und muss: welches Obst soll geerntet werden? Die offensichtig optimale Strategie ist es, die Bäume abzuerntet, an denen noch die meisten Früchte hängen. Das kommt daher, dass der Würfel kein Gedächtnis hat, sprich bei den folgenden Würfen im Durchschnitt die 4 Obstsorten gleich häufig gewürfelt werden. Auch, wenn bei den vergangen Würfen die eine oder andere Sorte öfters gewürfelt wurde.\n",
    "\n",
    "Technisch erfolgt die Umsetzung via der `max` Funktion, der man via des Schlüsselworts `key` die Funktion `get` mitgeben kann. Damit wird das Maximum über die Werte des Dictionary `status` ermittelt. `max(status)` würde das alphabetisch \"größte\" Obst (=Zwetschke) liefern."
   ]
  },
  {
   "cell_type": "code",
   "execution_count": 5,
   "metadata": {
    "collapsed": false
   },
   "outputs": [
    {
     "data": {
      "text/plain": [
       "9"
      ]
     },
     "execution_count": 5,
     "metadata": {},
     "output_type": "execute_result"
    }
   ],
   "source": [
    "status['birne']"
   ]
  },
  {
   "cell_type": "code",
   "execution_count": 6,
   "metadata": {
    "collapsed": false
   },
   "outputs": [
    {
     "data": {
      "text/plain": [
       "9"
      ]
     },
     "execution_count": 6,
     "metadata": {},
     "output_type": "execute_result"
    }
   ],
   "source": [
    "status.get('birne')"
   ]
  },
  {
   "cell_type": "code",
   "execution_count": 7,
   "metadata": {
    "collapsed": false
   },
   "outputs": [
    {
     "data": {
      "text/plain": [
       "'apfel'"
      ]
     },
     "execution_count": 7,
     "metadata": {},
     "output_type": "execute_result"
    }
   ],
   "source": [
    "max(status, key=status.get)"
   ]
  },
  {
   "cell_type": "code",
   "execution_count": 8,
   "metadata": {
    "collapsed": false
   },
   "outputs": [
    {
     "name": "stdout",
     "output_type": "stream",
     "text": [
      "Status: {'rabe': 0, 'apfel': 10, 'zwetschke': 10, 'kirsche': 10, 'birne': 9}\n",
      "Aktion: apfel\n",
      "Status: {'rabe': 0, 'apfel': 9, 'zwetschke': 10, 'kirsche': 10, 'birne': 9}\n"
     ]
    }
   ],
   "source": [
    "print('Status:', status)\n",
    "aktion = max(status, key=status.get)\n",
    "print('Aktion:', aktion)\n",
    "status[aktion] = max(status[aktion] - 1, 0)\n",
    "print('Status:', status)"
   ]
  },
  {
   "cell_type": "markdown",
   "metadata": {},
   "source": [
    "Aber nicht jeder Spieler folgt der optimalten Strategie. Ich habe zwei zusätzliche Strategien implementiert: einerseits eine Zufallsstrategie - hier wird einfach zufällig ein Obst geerntet, andererseits die schlechteste Strategie - man erntet immer das Obst, von dem es bereits am wenigsten gibt. In der Analyse wird sich dann die Auswirkung der Strategiewahl zeigen.\n",
    "\n",
    "Bei der technischen Umsetzung ist zu beachten, dass zuerst die Obstsorten, bei denen es gar keine Früchte mehr am Baum gibt, ausgeschlossen werden. Dazu lagere ich diese Obstsorten, zusammen mit dem Wert für den Raben temporär in andere Dictionaries aus."
   ]
  },
  {
   "cell_type": "code",
   "execution_count": 9,
   "metadata": {
    "collapsed": true
   },
   "outputs": [],
   "source": [
    "status = {'apfel': 3, 'birne': 0, 'kirsche': 1, 'zwetschke': 4, 'rabe': 2}"
   ]
  },
  {
   "cell_type": "code",
   "execution_count": 10,
   "metadata": {
    "collapsed": false
   },
   "outputs": [
    {
     "name": "stdout",
     "output_type": "stream",
     "text": [
      "Status: {'rabe': 2, 'apfel': 3, 'zwetschke': 4, 'kirsche': 1, 'birne': 0}\n",
      "Status zu ernten: {'apfel': 3, 'zwetschke': 4, 'kirsche': 1}\n",
      "Aktion: kirsche\n",
      "Status zu ernten: {'apfel': 3, 'zwetschke': 4, 'kirsche': 0}\n",
      "Status: {'rabe': 2, 'apfel': 3, 'zwetschke': 4, 'kirsche': 0, 'birne': 0}\n"
     ]
    }
   ],
   "source": [
    "print('Status:', status)\n",
    "\n",
    "status_sicherung = {k:v for k,v in status.items() if (v == 0) | (k=='rabe')}\n",
    "status_zu_ernten = {k:v for k,v in status.items() if (v > 0) & (k!='rabe')}    \n",
    " \n",
    "print('Status zu ernten:', status_zu_ernten)\n",
    "aktion = min(status_zu_ernten, key=status_zu_ernten.get)\n",
    "print('Aktion:', aktion)\n",
    "status_zu_ernten[aktion] = max(status_zu_ernten[aktion] - 1, 0)\n",
    "print('Status zu ernten:', status_zu_ernten)\n",
    "\n",
    "status = {**status_sicherung, **status_zu_ernten}\n",
    "print('Status:', status)"
   ]
  },
  {
   "cell_type": "markdown",
   "metadata": {},
   "source": [
    "### Simulation \n",
    "\n",
    "Für eine Simulation müssen die obrigen Schritte nur mehr richtig in Funktionen verpackt werden und dann öfters ausgeführt werden. Konkret werden die folgenden Funktionen definiert:\n",
    "- `korb(status, strategie_max, strategie_min, strategie_random, detail_zuege=True, erster_durchlauf=True, strategie_zweiter_durchlauf=0)`: basierend auf der übergebenen Strategie wird die Aktivität Korb durchgeführt. `status` ist der aktuelle Status, sprich wieviele  Früchte sind auf welchen Bäumen. \n",
    "    - Die Variablen `strategie_max, strategie_min, strategie_random` geben jeweils an, wieviele Spieler (absolut oder prozentuell, funktioniert beides) die jeweilige Strategie verfolgen, d.h., entweder ein Obst vom Baum mit den meisten Früchten ernten, mit den wenigsten oder zufällig. \n",
    "    - `detail_zuege` gibt an, ob eine explizite Ausgabe erfolgen soll, welche Frucht ausgewählt wurde. \n",
    "    - Da bei Korb zwei Früchte geerntet werden, ruft sich die Funktion `korb` beim ersten Durchlauf, erkennbar an `erster_durchlauf` ein zweites Mal selber auf. Dabei wird mittels `strategie_zweiter_durchlauf` die konkrete Strategie mitgegeben. Die Annahme ist hier, dass die Strategie des Spielers für die erste Frucht gleich ist wie für die zweite Frucht und nicht nochmal zufällig ermittelt wird. \n",
    "    - In der Funktion werden zuerst der Rabe und die bereits abgeernteten Bäume entfernt, dann wird die Strategie festgelegt, basierend auf der Strategie eine (die Funktion muss also zweimal aufgerufen werden, da bei Korb ja zwei Früchte geerntet werden dürfen) Frucht abgeerntet und zuletzt Rabe sowie leere Bäume wieder hinzugefügt. Der aktualisierte `status` wird von der Funktion zurückgegeben.\n",
    "    \n",
    "- `spielen(zuege = 0, letz_status = False, strategie_max=1, strategie_min=0, strategie_random=0, status = {'apfel': 10, 'birne': 10, 'kirsche': 10, 'zwetschke': 10, 'rabe': 0})`: hier wird ein Spiel durchgeführt. \n",
    "    -`zuege`gibt an, ob die Zwischenschritte ausgegeben werden sollen (0 - keine Ausgabe, 1 - Ausgabe Einzelzüge, 2 - Ausgabe Einzelzüge und Details bzgl. Korb), \n",
    "    - `letzt_status` gibt an, ob das Ergebnis auch als Text ausgegeben werden soll, \n",
    "    - `strategie_max`, `strategie_min` und `strategie_random` bestimmen wie bei der Funktion `korb` beschrieben die Strategie bzgl. der Aktivität Korb. \n",
    "    - Mittels des Dictionaries `status` hat man die Möglichkeit alternative Ausgangssituationen zu übergeben, z.B. nur 8 Äpfel. \n",
    "    - Die Funktion gibt ein Dictionary mit den Ergebnissen zurück, konkret `gewonnen` (True oder False), `gespielte_runden` (Anzahl gespielter Runden), `raben_teile` (Anzahl ausgelegter Rabenteile, 9 falls der Rabe gewonnen hat), `fruechte` (Anzahl der Früchte, die noch nicht geerntet wurden) und `strategie_max_min_rand` (Information bzgl. der Strategie)\n",
    "\n",
    "- `simulation(anzahl, strategie_max=1, strategie_min=0, strategie_random=0)` : Simulation von `anzahl` Spielen. Zurückgegeben wird ein Dataframe,der pro Spiel die oben beschriebene Information (`gewonnen`,`gespielte_runden`, `raben_teile`, `fruechte`, `strategie_max_min_rand`) enthält."
   ]
  },
  {
   "cell_type": "code",
   "execution_count": 11,
   "metadata": {
    "collapsed": false
   },
   "outputs": [],
   "source": [
    "import pandas as pd\n",
    "\n",
    "def korb(status, strategie_max, strategie_min, strategie_random, detail_zuege=True, \n",
    "         erster_durchlauf=True, strategie_zweiter_durchlauf=0):\n",
    "    #rabe Fruechte mit Anzahl 0 entfernen in getrenntem dicstionary speichern\n",
    "    status_sicherung = {k:v for k,v in status.items() if (v == 0) | (k=='rabe')}\n",
    "    status_zu_ernten = {k:v for k,v in status.items() if (v > 0) & (k!='rabe')}    \n",
    "    \n",
    "    #Check ob noch Fruechte am Baum\n",
    "    if len(status_zu_ernten) > 0:\n",
    "\n",
    "        #Strategie bestimmen\n",
    "        if erster_durchlauf:\n",
    "            zufall_strategie = random.random() * (strategie_max + strategie_min + strategie_random)\n",
    "            strategie_zweiter_durchlauf = zufall_strategie\n",
    "        else:\n",
    "            zufall_strategie = strategie_zweiter_durchlauf\n",
    "\n",
    "        if zufall_strategie < strategie_max:\n",
    "            aktion = max(status_zu_ernten, key=status_zu_ernten.get)\n",
    "            status_zu_ernten[aktion] = max(0, status_zu_ernten[aktion] - 1)\n",
    "            if detail_zuege:\n",
    "                print('.korb-max {:<12}:'.format(aktion),status_zu_ernten)\n",
    "\n",
    "        elif zufall_strategie < strategie_max + strategie_min:\n",
    "            aktion = min(status_zu_ernten, key=status_zu_ernten.get)\n",
    "            status_zu_ernten[aktion] = max(0, status_zu_ernten[aktion] - 1)\n",
    "            if detail_zuege:\n",
    "                print('.korb-min {:<12}:'.format(aktion),status_zu_ernten)\n",
    "        else:\n",
    "            aktion = random.choice(list(status_zu_ernten.keys()))\n",
    "            status_zu_ernten[aktion] = max(0, status_zu_ernten[aktion] - 1)\n",
    "            if detail_zuege:\n",
    "                print('.korb-rnd {:<12}:'.format(aktion),status_zu_ernten)    \n",
    "            \n",
    "    # Fruechte mit Anzahl 0 und rabe wieder zu status zusammenfügen\n",
    "    # only works in Python 3.5 onwards\n",
    "    # status = {**status_sicherung, **status_zu_ernten}\n",
    "    \n",
    "    status = status_sicherung.copy()\n",
    "    status.update(status_zu_ernten)\n",
    "    \n",
    "    if erster_durchlauf:\n",
    "        status = korb(status, strategie_max, strategie_min, strategie_random, detail_zuege, \n",
    "                      erster_durchlauf=False, strategie_zweiter_durchlauf=strategie_zweiter_durchlauf)    \n",
    "    return status\n",
    "\n",
    "def spielen(zuege = 0, letzt_status = False, strategie_max=1, strategie_min=0, strategie_random=0,\n",
    "           status = {'apfel': 10, 'birne': 10, 'kirsche': 10, 'zwetschke': 10, 'rabe': 0}):\n",
    "# zuege = 0 - keine ausgabe einzelner Zuege\n",
    "# zuege = 1 - Ausgabe einzelner Zuege\n",
    "# zuege = 2 - Ausgabe einzelner Zuege + Detailzuege bzgl. Korb\n",
    "    status = {'apfel': 10, 'birne': 10, 'kirsche': 10, 'zwetschke': 10, 'rabe': 0}\n",
    "    runden = 0\n",
    "    \n",
    "    while ((status['apfel'] > 0) or (status['birne'] > 0) or (status['kirsche'] > 0) or (status['zwetschke'] > 0)) \\\n",
    "        and (status['rabe'] < 9): \n",
    "\n",
    "        aktion = random.choice(wuerfel)\n",
    " \n",
    "        if aktion in ('apfel', 'birne', 'kirsche', 'zwetschke'):\n",
    "            status[aktion] = max(status[aktion] - 1, 0)\n",
    "        elif aktion == 'rabe':\n",
    "            status[aktion] += 1\n",
    "        else:        \n",
    "            status = korb(status, strategie_max, strategie_min, strategie_random,\n",
    "                         detail_zuege = max(0, zuege - 1))\n",
    "    \n",
    "        if zuege:\n",
    "            print('{:<22}:'.format(aktion),status)\n",
    "                        \n",
    "        runden += 1\n",
    "            \n",
    "    if status['rabe'] == 9:\n",
    "        if letzt_status:\n",
    "            print('{:<22}:'.format('Verloren'),status)\n",
    "            print('Verloren, der Rabe ist fertig.')\n",
    "        return {'gewonnen': False, 'gespielte_runden': runden, \n",
    "                'raben_teile': status['rabe'], 'fruechte': sum(status[d] for d in status if d != 'rabe'),\n",
    "                'strategie_max_min_rand': (strategie_max, strategie_min, strategie_random)}\n",
    "    else:\n",
    "        if letzt_status:\n",
    "            print('{:<22}:'.format('Gewonnen'),status)\n",
    "            print('Gewonnen, alle Bäume abgeerntet.')\n",
    "        return {'gewonnen': True, 'gespielte_runden': runden, \n",
    "                'raben_teile': status['rabe'], 'fruechte': sum(status[d] for d in status if d != 'rabe'),\n",
    "                'strategie_max_min_rand': (strategie_max, strategie_min, strategie_random)}\n",
    "    \n",
    "def simulation(anzahl, strategie_max=1, strategie_min=0, strategie_random=0):\n",
    "    df = pd.DataFrame()\n",
    "    for i in range(anzahl):\n",
    "        df = df.append(pd.DataFrame([spielen(strategie_max=strategie_max,\n",
    "                                             strategie_min=strategie_min, \n",
    "                                             strategie_random=strategie_random)]))\n",
    "    return df"
   ]
  },
  {
   "cell_type": "code",
   "execution_count": 12,
   "metadata": {
    "collapsed": false
   },
   "outputs": [],
   "source": [
    "import pandas as pd\n",
    "\n",
    "def korb(status, strategie_max, strategie_min, strategie_random, detail_zuege=True, \n",
    "         erster_durchlauf=True, strategie_zweiter_durchlauf=0):\n",
    "    #rabe Fruechte mit Anzahl 0 entfernen in getrenntem dicstionary speichern\n",
    "    status_sicherung = {k:v for k,v in status.items() if (v == 0) | (k=='rabe')}\n",
    "    status_zu_ernten = {k:v for k,v in status.items() if (v > 0) & (k!='rabe')}    \n",
    "    \n",
    "    #Check ob noch Fruechte am Baum\n",
    "    if len(status_zu_ernten) > 0:\n",
    "\n",
    "        #Strategie bestimmen\n",
    "        if erster_durchlauf:\n",
    "            zufall_strategie = random.random() * (strategie_max + strategie_min + strategie_random)\n",
    "            strategie_zweiter_durchlauf = zufall_strategie\n",
    "        else:\n",
    "            zufall_strategie = strategie_zweiter_durchlauf\n",
    "\n",
    "        if zufall_strategie < strategie_max:\n",
    "            aktion = max(status_zu_ernten, key=status_zu_ernten.get)\n",
    "            status_zu_ernten[aktion] = max(0, status_zu_ernten[aktion] - 1)\n",
    "            if detail_zuege:\n",
    "                print('.korb-max {:<12}:'.format(aktion),status_zu_ernten)\n",
    "\n",
    "        elif zufall_strategie < strategie_max + strategie_min:\n",
    "            aktion = min(status_zu_ernten, key=status_zu_ernten.get)\n",
    "            status_zu_ernten[aktion] = max(0, status_zu_ernten[aktion] - 1)\n",
    "            if detail_zuege:\n",
    "                print('.korb-min {:<12}:'.format(aktion),status_zu_ernten)\n",
    "        else:\n",
    "            aktion = random.choice(list(status_zu_ernten.keys()))\n",
    "            status_zu_ernten[aktion] = max(0, status_zu_ernten[aktion] - 1)\n",
    "            if detail_zuege:\n",
    "                print('.korb-rnd {:<12}:'.format(aktion),status_zu_ernten)    \n",
    "            \n",
    "    # Fruechte mit Anzahl 0 und rabe wieder zu status zusammenfügen\n",
    "    # only works in Python 3.5 onwards\n",
    "    # status = {**status_sicherung, **status_zu_ernten}\n",
    "    \n",
    "    status = status_sicherung.copy()\n",
    "    status.update(status_zu_ernten)\n",
    "    \n",
    "    if erster_durchlauf:\n",
    "        status = korb(status, strategie_max, strategie_min, strategie_random, detail_zuege, \n",
    "                      erster_durchlauf=False, strategie_zweiter_durchlauf=strategie_zweiter_durchlauf)    \n",
    "    return status\n",
    "\n",
    "def spielen(zuege = 0, letzt_status = False, strategie_max=1, strategie_min=0, strategie_random=0,\n",
    "           status = {'apfel': 10, 'birne': 10, 'kirsche': 10, 'zwetschke': 10, 'rabe': 0}):\n",
    "# zuege = 0 - keine ausgabe einzelner Zuege\n",
    "# zuege = 1 - Ausgabe einzelner Zuege\n",
    "# zuege = 2 - Ausgabe einzelner Zuege + Detailzuege bzgl. Korb\n",
    "    status = {'apfel': 10, 'birne': 10, 'kirsche': 10, 'zwetschke': 10, 'rabe': 0}\n",
    "    runden = 0\n",
    "    \n",
    "    while ((status['apfel'] > 0) or (status['birne'] > 0) or (status['kirsche'] > 0) or (status['zwetschke'] > 0)) \\\n",
    "        and (status['rabe'] < 9): \n",
    "\n",
    "        aktion = random.choice(wuerfel)\n",
    " \n",
    "        if aktion in ('apfel', 'birne', 'kirsche', 'zwetschke'):\n",
    "            status[aktion] = max(status[aktion] - 1, 0)\n",
    "        elif aktion == 'rabe':\n",
    "            status[aktion] += 1\n",
    "        else:        \n",
    "            status = korb(status, strategie_max, strategie_min, strategie_random,\n",
    "                         detail_zuege = max(0, zuege - 1))\n",
    "    \n",
    "        if zuege:\n",
    "            print('{:<22}:'.format(aktion),status)\n",
    "                        \n",
    "        runden += 1\n",
    "            \n",
    "    if status['rabe'] == 9:\n",
    "        if letzt_status:\n",
    "            print('{:<22}:'.format('Verloren'),status)\n",
    "            print('Verloren, der Rabe ist fertig.')\n",
    "        return {'gewonnen': False, 'gespielte_runden': runden, \n",
    "                'raben_teile': status['rabe'], 'fruechte': sum(status[d] for d in status if d != 'rabe'),\n",
    "                'strategie_max': strategie_max,\n",
    "                'strategie_min': strategie_min,\n",
    "                'strategie_rnd': strategie_random}\n",
    "    else:\n",
    "        if letzt_status:\n",
    "            print('{:<22}:'.format('Gewonnen'),status)\n",
    "            print('Gewonnen, alle Bäume abgeerntet.')\n",
    "        return {'gewonnen': True, 'gespielte_runden': runden, \n",
    "                'raben_teile': status['rabe'], 'fruechte': sum(status[d] for d in status if d != 'rabe'),\n",
    "                'strategie_max': strategie_max,\n",
    "                'strategie_min': strategie_min,\n",
    "                'strategie_rnd': strategie_random}\n",
    "    \n",
    "def simulation(anzahl, strategie_max=1, strategie_min=0, strategie_random=0):\n",
    "    df = pd.DataFrame()\n",
    "    for i in range(anzahl):\n",
    "        df = df.append(pd.DataFrame([spielen(strategie_max=strategie_max,\n",
    "                                             strategie_min=strategie_min, \n",
    "                                             strategie_random=strategie_random)]))\n",
    "    return df"
   ]
  },
  {
   "cell_type": "code",
   "execution_count": 13,
   "metadata": {
    "collapsed": false
   },
   "outputs": [
    {
     "data": {
      "text/plain": [
       "{'fruechte': 8,\n",
       " 'gespielte_runden': 33,\n",
       " 'gewonnen': False,\n",
       " 'raben_teile': 9,\n",
       " 'strategie_max': 1,\n",
       " 'strategie_min': 0,\n",
       " 'strategie_rnd': 0}"
      ]
     },
     "execution_count": 13,
     "metadata": {},
     "output_type": "execute_result"
    }
   ],
   "source": [
    "spielen()"
   ]
  },
  {
   "cell_type": "code",
   "execution_count": 14,
   "metadata": {
    "collapsed": false
   },
   "outputs": [
    {
     "name": "stdout",
     "output_type": "stream",
     "text": [
      "birne                 : {'rabe': 0, 'apfel': 10, 'zwetschke': 10, 'kirsche': 10, 'birne': 9}\n",
      "zwetschke             : {'rabe': 0, 'apfel': 10, 'zwetschke': 9, 'kirsche': 10, 'birne': 9}\n",
      ".korb-rnd zwetschke   : {'apfel': 10, 'zwetschke': 8, 'kirsche': 10, 'birne': 9}\n",
      ".korb-rnd birne       : {'apfel': 10, 'zwetschke': 8, 'kirsche': 10, 'birne': 8}\n",
      "korb                  : {'rabe': 0, 'apfel': 10, 'zwetschke': 8, 'kirsche': 10, 'birne': 8}\n",
      ".korb-rnd kirsche     : {'apfel': 10, 'zwetschke': 8, 'kirsche': 9, 'birne': 8}\n",
      ".korb-rnd kirsche     : {'apfel': 10, 'zwetschke': 8, 'kirsche': 8, 'birne': 8}\n",
      "korb                  : {'rabe': 0, 'apfel': 10, 'zwetschke': 8, 'kirsche': 8, 'birne': 8}\n",
      "zwetschke             : {'rabe': 0, 'apfel': 10, 'zwetschke': 7, 'kirsche': 8, 'birne': 8}\n",
      "birne                 : {'rabe': 0, 'apfel': 10, 'zwetschke': 7, 'kirsche': 8, 'birne': 7}\n",
      "apfel                 : {'rabe': 0, 'apfel': 9, 'zwetschke': 7, 'kirsche': 8, 'birne': 7}\n",
      "apfel                 : {'rabe': 0, 'apfel': 8, 'zwetschke': 7, 'kirsche': 8, 'birne': 7}\n",
      ".korb-min zwetschke   : {'apfel': 8, 'zwetschke': 6, 'kirsche': 8, 'birne': 7}\n",
      ".korb-min zwetschke   : {'apfel': 8, 'zwetschke': 5, 'kirsche': 8, 'birne': 7}\n",
      "korb                  : {'rabe': 0, 'apfel': 8, 'zwetschke': 5, 'kirsche': 8, 'birne': 7}\n",
      "birne                 : {'rabe': 0, 'apfel': 8, 'zwetschke': 5, 'kirsche': 8, 'birne': 6}\n",
      "birne                 : {'rabe': 0, 'apfel': 8, 'zwetschke': 5, 'kirsche': 8, 'birne': 5}\n",
      "rabe                  : {'rabe': 1, 'apfel': 8, 'zwetschke': 5, 'kirsche': 8, 'birne': 5}\n",
      ".korb-min zwetschke   : {'apfel': 8, 'zwetschke': 4, 'kirsche': 8, 'birne': 5}\n",
      ".korb-min zwetschke   : {'apfel': 8, 'zwetschke': 3, 'kirsche': 8, 'birne': 5}\n",
      "korb                  : {'rabe': 1, 'apfel': 8, 'zwetschke': 3, 'kirsche': 8, 'birne': 5}\n",
      "kirsche               : {'rabe': 1, 'apfel': 8, 'zwetschke': 3, 'kirsche': 7, 'birne': 5}\n",
      "rabe                  : {'rabe': 2, 'apfel': 8, 'zwetschke': 3, 'kirsche': 7, 'birne': 5}\n",
      "apfel                 : {'rabe': 2, 'apfel': 7, 'zwetschke': 3, 'kirsche': 7, 'birne': 5}\n",
      "birne                 : {'rabe': 2, 'apfel': 7, 'zwetschke': 3, 'kirsche': 7, 'birne': 4}\n",
      "zwetschke             : {'rabe': 2, 'apfel': 7, 'zwetschke': 2, 'kirsche': 7, 'birne': 4}\n",
      "kirsche               : {'rabe': 2, 'apfel': 7, 'zwetschke': 2, 'kirsche': 6, 'birne': 4}\n",
      "apfel                 : {'rabe': 2, 'apfel': 6, 'zwetschke': 2, 'kirsche': 6, 'birne': 4}\n",
      "birne                 : {'rabe': 2, 'apfel': 6, 'zwetschke': 2, 'kirsche': 6, 'birne': 3}\n",
      "apfel                 : {'rabe': 2, 'apfel': 5, 'zwetschke': 2, 'kirsche': 6, 'birne': 3}\n",
      ".korb-max kirsche     : {'apfel': 5, 'zwetschke': 2, 'kirsche': 5, 'birne': 3}\n",
      ".korb-max apfel       : {'apfel': 4, 'zwetschke': 2, 'kirsche': 5, 'birne': 3}\n",
      "korb                  : {'rabe': 2, 'apfel': 4, 'zwetschke': 2, 'kirsche': 5, 'birne': 3}\n",
      "kirsche               : {'rabe': 2, 'apfel': 4, 'zwetschke': 2, 'kirsche': 4, 'birne': 3}\n",
      ".korb-min zwetschke   : {'apfel': 4, 'zwetschke': 1, 'kirsche': 4, 'birne': 3}\n",
      ".korb-min zwetschke   : {'apfel': 4, 'zwetschke': 0, 'kirsche': 4, 'birne': 3}\n",
      "korb                  : {'rabe': 2, 'apfel': 4, 'zwetschke': 0, 'kirsche': 4, 'birne': 3}\n",
      ".korb-max apfel       : {'apfel': 3, 'kirsche': 4, 'birne': 3}\n",
      ".korb-max kirsche     : {'apfel': 3, 'kirsche': 3, 'birne': 3}\n",
      "korb                  : {'rabe': 2, 'apfel': 3, 'zwetschke': 0, 'kirsche': 3, 'birne': 3}\n",
      "kirsche               : {'rabe': 2, 'apfel': 3, 'zwetschke': 0, 'kirsche': 2, 'birne': 3}\n",
      "rabe                  : {'rabe': 3, 'apfel': 3, 'zwetschke': 0, 'kirsche': 2, 'birne': 3}\n",
      "apfel                 : {'rabe': 3, 'apfel': 2, 'zwetschke': 0, 'kirsche': 2, 'birne': 3}\n",
      "apfel                 : {'rabe': 3, 'apfel': 1, 'zwetschke': 0, 'kirsche': 2, 'birne': 3}\n",
      "rabe                  : {'rabe': 4, 'apfel': 1, 'zwetschke': 0, 'kirsche': 2, 'birne': 3}\n",
      "birne                 : {'rabe': 4, 'apfel': 1, 'zwetschke': 0, 'kirsche': 2, 'birne': 2}\n",
      "zwetschke             : {'rabe': 4, 'apfel': 1, 'zwetschke': 0, 'kirsche': 2, 'birne': 2}\n",
      "kirsche               : {'rabe': 4, 'apfel': 1, 'zwetschke': 0, 'kirsche': 1, 'birne': 2}\n",
      "rabe                  : {'rabe': 5, 'apfel': 1, 'zwetschke': 0, 'kirsche': 1, 'birne': 2}\n",
      ".korb-max birne       : {'apfel': 1, 'kirsche': 1, 'birne': 1}\n",
      ".korb-max apfel       : {'apfel': 0, 'kirsche': 1, 'birne': 1}\n",
      "korb                  : {'rabe': 5, 'apfel': 0, 'zwetschke': 0, 'kirsche': 1, 'birne': 1}\n",
      "apfel                 : {'rabe': 5, 'apfel': 0, 'zwetschke': 0, 'kirsche': 1, 'birne': 1}\n",
      "rabe                  : {'rabe': 6, 'apfel': 0, 'zwetschke': 0, 'kirsche': 1, 'birne': 1}\n",
      "apfel                 : {'rabe': 6, 'apfel': 0, 'zwetschke': 0, 'kirsche': 1, 'birne': 1}\n",
      "zwetschke             : {'rabe': 6, 'apfel': 0, 'zwetschke': 0, 'kirsche': 1, 'birne': 1}\n",
      "apfel                 : {'rabe': 6, 'apfel': 0, 'zwetschke': 0, 'kirsche': 1, 'birne': 1}\n",
      "birne                 : {'rabe': 6, 'apfel': 0, 'zwetschke': 0, 'kirsche': 1, 'birne': 0}\n",
      "apfel                 : {'rabe': 6, 'apfel': 0, 'zwetschke': 0, 'kirsche': 1, 'birne': 0}\n",
      "rabe                  : {'rabe': 7, 'apfel': 0, 'zwetschke': 0, 'kirsche': 1, 'birne': 0}\n",
      "rabe                  : {'rabe': 8, 'apfel': 0, 'zwetschke': 0, 'kirsche': 1, 'birne': 0}\n",
      ".korb-rnd kirsche     : {'kirsche': 0}\n",
      "korb                  : {'rabe': 8, 'apfel': 0, 'zwetschke': 0, 'kirsche': 0, 'birne': 0}\n",
      "Gewonnen              : {'rabe': 8, 'apfel': 0, 'zwetschke': 0, 'kirsche': 0, 'birne': 0}\n",
      "Gewonnen, alle Bäume abgeerntet.\n"
     ]
    },
    {
     "data": {
      "text/plain": [
       "{'fruechte': 0,\n",
       " 'gespielte_runden': 46,\n",
       " 'gewonnen': True,\n",
       " 'raben_teile': 8,\n",
       " 'strategie_max': 2,\n",
       " 'strategie_min': 1,\n",
       " 'strategie_rnd': 2}"
      ]
     },
     "execution_count": 14,
     "metadata": {},
     "output_type": "execute_result"
    }
   ],
   "source": [
    "spielen(zuege=2, letzt_status=True, strategie_max=2, strategie_min=1, strategie_random=2)"
   ]
  },
  {
   "cell_type": "markdown",
   "metadata": {},
   "source": [
    "Nun die Simulation, mit jeweils 100 000 Durchläufen, für jede der 3 Strategien. Achtung, das dauert recht lange. Bei mir z.B. 30 Minuten.\n",
    "Bitte insbesondere wenn du dieses Notebook via [mybinder](mybinder.org) ausführst, diese Zelle überspringen und mit der nächsten Zelle die 100 000 Simulationen laden."
   ]
  },
  {
   "cell_type": "code",
   "execution_count": 15,
   "metadata": {
    "collapsed": false
   },
   "outputs": [
    {
     "name": "stdout",
     "output_type": "stream",
     "text": [
      "Wall time: 34min 43s\n"
     ]
    }
   ],
   "source": [
    "%%time\n",
    "n = 100000\n",
    "df_max = simulation(n, strategie_max=1, strategie_min=0, strategie_random=0)\n",
    "df_min = simulation(n, strategie_max=0, strategie_min=1, strategie_random=0)\n",
    "df_rand = simulation(n, strategie_max=0, strategie_min=0, strategie_random=1)\n",
    "df = df_max\n",
    "df = df.append(df_min)\n",
    "df = df.append(df_rand)\n",
    "# Da das generieren der Daten doch etwas dauert, speichern wir die Daten zur Sicherheit ab.\n",
    "df.to_csv('df.csv', index=False)"
   ]
  },
  {
   "cell_type": "code",
   "execution_count": 16,
   "metadata": {
    "collapsed": false
   },
   "outputs": [],
   "source": [
    "df = pd.read_csv('df.csv')"
   ]
  },
  {
   "cell_type": "code",
   "execution_count": 17,
   "metadata": {
    "collapsed": false
   },
   "outputs": [
    {
     "data": {
      "text/html": [
       "<div>\n",
       "<table border=\"1\" class=\"dataframe\">\n",
       "  <thead>\n",
       "    <tr style=\"text-align: right;\">\n",
       "      <th></th>\n",
       "      <th>fruechte</th>\n",
       "      <th>gespielte_runden</th>\n",
       "      <th>gewonnen</th>\n",
       "      <th>raben_teile</th>\n",
       "      <th>strategie_max</th>\n",
       "      <th>strategie_min</th>\n",
       "      <th>strategie_rnd</th>\n",
       "    </tr>\n",
       "  </thead>\n",
       "  <tbody>\n",
       "    <tr>\n",
       "      <th>0</th>\n",
       "      <td>5</td>\n",
       "      <td>45</td>\n",
       "      <td>False</td>\n",
       "      <td>9</td>\n",
       "      <td>1</td>\n",
       "      <td>0</td>\n",
       "      <td>0</td>\n",
       "    </tr>\n",
       "    <tr>\n",
       "      <th>1</th>\n",
       "      <td>0</td>\n",
       "      <td>47</td>\n",
       "      <td>True</td>\n",
       "      <td>6</td>\n",
       "      <td>1</td>\n",
       "      <td>0</td>\n",
       "      <td>0</td>\n",
       "    </tr>\n",
       "    <tr>\n",
       "      <th>2</th>\n",
       "      <td>0</td>\n",
       "      <td>47</td>\n",
       "      <td>True</td>\n",
       "      <td>5</td>\n",
       "      <td>1</td>\n",
       "      <td>0</td>\n",
       "      <td>0</td>\n",
       "    </tr>\n",
       "  </tbody>\n",
       "</table>\n",
       "</div>"
      ],
      "text/plain": [
       "   fruechte  gespielte_runden gewonnen  raben_teile  strategie_max  \\\n",
       "0         5                45    False            9              1   \n",
       "1         0                47     True            6              1   \n",
       "2         0                47     True            5              1   \n",
       "\n",
       "   strategie_min  strategie_rnd  \n",
       "0              0              0  \n",
       "1              0              0  \n",
       "2              0              0  "
      ]
     },
     "execution_count": 17,
     "metadata": {},
     "output_type": "execute_result"
    }
   ],
   "source": [
    "df[:3]"
   ]
  },
  {
   "cell_type": "code",
   "execution_count": 18,
   "metadata": {
    "collapsed": false
   },
   "outputs": [
    {
     "name": "stdout",
     "output_type": "stream",
     "text": [
      "<class 'pandas.core.frame.DataFrame'>\n",
      "Int64Index: 300000 entries, 0 to 299999\n",
      "Data columns (total 7 columns):\n",
      "fruechte            300000 non-null int64\n",
      "gespielte_runden    300000 non-null int64\n",
      "gewonnen            300000 non-null bool\n",
      "raben_teile         300000 non-null int64\n",
      "strategie_max       300000 non-null int64\n",
      "strategie_min       300000 non-null int64\n",
      "strategie_rnd       300000 non-null int64\n",
      "dtypes: bool(1), int64(6)\n",
      "memory usage: 16.3 MB\n"
     ]
    }
   ],
   "source": [
    "df.info()"
   ]
  },
  {
   "cell_type": "markdown",
   "metadata": {},
   "source": [
    "Damit man die Strategien leichter erkennt, übersetzen wir z.B. (1,0,0) in max."
   ]
  },
  {
   "cell_type": "code",
   "execution_count": 19,
   "metadata": {
    "collapsed": false
   },
   "outputs": [
    {
     "data": {
      "text/plain": [
       "'max'"
      ]
     },
     "execution_count": 19,
     "metadata": {},
     "output_type": "execute_result"
    }
   ],
   "source": [
    "dict_strategie = {(1, 0, 0): 'max', (0, 1, 0): 'min', (0, 0, 1): 'rnd'}\n",
    "dict_strategie.get((1, 0, 0))"
   ]
  },
  {
   "cell_type": "code",
   "execution_count": 20,
   "metadata": {
    "collapsed": false
   },
   "outputs": [
    {
     "data": {
      "text/plain": [
       "rnd    100000\n",
       "min    100000\n",
       "max    100000\n",
       "Name: strategie, dtype: int64"
      ]
     },
     "execution_count": 20,
     "metadata": {},
     "output_type": "execute_result"
    }
   ],
   "source": [
    "df['strategie'] = df.apply(lambda x: dict_strategie.get((x['strategie_max'], \n",
    "                                                         x['strategie_min'], x['strategie_rnd'])), axis=1)\n",
    "df = df.drop(['strategie_max', 'strategie_min', 'strategie_rnd'], axis = 1)\n",
    "df.strategie.value_counts()"
   ]
  },
  {
   "cell_type": "markdown",
   "metadata": {},
   "source": [
    "Für die Strategie `max`, sprich die optimale Strategie, sieht man nun, dass man in rund 68% der Fälle gewinnt. Ein Spiel dauert im Durchschnitt 40 Runden."
   ]
  },
  {
   "cell_type": "code",
   "execution_count": 21,
   "metadata": {
    "collapsed": false
   },
   "outputs": [
    {
     "data": {
      "text/html": [
       "<div>\n",
       "<table border=\"1\" class=\"dataframe\">\n",
       "  <thead>\n",
       "    <tr style=\"text-align: right;\">\n",
       "      <th></th>\n",
       "      <th>fruechte</th>\n",
       "      <th>gespielte_runden</th>\n",
       "      <th>gewonnen</th>\n",
       "      <th>raben_teile</th>\n",
       "    </tr>\n",
       "  </thead>\n",
       "  <tbody>\n",
       "    <tr>\n",
       "      <th>count</th>\n",
       "      <td>100000.000000</td>\n",
       "      <td>100000.00000</td>\n",
       "      <td>100000</td>\n",
       "      <td>100000.000000</td>\n",
       "    </tr>\n",
       "    <tr>\n",
       "      <th>mean</th>\n",
       "      <td>2.493880</td>\n",
       "      <td>40.12557</td>\n",
       "      <td>0.68352</td>\n",
       "      <td>6.689460</td>\n",
       "    </tr>\n",
       "    <tr>\n",
       "      <th>std</th>\n",
       "      <td>5.110319</td>\n",
       "      <td>5.42102</td>\n",
       "      <td>0.465105</td>\n",
       "      <td>2.164281</td>\n",
       "    </tr>\n",
       "    <tr>\n",
       "      <th>min</th>\n",
       "      <td>0.000000</td>\n",
       "      <td>11.00000</td>\n",
       "      <td>False</td>\n",
       "      <td>0.000000</td>\n",
       "    </tr>\n",
       "    <tr>\n",
       "      <th>25%</th>\n",
       "      <td>0.000000</td>\n",
       "      <td>37.00000</td>\n",
       "      <td>0</td>\n",
       "      <td>5.000000</td>\n",
       "    </tr>\n",
       "    <tr>\n",
       "      <th>50%</th>\n",
       "      <td>0.000000</td>\n",
       "      <td>40.00000</td>\n",
       "      <td>1</td>\n",
       "      <td>7.000000</td>\n",
       "    </tr>\n",
       "    <tr>\n",
       "      <th>75%</th>\n",
       "      <td>2.000000</td>\n",
       "      <td>43.00000</td>\n",
       "      <td>1</td>\n",
       "      <td>9.000000</td>\n",
       "    </tr>\n",
       "    <tr>\n",
       "      <th>max</th>\n",
       "      <td>38.000000</td>\n",
       "      <td>65.00000</td>\n",
       "      <td>True</td>\n",
       "      <td>9.000000</td>\n",
       "    </tr>\n",
       "  </tbody>\n",
       "</table>\n",
       "</div>"
      ],
      "text/plain": [
       "            fruechte  gespielte_runden  gewonnen    raben_teile\n",
       "count  100000.000000      100000.00000    100000  100000.000000\n",
       "mean        2.493880          40.12557   0.68352       6.689460\n",
       "std         5.110319           5.42102  0.465105       2.164281\n",
       "min         0.000000          11.00000     False       0.000000\n",
       "25%         0.000000          37.00000         0       5.000000\n",
       "50%         0.000000          40.00000         1       7.000000\n",
       "75%         2.000000          43.00000         1       9.000000\n",
       "max        38.000000          65.00000      True       9.000000"
      ]
     },
     "execution_count": 21,
     "metadata": {},
     "output_type": "execute_result"
    }
   ],
   "source": [
    "df[df.strategie == 'max'].describe()"
   ]
  },
  {
   "cell_type": "markdown",
   "metadata": {},
   "source": [
    "Die Strategie `max` hat einen spürbaren Einfluss auf die Gewinnwahrscheinlichkeit. Bei der Strategie `min`, d.h. wenn man bei `Korb` immer die Obstsorte erntet, von der es sowieso schon am wenigsten gibt, sinkt die Gewinnwahrscheinlichkeit um mehr als 10%-Punkte auf 53%. Die zufällige Strategie, liegt mit 63% dazwischen."
   ]
  },
  {
   "cell_type": "code",
   "execution_count": 22,
   "metadata": {
    "collapsed": false
   },
   "outputs": [
    {
     "data": {
      "text/html": [
       "<div>\n",
       "<table border=\"1\" class=\"dataframe\">\n",
       "  <thead>\n",
       "    <tr style=\"text-align: right;\">\n",
       "      <th></th>\n",
       "      <th>fruechte</th>\n",
       "      <th>gespielte_runden</th>\n",
       "      <th>gewonnen</th>\n",
       "      <th>raben_teile</th>\n",
       "    </tr>\n",
       "    <tr>\n",
       "      <th>strategie</th>\n",
       "      <th></th>\n",
       "      <th></th>\n",
       "      <th></th>\n",
       "      <th></th>\n",
       "    </tr>\n",
       "  </thead>\n",
       "  <tbody>\n",
       "    <tr>\n",
       "      <th>max</th>\n",
       "      <td>2.49388</td>\n",
       "      <td>40.12557</td>\n",
       "      <td>0.68352</td>\n",
       "      <td>6.68946</td>\n",
       "    </tr>\n",
       "    <tr>\n",
       "      <th>min</th>\n",
       "      <td>3.74925</td>\n",
       "      <td>44.40649</td>\n",
       "      <td>0.53030</td>\n",
       "      <td>7.40862</td>\n",
       "    </tr>\n",
       "    <tr>\n",
       "      <th>rnd</th>\n",
       "      <td>2.81457</td>\n",
       "      <td>41.65798</td>\n",
       "      <td>0.63106</td>\n",
       "      <td>6.94978</td>\n",
       "    </tr>\n",
       "  </tbody>\n",
       "</table>\n",
       "</div>"
      ],
      "text/plain": [
       "           fruechte  gespielte_runden  gewonnen  raben_teile\n",
       "strategie                                                   \n",
       "max         2.49388          40.12557   0.68352      6.68946\n",
       "min         3.74925          44.40649   0.53030      7.40862\n",
       "rnd         2.81457          41.65798   0.63106      6.94978"
      ]
     },
     "execution_count": 22,
     "metadata": {},
     "output_type": "execute_result"
    }
   ],
   "source": [
    "df.groupby('strategie').mean()"
   ]
  },
  {
   "cell_type": "markdown",
   "metadata": {},
   "source": [
    "Wenn man, zB. mit der Strategie `max` gewinnt, hat man im Durchschnitt 5.6 (bzw. Meadian 6) Rabenteile schon ausgelegt. Verliert man, dann sind im Durchschnitt noch 8 Früchte (Median 6) auf den Bäumen. Ein gewonnenes Spiel dauert 41 Züge, ein verlorenes ist mit 37 (Durchschnitt) bzw. 38 (Median) Zügen kürzer. "
   ]
  },
  {
   "cell_type": "code",
   "execution_count": 23,
   "metadata": {
    "collapsed": false
   },
   "outputs": [
    {
     "data": {
      "text/html": [
       "<div>\n",
       "<table border=\"1\" class=\"dataframe\">\n",
       "  <thead>\n",
       "    <tr>\n",
       "      <th></th>\n",
       "      <th></th>\n",
       "      <th colspan=\"2\" halign=\"left\">fruechte</th>\n",
       "      <th colspan=\"2\" halign=\"left\">gespielte_runden</th>\n",
       "      <th colspan=\"2\" halign=\"left\">raben_teile</th>\n",
       "    </tr>\n",
       "    <tr>\n",
       "      <th></th>\n",
       "      <th></th>\n",
       "      <th>mean</th>\n",
       "      <th>median</th>\n",
       "      <th>mean</th>\n",
       "      <th>median</th>\n",
       "      <th>mean</th>\n",
       "      <th>median</th>\n",
       "    </tr>\n",
       "    <tr>\n",
       "      <th>strategie</th>\n",
       "      <th>gewonnen</th>\n",
       "      <th></th>\n",
       "      <th></th>\n",
       "      <th></th>\n",
       "      <th></th>\n",
       "      <th></th>\n",
       "      <th></th>\n",
       "    </tr>\n",
       "  </thead>\n",
       "  <tbody>\n",
       "    <tr>\n",
       "      <th rowspan=\"2\" valign=\"top\">max</th>\n",
       "      <th>False</th>\n",
       "      <td>7.880056</td>\n",
       "      <td>6</td>\n",
       "      <td>37.248989</td>\n",
       "      <td>38</td>\n",
       "      <td>9.000000</td>\n",
       "      <td>9</td>\n",
       "    </tr>\n",
       "    <tr>\n",
       "      <th>True</th>\n",
       "      <td>0.000000</td>\n",
       "      <td>0</td>\n",
       "      <td>41.457470</td>\n",
       "      <td>41</td>\n",
       "      <td>5.619645</td>\n",
       "      <td>6</td>\n",
       "    </tr>\n",
       "    <tr>\n",
       "      <th rowspan=\"2\" valign=\"top\">min</th>\n",
       "      <th>False</th>\n",
       "      <td>7.982223</td>\n",
       "      <td>7</td>\n",
       "      <td>41.047796</td>\n",
       "      <td>41</td>\n",
       "      <td>9.000000</td>\n",
       "      <td>9</td>\n",
       "    </tr>\n",
       "    <tr>\n",
       "      <th>True</th>\n",
       "      <td>0.000000</td>\n",
       "      <td>0</td>\n",
       "      <td>47.381369</td>\n",
       "      <td>47</td>\n",
       "      <td>5.999095</td>\n",
       "      <td>6</td>\n",
       "    </tr>\n",
       "    <tr>\n",
       "      <th rowspan=\"2\" valign=\"top\">rnd</th>\n",
       "      <th>False</th>\n",
       "      <td>7.628801</td>\n",
       "      <td>6</td>\n",
       "      <td>38.695669</td>\n",
       "      <td>39</td>\n",
       "      <td>9.000000</td>\n",
       "      <td>9</td>\n",
       "    </tr>\n",
       "    <tr>\n",
       "      <th>True</th>\n",
       "      <td>0.000000</td>\n",
       "      <td>0</td>\n",
       "      <td>43.389852</td>\n",
       "      <td>43</td>\n",
       "      <td>5.751149</td>\n",
       "      <td>6</td>\n",
       "    </tr>\n",
       "  </tbody>\n",
       "</table>\n",
       "</div>"
      ],
      "text/plain": [
       "                    fruechte        gespielte_runden        raben_teile       \n",
       "                        mean median             mean median        mean median\n",
       "strategie gewonnen                                                            \n",
       "max       False     7.880056      6        37.248989     38    9.000000      9\n",
       "          True      0.000000      0        41.457470     41    5.619645      6\n",
       "min       False     7.982223      7        41.047796     41    9.000000      9\n",
       "          True      0.000000      0        47.381369     47    5.999095      6\n",
       "rnd       False     7.628801      6        38.695669     39    9.000000      9\n",
       "          True      0.000000      0        43.389852     43    5.751149      6"
      ]
     },
     "execution_count": 23,
     "metadata": {},
     "output_type": "execute_result"
    }
   ],
   "source": [
    "df.groupby(['strategie', 'gewonnen']).agg(['mean', 'median'])"
   ]
  },
  {
   "cell_type": "markdown",
   "metadata": {},
   "source": [
    "Damit die Grafiken unten etwas leichter zu lesen sind, erzeuge ich statt der Spalte `gewonnen` mit Werten `False` und `True` eine Spalte `Ergebnis` mit `Gewonnen` oder `Verloren`."
   ]
  },
  {
   "cell_type": "code",
   "execution_count": 24,
   "metadata": {
    "collapsed": false
   },
   "outputs": [],
   "source": [
    "df.loc[df.gewonnen == True, 'Ergebnis'] = 'Gewonnen'\n",
    "df.loc[df.gewonnen == False, 'Ergebnis'] = 'Verloren'"
   ]
  },
  {
   "cell_type": "markdown",
   "metadata": {},
   "source": [
    "Für die Graphen verwende ich `matplotlib` und die Erweiterung `seaborn`."
   ]
  },
  {
   "cell_type": "code",
   "execution_count": 25,
   "metadata": {
    "collapsed": true
   },
   "outputs": [],
   "source": [
    "import seaborn as sns\n",
    "%matplotlib inline\n",
    "# Style der Graphiken\n",
    "sns.set_style(\"darkgrid\")"
   ]
  },
  {
   "cell_type": "code",
   "execution_count": 26,
   "metadata": {
    "collapsed": false
   },
   "outputs": [
    {
     "data": {
      "image/png": "[encoded data removed]",
      "text/plain": [
       "<matplotlib.figure.Figure at 0x1cd38b6d080>"
      ]
     },
     "metadata": {},
     "output_type": "display_data"
    }
   ],
   "source": [
    "# Größe der Graphiken\n",
    "sns.set_context(\"talk\")\n",
    "ax = sns.barplot(x=\"strategie\", y=\"gewonnen\", data=df, order=['max', 'rnd', 'min'])\n",
    "sns.set(font_scale=1.5)\n",
    "sns.plt.title('Gewinnwahrscheinlichkeit je Strategie')\n",
    "sns.set(font_scale=1)\n",
    "sns.axlabel('Strategie', 'Gewinnwahrscheinlichkeit [%]')\n",
    "sns.plt.yticks(ax.get_yticks(), ax.get_yticks()*100)\n",
    "# Speichern der Graphik als svg File, um eine skalierbare Grapik im Blog zur Verfügung zu haben\n",
    "sns.plt.savefig('01_gewinnwahrscheinlichkeit.svg')"
   ]
  },
  {
   "cell_type": "code",
   "execution_count": 27,
   "metadata": {
    "collapsed": false
   },
   "outputs": [
    {
     "data": {
      "image/png": "[encoded data removed]",
      "text/plain": [
       "<matplotlib.figure.Figure at 0x1cd38b60d68>"
      ]
     },
     "metadata": {},
     "output_type": "display_data"
    }
   ],
   "source": [
    "sns.set_context(\"talk\")\n",
    "sns.violinplot(x='strategie', y='gespielte_runden', data=df, order=['max', 'rnd', 'min'])\n",
    "sns.set(font_scale=1.5)\n",
    "sns.plt.title('Anzahl gespielter Runden je Strategie')\n",
    "sns.set(font_scale=1)\n",
    "sns.axlabel('Strategie', 'Gespielte Runden')\n",
    "sns.plt.savefig('02_gespielte_runden.svg')"
   ]
  },
  {
   "cell_type": "code",
   "execution_count": 28,
   "metadata": {
    "collapsed": false
   },
   "outputs": [
    {
     "data": {
      "image/png": "[encoded data removed]",
      "text/plain": [
       "<matplotlib.figure.Figure at 0x1cd39ce57b8>"
      ]
     },
     "metadata": {},
     "output_type": "display_data"
    }
   ],
   "source": [
    "sns.set_context(\"talk\")\n",
    "sns.violinplot(x='strategie', y='gespielte_runden', hue='Ergebnis', data=df, order=['max', 'rnd', 'min'])\n",
    "sns.set(font_scale=1.5)\n",
    "sns.plt.title('Anzahl gespielter Runden je Strategie und Ergebnis')\n",
    "sns.set(font_scale=1)\n",
    "sns.axlabel('Strategie', 'Gespielte Runden')\n",
    "sns.plt.savefig('03_gespielte_runden_je_ergebnis.svg')"
   ]
  },
  {
   "cell_type": "markdown",
   "metadata": {},
   "source": [
    "Um das Ergebnis noch etwas detailierter betrachten zu können, definiere ich noch eine Spalte `punkte`. \n",
    "- Im Fall, dass gewonnen wurde, ist diese die Anzahl der noch nicht befüllten Rabenteile, sprich zwischen 9 (noch kein Rabenteil im Spiel) und 1 (8 Rabenteile im Spiel, noch 1 Rabenfeld frei). \n",
    "- Im Fall, dass verloren wurde, wird die negative Anzahl der Früchte, die noch auf den Bäumen sind, angegeben, also zB. -5, falls noch 5 Früchte nicht geerntet wurden.\n",
    "\n",
    "Insgesamt ist `punkte` also eine Zahl zwischen -40 (wenn 9 mal hintereinander Rabe gewürfelt würde) und +9, wobei das Ergebnis des Spiels ums besser für die Spieler ist, je größer die Zahl ist. Zusätzlich erzeuge ich einen neuen Dataframe, der pro Strategie angebiet, wie häufig diese Endpunkte (in Prozent) auftreten."
   ]
  },
  {
   "cell_type": "code",
   "execution_count": 29,
   "metadata": {
    "collapsed": false
   },
   "outputs": [
    {
     "data": {
      "text/html": [
       "<div>\n",
       "<table border=\"1\" class=\"dataframe\">\n",
       "  <thead>\n",
       "    <tr style=\"text-align: right;\">\n",
       "      <th>strategie</th>\n",
       "      <th>max</th>\n",
       "      <th>min</th>\n",
       "      <th>rnd</th>\n",
       "    </tr>\n",
       "    <tr>\n",
       "      <th>punkte</th>\n",
       "      <th></th>\n",
       "      <th></th>\n",
       "      <th></th>\n",
       "    </tr>\n",
       "  </thead>\n",
       "  <tbody>\n",
       "    <tr>\n",
       "      <th>-38</th>\n",
       "      <td>0.001</td>\n",
       "      <td>0.001</td>\n",
       "      <td>0.002</td>\n",
       "    </tr>\n",
       "    <tr>\n",
       "      <th>-37</th>\n",
       "      <td>0.001</td>\n",
       "      <td>NaN</td>\n",
       "      <td>NaN</td>\n",
       "    </tr>\n",
       "    <tr>\n",
       "      <th>-36</th>\n",
       "      <td>0.001</td>\n",
       "      <td>0.003</td>\n",
       "      <td>NaN</td>\n",
       "    </tr>\n",
       "    <tr>\n",
       "      <th>-35</th>\n",
       "      <td>NaN</td>\n",
       "      <td>0.005</td>\n",
       "      <td>0.002</td>\n",
       "    </tr>\n",
       "    <tr>\n",
       "      <th>-34</th>\n",
       "      <td>0.004</td>\n",
       "      <td>0.002</td>\n",
       "      <td>0.005</td>\n",
       "    </tr>\n",
       "    <tr>\n",
       "      <th>7</th>\n",
       "      <td>2.759</td>\n",
       "      <td>1.288</td>\n",
       "      <td>2.145</td>\n",
       "    </tr>\n",
       "    <tr>\n",
       "      <th>8</th>\n",
       "      <td>0.881</td>\n",
       "      <td>0.388</td>\n",
       "      <td>0.677</td>\n",
       "    </tr>\n",
       "    <tr>\n",
       "      <th>9</th>\n",
       "      <td>0.173</td>\n",
       "      <td>0.065</td>\n",
       "      <td>0.124</td>\n",
       "    </tr>\n",
       "  </tbody>\n",
       "</table>\n",
       "</div>"
      ],
      "text/plain": [
       "strategie    max    min    rnd\n",
       "punkte                        \n",
       "-38        0.001  0.001  0.002\n",
       "-37        0.001    NaN    NaN\n",
       "-36        0.001  0.003    NaN\n",
       "-35          NaN  0.005  0.002\n",
       "-34        0.004  0.002  0.005\n",
       " 7         2.759  1.288  2.145\n",
       " 8         0.881  0.388  0.677\n",
       " 9         0.173  0.065  0.124"
      ]
     },
     "execution_count": 29,
     "metadata": {},
     "output_type": "execute_result"
    }
   ],
   "source": [
    "df['punkte'] = 9 - df.raben_teile - df.fruechte\n",
    "\n",
    "dfg = df.groupby(['punkte', 'strategie'])['punkte'].count().unstack('strategie')\n",
    "dfg = dfg / dfg.sum() * 100\n",
    "dfg.iloc[[0,1,2,3,4,-3,-2,-1],:]"
   ]
  },
  {
   "cell_type": "markdown",
   "metadata": {},
   "source": [
    "Mit `seaborn` kann man gut Farbpaletten angeben. Hier erzeuge ich eine, die von tiefrot (der Rabe gewinnt mit großem Vorsprung) über hellrot (der Rabe gewinnt knapp) zu hellgrün (die Spieler gewinnen knapp) zu dunkelgrün (die Spieler gewinnen klar) reicht."
   ]
  },
  {
   "cell_type": "code",
   "execution_count": 30,
   "metadata": {
    "collapsed": false
   },
   "outputs": [
    {
     "data": {
      "image/png": "[encoded data removed]",
      "text/plain": [
       "<matplotlib.figure.Figure at 0x1cd39e54518>"
      ]
     },
     "metadata": {},
     "output_type": "display_data"
    }
   ],
   "source": [
    "anzahl_punkte_gewonnen = sum(df.punkte.unique() > 0)\n",
    "anzahl_punkte_verloren = sum(df.punkte.unique() < 0)\n",
    "\n",
    "pal = sns.light_palette(\"red\", n_colors=anzahl_punkte_verloren, reverse=True) + \\\n",
    "      sns.light_palette(\"green\", n_colors=anzahl_punkte_gewonnen)\n",
    "sns.palplot(pal)"
   ]
  },
  {
   "cell_type": "code",
   "execution_count": 31,
   "metadata": {
    "collapsed": false
   },
   "outputs": [
    {
     "data": {
      "image/png": "[encoded data removed]",
      "text/plain": [
       "<matplotlib.figure.Figure at 0x1cd39e542b0>"
      ]
     },
     "metadata": {},
     "output_type": "display_data"
    }
   ],
   "source": [
    "sns.set_context(\"talk\")\n",
    "plot = sns.barplot(dfg.index, y = dfg['max'], palette=pal)\n",
    "for label in plot.get_xticklabels()[1::2]:\n",
    "   label.set_visible(False)\n",
    "sns.set(font_scale=1.5)\n",
    "sns.plt.title('Verteilung Punkte am Ende des Spiels bei Strategie \"max\"')\n",
    "sns.set(font_scale=1)\n",
    "sns.axlabel('Punkte', 'Häufigkeit [%]')\n",
    "sns.plt.savefig('04_verteilung_punkte_strategie_max.svg')"
   ]
  },
  {
   "cell_type": "code",
   "execution_count": 32,
   "metadata": {
    "collapsed": false
   },
   "outputs": [
    {
     "data": {
      "image/png": "[encoded data removed]",
      "text/plain": [
       "<matplotlib.figure.Figure at 0x1cd373a3828>"
      ]
     },
     "metadata": {},
     "output_type": "display_data"
    }
   ],
   "source": [
    "sns.set_context(\"talk\")\n",
    "fig, axes = sns.plt.subplots(3, 1)\n",
    "for nr, strategie in enumerate(dfg.columns):\n",
    "    plot = sns.barplot(dfg.index, y = dfg[strategie], palette=pal, ax=axes[nr], label = strategie)\n",
    "    #axes[nr].set_title(strategie)\n",
    "    axes[nr].set_ylabel(strategie)\n",
    "    axes[nr].set_xlabel('Punkte')\n",
    "    for label in plot.get_xticklabels()[1::2]:\n",
    "        label.set_visible(False)\n",
    "fig.suptitle('Verteilung Punkte am Ende des Spiels je Strategie', fontsize=18)\n",
    "sns.plt.savefig('05_verteilung_punkte_je_strategie.svg')"
   ]
  }
 ],
 "metadata": {
  "kernelspec": {
   "display_name": "Python 3",
   "language": "python",
   "name": "python3"
  },
  "language_info": {
   "codemirror_mode": {
    "name": "ipython",
    "version": 3
   },
   "file_extension": ".py",
   "mimetype": "text/x-python",
   "name": "python",
   "nbconvert_exporter": "python",
   "pygments_lexer": "ipython3",
   "version": "3.5.1"
  }
 },
 "nbformat": 4,
 "nbformat_minor": 0
}
